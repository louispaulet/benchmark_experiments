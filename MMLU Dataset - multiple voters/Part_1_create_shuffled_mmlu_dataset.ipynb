{
 "cells": [
  {
   "cell_type": "markdown",
   "id": "b4f66d42-f165-4b56-abb9-c3d3a4121ad2",
   "metadata": {},
   "source": [
    "# Create shuffled MMLU dataset  \n",
    "\n",
    "We use the source `tasksource/mmlu` dataset to create a new dataset called `shuffled_mmlu` : \n",
    "[link to the dataset on HuggingFace](https://huggingface.co/datasets/the-french-artist/shuffled_mmlu)  \n",
    "\n",
    "The idea is to shuffle the possible answers to a question.  \n",
    "\n",
    "In MMLU, each question has 4 possible answers choices (ABCD).  \n",
    "Factorial 4 is 24: each question can be expressed as 24 duplicate questions, each with a unique permutation of ABCD answer choices.  \n",
    "We indicate the current shuffle order with the associated ABCD permutation.  \n",
    "Eg. The totally inverse order of choices will be labelled \"DCBA\" in the feature `letter_order`.  \n",
    "\n",
    "For practicality, we create a single dataset containing all 57 MMLU categories.  \n",
    "This allows for a faster loading time when downloading from the hub. \n",
    "The dataset is still split into test, validation, and dev files.  \n",
    "\n",
    "Our hypothesis: the choice order is important in the internal logic of an LLM. As the model operates in an autoregressive manner, and its internal logic is unidirectional, it will be less suceptible to discard wrong answers if presented first.  \n",
    "By presenting answer choices in all possible orders, and voting on the most popular answer, we eras the order bias and benefit from collective intelligence.  \n",
    "We hope to achieve a better overall score this way.  "
   ]
  },
  {
   "cell_type": "markdown",
   "id": "b4f40095-d5db-4886-aaa3-1e7804412faa",
   "metadata": {},
   "source": [
    "## define helper functions"
   ]
  },
  {
   "cell_type": "code",
   "execution_count": 1,
   "id": "0050a4ae-b7ea-4a9e-8396-a3c2255e4bd1",
   "metadata": {},
   "outputs": [],
   "source": [
    "from itertools import permutations\n",
    "import random\n",
    "\n",
    "# Generate all possible 4-letter words with the letters ABCD\n",
    "letters = ['A', 'B', 'C', 'D']\n",
    "all_letter_orders = [''.join(word) for word in permutations(letters, 4)]\n",
    "\n",
    "letter_to_num = {\n",
    "    'A':0,\n",
    "    'B':1,\n",
    "    'C':2,\n",
    "    'D':3,\n",
    "}\n",
    "\n",
    "def convert_answer(reference_answer, letter_order):\n",
    "    letters = list(letter_order)\n",
    "    default_order = list('ABCD')\n",
    "    translation_dictionary = dict(zip(letters, default_order))\n",
    "    \n",
    "    translated_letter = translation_dictionary[default_order[reference_answer]]\n",
    "    return letter_to_num[translated_letter]\n",
    "\n",
    "# takes a dataset row and shuffles the choices based on a new letter order, updates the answer accordingly\n",
    "def translate_question(row, letter_order):\n",
    "    \n",
    "    new_choices = reorder_choices_based_on_letter_order(row['choices'], letter_order)\n",
    "    default_order = 'ABCD'\n",
    "       \n",
    "    new_answer = convert_answer(row['answer'], letter_order)\n",
    "\n",
    "    row['choices'] = new_choices\n",
    "    row['answer'] = new_answer\n",
    "    return row\n",
    "\n",
    "\n",
    "def convert_letter_to_index(letter):\n",
    "  letter_to_index_dict = {\n",
    "      'A' : 0,\n",
    "      'B' : 1,\n",
    "      'C' : 2,\n",
    "      'D' : 3\n",
    "  }\n",
    "  return letter_to_index_dict[letter]\n",
    "\n",
    "def reorder_choices_based_on_letter_order(choices, letter_order):\n",
    "  new_choices = []\n",
    "  for letter in letter_order:\n",
    "    new_choices.append(choices[convert_letter_to_index(letter)])\n",
    "\n",
    "  return new_choices"
   ]
  },
  {
   "cell_type": "code",
   "execution_count": 2,
   "id": "48ad2955-055c-4ad2-872e-2f1e4a2902e0",
   "metadata": {},
   "outputs": [
    {
     "name": "stdout",
     "output_type": "stream",
     "text": [
      "0.5714025946899135\n"
     ]
    }
   ],
   "source": [
    "import random\n",
    "\n",
    "# We have to use random to create a unique question ID because there are duplicate questions in the MMLU dataset  \n",
    "# As the question, choices, answer, and category are all duplicates, our last resort is to salt the hash...\n",
    "random.seed(10)\n",
    "print(random.random())"
   ]
  },
  {
   "cell_type": "code",
   "execution_count": 3,
   "id": "4b02fa1f-b35e-4d26-b6ca-95aa4f7a215a",
   "metadata": {},
   "outputs": [
    {
     "data": {
      "text/plain": [
       "{'question': 'this is the question',\n",
       " 'choices': [1, 2, 3, 4],\n",
       " 'question_id': '9adf86b754c24f21ee4014208d51a0da8398882ba3546db8eea344ac77412699'}"
      ]
     },
     "execution_count": 3,
     "metadata": {},
     "output_type": "execute_result"
    }
   ],
   "source": [
    "from hashlib import sha256\n",
    "\n",
    "def create_question_id(row):\n",
    "    row['question_id'] = sha256(\n",
    "        (\n",
    "            str(random.random()) +\n",
    "            row['question'] + \n",
    "         \",\".join(str(x) for x in row['choices'])\n",
    "        ).encode('utf-8')\n",
    "    ).hexdigest()\n",
    "    return row\n",
    "\n",
    "row = {\n",
    "    'question': 'this is the question',\n",
    "    'choices' : [1, 2, 3, 4]\n",
    "}\n",
    "create_question_id(row)"
   ]
  },
  {
   "cell_type": "markdown",
   "id": "998ce362-ab41-4498-b4d4-978991f3c7f8",
   "metadata": {},
   "source": [
    "## load dataset(s)"
   ]
  },
  {
   "cell_type": "code",
   "execution_count": 4,
   "id": "50cbaf11-9aac-4cac-b2be-bb9440509bfe",
   "metadata": {},
   "outputs": [
    {
     "data": {
      "application/vnd.jupyter.widget-view+json": {
       "model_id": "1b1100402e464f18a2718ddfe957b7ab",
       "version_major": 2,
       "version_minor": 0
      },
      "text/plain": [
       "loading categories...:   0%|          | 0/57 [00:00<?, ?it/s]"
      ]
     },
     "metadata": {},
     "output_type": "display_data"
    },
    {
     "data": {
      "application/vnd.jupyter.widget-view+json": {
       "model_id": "a54337f602cc438e8907eb204840e759",
       "version_major": 2,
       "version_minor": 0
      },
      "text/plain": [
       "loading categories...:   0%|          | 0/57 [00:00<?, ?it/s]"
      ]
     },
     "metadata": {},
     "output_type": "display_data"
    },
    {
     "data": {
      "application/vnd.jupyter.widget-view+json": {
       "model_id": "57e4126768e24843b636091771ac979b",
       "version_major": 2,
       "version_minor": 0
      },
      "text/plain": [
       "loading categories...:   0%|          | 0/57 [00:00<?, ?it/s]"
      ]
     },
     "metadata": {},
     "output_type": "display_data"
    }
   ],
   "source": [
    "from datasets import load_dataset, get_dataset_config_names\n",
    "from tqdm.auto import tqdm\n",
    "\n",
    "configs = get_dataset_config_names(\"tasksource/mmlu\")\n",
    "\n",
    "# load all categories into a list\n",
    "validation_dataset_list = []\n",
    "for curr_cat in tqdm(configs, desc='loading categories...'):\n",
    "    validation_dataset_list.append(load_dataset(\"tasksource/mmlu\", curr_cat, split='validation'))\n",
    "\n",
    "test_dataset_list = []\n",
    "for curr_cat in tqdm(configs, desc='loading categories...'):\n",
    "    test_dataset_list.append(load_dataset(\"tasksource/mmlu\", curr_cat, split='test'))\n",
    "\n",
    "dev_dataset_list = []\n",
    "for curr_cat in tqdm(configs, desc='loading categories...'):\n",
    "    dev_dataset_list.append(load_dataset(\"tasksource/mmlu\", curr_cat, split='dev'))"
   ]
  },
  {
   "cell_type": "markdown",
   "id": "09701577-f7fc-471c-987e-7aaf4f6b5ff0",
   "metadata": {},
   "source": [
    "## Shuffle and save to parquet"
   ]
  },
  {
   "cell_type": "code",
   "execution_count": 5,
   "id": "05c8913c-3c66-488c-bfdb-f44252b2cca3",
   "metadata": {},
   "outputs": [],
   "source": [
    "# add question_id to dataset set\n",
    "import pandas as pd\n",
    "\n",
    "def shuffle_and_save_dataset_list(input_dataset_list, curr_split):\n",
    "    new_dataset_list = []\n",
    "    for curr_dataset in input_dataset_list:\n",
    "        display(curr_dataset)\n",
    "        new_dataset_list.append(curr_dataset.map(create_question_id))\n",
    "    \n",
    "    final_dataset_list = []\n",
    "    for curr_dataset, category in tqdm(zip(new_dataset_list, configs), desc='converting categories', total=len(configs)):\n",
    "        for letter_order in all_letter_orders:\n",
    "            curr_df = curr_dataset.to_pandas()\n",
    "            new_df = curr_df.apply(lambda row: translate_question(row, letter_order), axis=1)\n",
    "            new_df['category'] = category\n",
    "            new_df['letter_order'] = letter_order\n",
    "            final_dataset_list.append(new_df)\n",
    "            # new_df.to_parquet(folder_name+f\"{category}_{letter_order}_validation.parquet\")\n",
    "    \n",
    "    complete_shuffled_dataset = pd.concat(final_dataset_list)\n",
    "    \n",
    "    folder_name = 'shuffled_mmlu/'\n",
    "    complete_shuffled_dataset.to_parquet(folder_name+f\"shuffled_mmlu_{curr_split}.parquet\")"
   ]
  },
  {
   "cell_type": "code",
   "execution_count": 6,
   "id": "81864f75-3f62-4136-9a2b-e9db9d2d5d7c",
   "metadata": {},
   "outputs": [
    {
     "data": {
      "text/plain": [
       "Dataset({\n",
       "    features: ['question', 'choices', 'answer'],\n",
       "    num_rows: 11\n",
       "})"
      ]
     },
     "metadata": {},
     "output_type": "display_data"
    },
    {
     "data": {
      "application/vnd.jupyter.widget-view+json": {
       "model_id": "78946c9579bf4bc1928ff1c1e2ae43df",
       "version_major": 2,
       "version_minor": 0
      },
      "text/plain": [
       "Map:   0%|          | 0/11 [00:00<?, ? examples/s]"
      ]
     },
     "metadata": {},
     "output_type": "display_data"
    },
    {
     "data": {
      "text/plain": [
       "Dataset({\n",
       "    features: ['question', 'choices', 'answer'],\n",
       "    num_rows: 14\n",
       "})"
      ]
     },
     "metadata": {},
     "output_type": "display_data"
    },
    {
     "data": {
      "application/vnd.jupyter.widget-view+json": {
       "model_id": "b1b927d183a643c188278b6eb1604d63",
       "version_major": 2,
       "version_minor": 0
      },
      "text/plain": [
       "Map:   0%|          | 0/14 [00:00<?, ? examples/s]"
      ]
     },
     "metadata": {},
     "output_type": "display_data"
    },
    {
     "data": {
      "text/plain": [
       "Dataset({\n",
       "    features: ['question', 'choices', 'answer'],\n",
       "    num_rows: 16\n",
       "})"
      ]
     },
     "metadata": {},
     "output_type": "display_data"
    },
    {
     "data": {
      "application/vnd.jupyter.widget-view+json": {
       "model_id": "8fc47002038645deb3138f5054d22f95",
       "version_major": 2,
       "version_minor": 0
      },
      "text/plain": [
       "Map:   0%|          | 0/16 [00:00<?, ? examples/s]"
      ]
     },
     "metadata": {},
     "output_type": "display_data"
    },
    {
     "data": {
      "text/plain": [
       "Dataset({\n",
       "    features: ['question', 'choices', 'answer'],\n",
       "    num_rows: 11\n",
       "})"
      ]
     },
     "metadata": {},
     "output_type": "display_data"
    },
    {
     "data": {
      "application/vnd.jupyter.widget-view+json": {
       "model_id": "22bf734216ac4acc9ebd016fb880ea67",
       "version_major": 2,
       "version_minor": 0
      },
      "text/plain": [
       "Map:   0%|          | 0/11 [00:00<?, ? examples/s]"
      ]
     },
     "metadata": {},
     "output_type": "display_data"
    },
    {
     "data": {
      "text/plain": [
       "Dataset({\n",
       "    features: ['question', 'choices', 'answer'],\n",
       "    num_rows: 29\n",
       "})"
      ]
     },
     "metadata": {},
     "output_type": "display_data"
    },
    {
     "data": {
      "application/vnd.jupyter.widget-view+json": {
       "model_id": "7335b82749034cbaa7ef193da3eba5ca",
       "version_major": 2,
       "version_minor": 0
      },
      "text/plain": [
       "Map:   0%|          | 0/29 [00:00<?, ? examples/s]"
      ]
     },
     "metadata": {},
     "output_type": "display_data"
    },
    {
     "data": {
      "text/plain": [
       "Dataset({\n",
       "    features: ['question', 'choices', 'answer'],\n",
       "    num_rows: 16\n",
       "})"
      ]
     },
     "metadata": {},
     "output_type": "display_data"
    },
    {
     "data": {
      "application/vnd.jupyter.widget-view+json": {
       "model_id": "7a78f57f4d1f4e41a9294d9f78af485c",
       "version_major": 2,
       "version_minor": 0
      },
      "text/plain": [
       "Map:   0%|          | 0/16 [00:00<?, ? examples/s]"
      ]
     },
     "metadata": {},
     "output_type": "display_data"
    },
    {
     "data": {
      "text/plain": [
       "Dataset({\n",
       "    features: ['question', 'choices', 'answer'],\n",
       "    num_rows: 8\n",
       "})"
      ]
     },
     "metadata": {},
     "output_type": "display_data"
    },
    {
     "data": {
      "application/vnd.jupyter.widget-view+json": {
       "model_id": "c621a5063c574a93b616d4a72008656c",
       "version_major": 2,
       "version_minor": 0
      },
      "text/plain": [
       "Map:   0%|          | 0/8 [00:00<?, ? examples/s]"
      ]
     },
     "metadata": {},
     "output_type": "display_data"
    },
    {
     "data": {
      "text/plain": [
       "Dataset({\n",
       "    features: ['question', 'choices', 'answer'],\n",
       "    num_rows: 11\n",
       "})"
      ]
     },
     "metadata": {},
     "output_type": "display_data"
    },
    {
     "data": {
      "application/vnd.jupyter.widget-view+json": {
       "model_id": "d213e4a5ca174ea987876487ccc3c58b",
       "version_major": 2,
       "version_minor": 0
      },
      "text/plain": [
       "Map:   0%|          | 0/11 [00:00<?, ? examples/s]"
      ]
     },
     "metadata": {},
     "output_type": "display_data"
    },
    {
     "data": {
      "text/plain": [
       "Dataset({\n",
       "    features: ['question', 'choices', 'answer'],\n",
       "    num_rows: 11\n",
       "})"
      ]
     },
     "metadata": {},
     "output_type": "display_data"
    },
    {
     "data": {
      "application/vnd.jupyter.widget-view+json": {
       "model_id": "deaeffab817a4acfb074153e6236aa6d",
       "version_major": 2,
       "version_minor": 0
      },
      "text/plain": [
       "Map:   0%|          | 0/11 [00:00<?, ? examples/s]"
      ]
     },
     "metadata": {},
     "output_type": "display_data"
    },
    {
     "data": {
      "text/plain": [
       "Dataset({\n",
       "    features: ['question', 'choices', 'answer'],\n",
       "    num_rows: 22\n",
       "})"
      ]
     },
     "metadata": {},
     "output_type": "display_data"
    },
    {
     "data": {
      "application/vnd.jupyter.widget-view+json": {
       "model_id": "e1aad8fd30e745cbb2041cf4d9d6fd45",
       "version_major": 2,
       "version_minor": 0
      },
      "text/plain": [
       "Map:   0%|          | 0/22 [00:00<?, ? examples/s]"
      ]
     },
     "metadata": {},
     "output_type": "display_data"
    },
    {
     "data": {
      "text/plain": [
       "Dataset({\n",
       "    features: ['question', 'choices', 'answer'],\n",
       "    num_rows: 11\n",
       "})"
      ]
     },
     "metadata": {},
     "output_type": "display_data"
    },
    {
     "data": {
      "application/vnd.jupyter.widget-view+json": {
       "model_id": "c55b682b8e354ca98f19a9154b86bc88",
       "version_major": 2,
       "version_minor": 0
      },
      "text/plain": [
       "Map:   0%|          | 0/11 [00:00<?, ? examples/s]"
      ]
     },
     "metadata": {},
     "output_type": "display_data"
    },
    {
     "data": {
      "text/plain": [
       "Dataset({\n",
       "    features: ['question', 'choices', 'answer'],\n",
       "    num_rows: 11\n",
       "})"
      ]
     },
     "metadata": {},
     "output_type": "display_data"
    },
    {
     "data": {
      "application/vnd.jupyter.widget-view+json": {
       "model_id": "bb1d34ae8e3e456fba3c958b13aeb5cc",
       "version_major": 2,
       "version_minor": 0
      },
      "text/plain": [
       "Map:   0%|          | 0/11 [00:00<?, ? examples/s]"
      ]
     },
     "metadata": {},
     "output_type": "display_data"
    },
    {
     "data": {
      "text/plain": [
       "Dataset({\n",
       "    features: ['question', 'choices', 'answer'],\n",
       "    num_rows: 26\n",
       "})"
      ]
     },
     "metadata": {},
     "output_type": "display_data"
    },
    {
     "data": {
      "application/vnd.jupyter.widget-view+json": {
       "model_id": "d4ce5ee9903d43b4900150f532984233",
       "version_major": 2,
       "version_minor": 0
      },
      "text/plain": [
       "Map:   0%|          | 0/26 [00:00<?, ? examples/s]"
      ]
     },
     "metadata": {},
     "output_type": "display_data"
    },
    {
     "data": {
      "text/plain": [
       "Dataset({\n",
       "    features: ['question', 'choices', 'answer'],\n",
       "    num_rows: 12\n",
       "})"
      ]
     },
     "metadata": {},
     "output_type": "display_data"
    },
    {
     "data": {
      "application/vnd.jupyter.widget-view+json": {
       "model_id": "02238d225ae143f3bb7ecbf77d6dd601",
       "version_major": 2,
       "version_minor": 0
      },
      "text/plain": [
       "Map:   0%|          | 0/12 [00:00<?, ? examples/s]"
      ]
     },
     "metadata": {},
     "output_type": "display_data"
    },
    {
     "data": {
      "text/plain": [
       "Dataset({\n",
       "    features: ['question', 'choices', 'answer'],\n",
       "    num_rows: 16\n",
       "})"
      ]
     },
     "metadata": {},
     "output_type": "display_data"
    },
    {
     "data": {
      "application/vnd.jupyter.widget-view+json": {
       "model_id": "32b45d6bb89d4baab8e5c6727fcb49bb",
       "version_major": 2,
       "version_minor": 0
      },
      "text/plain": [
       "Map:   0%|          | 0/16 [00:00<?, ? examples/s]"
      ]
     },
     "metadata": {},
     "output_type": "display_data"
    },
    {
     "data": {
      "text/plain": [
       "Dataset({\n",
       "    features: ['question', 'choices', 'answer'],\n",
       "    num_rows: 41\n",
       "})"
      ]
     },
     "metadata": {},
     "output_type": "display_data"
    },
    {
     "data": {
      "application/vnd.jupyter.widget-view+json": {
       "model_id": "30b5468536e747698e0720534ab340a3",
       "version_major": 2,
       "version_minor": 0
      },
      "text/plain": [
       "Map:   0%|          | 0/41 [00:00<?, ? examples/s]"
      ]
     },
     "metadata": {},
     "output_type": "display_data"
    },
    {
     "data": {
      "text/plain": [
       "Dataset({\n",
       "    features: ['question', 'choices', 'answer'],\n",
       "    num_rows: 14\n",
       "})"
      ]
     },
     "metadata": {},
     "output_type": "display_data"
    },
    {
     "data": {
      "application/vnd.jupyter.widget-view+json": {
       "model_id": "f1ef90ffdec04daa9b7115aaae1cd914",
       "version_major": 2,
       "version_minor": 0
      },
      "text/plain": [
       "Map:   0%|          | 0/14 [00:00<?, ? examples/s]"
      ]
     },
     "metadata": {},
     "output_type": "display_data"
    },
    {
     "data": {
      "text/plain": [
       "Dataset({\n",
       "    features: ['question', 'choices', 'answer'],\n",
       "    num_rows: 10\n",
       "})"
      ]
     },
     "metadata": {},
     "output_type": "display_data"
    },
    {
     "data": {
      "application/vnd.jupyter.widget-view+json": {
       "model_id": "c7a89f0071dd4616a15ace198d86588f",
       "version_major": 2,
       "version_minor": 0
      },
      "text/plain": [
       "Map:   0%|          | 0/10 [00:00<?, ? examples/s]"
      ]
     },
     "metadata": {},
     "output_type": "display_data"
    },
    {
     "data": {
      "text/plain": [
       "Dataset({\n",
       "    features: ['question', 'choices', 'answer'],\n",
       "    num_rows: 32\n",
       "})"
      ]
     },
     "metadata": {},
     "output_type": "display_data"
    },
    {
     "data": {
      "application/vnd.jupyter.widget-view+json": {
       "model_id": "182c6efb60ba479b9e3d88e79a027764",
       "version_major": 2,
       "version_minor": 0
      },
      "text/plain": [
       "Map:   0%|          | 0/32 [00:00<?, ? examples/s]"
      ]
     },
     "metadata": {},
     "output_type": "display_data"
    },
    {
     "data": {
      "text/plain": [
       "Dataset({\n",
       "    features: ['question', 'choices', 'answer'],\n",
       "    num_rows: 22\n",
       "})"
      ]
     },
     "metadata": {},
     "output_type": "display_data"
    },
    {
     "data": {
      "application/vnd.jupyter.widget-view+json": {
       "model_id": "2253c4628f094f78b71e5f88cd65608b",
       "version_major": 2,
       "version_minor": 0
      },
      "text/plain": [
       "Map:   0%|          | 0/22 [00:00<?, ? examples/s]"
      ]
     },
     "metadata": {},
     "output_type": "display_data"
    },
    {
     "data": {
      "text/plain": [
       "Dataset({\n",
       "    features: ['question', 'choices', 'answer'],\n",
       "    num_rows: 9\n",
       "})"
      ]
     },
     "metadata": {},
     "output_type": "display_data"
    },
    {
     "data": {
      "application/vnd.jupyter.widget-view+json": {
       "model_id": "b65a8a36559e4efda86865d17e7c65f4",
       "version_major": 2,
       "version_minor": 0
      },
      "text/plain": [
       "Map:   0%|          | 0/9 [00:00<?, ? examples/s]"
      ]
     },
     "metadata": {},
     "output_type": "display_data"
    },
    {
     "data": {
      "text/plain": [
       "Dataset({\n",
       "    features: ['question', 'choices', 'answer'],\n",
       "    num_rows: 18\n",
       "})"
      ]
     },
     "metadata": {},
     "output_type": "display_data"
    },
    {
     "data": {
      "application/vnd.jupyter.widget-view+json": {
       "model_id": "064574e5f4904c2980a9357760520146",
       "version_major": 2,
       "version_minor": 0
      },
      "text/plain": [
       "Map:   0%|          | 0/18 [00:00<?, ? examples/s]"
      ]
     },
     "metadata": {},
     "output_type": "display_data"
    },
    {
     "data": {
      "text/plain": [
       "Dataset({\n",
       "    features: ['question', 'choices', 'answer'],\n",
       "    num_rows: 22\n",
       "})"
      ]
     },
     "metadata": {},
     "output_type": "display_data"
    },
    {
     "data": {
      "application/vnd.jupyter.widget-view+json": {
       "model_id": "9ebf3df478e444c0936315b0a9fd77e2",
       "version_major": 2,
       "version_minor": 0
      },
      "text/plain": [
       "Map:   0%|          | 0/22 [00:00<?, ? examples/s]"
      ]
     },
     "metadata": {},
     "output_type": "display_data"
    },
    {
     "data": {
      "text/plain": [
       "Dataset({\n",
       "    features: ['question', 'choices', 'answer'],\n",
       "    num_rows: 21\n",
       "})"
      ]
     },
     "metadata": {},
     "output_type": "display_data"
    },
    {
     "data": {
      "application/vnd.jupyter.widget-view+json": {
       "model_id": "8b44cdef42ac4509a926c333ce508100",
       "version_major": 2,
       "version_minor": 0
      },
      "text/plain": [
       "Map:   0%|          | 0/21 [00:00<?, ? examples/s]"
      ]
     },
     "metadata": {},
     "output_type": "display_data"
    },
    {
     "data": {
      "text/plain": [
       "Dataset({\n",
       "    features: ['question', 'choices', 'answer'],\n",
       "    num_rows: 43\n",
       "})"
      ]
     },
     "metadata": {},
     "output_type": "display_data"
    },
    {
     "data": {
      "application/vnd.jupyter.widget-view+json": {
       "model_id": "0118cd65736e4a44865007bf23edc0fe",
       "version_major": 2,
       "version_minor": 0
      },
      "text/plain": [
       "Map:   0%|          | 0/43 [00:00<?, ? examples/s]"
      ]
     },
     "metadata": {},
     "output_type": "display_data"
    },
    {
     "data": {
      "text/plain": [
       "Dataset({\n",
       "    features: ['question', 'choices', 'answer'],\n",
       "    num_rows: 29\n",
       "})"
      ]
     },
     "metadata": {},
     "output_type": "display_data"
    },
    {
     "data": {
      "application/vnd.jupyter.widget-view+json": {
       "model_id": "4dc88df421ef45118bd8fb7002d63f3d",
       "version_major": 2,
       "version_minor": 0
      },
      "text/plain": [
       "Map:   0%|          | 0/29 [00:00<?, ? examples/s]"
      ]
     },
     "metadata": {},
     "output_type": "display_data"
    },
    {
     "data": {
      "text/plain": [
       "Dataset({\n",
       "    features: ['question', 'choices', 'answer'],\n",
       "    num_rows: 26\n",
       "})"
      ]
     },
     "metadata": {},
     "output_type": "display_data"
    },
    {
     "data": {
      "application/vnd.jupyter.widget-view+json": {
       "model_id": "a07054afc68f4861996dea776a13d3b5",
       "version_major": 2,
       "version_minor": 0
      },
      "text/plain": [
       "Map:   0%|          | 0/26 [00:00<?, ? examples/s]"
      ]
     },
     "metadata": {},
     "output_type": "display_data"
    },
    {
     "data": {
      "text/plain": [
       "Dataset({\n",
       "    features: ['question', 'choices', 'answer'],\n",
       "    num_rows: 17\n",
       "})"
      ]
     },
     "metadata": {},
     "output_type": "display_data"
    },
    {
     "data": {
      "application/vnd.jupyter.widget-view+json": {
       "model_id": "3ac1160bfd0748508437eaff41345adb",
       "version_major": 2,
       "version_minor": 0
      },
      "text/plain": [
       "Map:   0%|          | 0/17 [00:00<?, ? examples/s]"
      ]
     },
     "metadata": {},
     "output_type": "display_data"
    },
    {
     "data": {
      "text/plain": [
       "Dataset({\n",
       "    features: ['question', 'choices', 'answer'],\n",
       "    num_rows: 60\n",
       "})"
      ]
     },
     "metadata": {},
     "output_type": "display_data"
    },
    {
     "data": {
      "application/vnd.jupyter.widget-view+json": {
       "model_id": "9528119092f14349a1c31e1f8af4806e",
       "version_major": 2,
       "version_minor": 0
      },
      "text/plain": [
       "Map:   0%|          | 0/60 [00:00<?, ? examples/s]"
      ]
     },
     "metadata": {},
     "output_type": "display_data"
    },
    {
     "data": {
      "text/plain": [
       "Dataset({\n",
       "    features: ['question', 'choices', 'answer'],\n",
       "    num_rows: 23\n",
       "})"
      ]
     },
     "metadata": {},
     "output_type": "display_data"
    },
    {
     "data": {
      "application/vnd.jupyter.widget-view+json": {
       "model_id": "b9ba9813e0d84823aca582481f26de6a",
       "version_major": 2,
       "version_minor": 0
      },
      "text/plain": [
       "Map:   0%|          | 0/23 [00:00<?, ? examples/s]"
      ]
     },
     "metadata": {},
     "output_type": "display_data"
    },
    {
     "data": {
      "text/plain": [
       "Dataset({\n",
       "    features: ['question', 'choices', 'answer'],\n",
       "    num_rows: 22\n",
       "})"
      ]
     },
     "metadata": {},
     "output_type": "display_data"
    },
    {
     "data": {
      "application/vnd.jupyter.widget-view+json": {
       "model_id": "8dab3cad58e94fbb9328158a78417681",
       "version_major": 2,
       "version_minor": 0
      },
      "text/plain": [
       "Map:   0%|          | 0/22 [00:00<?, ? examples/s]"
      ]
     },
     "metadata": {},
     "output_type": "display_data"
    },
    {
     "data": {
      "text/plain": [
       "Dataset({\n",
       "    features: ['question', 'choices', 'answer'],\n",
       "    num_rows: 26\n",
       "})"
      ]
     },
     "metadata": {},
     "output_type": "display_data"
    },
    {
     "data": {
      "application/vnd.jupyter.widget-view+json": {
       "model_id": "0b2e4b61de5643c09df6dc81dde8e85c",
       "version_major": 2,
       "version_minor": 0
      },
      "text/plain": [
       "Map:   0%|          | 0/26 [00:00<?, ? examples/s]"
      ]
     },
     "metadata": {},
     "output_type": "display_data"
    },
    {
     "data": {
      "text/plain": [
       "Dataset({\n",
       "    features: ['question', 'choices', 'answer'],\n",
       "    num_rows: 23\n",
       "})"
      ]
     },
     "metadata": {},
     "output_type": "display_data"
    },
    {
     "data": {
      "application/vnd.jupyter.widget-view+json": {
       "model_id": "380aabdc63074d45995b1c45b0de8e06",
       "version_major": 2,
       "version_minor": 0
      },
      "text/plain": [
       "Map:   0%|          | 0/23 [00:00<?, ? examples/s]"
      ]
     },
     "metadata": {},
     "output_type": "display_data"
    },
    {
     "data": {
      "text/plain": [
       "Dataset({\n",
       "    features: ['question', 'choices', 'answer'],\n",
       "    num_rows: 12\n",
       "})"
      ]
     },
     "metadata": {},
     "output_type": "display_data"
    },
    {
     "data": {
      "application/vnd.jupyter.widget-view+json": {
       "model_id": "028fecbf8f88443c93be4ae08d97eeae",
       "version_major": 2,
       "version_minor": 0
      },
      "text/plain": [
       "Map:   0%|          | 0/12 [00:00<?, ? examples/s]"
      ]
     },
     "metadata": {},
     "output_type": "display_data"
    },
    {
     "data": {
      "text/plain": [
       "Dataset({\n",
       "    features: ['question', 'choices', 'answer'],\n",
       "    num_rows: 13\n",
       "})"
      ]
     },
     "metadata": {},
     "output_type": "display_data"
    },
    {
     "data": {
      "application/vnd.jupyter.widget-view+json": {
       "model_id": "803a0a4e2ba14880acbb2ccd0bad8280",
       "version_major": 2,
       "version_minor": 0
      },
      "text/plain": [
       "Map:   0%|          | 0/13 [00:00<?, ? examples/s]"
      ]
     },
     "metadata": {},
     "output_type": "display_data"
    },
    {
     "data": {
      "text/plain": [
       "Dataset({\n",
       "    features: ['question', 'choices', 'answer'],\n",
       "    num_rows: 11\n",
       "})"
      ]
     },
     "metadata": {},
     "output_type": "display_data"
    },
    {
     "data": {
      "application/vnd.jupyter.widget-view+json": {
       "model_id": "50d39a0262164527a25b88173fb8d007",
       "version_major": 2,
       "version_minor": 0
      },
      "text/plain": [
       "Map:   0%|          | 0/11 [00:00<?, ? examples/s]"
      ]
     },
     "metadata": {},
     "output_type": "display_data"
    },
    {
     "data": {
      "text/plain": [
       "Dataset({\n",
       "    features: ['question', 'choices', 'answer'],\n",
       "    num_rows: 18\n",
       "})"
      ]
     },
     "metadata": {},
     "output_type": "display_data"
    },
    {
     "data": {
      "application/vnd.jupyter.widget-view+json": {
       "model_id": "d719cfcc856648da9f48a1a1a913f42a",
       "version_major": 2,
       "version_minor": 0
      },
      "text/plain": [
       "Map:   0%|          | 0/18 [00:00<?, ? examples/s]"
      ]
     },
     "metadata": {},
     "output_type": "display_data"
    },
    {
     "data": {
      "text/plain": [
       "Dataset({\n",
       "    features: ['question', 'choices', 'answer'],\n",
       "    num_rows: 11\n",
       "})"
      ]
     },
     "metadata": {},
     "output_type": "display_data"
    },
    {
     "data": {
      "application/vnd.jupyter.widget-view+json": {
       "model_id": "23353b3bba61441a86af1500e7a34362",
       "version_major": 2,
       "version_minor": 0
      },
      "text/plain": [
       "Map:   0%|          | 0/11 [00:00<?, ? examples/s]"
      ]
     },
     "metadata": {},
     "output_type": "display_data"
    },
    {
     "data": {
      "text/plain": [
       "Dataset({\n",
       "    features: ['question', 'choices', 'answer'],\n",
       "    num_rows: 11\n",
       "})"
      ]
     },
     "metadata": {},
     "output_type": "display_data"
    },
    {
     "data": {
      "application/vnd.jupyter.widget-view+json": {
       "model_id": "6cd3b918f21e4317817f1fb3a1f88249",
       "version_major": 2,
       "version_minor": 0
      },
      "text/plain": [
       "Map:   0%|          | 0/11 [00:00<?, ? examples/s]"
      ]
     },
     "metadata": {},
     "output_type": "display_data"
    },
    {
     "data": {
      "text/plain": [
       "Dataset({\n",
       "    features: ['question', 'choices', 'answer'],\n",
       "    num_rows: 25\n",
       "})"
      ]
     },
     "metadata": {},
     "output_type": "display_data"
    },
    {
     "data": {
      "application/vnd.jupyter.widget-view+json": {
       "model_id": "d0f41d2fbc7544f7a190a6ceff8e5969",
       "version_major": 2,
       "version_minor": 0
      },
      "text/plain": [
       "Map:   0%|          | 0/25 [00:00<?, ? examples/s]"
      ]
     },
     "metadata": {},
     "output_type": "display_data"
    },
    {
     "data": {
      "text/plain": [
       "Dataset({\n",
       "    features: ['question', 'choices', 'answer'],\n",
       "    num_rows: 11\n",
       "})"
      ]
     },
     "metadata": {},
     "output_type": "display_data"
    },
    {
     "data": {
      "application/vnd.jupyter.widget-view+json": {
       "model_id": "0e7e35b2e76242c58239439cfba61955",
       "version_major": 2,
       "version_minor": 0
      },
      "text/plain": [
       "Map:   0%|          | 0/11 [00:00<?, ? examples/s]"
      ]
     },
     "metadata": {},
     "output_type": "display_data"
    },
    {
     "data": {
      "text/plain": [
       "Dataset({\n",
       "    features: ['question', 'choices', 'answer'],\n",
       "    num_rows: 86\n",
       "})"
      ]
     },
     "metadata": {},
     "output_type": "display_data"
    },
    {
     "data": {
      "application/vnd.jupyter.widget-view+json": {
       "model_id": "6b57b31416b34afdb6e08bcec4c4686a",
       "version_major": 2,
       "version_minor": 0
      },
      "text/plain": [
       "Map:   0%|          | 0/86 [00:00<?, ? examples/s]"
      ]
     },
     "metadata": {},
     "output_type": "display_data"
    },
    {
     "data": {
      "text/plain": [
       "Dataset({\n",
       "    features: ['question', 'choices', 'answer'],\n",
       "    num_rows: 38\n",
       "})"
      ]
     },
     "metadata": {},
     "output_type": "display_data"
    },
    {
     "data": {
      "application/vnd.jupyter.widget-view+json": {
       "model_id": "463a20b19938460694f4ca12d2e4d692",
       "version_major": 2,
       "version_minor": 0
      },
      "text/plain": [
       "Map:   0%|          | 0/38 [00:00<?, ? examples/s]"
      ]
     },
     "metadata": {},
     "output_type": "display_data"
    },
    {
     "data": {
      "text/plain": [
       "Dataset({\n",
       "    features: ['question', 'choices', 'answer'],\n",
       "    num_rows: 100\n",
       "})"
      ]
     },
     "metadata": {},
     "output_type": "display_data"
    },
    {
     "data": {
      "application/vnd.jupyter.widget-view+json": {
       "model_id": "8460310d6bae4d348e16051154440261",
       "version_major": 2,
       "version_minor": 0
      },
      "text/plain": [
       "Map:   0%|          | 0/100 [00:00<?, ? examples/s]"
      ]
     },
     "metadata": {},
     "output_type": "display_data"
    },
    {
     "data": {
      "text/plain": [
       "Dataset({\n",
       "    features: ['question', 'choices', 'answer'],\n",
       "    num_rows: 33\n",
       "})"
      ]
     },
     "metadata": {},
     "output_type": "display_data"
    },
    {
     "data": {
      "application/vnd.jupyter.widget-view+json": {
       "model_id": "f201b160cf964612a5300dd5769877a2",
       "version_major": 2,
       "version_minor": 0
      },
      "text/plain": [
       "Map:   0%|          | 0/33 [00:00<?, ? examples/s]"
      ]
     },
     "metadata": {},
     "output_type": "display_data"
    },
    {
     "data": {
      "text/plain": [
       "Dataset({\n",
       "    features: ['question', 'choices', 'answer'],\n",
       "    num_rows: 34\n",
       "})"
      ]
     },
     "metadata": {},
     "output_type": "display_data"
    },
    {
     "data": {
      "application/vnd.jupyter.widget-view+json": {
       "model_id": "a6d6640eed674e1c86bbec73b026dcca",
       "version_major": 2,
       "version_minor": 0
      },
      "text/plain": [
       "Map:   0%|          | 0/34 [00:00<?, ? examples/s]"
      ]
     },
     "metadata": {},
     "output_type": "display_data"
    },
    {
     "data": {
      "text/plain": [
       "Dataset({\n",
       "    features: ['question', 'choices', 'answer'],\n",
       "    num_rows: 35\n",
       "})"
      ]
     },
     "metadata": {},
     "output_type": "display_data"
    },
    {
     "data": {
      "application/vnd.jupyter.widget-view+json": {
       "model_id": "bc1773fb745544a59057de633025768d",
       "version_major": 2,
       "version_minor": 0
      },
      "text/plain": [
       "Map:   0%|          | 0/35 [00:00<?, ? examples/s]"
      ]
     },
     "metadata": {},
     "output_type": "display_data"
    },
    {
     "data": {
      "text/plain": [
       "Dataset({\n",
       "    features: ['question', 'choices', 'answer'],\n",
       "    num_rows: 31\n",
       "})"
      ]
     },
     "metadata": {},
     "output_type": "display_data"
    },
    {
     "data": {
      "application/vnd.jupyter.widget-view+json": {
       "model_id": "f29eb95d416e41d98b1368c57311ff29",
       "version_major": 2,
       "version_minor": 0
      },
      "text/plain": [
       "Map:   0%|          | 0/31 [00:00<?, ? examples/s]"
      ]
     },
     "metadata": {},
     "output_type": "display_data"
    },
    {
     "data": {
      "text/plain": [
       "Dataset({\n",
       "    features: ['question', 'choices', 'answer'],\n",
       "    num_rows: 170\n",
       "})"
      ]
     },
     "metadata": {},
     "output_type": "display_data"
    },
    {
     "data": {
      "application/vnd.jupyter.widget-view+json": {
       "model_id": "72be1b6ba1144a8d858223164acc6e97",
       "version_major": 2,
       "version_minor": 0
      },
      "text/plain": [
       "Map:   0%|          | 0/170 [00:00<?, ? examples/s]"
      ]
     },
     "metadata": {},
     "output_type": "display_data"
    },
    {
     "data": {
      "text/plain": [
       "Dataset({\n",
       "    features: ['question', 'choices', 'answer'],\n",
       "    num_rows: 31\n",
       "})"
      ]
     },
     "metadata": {},
     "output_type": "display_data"
    },
    {
     "data": {
      "application/vnd.jupyter.widget-view+json": {
       "model_id": "56a4ac8a53ee454a9ee625ffbbe27ab1",
       "version_major": 2,
       "version_minor": 0
      },
      "text/plain": [
       "Map:   0%|          | 0/31 [00:00<?, ? examples/s]"
      ]
     },
     "metadata": {},
     "output_type": "display_data"
    },
    {
     "data": {
      "text/plain": [
       "Dataset({\n",
       "    features: ['question', 'choices', 'answer'],\n",
       "    num_rows: 69\n",
       "})"
      ]
     },
     "metadata": {},
     "output_type": "display_data"
    },
    {
     "data": {
      "application/vnd.jupyter.widget-view+json": {
       "model_id": "6355bdefc4964b768e393c7c9f9cffb8",
       "version_major": 2,
       "version_minor": 0
      },
      "text/plain": [
       "Map:   0%|          | 0/69 [00:00<?, ? examples/s]"
      ]
     },
     "metadata": {},
     "output_type": "display_data"
    },
    {
     "data": {
      "text/plain": [
       "Dataset({\n",
       "    features: ['question', 'choices', 'answer'],\n",
       "    num_rows: 12\n",
       "})"
      ]
     },
     "metadata": {},
     "output_type": "display_data"
    },
    {
     "data": {
      "application/vnd.jupyter.widget-view+json": {
       "model_id": "9c04d2eb6dbb45fbbf66b0a270f5df6e",
       "version_major": 2,
       "version_minor": 0
      },
      "text/plain": [
       "Map:   0%|          | 0/12 [00:00<?, ? examples/s]"
      ]
     },
     "metadata": {},
     "output_type": "display_data"
    },
    {
     "data": {
      "text/plain": [
       "Dataset({\n",
       "    features: ['question', 'choices', 'answer'],\n",
       "    num_rows: 27\n",
       "})"
      ]
     },
     "metadata": {},
     "output_type": "display_data"
    },
    {
     "data": {
      "application/vnd.jupyter.widget-view+json": {
       "model_id": "75a1b065e1a7433bbb9c9681521789f4",
       "version_major": 2,
       "version_minor": 0
      },
      "text/plain": [
       "Map:   0%|          | 0/27 [00:00<?, ? examples/s]"
      ]
     },
     "metadata": {},
     "output_type": "display_data"
    },
    {
     "data": {
      "text/plain": [
       "Dataset({\n",
       "    features: ['question', 'choices', 'answer'],\n",
       "    num_rows: 22\n",
       "})"
      ]
     },
     "metadata": {},
     "output_type": "display_data"
    },
    {
     "data": {
      "application/vnd.jupyter.widget-view+json": {
       "model_id": "c05b59606bf84ccf9716868a600f2497",
       "version_major": 2,
       "version_minor": 0
      },
      "text/plain": [
       "Map:   0%|          | 0/22 [00:00<?, ? examples/s]"
      ]
     },
     "metadata": {},
     "output_type": "display_data"
    },
    {
     "data": {
      "text/plain": [
       "Dataset({\n",
       "    features: ['question', 'choices', 'answer'],\n",
       "    num_rows: 11\n",
       "})"
      ]
     },
     "metadata": {},
     "output_type": "display_data"
    },
    {
     "data": {
      "application/vnd.jupyter.widget-view+json": {
       "model_id": "8da36d9f0b0a404dbf1a8387941f5068",
       "version_major": 2,
       "version_minor": 0
      },
      "text/plain": [
       "Map:   0%|          | 0/11 [00:00<?, ? examples/s]"
      ]
     },
     "metadata": {},
     "output_type": "display_data"
    },
    {
     "data": {
      "text/plain": [
       "Dataset({\n",
       "    features: ['question', 'choices', 'answer'],\n",
       "    num_rows: 18\n",
       "})"
      ]
     },
     "metadata": {},
     "output_type": "display_data"
    },
    {
     "data": {
      "application/vnd.jupyter.widget-view+json": {
       "model_id": "f447c764ff5544779d974ee4561eb0f5",
       "version_major": 2,
       "version_minor": 0
      },
      "text/plain": [
       "Map:   0%|          | 0/18 [00:00<?, ? examples/s]"
      ]
     },
     "metadata": {},
     "output_type": "display_data"
    },
    {
     "data": {
      "text/plain": [
       "Dataset({\n",
       "    features: ['question', 'choices', 'answer'],\n",
       "    num_rows: 19\n",
       "})"
      ]
     },
     "metadata": {},
     "output_type": "display_data"
    },
    {
     "data": {
      "application/vnd.jupyter.widget-view+json": {
       "model_id": "4ab610c768ef422fa7fb45a14c8ad5b3",
       "version_major": 2,
       "version_minor": 0
      },
      "text/plain": [
       "Map:   0%|          | 0/19 [00:00<?, ? examples/s]"
      ]
     },
     "metadata": {},
     "output_type": "display_data"
    },
    {
     "data": {
      "application/vnd.jupyter.widget-view+json": {
       "model_id": "c3020f493cae48179611794daea2c1b4",
       "version_major": 2,
       "version_minor": 0
      },
      "text/plain": [
       "converting categories:   0%|          | 0/57 [00:00<?, ?it/s]"
      ]
     },
     "metadata": {},
     "output_type": "display_data"
    }
   ],
   "source": [
    "shuffle_and_save_dataset_list(validation_dataset_list, 'validation')"
   ]
  },
  {
   "cell_type": "code",
   "execution_count": 7,
   "id": "b9082d8d-3c35-462e-828b-423015b62cc2",
   "metadata": {
    "scrolled": true
   },
   "outputs": [
    {
     "data": {
      "text/plain": [
       "Dataset({\n",
       "    features: ['question', 'choices', 'answer'],\n",
       "    num_rows: 100\n",
       "})"
      ]
     },
     "metadata": {},
     "output_type": "display_data"
    },
    {
     "data": {
      "application/vnd.jupyter.widget-view+json": {
       "model_id": "e047c9c52ebd4bb88cbd23533c49f7dd",
       "version_major": 2,
       "version_minor": 0
      },
      "text/plain": [
       "Map:   0%|          | 0/100 [00:00<?, ? examples/s]"
      ]
     },
     "metadata": {},
     "output_type": "display_data"
    },
    {
     "data": {
      "text/plain": [
       "Dataset({\n",
       "    features: ['question', 'choices', 'answer'],\n",
       "    num_rows: 135\n",
       "})"
      ]
     },
     "metadata": {},
     "output_type": "display_data"
    },
    {
     "data": {
      "application/vnd.jupyter.widget-view+json": {
       "model_id": "17c49b0379ad41e093fe56e9129c37a6",
       "version_major": 2,
       "version_minor": 0
      },
      "text/plain": [
       "Map:   0%|          | 0/135 [00:00<?, ? examples/s]"
      ]
     },
     "metadata": {},
     "output_type": "display_data"
    },
    {
     "data": {
      "text/plain": [
       "Dataset({\n",
       "    features: ['question', 'choices', 'answer'],\n",
       "    num_rows: 152\n",
       "})"
      ]
     },
     "metadata": {},
     "output_type": "display_data"
    },
    {
     "data": {
      "application/vnd.jupyter.widget-view+json": {
       "model_id": "e10597fda3574319a0f4acb538b4d4f0",
       "version_major": 2,
       "version_minor": 0
      },
      "text/plain": [
       "Map:   0%|          | 0/152 [00:00<?, ? examples/s]"
      ]
     },
     "metadata": {},
     "output_type": "display_data"
    },
    {
     "data": {
      "text/plain": [
       "Dataset({\n",
       "    features: ['question', 'choices', 'answer'],\n",
       "    num_rows: 100\n",
       "})"
      ]
     },
     "metadata": {},
     "output_type": "display_data"
    },
    {
     "data": {
      "application/vnd.jupyter.widget-view+json": {
       "model_id": "06c25e0a7ca2419f8c4d432839fce7d4",
       "version_major": 2,
       "version_minor": 0
      },
      "text/plain": [
       "Map:   0%|          | 0/100 [00:00<?, ? examples/s]"
      ]
     },
     "metadata": {},
     "output_type": "display_data"
    },
    {
     "data": {
      "text/plain": [
       "Dataset({\n",
       "    features: ['question', 'choices', 'answer'],\n",
       "    num_rows: 265\n",
       "})"
      ]
     },
     "metadata": {},
     "output_type": "display_data"
    },
    {
     "data": {
      "application/vnd.jupyter.widget-view+json": {
       "model_id": "3165492c134542cbabf5a577ee290ea7",
       "version_major": 2,
       "version_minor": 0
      },
      "text/plain": [
       "Map:   0%|          | 0/265 [00:00<?, ? examples/s]"
      ]
     },
     "metadata": {},
     "output_type": "display_data"
    },
    {
     "data": {
      "text/plain": [
       "Dataset({\n",
       "    features: ['question', 'choices', 'answer'],\n",
       "    num_rows: 144\n",
       "})"
      ]
     },
     "metadata": {},
     "output_type": "display_data"
    },
    {
     "data": {
      "application/vnd.jupyter.widget-view+json": {
       "model_id": "e3594c16aeeb4b01b17c5de3c9463935",
       "version_major": 2,
       "version_minor": 0
      },
      "text/plain": [
       "Map:   0%|          | 0/144 [00:00<?, ? examples/s]"
      ]
     },
     "metadata": {},
     "output_type": "display_data"
    },
    {
     "data": {
      "text/plain": [
       "Dataset({\n",
       "    features: ['question', 'choices', 'answer'],\n",
       "    num_rows: 100\n",
       "})"
      ]
     },
     "metadata": {},
     "output_type": "display_data"
    },
    {
     "data": {
      "application/vnd.jupyter.widget-view+json": {
       "model_id": "715f682d0ef64e5da3a56dbc681023e0",
       "version_major": 2,
       "version_minor": 0
      },
      "text/plain": [
       "Map:   0%|          | 0/100 [00:00<?, ? examples/s]"
      ]
     },
     "metadata": {},
     "output_type": "display_data"
    },
    {
     "data": {
      "text/plain": [
       "Dataset({\n",
       "    features: ['question', 'choices', 'answer'],\n",
       "    num_rows: 100\n",
       "})"
      ]
     },
     "metadata": {},
     "output_type": "display_data"
    },
    {
     "data": {
      "application/vnd.jupyter.widget-view+json": {
       "model_id": "c74461fc68cf45328b85fd69d0c37b04",
       "version_major": 2,
       "version_minor": 0
      },
      "text/plain": [
       "Map:   0%|          | 0/100 [00:00<?, ? examples/s]"
      ]
     },
     "metadata": {},
     "output_type": "display_data"
    },
    {
     "data": {
      "text/plain": [
       "Dataset({\n",
       "    features: ['question', 'choices', 'answer'],\n",
       "    num_rows: 100\n",
       "})"
      ]
     },
     "metadata": {},
     "output_type": "display_data"
    },
    {
     "data": {
      "application/vnd.jupyter.widget-view+json": {
       "model_id": "76edb0975d9b448e8965db6b35655e7c",
       "version_major": 2,
       "version_minor": 0
      },
      "text/plain": [
       "Map:   0%|          | 0/100 [00:00<?, ? examples/s]"
      ]
     },
     "metadata": {},
     "output_type": "display_data"
    },
    {
     "data": {
      "text/plain": [
       "Dataset({\n",
       "    features: ['question', 'choices', 'answer'],\n",
       "    num_rows: 173\n",
       "})"
      ]
     },
     "metadata": {},
     "output_type": "display_data"
    },
    {
     "data": {
      "application/vnd.jupyter.widget-view+json": {
       "model_id": "2a56309f57f04061bd6c8fd70f14eddc",
       "version_major": 2,
       "version_minor": 0
      },
      "text/plain": [
       "Map:   0%|          | 0/173 [00:00<?, ? examples/s]"
      ]
     },
     "metadata": {},
     "output_type": "display_data"
    },
    {
     "data": {
      "text/plain": [
       "Dataset({\n",
       "    features: ['question', 'choices', 'answer'],\n",
       "    num_rows: 102\n",
       "})"
      ]
     },
     "metadata": {},
     "output_type": "display_data"
    },
    {
     "data": {
      "application/vnd.jupyter.widget-view+json": {
       "model_id": "c8a01ee8209241c0b59108e39c754f11",
       "version_major": 2,
       "version_minor": 0
      },
      "text/plain": [
       "Map:   0%|          | 0/102 [00:00<?, ? examples/s]"
      ]
     },
     "metadata": {},
     "output_type": "display_data"
    },
    {
     "data": {
      "text/plain": [
       "Dataset({\n",
       "    features: ['question', 'choices', 'answer'],\n",
       "    num_rows: 100\n",
       "})"
      ]
     },
     "metadata": {},
     "output_type": "display_data"
    },
    {
     "data": {
      "application/vnd.jupyter.widget-view+json": {
       "model_id": "e96ab4a284784afeb9b770f5ceba54c6",
       "version_major": 2,
       "version_minor": 0
      },
      "text/plain": [
       "Map:   0%|          | 0/100 [00:00<?, ? examples/s]"
      ]
     },
     "metadata": {},
     "output_type": "display_data"
    },
    {
     "data": {
      "text/plain": [
       "Dataset({\n",
       "    features: ['question', 'choices', 'answer'],\n",
       "    num_rows: 235\n",
       "})"
      ]
     },
     "metadata": {},
     "output_type": "display_data"
    },
    {
     "data": {
      "application/vnd.jupyter.widget-view+json": {
       "model_id": "2b034286c0e94d02999ab1512e2a1eeb",
       "version_major": 2,
       "version_minor": 0
      },
      "text/plain": [
       "Map:   0%|          | 0/235 [00:00<?, ? examples/s]"
      ]
     },
     "metadata": {},
     "output_type": "display_data"
    },
    {
     "data": {
      "text/plain": [
       "Dataset({\n",
       "    features: ['question', 'choices', 'answer'],\n",
       "    num_rows: 114\n",
       "})"
      ]
     },
     "metadata": {},
     "output_type": "display_data"
    },
    {
     "data": {
      "application/vnd.jupyter.widget-view+json": {
       "model_id": "c38f9cca290a4ed29ef6ee613ea26845",
       "version_major": 2,
       "version_minor": 0
      },
      "text/plain": [
       "Map:   0%|          | 0/114 [00:00<?, ? examples/s]"
      ]
     },
     "metadata": {},
     "output_type": "display_data"
    },
    {
     "data": {
      "text/plain": [
       "Dataset({\n",
       "    features: ['question', 'choices', 'answer'],\n",
       "    num_rows: 145\n",
       "})"
      ]
     },
     "metadata": {},
     "output_type": "display_data"
    },
    {
     "data": {
      "application/vnd.jupyter.widget-view+json": {
       "model_id": "487270d3fd7949eb9619824483713965",
       "version_major": 2,
       "version_minor": 0
      },
      "text/plain": [
       "Map:   0%|          | 0/145 [00:00<?, ? examples/s]"
      ]
     },
     "metadata": {},
     "output_type": "display_data"
    },
    {
     "data": {
      "text/plain": [
       "Dataset({\n",
       "    features: ['question', 'choices', 'answer'],\n",
       "    num_rows: 378\n",
       "})"
      ]
     },
     "metadata": {},
     "output_type": "display_data"
    },
    {
     "data": {
      "application/vnd.jupyter.widget-view+json": {
       "model_id": "9988c3dd9d1b405d9a4bd6e8155fe3d6",
       "version_major": 2,
       "version_minor": 0
      },
      "text/plain": [
       "Map:   0%|          | 0/378 [00:00<?, ? examples/s]"
      ]
     },
     "metadata": {},
     "output_type": "display_data"
    },
    {
     "data": {
      "text/plain": [
       "Dataset({\n",
       "    features: ['question', 'choices', 'answer'],\n",
       "    num_rows: 126\n",
       "})"
      ]
     },
     "metadata": {},
     "output_type": "display_data"
    },
    {
     "data": {
      "application/vnd.jupyter.widget-view+json": {
       "model_id": "cf1686e05fb7457ea1dd314918f1a02c",
       "version_major": 2,
       "version_minor": 0
      },
      "text/plain": [
       "Map:   0%|          | 0/126 [00:00<?, ? examples/s]"
      ]
     },
     "metadata": {},
     "output_type": "display_data"
    },
    {
     "data": {
      "text/plain": [
       "Dataset({\n",
       "    features: ['question', 'choices', 'answer'],\n",
       "    num_rows: 100\n",
       "})"
      ]
     },
     "metadata": {},
     "output_type": "display_data"
    },
    {
     "data": {
      "application/vnd.jupyter.widget-view+json": {
       "model_id": "b4a7b0e680a5441caf80705a6f60a3f7",
       "version_major": 2,
       "version_minor": 0
      },
      "text/plain": [
       "Map:   0%|          | 0/100 [00:00<?, ? examples/s]"
      ]
     },
     "metadata": {},
     "output_type": "display_data"
    },
    {
     "data": {
      "text/plain": [
       "Dataset({\n",
       "    features: ['question', 'choices', 'answer'],\n",
       "    num_rows: 310\n",
       "})"
      ]
     },
     "metadata": {},
     "output_type": "display_data"
    },
    {
     "data": {
      "application/vnd.jupyter.widget-view+json": {
       "model_id": "7c4b36f15cb3409f88e21ffa509c5b9b",
       "version_major": 2,
       "version_minor": 0
      },
      "text/plain": [
       "Map:   0%|          | 0/310 [00:00<?, ? examples/s]"
      ]
     },
     "metadata": {},
     "output_type": "display_data"
    },
    {
     "data": {
      "text/plain": [
       "Dataset({\n",
       "    features: ['question', 'choices', 'answer'],\n",
       "    num_rows: 203\n",
       "})"
      ]
     },
     "metadata": {},
     "output_type": "display_data"
    },
    {
     "data": {
      "application/vnd.jupyter.widget-view+json": {
       "model_id": "60f517cf811845eea72b1bd053fafd4a",
       "version_major": 2,
       "version_minor": 0
      },
      "text/plain": [
       "Map:   0%|          | 0/203 [00:00<?, ? examples/s]"
      ]
     },
     "metadata": {},
     "output_type": "display_data"
    },
    {
     "data": {
      "text/plain": [
       "Dataset({\n",
       "    features: ['question', 'choices', 'answer'],\n",
       "    num_rows: 100\n",
       "})"
      ]
     },
     "metadata": {},
     "output_type": "display_data"
    },
    {
     "data": {
      "application/vnd.jupyter.widget-view+json": {
       "model_id": "1247281eee0e45af92316fb852c7711d",
       "version_major": 2,
       "version_minor": 0
      },
      "text/plain": [
       "Map:   0%|          | 0/100 [00:00<?, ? examples/s]"
      ]
     },
     "metadata": {},
     "output_type": "display_data"
    },
    {
     "data": {
      "text/plain": [
       "Dataset({\n",
       "    features: ['question', 'choices', 'answer'],\n",
       "    num_rows: 165\n",
       "})"
      ]
     },
     "metadata": {},
     "output_type": "display_data"
    },
    {
     "data": {
      "application/vnd.jupyter.widget-view+json": {
       "model_id": "ee381d7cf8ae488c8d955a19a233d371",
       "version_major": 2,
       "version_minor": 0
      },
      "text/plain": [
       "Map:   0%|          | 0/165 [00:00<?, ? examples/s]"
      ]
     },
     "metadata": {},
     "output_type": "display_data"
    },
    {
     "data": {
      "text/plain": [
       "Dataset({\n",
       "    features: ['question', 'choices', 'answer'],\n",
       "    num_rows: 198\n",
       "})"
      ]
     },
     "metadata": {},
     "output_type": "display_data"
    },
    {
     "data": {
      "application/vnd.jupyter.widget-view+json": {
       "model_id": "50470cf0f79c4594ac6ac502e7dfc659",
       "version_major": 2,
       "version_minor": 0
      },
      "text/plain": [
       "Map:   0%|          | 0/198 [00:00<?, ? examples/s]"
      ]
     },
     "metadata": {},
     "output_type": "display_data"
    },
    {
     "data": {
      "text/plain": [
       "Dataset({\n",
       "    features: ['question', 'choices', 'answer'],\n",
       "    num_rows: 193\n",
       "})"
      ]
     },
     "metadata": {},
     "output_type": "display_data"
    },
    {
     "data": {
      "application/vnd.jupyter.widget-view+json": {
       "model_id": "d0d248c443be4eb0828385b2b7a16a5b",
       "version_major": 2,
       "version_minor": 0
      },
      "text/plain": [
       "Map:   0%|          | 0/193 [00:00<?, ? examples/s]"
      ]
     },
     "metadata": {},
     "output_type": "display_data"
    },
    {
     "data": {
      "text/plain": [
       "Dataset({\n",
       "    features: ['question', 'choices', 'answer'],\n",
       "    num_rows: 390\n",
       "})"
      ]
     },
     "metadata": {},
     "output_type": "display_data"
    },
    {
     "data": {
      "application/vnd.jupyter.widget-view+json": {
       "model_id": "643a88b84df344d2bae79d2dd5103771",
       "version_major": 2,
       "version_minor": 0
      },
      "text/plain": [
       "Map:   0%|          | 0/390 [00:00<?, ? examples/s]"
      ]
     },
     "metadata": {},
     "output_type": "display_data"
    },
    {
     "data": {
      "text/plain": [
       "Dataset({\n",
       "    features: ['question', 'choices', 'answer'],\n",
       "    num_rows: 270\n",
       "})"
      ]
     },
     "metadata": {},
     "output_type": "display_data"
    },
    {
     "data": {
      "application/vnd.jupyter.widget-view+json": {
       "model_id": "59c2be22b5ee402fad57996e87f29bb7",
       "version_major": 2,
       "version_minor": 0
      },
      "text/plain": [
       "Map:   0%|          | 0/270 [00:00<?, ? examples/s]"
      ]
     },
     "metadata": {},
     "output_type": "display_data"
    },
    {
     "data": {
      "text/plain": [
       "Dataset({\n",
       "    features: ['question', 'choices', 'answer'],\n",
       "    num_rows: 238\n",
       "})"
      ]
     },
     "metadata": {},
     "output_type": "display_data"
    },
    {
     "data": {
      "application/vnd.jupyter.widget-view+json": {
       "model_id": "9f010c57bd7e436691df4290d9f44136",
       "version_major": 2,
       "version_minor": 0
      },
      "text/plain": [
       "Map:   0%|          | 0/238 [00:00<?, ? examples/s]"
      ]
     },
     "metadata": {},
     "output_type": "display_data"
    },
    {
     "data": {
      "text/plain": [
       "Dataset({\n",
       "    features: ['question', 'choices', 'answer'],\n",
       "    num_rows: 151\n",
       "})"
      ]
     },
     "metadata": {},
     "output_type": "display_data"
    },
    {
     "data": {
      "application/vnd.jupyter.widget-view+json": {
       "model_id": "2d86a123e9ba4397b12cde5a4c8ea49e",
       "version_major": 2,
       "version_minor": 0
      },
      "text/plain": [
       "Map:   0%|          | 0/151 [00:00<?, ? examples/s]"
      ]
     },
     "metadata": {},
     "output_type": "display_data"
    },
    {
     "data": {
      "text/plain": [
       "Dataset({\n",
       "    features: ['question', 'choices', 'answer'],\n",
       "    num_rows: 545\n",
       "})"
      ]
     },
     "metadata": {},
     "output_type": "display_data"
    },
    {
     "data": {
      "application/vnd.jupyter.widget-view+json": {
       "model_id": "f049d1c34709495dabc5d861c9834c0c",
       "version_major": 2,
       "version_minor": 0
      },
      "text/plain": [
       "Map:   0%|          | 0/545 [00:00<?, ? examples/s]"
      ]
     },
     "metadata": {},
     "output_type": "display_data"
    },
    {
     "data": {
      "text/plain": [
       "Dataset({\n",
       "    features: ['question', 'choices', 'answer'],\n",
       "    num_rows: 216\n",
       "})"
      ]
     },
     "metadata": {},
     "output_type": "display_data"
    },
    {
     "data": {
      "application/vnd.jupyter.widget-view+json": {
       "model_id": "6ae8334e35fc4194b8f8a39e99cb103c",
       "version_major": 2,
       "version_minor": 0
      },
      "text/plain": [
       "Map:   0%|          | 0/216 [00:00<?, ? examples/s]"
      ]
     },
     "metadata": {},
     "output_type": "display_data"
    },
    {
     "data": {
      "text/plain": [
       "Dataset({\n",
       "    features: ['question', 'choices', 'answer'],\n",
       "    num_rows: 204\n",
       "})"
      ]
     },
     "metadata": {},
     "output_type": "display_data"
    },
    {
     "data": {
      "application/vnd.jupyter.widget-view+json": {
       "model_id": "7dec553c51a34920b7a41f5f5d420d99",
       "version_major": 2,
       "version_minor": 0
      },
      "text/plain": [
       "Map:   0%|          | 0/204 [00:00<?, ? examples/s]"
      ]
     },
     "metadata": {},
     "output_type": "display_data"
    },
    {
     "data": {
      "text/plain": [
       "Dataset({\n",
       "    features: ['question', 'choices', 'answer'],\n",
       "    num_rows: 237\n",
       "})"
      ]
     },
     "metadata": {},
     "output_type": "display_data"
    },
    {
     "data": {
      "application/vnd.jupyter.widget-view+json": {
       "model_id": "c7ee836ea0a84dea9a31e8316ad165ea",
       "version_major": 2,
       "version_minor": 0
      },
      "text/plain": [
       "Map:   0%|          | 0/237 [00:00<?, ? examples/s]"
      ]
     },
     "metadata": {},
     "output_type": "display_data"
    },
    {
     "data": {
      "text/plain": [
       "Dataset({\n",
       "    features: ['question', 'choices', 'answer'],\n",
       "    num_rows: 223\n",
       "})"
      ]
     },
     "metadata": {},
     "output_type": "display_data"
    },
    {
     "data": {
      "application/vnd.jupyter.widget-view+json": {
       "model_id": "afa32bbd5d494bf6b3079c0797c93446",
       "version_major": 2,
       "version_minor": 0
      },
      "text/plain": [
       "Map:   0%|          | 0/223 [00:00<?, ? examples/s]"
      ]
     },
     "metadata": {},
     "output_type": "display_data"
    },
    {
     "data": {
      "text/plain": [
       "Dataset({\n",
       "    features: ['question', 'choices', 'answer'],\n",
       "    num_rows: 131\n",
       "})"
      ]
     },
     "metadata": {},
     "output_type": "display_data"
    },
    {
     "data": {
      "application/vnd.jupyter.widget-view+json": {
       "model_id": "657c5251a9b24f16be5e303e6702269c",
       "version_major": 2,
       "version_minor": 0
      },
      "text/plain": [
       "Map:   0%|          | 0/131 [00:00<?, ? examples/s]"
      ]
     },
     "metadata": {},
     "output_type": "display_data"
    },
    {
     "data": {
      "text/plain": [
       "Dataset({\n",
       "    features: ['question', 'choices', 'answer'],\n",
       "    num_rows: 121\n",
       "})"
      ]
     },
     "metadata": {},
     "output_type": "display_data"
    },
    {
     "data": {
      "application/vnd.jupyter.widget-view+json": {
       "model_id": "c0432c295b8547a7b7fbad7bae537107",
       "version_major": 2,
       "version_minor": 0
      },
      "text/plain": [
       "Map:   0%|          | 0/121 [00:00<?, ? examples/s]"
      ]
     },
     "metadata": {},
     "output_type": "display_data"
    },
    {
     "data": {
      "text/plain": [
       "Dataset({\n",
       "    features: ['question', 'choices', 'answer'],\n",
       "    num_rows: 108\n",
       "})"
      ]
     },
     "metadata": {},
     "output_type": "display_data"
    },
    {
     "data": {
      "application/vnd.jupyter.widget-view+json": {
       "model_id": "485e705a90c74491b73cb761df68ba38",
       "version_major": 2,
       "version_minor": 0
      },
      "text/plain": [
       "Map:   0%|          | 0/108 [00:00<?, ? examples/s]"
      ]
     },
     "metadata": {},
     "output_type": "display_data"
    },
    {
     "data": {
      "text/plain": [
       "Dataset({\n",
       "    features: ['question', 'choices', 'answer'],\n",
       "    num_rows: 163\n",
       "})"
      ]
     },
     "metadata": {},
     "output_type": "display_data"
    },
    {
     "data": {
      "application/vnd.jupyter.widget-view+json": {
       "model_id": "de9eef67a639432f8811ce351650716a",
       "version_major": 2,
       "version_minor": 0
      },
      "text/plain": [
       "Map:   0%|          | 0/163 [00:00<?, ? examples/s]"
      ]
     },
     "metadata": {},
     "output_type": "display_data"
    },
    {
     "data": {
      "text/plain": [
       "Dataset({\n",
       "    features: ['question', 'choices', 'answer'],\n",
       "    num_rows: 112\n",
       "})"
      ]
     },
     "metadata": {},
     "output_type": "display_data"
    },
    {
     "data": {
      "application/vnd.jupyter.widget-view+json": {
       "model_id": "aa54295f86b64ce5ac102d1fd993f225",
       "version_major": 2,
       "version_minor": 0
      },
      "text/plain": [
       "Map:   0%|          | 0/112 [00:00<?, ? examples/s]"
      ]
     },
     "metadata": {},
     "output_type": "display_data"
    },
    {
     "data": {
      "text/plain": [
       "Dataset({\n",
       "    features: ['question', 'choices', 'answer'],\n",
       "    num_rows: 103\n",
       "})"
      ]
     },
     "metadata": {},
     "output_type": "display_data"
    },
    {
     "data": {
      "application/vnd.jupyter.widget-view+json": {
       "model_id": "5a87accf6d24498bbfce35057dec7eec",
       "version_major": 2,
       "version_minor": 0
      },
      "text/plain": [
       "Map:   0%|          | 0/103 [00:00<?, ? examples/s]"
      ]
     },
     "metadata": {},
     "output_type": "display_data"
    },
    {
     "data": {
      "text/plain": [
       "Dataset({\n",
       "    features: ['question', 'choices', 'answer'],\n",
       "    num_rows: 234\n",
       "})"
      ]
     },
     "metadata": {},
     "output_type": "display_data"
    },
    {
     "data": {
      "application/vnd.jupyter.widget-view+json": {
       "model_id": "9a8fd396b5d746abb3614c091bf9f72d",
       "version_major": 2,
       "version_minor": 0
      },
      "text/plain": [
       "Map:   0%|          | 0/234 [00:00<?, ? examples/s]"
      ]
     },
     "metadata": {},
     "output_type": "display_data"
    },
    {
     "data": {
      "text/plain": [
       "Dataset({\n",
       "    features: ['question', 'choices', 'answer'],\n",
       "    num_rows: 100\n",
       "})"
      ]
     },
     "metadata": {},
     "output_type": "display_data"
    },
    {
     "data": {
      "application/vnd.jupyter.widget-view+json": {
       "model_id": "2faf3cb500134cd493ea6a0797661a5a",
       "version_major": 2,
       "version_minor": 0
      },
      "text/plain": [
       "Map:   0%|          | 0/100 [00:00<?, ? examples/s]"
      ]
     },
     "metadata": {},
     "output_type": "display_data"
    },
    {
     "data": {
      "text/plain": [
       "Dataset({\n",
       "    features: ['question', 'choices', 'answer'],\n",
       "    num_rows: 783\n",
       "})"
      ]
     },
     "metadata": {},
     "output_type": "display_data"
    },
    {
     "data": {
      "application/vnd.jupyter.widget-view+json": {
       "model_id": "f297540dd37b445c9daac1b12a805bb0",
       "version_major": 2,
       "version_minor": 0
      },
      "text/plain": [
       "Map:   0%|          | 0/783 [00:00<?, ? examples/s]"
      ]
     },
     "metadata": {},
     "output_type": "display_data"
    },
    {
     "data": {
      "text/plain": [
       "Dataset({\n",
       "    features: ['question', 'choices', 'answer'],\n",
       "    num_rows: 346\n",
       "})"
      ]
     },
     "metadata": {},
     "output_type": "display_data"
    },
    {
     "data": {
      "application/vnd.jupyter.widget-view+json": {
       "model_id": "fb4fc4591d2846318300ac5b63cbf887",
       "version_major": 2,
       "version_minor": 0
      },
      "text/plain": [
       "Map:   0%|          | 0/346 [00:00<?, ? examples/s]"
      ]
     },
     "metadata": {},
     "output_type": "display_data"
    },
    {
     "data": {
      "text/plain": [
       "Dataset({\n",
       "    features: ['question', 'choices', 'answer'],\n",
       "    num_rows: 895\n",
       "})"
      ]
     },
     "metadata": {},
     "output_type": "display_data"
    },
    {
     "data": {
      "application/vnd.jupyter.widget-view+json": {
       "model_id": "773314290b404b5e90c38c7cdaae0c53",
       "version_major": 2,
       "version_minor": 0
      },
      "text/plain": [
       "Map:   0%|          | 0/895 [00:00<?, ? examples/s]"
      ]
     },
     "metadata": {},
     "output_type": "display_data"
    },
    {
     "data": {
      "text/plain": [
       "Dataset({\n",
       "    features: ['question', 'choices', 'answer'],\n",
       "    num_rows: 306\n",
       "})"
      ]
     },
     "metadata": {},
     "output_type": "display_data"
    },
    {
     "data": {
      "application/vnd.jupyter.widget-view+json": {
       "model_id": "cc8d4183892545df8366e31b51c5fe8e",
       "version_major": 2,
       "version_minor": 0
      },
      "text/plain": [
       "Map:   0%|          | 0/306 [00:00<?, ? examples/s]"
      ]
     },
     "metadata": {},
     "output_type": "display_data"
    },
    {
     "data": {
      "text/plain": [
       "Dataset({\n",
       "    features: ['question', 'choices', 'answer'],\n",
       "    num_rows: 311\n",
       "})"
      ]
     },
     "metadata": {},
     "output_type": "display_data"
    },
    {
     "data": {
      "application/vnd.jupyter.widget-view+json": {
       "model_id": "96e43052c9474f758ecc8d65ae8f6f44",
       "version_major": 2,
       "version_minor": 0
      },
      "text/plain": [
       "Map:   0%|          | 0/311 [00:00<?, ? examples/s]"
      ]
     },
     "metadata": {},
     "output_type": "display_data"
    },
    {
     "data": {
      "text/plain": [
       "Dataset({\n",
       "    features: ['question', 'choices', 'answer'],\n",
       "    num_rows: 324\n",
       "})"
      ]
     },
     "metadata": {},
     "output_type": "display_data"
    },
    {
     "data": {
      "application/vnd.jupyter.widget-view+json": {
       "model_id": "557d3fabb15b4500b3c7c63af7c9f128",
       "version_major": 2,
       "version_minor": 0
      },
      "text/plain": [
       "Map:   0%|          | 0/324 [00:00<?, ? examples/s]"
      ]
     },
     "metadata": {},
     "output_type": "display_data"
    },
    {
     "data": {
      "text/plain": [
       "Dataset({\n",
       "    features: ['question', 'choices', 'answer'],\n",
       "    num_rows: 282\n",
       "})"
      ]
     },
     "metadata": {},
     "output_type": "display_data"
    },
    {
     "data": {
      "application/vnd.jupyter.widget-view+json": {
       "model_id": "07c271fe8ca744b4a208b819c28ed930",
       "version_major": 2,
       "version_minor": 0
      },
      "text/plain": [
       "Map:   0%|          | 0/282 [00:00<?, ? examples/s]"
      ]
     },
     "metadata": {},
     "output_type": "display_data"
    },
    {
     "data": {
      "text/plain": [
       "Dataset({\n",
       "    features: ['question', 'choices', 'answer'],\n",
       "    num_rows: 1534\n",
       "})"
      ]
     },
     "metadata": {},
     "output_type": "display_data"
    },
    {
     "data": {
      "application/vnd.jupyter.widget-view+json": {
       "model_id": "2bcaddc2dd3f4a1c9e8e64c1abedceb2",
       "version_major": 2,
       "version_minor": 0
      },
      "text/plain": [
       "Map:   0%|          | 0/1534 [00:00<?, ? examples/s]"
      ]
     },
     "metadata": {},
     "output_type": "display_data"
    },
    {
     "data": {
      "text/plain": [
       "Dataset({\n",
       "    features: ['question', 'choices', 'answer'],\n",
       "    num_rows: 272\n",
       "})"
      ]
     },
     "metadata": {},
     "output_type": "display_data"
    },
    {
     "data": {
      "application/vnd.jupyter.widget-view+json": {
       "model_id": "f300a5c85d3b437189f7e93d69956c99",
       "version_major": 2,
       "version_minor": 0
      },
      "text/plain": [
       "Map:   0%|          | 0/272 [00:00<?, ? examples/s]"
      ]
     },
     "metadata": {},
     "output_type": "display_data"
    },
    {
     "data": {
      "text/plain": [
       "Dataset({\n",
       "    features: ['question', 'choices', 'answer'],\n",
       "    num_rows: 612\n",
       "})"
      ]
     },
     "metadata": {},
     "output_type": "display_data"
    },
    {
     "data": {
      "application/vnd.jupyter.widget-view+json": {
       "model_id": "e36e4b9d315b4843975cbf5e26592664",
       "version_major": 2,
       "version_minor": 0
      },
      "text/plain": [
       "Map:   0%|          | 0/612 [00:00<?, ? examples/s]"
      ]
     },
     "metadata": {},
     "output_type": "display_data"
    },
    {
     "data": {
      "text/plain": [
       "Dataset({\n",
       "    features: ['question', 'choices', 'answer'],\n",
       "    num_rows: 110\n",
       "})"
      ]
     },
     "metadata": {},
     "output_type": "display_data"
    },
    {
     "data": {
      "application/vnd.jupyter.widget-view+json": {
       "model_id": "78cd29b7d81b4f2294a8b5404df0972d",
       "version_major": 2,
       "version_minor": 0
      },
      "text/plain": [
       "Map:   0%|          | 0/110 [00:00<?, ? examples/s]"
      ]
     },
     "metadata": {},
     "output_type": "display_data"
    },
    {
     "data": {
      "text/plain": [
       "Dataset({\n",
       "    features: ['question', 'choices', 'answer'],\n",
       "    num_rows: 245\n",
       "})"
      ]
     },
     "metadata": {},
     "output_type": "display_data"
    },
    {
     "data": {
      "application/vnd.jupyter.widget-view+json": {
       "model_id": "0a84d7c419444f568d61820d530c31bd",
       "version_major": 2,
       "version_minor": 0
      },
      "text/plain": [
       "Map:   0%|          | 0/245 [00:00<?, ? examples/s]"
      ]
     },
     "metadata": {},
     "output_type": "display_data"
    },
    {
     "data": {
      "text/plain": [
       "Dataset({\n",
       "    features: ['question', 'choices', 'answer'],\n",
       "    num_rows: 201\n",
       "})"
      ]
     },
     "metadata": {},
     "output_type": "display_data"
    },
    {
     "data": {
      "application/vnd.jupyter.widget-view+json": {
       "model_id": "8a0cf5279e6c40fdaf5bf0d7dec57f67",
       "version_major": 2,
       "version_minor": 0
      },
      "text/plain": [
       "Map:   0%|          | 0/201 [00:00<?, ? examples/s]"
      ]
     },
     "metadata": {},
     "output_type": "display_data"
    },
    {
     "data": {
      "text/plain": [
       "Dataset({\n",
       "    features: ['question', 'choices', 'answer'],\n",
       "    num_rows: 100\n",
       "})"
      ]
     },
     "metadata": {},
     "output_type": "display_data"
    },
    {
     "data": {
      "application/vnd.jupyter.widget-view+json": {
       "model_id": "34bd120c39e14f948319d172fb84a132",
       "version_major": 2,
       "version_minor": 0
      },
      "text/plain": [
       "Map:   0%|          | 0/100 [00:00<?, ? examples/s]"
      ]
     },
     "metadata": {},
     "output_type": "display_data"
    },
    {
     "data": {
      "text/plain": [
       "Dataset({\n",
       "    features: ['question', 'choices', 'answer'],\n",
       "    num_rows: 166\n",
       "})"
      ]
     },
     "metadata": {},
     "output_type": "display_data"
    },
    {
     "data": {
      "application/vnd.jupyter.widget-view+json": {
       "model_id": "f5cae698ad014752b9ace5cf3ed40716",
       "version_major": 2,
       "version_minor": 0
      },
      "text/plain": [
       "Map:   0%|          | 0/166 [00:00<?, ? examples/s]"
      ]
     },
     "metadata": {},
     "output_type": "display_data"
    },
    {
     "data": {
      "text/plain": [
       "Dataset({\n",
       "    features: ['question', 'choices', 'answer'],\n",
       "    num_rows: 171\n",
       "})"
      ]
     },
     "metadata": {},
     "output_type": "display_data"
    },
    {
     "data": {
      "application/vnd.jupyter.widget-view+json": {
       "model_id": "9f4ab197e4324b6b889fdbaee80b0ba2",
       "version_major": 2,
       "version_minor": 0
      },
      "text/plain": [
       "Map:   0%|          | 0/171 [00:00<?, ? examples/s]"
      ]
     },
     "metadata": {},
     "output_type": "display_data"
    },
    {
     "data": {
      "application/vnd.jupyter.widget-view+json": {
       "model_id": "ae6dc388809f41c7a5692e07836ddb25",
       "version_major": 2,
       "version_minor": 0
      },
      "text/plain": [
       "converting categories:   0%|          | 0/57 [00:00<?, ?it/s]"
      ]
     },
     "metadata": {},
     "output_type": "display_data"
    }
   ],
   "source": [
    "shuffle_and_save_dataset_list(test_dataset_list, 'test')"
   ]
  },
  {
   "cell_type": "code",
   "execution_count": 8,
   "id": "d774c2d5-299e-4d64-b389-cd0543c7102e",
   "metadata": {},
   "outputs": [
    {
     "data": {
      "text/plain": [
       "Dataset({\n",
       "    features: ['question', 'choices', 'answer'],\n",
       "    num_rows: 5\n",
       "})"
      ]
     },
     "metadata": {},
     "output_type": "display_data"
    },
    {
     "data": {
      "application/vnd.jupyter.widget-view+json": {
       "model_id": "3389b072d65f4fd8832d893961552141",
       "version_major": 2,
       "version_minor": 0
      },
      "text/plain": [
       "Map:   0%|          | 0/5 [00:00<?, ? examples/s]"
      ]
     },
     "metadata": {},
     "output_type": "display_data"
    },
    {
     "data": {
      "text/plain": [
       "Dataset({\n",
       "    features: ['question', 'choices', 'answer'],\n",
       "    num_rows: 5\n",
       "})"
      ]
     },
     "metadata": {},
     "output_type": "display_data"
    },
    {
     "data": {
      "application/vnd.jupyter.widget-view+json": {
       "model_id": "1c1ffa70b0ce46229218e26906686c16",
       "version_major": 2,
       "version_minor": 0
      },
      "text/plain": [
       "Map:   0%|          | 0/5 [00:00<?, ? examples/s]"
      ]
     },
     "metadata": {},
     "output_type": "display_data"
    },
    {
     "data": {
      "text/plain": [
       "Dataset({\n",
       "    features: ['question', 'choices', 'answer'],\n",
       "    num_rows: 5\n",
       "})"
      ]
     },
     "metadata": {},
     "output_type": "display_data"
    },
    {
     "data": {
      "application/vnd.jupyter.widget-view+json": {
       "model_id": "68d0b65c6bda490f84e6a0d984a42ef8",
       "version_major": 2,
       "version_minor": 0
      },
      "text/plain": [
       "Map:   0%|          | 0/5 [00:00<?, ? examples/s]"
      ]
     },
     "metadata": {},
     "output_type": "display_data"
    },
    {
     "data": {
      "text/plain": [
       "Dataset({\n",
       "    features: ['question', 'choices', 'answer'],\n",
       "    num_rows: 5\n",
       "})"
      ]
     },
     "metadata": {},
     "output_type": "display_data"
    },
    {
     "data": {
      "application/vnd.jupyter.widget-view+json": {
       "model_id": "cb674ffd70cd42449af5c5561ac6ee20",
       "version_major": 2,
       "version_minor": 0
      },
      "text/plain": [
       "Map:   0%|          | 0/5 [00:00<?, ? examples/s]"
      ]
     },
     "metadata": {},
     "output_type": "display_data"
    },
    {
     "data": {
      "text/plain": [
       "Dataset({\n",
       "    features: ['question', 'choices', 'answer'],\n",
       "    num_rows: 5\n",
       "})"
      ]
     },
     "metadata": {},
     "output_type": "display_data"
    },
    {
     "data": {
      "application/vnd.jupyter.widget-view+json": {
       "model_id": "0f950ae922e241c3afce3eafb1612dee",
       "version_major": 2,
       "version_minor": 0
      },
      "text/plain": [
       "Map:   0%|          | 0/5 [00:00<?, ? examples/s]"
      ]
     },
     "metadata": {},
     "output_type": "display_data"
    },
    {
     "data": {
      "text/plain": [
       "Dataset({\n",
       "    features: ['question', 'choices', 'answer'],\n",
       "    num_rows: 5\n",
       "})"
      ]
     },
     "metadata": {},
     "output_type": "display_data"
    },
    {
     "data": {
      "application/vnd.jupyter.widget-view+json": {
       "model_id": "4be1ceab608247f891637697d0eb7a14",
       "version_major": 2,
       "version_minor": 0
      },
      "text/plain": [
       "Map:   0%|          | 0/5 [00:00<?, ? examples/s]"
      ]
     },
     "metadata": {},
     "output_type": "display_data"
    },
    {
     "data": {
      "text/plain": [
       "Dataset({\n",
       "    features: ['question', 'choices', 'answer'],\n",
       "    num_rows: 5\n",
       "})"
      ]
     },
     "metadata": {},
     "output_type": "display_data"
    },
    {
     "data": {
      "application/vnd.jupyter.widget-view+json": {
       "model_id": "59f6edd824784b37b3eca387f5b0a464",
       "version_major": 2,
       "version_minor": 0
      },
      "text/plain": [
       "Map:   0%|          | 0/5 [00:00<?, ? examples/s]"
      ]
     },
     "metadata": {},
     "output_type": "display_data"
    },
    {
     "data": {
      "text/plain": [
       "Dataset({\n",
       "    features: ['question', 'choices', 'answer'],\n",
       "    num_rows: 5\n",
       "})"
      ]
     },
     "metadata": {},
     "output_type": "display_data"
    },
    {
     "data": {
      "application/vnd.jupyter.widget-view+json": {
       "model_id": "18931ee5385446b08a20a62711501ad8",
       "version_major": 2,
       "version_minor": 0
      },
      "text/plain": [
       "Map:   0%|          | 0/5 [00:00<?, ? examples/s]"
      ]
     },
     "metadata": {},
     "output_type": "display_data"
    },
    {
     "data": {
      "text/plain": [
       "Dataset({\n",
       "    features: ['question', 'choices', 'answer'],\n",
       "    num_rows: 5\n",
       "})"
      ]
     },
     "metadata": {},
     "output_type": "display_data"
    },
    {
     "data": {
      "application/vnd.jupyter.widget-view+json": {
       "model_id": "5c3ba55702d54ef5a81a532ff7eb30d2",
       "version_major": 2,
       "version_minor": 0
      },
      "text/plain": [
       "Map:   0%|          | 0/5 [00:00<?, ? examples/s]"
      ]
     },
     "metadata": {},
     "output_type": "display_data"
    },
    {
     "data": {
      "text/plain": [
       "Dataset({\n",
       "    features: ['question', 'choices', 'answer'],\n",
       "    num_rows: 5\n",
       "})"
      ]
     },
     "metadata": {},
     "output_type": "display_data"
    },
    {
     "data": {
      "application/vnd.jupyter.widget-view+json": {
       "model_id": "272618e8a6d54a7ea9ee54e4d1eac9c2",
       "version_major": 2,
       "version_minor": 0
      },
      "text/plain": [
       "Map:   0%|          | 0/5 [00:00<?, ? examples/s]"
      ]
     },
     "metadata": {},
     "output_type": "display_data"
    },
    {
     "data": {
      "text/plain": [
       "Dataset({\n",
       "    features: ['question', 'choices', 'answer'],\n",
       "    num_rows: 5\n",
       "})"
      ]
     },
     "metadata": {},
     "output_type": "display_data"
    },
    {
     "data": {
      "application/vnd.jupyter.widget-view+json": {
       "model_id": "306cc746e043403b87376a5124bc9c5d",
       "version_major": 2,
       "version_minor": 0
      },
      "text/plain": [
       "Map:   0%|          | 0/5 [00:00<?, ? examples/s]"
      ]
     },
     "metadata": {},
     "output_type": "display_data"
    },
    {
     "data": {
      "text/plain": [
       "Dataset({\n",
       "    features: ['question', 'choices', 'answer'],\n",
       "    num_rows: 5\n",
       "})"
      ]
     },
     "metadata": {},
     "output_type": "display_data"
    },
    {
     "data": {
      "application/vnd.jupyter.widget-view+json": {
       "model_id": "382bdb3453d54f5eb23d17c93b51641a",
       "version_major": 2,
       "version_minor": 0
      },
      "text/plain": [
       "Map:   0%|          | 0/5 [00:00<?, ? examples/s]"
      ]
     },
     "metadata": {},
     "output_type": "display_data"
    },
    {
     "data": {
      "text/plain": [
       "Dataset({\n",
       "    features: ['question', 'choices', 'answer'],\n",
       "    num_rows: 5\n",
       "})"
      ]
     },
     "metadata": {},
     "output_type": "display_data"
    },
    {
     "data": {
      "application/vnd.jupyter.widget-view+json": {
       "model_id": "fb854b7f8317483eadced18f44b83bfd",
       "version_major": 2,
       "version_minor": 0
      },
      "text/plain": [
       "Map:   0%|          | 0/5 [00:00<?, ? examples/s]"
      ]
     },
     "metadata": {},
     "output_type": "display_data"
    },
    {
     "data": {
      "text/plain": [
       "Dataset({\n",
       "    features: ['question', 'choices', 'answer'],\n",
       "    num_rows: 5\n",
       "})"
      ]
     },
     "metadata": {},
     "output_type": "display_data"
    },
    {
     "data": {
      "application/vnd.jupyter.widget-view+json": {
       "model_id": "c09a654dd5ba4f24b1a937327acc06b7",
       "version_major": 2,
       "version_minor": 0
      },
      "text/plain": [
       "Map:   0%|          | 0/5 [00:00<?, ? examples/s]"
      ]
     },
     "metadata": {},
     "output_type": "display_data"
    },
    {
     "data": {
      "text/plain": [
       "Dataset({\n",
       "    features: ['question', 'choices', 'answer'],\n",
       "    num_rows: 5\n",
       "})"
      ]
     },
     "metadata": {},
     "output_type": "display_data"
    },
    {
     "data": {
      "application/vnd.jupyter.widget-view+json": {
       "model_id": "9dba0430a2254538afcd51747614eac0",
       "version_major": 2,
       "version_minor": 0
      },
      "text/plain": [
       "Map:   0%|          | 0/5 [00:00<?, ? examples/s]"
      ]
     },
     "metadata": {},
     "output_type": "display_data"
    },
    {
     "data": {
      "text/plain": [
       "Dataset({\n",
       "    features: ['question', 'choices', 'answer'],\n",
       "    num_rows: 5\n",
       "})"
      ]
     },
     "metadata": {},
     "output_type": "display_data"
    },
    {
     "data": {
      "application/vnd.jupyter.widget-view+json": {
       "model_id": "8a07318b3dae4e5fb029a9f709fadd94",
       "version_major": 2,
       "version_minor": 0
      },
      "text/plain": [
       "Map:   0%|          | 0/5 [00:00<?, ? examples/s]"
      ]
     },
     "metadata": {},
     "output_type": "display_data"
    },
    {
     "data": {
      "text/plain": [
       "Dataset({\n",
       "    features: ['question', 'choices', 'answer'],\n",
       "    num_rows: 5\n",
       "})"
      ]
     },
     "metadata": {},
     "output_type": "display_data"
    },
    {
     "data": {
      "application/vnd.jupyter.widget-view+json": {
       "model_id": "9b58d41cc36c4d579e1baf100858927e",
       "version_major": 2,
       "version_minor": 0
      },
      "text/plain": [
       "Map:   0%|          | 0/5 [00:00<?, ? examples/s]"
      ]
     },
     "metadata": {},
     "output_type": "display_data"
    },
    {
     "data": {
      "text/plain": [
       "Dataset({\n",
       "    features: ['question', 'choices', 'answer'],\n",
       "    num_rows: 5\n",
       "})"
      ]
     },
     "metadata": {},
     "output_type": "display_data"
    },
    {
     "data": {
      "application/vnd.jupyter.widget-view+json": {
       "model_id": "749a954405ae430590a3ce1981d5d077",
       "version_major": 2,
       "version_minor": 0
      },
      "text/plain": [
       "Map:   0%|          | 0/5 [00:00<?, ? examples/s]"
      ]
     },
     "metadata": {},
     "output_type": "display_data"
    },
    {
     "data": {
      "text/plain": [
       "Dataset({\n",
       "    features: ['question', 'choices', 'answer'],\n",
       "    num_rows: 5\n",
       "})"
      ]
     },
     "metadata": {},
     "output_type": "display_data"
    },
    {
     "data": {
      "application/vnd.jupyter.widget-view+json": {
       "model_id": "09922f72190f432d820a5daf68069ba8",
       "version_major": 2,
       "version_minor": 0
      },
      "text/plain": [
       "Map:   0%|          | 0/5 [00:00<?, ? examples/s]"
      ]
     },
     "metadata": {},
     "output_type": "display_data"
    },
    {
     "data": {
      "text/plain": [
       "Dataset({\n",
       "    features: ['question', 'choices', 'answer'],\n",
       "    num_rows: 5\n",
       "})"
      ]
     },
     "metadata": {},
     "output_type": "display_data"
    },
    {
     "data": {
      "application/vnd.jupyter.widget-view+json": {
       "model_id": "9937fff3a1374c5da15730e92deb0043",
       "version_major": 2,
       "version_minor": 0
      },
      "text/plain": [
       "Map:   0%|          | 0/5 [00:00<?, ? examples/s]"
      ]
     },
     "metadata": {},
     "output_type": "display_data"
    },
    {
     "data": {
      "text/plain": [
       "Dataset({\n",
       "    features: ['question', 'choices', 'answer'],\n",
       "    num_rows: 5\n",
       "})"
      ]
     },
     "metadata": {},
     "output_type": "display_data"
    },
    {
     "data": {
      "application/vnd.jupyter.widget-view+json": {
       "model_id": "3a211b1ccd434e4b9d27977552fa9cd2",
       "version_major": 2,
       "version_minor": 0
      },
      "text/plain": [
       "Map:   0%|          | 0/5 [00:00<?, ? examples/s]"
      ]
     },
     "metadata": {},
     "output_type": "display_data"
    },
    {
     "data": {
      "text/plain": [
       "Dataset({\n",
       "    features: ['question', 'choices', 'answer'],\n",
       "    num_rows: 5\n",
       "})"
      ]
     },
     "metadata": {},
     "output_type": "display_data"
    },
    {
     "data": {
      "application/vnd.jupyter.widget-view+json": {
       "model_id": "3a33e894f59f4de3b2e1b3a5a171b55e",
       "version_major": 2,
       "version_minor": 0
      },
      "text/plain": [
       "Map:   0%|          | 0/5 [00:00<?, ? examples/s]"
      ]
     },
     "metadata": {},
     "output_type": "display_data"
    },
    {
     "data": {
      "text/plain": [
       "Dataset({\n",
       "    features: ['question', 'choices', 'answer'],\n",
       "    num_rows: 5\n",
       "})"
      ]
     },
     "metadata": {},
     "output_type": "display_data"
    },
    {
     "data": {
      "application/vnd.jupyter.widget-view+json": {
       "model_id": "ca92986435ff4b9dbba3700a5483305e",
       "version_major": 2,
       "version_minor": 0
      },
      "text/plain": [
       "Map:   0%|          | 0/5 [00:00<?, ? examples/s]"
      ]
     },
     "metadata": {},
     "output_type": "display_data"
    },
    {
     "data": {
      "text/plain": [
       "Dataset({\n",
       "    features: ['question', 'choices', 'answer'],\n",
       "    num_rows: 5\n",
       "})"
      ]
     },
     "metadata": {},
     "output_type": "display_data"
    },
    {
     "data": {
      "application/vnd.jupyter.widget-view+json": {
       "model_id": "70a036eda3d44a4baa9f938ae51b139d",
       "version_major": 2,
       "version_minor": 0
      },
      "text/plain": [
       "Map:   0%|          | 0/5 [00:00<?, ? examples/s]"
      ]
     },
     "metadata": {},
     "output_type": "display_data"
    },
    {
     "data": {
      "text/plain": [
       "Dataset({\n",
       "    features: ['question', 'choices', 'answer'],\n",
       "    num_rows: 5\n",
       "})"
      ]
     },
     "metadata": {},
     "output_type": "display_data"
    },
    {
     "data": {
      "application/vnd.jupyter.widget-view+json": {
       "model_id": "b43946afd3ad405eb59e3d4270579764",
       "version_major": 2,
       "version_minor": 0
      },
      "text/plain": [
       "Map:   0%|          | 0/5 [00:00<?, ? examples/s]"
      ]
     },
     "metadata": {},
     "output_type": "display_data"
    },
    {
     "data": {
      "text/plain": [
       "Dataset({\n",
       "    features: ['question', 'choices', 'answer'],\n",
       "    num_rows: 5\n",
       "})"
      ]
     },
     "metadata": {},
     "output_type": "display_data"
    },
    {
     "data": {
      "application/vnd.jupyter.widget-view+json": {
       "model_id": "9d20f54dba684497ad47d6f216100aeb",
       "version_major": 2,
       "version_minor": 0
      },
      "text/plain": [
       "Map:   0%|          | 0/5 [00:00<?, ? examples/s]"
      ]
     },
     "metadata": {},
     "output_type": "display_data"
    },
    {
     "data": {
      "text/plain": [
       "Dataset({\n",
       "    features: ['question', 'choices', 'answer'],\n",
       "    num_rows: 5\n",
       "})"
      ]
     },
     "metadata": {},
     "output_type": "display_data"
    },
    {
     "data": {
      "application/vnd.jupyter.widget-view+json": {
       "model_id": "7dd92e8f0ece4b8a914aea44ce7d1b09",
       "version_major": 2,
       "version_minor": 0
      },
      "text/plain": [
       "Map:   0%|          | 0/5 [00:00<?, ? examples/s]"
      ]
     },
     "metadata": {},
     "output_type": "display_data"
    },
    {
     "data": {
      "text/plain": [
       "Dataset({\n",
       "    features: ['question', 'choices', 'answer'],\n",
       "    num_rows: 5\n",
       "})"
      ]
     },
     "metadata": {},
     "output_type": "display_data"
    },
    {
     "data": {
      "application/vnd.jupyter.widget-view+json": {
       "model_id": "0c19bfd2ddcf4c00b5ce8e4dd2876ac3",
       "version_major": 2,
       "version_minor": 0
      },
      "text/plain": [
       "Map:   0%|          | 0/5 [00:00<?, ? examples/s]"
      ]
     },
     "metadata": {},
     "output_type": "display_data"
    },
    {
     "data": {
      "text/plain": [
       "Dataset({\n",
       "    features: ['question', 'choices', 'answer'],\n",
       "    num_rows: 5\n",
       "})"
      ]
     },
     "metadata": {},
     "output_type": "display_data"
    },
    {
     "data": {
      "application/vnd.jupyter.widget-view+json": {
       "model_id": "777b31ddf2794f9796b296eb6737c47c",
       "version_major": 2,
       "version_minor": 0
      },
      "text/plain": [
       "Map:   0%|          | 0/5 [00:00<?, ? examples/s]"
      ]
     },
     "metadata": {},
     "output_type": "display_data"
    },
    {
     "data": {
      "text/plain": [
       "Dataset({\n",
       "    features: ['question', 'choices', 'answer'],\n",
       "    num_rows: 5\n",
       "})"
      ]
     },
     "metadata": {},
     "output_type": "display_data"
    },
    {
     "data": {
      "application/vnd.jupyter.widget-view+json": {
       "model_id": "b68d4d2ad0934e4ea1bef6f8fdd9bf53",
       "version_major": 2,
       "version_minor": 0
      },
      "text/plain": [
       "Map:   0%|          | 0/5 [00:00<?, ? examples/s]"
      ]
     },
     "metadata": {},
     "output_type": "display_data"
    },
    {
     "data": {
      "text/plain": [
       "Dataset({\n",
       "    features: ['question', 'choices', 'answer'],\n",
       "    num_rows: 5\n",
       "})"
      ]
     },
     "metadata": {},
     "output_type": "display_data"
    },
    {
     "data": {
      "application/vnd.jupyter.widget-view+json": {
       "model_id": "c22645a22dc845538a915a9cdd3452bc",
       "version_major": 2,
       "version_minor": 0
      },
      "text/plain": [
       "Map:   0%|          | 0/5 [00:00<?, ? examples/s]"
      ]
     },
     "metadata": {},
     "output_type": "display_data"
    },
    {
     "data": {
      "text/plain": [
       "Dataset({\n",
       "    features: ['question', 'choices', 'answer'],\n",
       "    num_rows: 5\n",
       "})"
      ]
     },
     "metadata": {},
     "output_type": "display_data"
    },
    {
     "data": {
      "application/vnd.jupyter.widget-view+json": {
       "model_id": "76c0d8976f4d4ec2901c95bce2e3b606",
       "version_major": 2,
       "version_minor": 0
      },
      "text/plain": [
       "Map:   0%|          | 0/5 [00:00<?, ? examples/s]"
      ]
     },
     "metadata": {},
     "output_type": "display_data"
    },
    {
     "data": {
      "text/plain": [
       "Dataset({\n",
       "    features: ['question', 'choices', 'answer'],\n",
       "    num_rows: 5\n",
       "})"
      ]
     },
     "metadata": {},
     "output_type": "display_data"
    },
    {
     "data": {
      "application/vnd.jupyter.widget-view+json": {
       "model_id": "5e2bef085d3944ac8b5f57975271cd4e",
       "version_major": 2,
       "version_minor": 0
      },
      "text/plain": [
       "Map:   0%|          | 0/5 [00:00<?, ? examples/s]"
      ]
     },
     "metadata": {},
     "output_type": "display_data"
    },
    {
     "data": {
      "text/plain": [
       "Dataset({\n",
       "    features: ['question', 'choices', 'answer'],\n",
       "    num_rows: 5\n",
       "})"
      ]
     },
     "metadata": {},
     "output_type": "display_data"
    },
    {
     "data": {
      "application/vnd.jupyter.widget-view+json": {
       "model_id": "0baa301e36bf4cc8b6f8d5b95b463e00",
       "version_major": 2,
       "version_minor": 0
      },
      "text/plain": [
       "Map:   0%|          | 0/5 [00:00<?, ? examples/s]"
      ]
     },
     "metadata": {},
     "output_type": "display_data"
    },
    {
     "data": {
      "text/plain": [
       "Dataset({\n",
       "    features: ['question', 'choices', 'answer'],\n",
       "    num_rows: 5\n",
       "})"
      ]
     },
     "metadata": {},
     "output_type": "display_data"
    },
    {
     "data": {
      "application/vnd.jupyter.widget-view+json": {
       "model_id": "97f69850129d43e795f52766ca873bf2",
       "version_major": 2,
       "version_minor": 0
      },
      "text/plain": [
       "Map:   0%|          | 0/5 [00:00<?, ? examples/s]"
      ]
     },
     "metadata": {},
     "output_type": "display_data"
    },
    {
     "data": {
      "text/plain": [
       "Dataset({\n",
       "    features: ['question', 'choices', 'answer'],\n",
       "    num_rows: 5\n",
       "})"
      ]
     },
     "metadata": {},
     "output_type": "display_data"
    },
    {
     "data": {
      "application/vnd.jupyter.widget-view+json": {
       "model_id": "551ab95512334a0083b67b9827065ba9",
       "version_major": 2,
       "version_minor": 0
      },
      "text/plain": [
       "Map:   0%|          | 0/5 [00:00<?, ? examples/s]"
      ]
     },
     "metadata": {},
     "output_type": "display_data"
    },
    {
     "data": {
      "text/plain": [
       "Dataset({\n",
       "    features: ['question', 'choices', 'answer'],\n",
       "    num_rows: 5\n",
       "})"
      ]
     },
     "metadata": {},
     "output_type": "display_data"
    },
    {
     "data": {
      "application/vnd.jupyter.widget-view+json": {
       "model_id": "eefdbb9bbff74bd59e83e1d496f78d43",
       "version_major": 2,
       "version_minor": 0
      },
      "text/plain": [
       "Map:   0%|          | 0/5 [00:00<?, ? examples/s]"
      ]
     },
     "metadata": {},
     "output_type": "display_data"
    },
    {
     "data": {
      "text/plain": [
       "Dataset({\n",
       "    features: ['question', 'choices', 'answer'],\n",
       "    num_rows: 5\n",
       "})"
      ]
     },
     "metadata": {},
     "output_type": "display_data"
    },
    {
     "data": {
      "application/vnd.jupyter.widget-view+json": {
       "model_id": "6830df32167c4d18afd9aa3867e5dc13",
       "version_major": 2,
       "version_minor": 0
      },
      "text/plain": [
       "Map:   0%|          | 0/5 [00:00<?, ? examples/s]"
      ]
     },
     "metadata": {},
     "output_type": "display_data"
    },
    {
     "data": {
      "text/plain": [
       "Dataset({\n",
       "    features: ['question', 'choices', 'answer'],\n",
       "    num_rows: 5\n",
       "})"
      ]
     },
     "metadata": {},
     "output_type": "display_data"
    },
    {
     "data": {
      "application/vnd.jupyter.widget-view+json": {
       "model_id": "0dbe3c16eaa944f997ade64161a9af41",
       "version_major": 2,
       "version_minor": 0
      },
      "text/plain": [
       "Map:   0%|          | 0/5 [00:00<?, ? examples/s]"
      ]
     },
     "metadata": {},
     "output_type": "display_data"
    },
    {
     "data": {
      "text/plain": [
       "Dataset({\n",
       "    features: ['question', 'choices', 'answer'],\n",
       "    num_rows: 5\n",
       "})"
      ]
     },
     "metadata": {},
     "output_type": "display_data"
    },
    {
     "data": {
      "application/vnd.jupyter.widget-view+json": {
       "model_id": "95b0c1be0b2344bd9c1a20f9b506ead7",
       "version_major": 2,
       "version_minor": 0
      },
      "text/plain": [
       "Map:   0%|          | 0/5 [00:00<?, ? examples/s]"
      ]
     },
     "metadata": {},
     "output_type": "display_data"
    },
    {
     "data": {
      "text/plain": [
       "Dataset({\n",
       "    features: ['question', 'choices', 'answer'],\n",
       "    num_rows: 5\n",
       "})"
      ]
     },
     "metadata": {},
     "output_type": "display_data"
    },
    {
     "data": {
      "application/vnd.jupyter.widget-view+json": {
       "model_id": "c289a39fd6c044a6bc2403c79d2c2781",
       "version_major": 2,
       "version_minor": 0
      },
      "text/plain": [
       "Map:   0%|          | 0/5 [00:00<?, ? examples/s]"
      ]
     },
     "metadata": {},
     "output_type": "display_data"
    },
    {
     "data": {
      "text/plain": [
       "Dataset({\n",
       "    features: ['question', 'choices', 'answer'],\n",
       "    num_rows: 5\n",
       "})"
      ]
     },
     "metadata": {},
     "output_type": "display_data"
    },
    {
     "data": {
      "application/vnd.jupyter.widget-view+json": {
       "model_id": "6c71a0bcbe7b4901aa5c40e66661f508",
       "version_major": 2,
       "version_minor": 0
      },
      "text/plain": [
       "Map:   0%|          | 0/5 [00:00<?, ? examples/s]"
      ]
     },
     "metadata": {},
     "output_type": "display_data"
    },
    {
     "data": {
      "text/plain": [
       "Dataset({\n",
       "    features: ['question', 'choices', 'answer'],\n",
       "    num_rows: 5\n",
       "})"
      ]
     },
     "metadata": {},
     "output_type": "display_data"
    },
    {
     "data": {
      "application/vnd.jupyter.widget-view+json": {
       "model_id": "ac906fa754ff46f09bd09a2bcac19f6a",
       "version_major": 2,
       "version_minor": 0
      },
      "text/plain": [
       "Map:   0%|          | 0/5 [00:00<?, ? examples/s]"
      ]
     },
     "metadata": {},
     "output_type": "display_data"
    },
    {
     "data": {
      "text/plain": [
       "Dataset({\n",
       "    features: ['question', 'choices', 'answer'],\n",
       "    num_rows: 5\n",
       "})"
      ]
     },
     "metadata": {},
     "output_type": "display_data"
    },
    {
     "data": {
      "application/vnd.jupyter.widget-view+json": {
       "model_id": "8b5bfcf8f7754c3aba080d3b4d5269db",
       "version_major": 2,
       "version_minor": 0
      },
      "text/plain": [
       "Map:   0%|          | 0/5 [00:00<?, ? examples/s]"
      ]
     },
     "metadata": {},
     "output_type": "display_data"
    },
    {
     "data": {
      "text/plain": [
       "Dataset({\n",
       "    features: ['question', 'choices', 'answer'],\n",
       "    num_rows: 5\n",
       "})"
      ]
     },
     "metadata": {},
     "output_type": "display_data"
    },
    {
     "data": {
      "application/vnd.jupyter.widget-view+json": {
       "model_id": "e58ebe0f0ebe4a67937b67ff88e38697",
       "version_major": 2,
       "version_minor": 0
      },
      "text/plain": [
       "Map:   0%|          | 0/5 [00:00<?, ? examples/s]"
      ]
     },
     "metadata": {},
     "output_type": "display_data"
    },
    {
     "data": {
      "text/plain": [
       "Dataset({\n",
       "    features: ['question', 'choices', 'answer'],\n",
       "    num_rows: 5\n",
       "})"
      ]
     },
     "metadata": {},
     "output_type": "display_data"
    },
    {
     "data": {
      "application/vnd.jupyter.widget-view+json": {
       "model_id": "cd927140c3184146ada9e04a2412b2ff",
       "version_major": 2,
       "version_minor": 0
      },
      "text/plain": [
       "Map:   0%|          | 0/5 [00:00<?, ? examples/s]"
      ]
     },
     "metadata": {},
     "output_type": "display_data"
    },
    {
     "data": {
      "text/plain": [
       "Dataset({\n",
       "    features: ['question', 'choices', 'answer'],\n",
       "    num_rows: 5\n",
       "})"
      ]
     },
     "metadata": {},
     "output_type": "display_data"
    },
    {
     "data": {
      "application/vnd.jupyter.widget-view+json": {
       "model_id": "3724ceef5e34419a95e10d71ed34f4ff",
       "version_major": 2,
       "version_minor": 0
      },
      "text/plain": [
       "Map:   0%|          | 0/5 [00:00<?, ? examples/s]"
      ]
     },
     "metadata": {},
     "output_type": "display_data"
    },
    {
     "data": {
      "text/plain": [
       "Dataset({\n",
       "    features: ['question', 'choices', 'answer'],\n",
       "    num_rows: 5\n",
       "})"
      ]
     },
     "metadata": {},
     "output_type": "display_data"
    },
    {
     "data": {
      "application/vnd.jupyter.widget-view+json": {
       "model_id": "ff64f5096da049deb834131c1e6b8ebe",
       "version_major": 2,
       "version_minor": 0
      },
      "text/plain": [
       "Map:   0%|          | 0/5 [00:00<?, ? examples/s]"
      ]
     },
     "metadata": {},
     "output_type": "display_data"
    },
    {
     "data": {
      "text/plain": [
       "Dataset({\n",
       "    features: ['question', 'choices', 'answer'],\n",
       "    num_rows: 5\n",
       "})"
      ]
     },
     "metadata": {},
     "output_type": "display_data"
    },
    {
     "data": {
      "application/vnd.jupyter.widget-view+json": {
       "model_id": "5a857335435c44fb93468df63ed4d04d",
       "version_major": 2,
       "version_minor": 0
      },
      "text/plain": [
       "Map:   0%|          | 0/5 [00:00<?, ? examples/s]"
      ]
     },
     "metadata": {},
     "output_type": "display_data"
    },
    {
     "data": {
      "text/plain": [
       "Dataset({\n",
       "    features: ['question', 'choices', 'answer'],\n",
       "    num_rows: 5\n",
       "})"
      ]
     },
     "metadata": {},
     "output_type": "display_data"
    },
    {
     "data": {
      "application/vnd.jupyter.widget-view+json": {
       "model_id": "78776c422ab44e8e9ae7f48b1d4c0dfc",
       "version_major": 2,
       "version_minor": 0
      },
      "text/plain": [
       "Map:   0%|          | 0/5 [00:00<?, ? examples/s]"
      ]
     },
     "metadata": {},
     "output_type": "display_data"
    },
    {
     "data": {
      "text/plain": [
       "Dataset({\n",
       "    features: ['question', 'choices', 'answer'],\n",
       "    num_rows: 5\n",
       "})"
      ]
     },
     "metadata": {},
     "output_type": "display_data"
    },
    {
     "data": {
      "application/vnd.jupyter.widget-view+json": {
       "model_id": "eb13dc3275c14133a01b73fa4ae5761c",
       "version_major": 2,
       "version_minor": 0
      },
      "text/plain": [
       "Map:   0%|          | 0/5 [00:00<?, ? examples/s]"
      ]
     },
     "metadata": {},
     "output_type": "display_data"
    },
    {
     "data": {
      "text/plain": [
       "Dataset({\n",
       "    features: ['question', 'choices', 'answer'],\n",
       "    num_rows: 5\n",
       "})"
      ]
     },
     "metadata": {},
     "output_type": "display_data"
    },
    {
     "data": {
      "application/vnd.jupyter.widget-view+json": {
       "model_id": "c4d019f7d0bb46049d7d228694917ef5",
       "version_major": 2,
       "version_minor": 0
      },
      "text/plain": [
       "Map:   0%|          | 0/5 [00:00<?, ? examples/s]"
      ]
     },
     "metadata": {},
     "output_type": "display_data"
    },
    {
     "data": {
      "text/plain": [
       "Dataset({\n",
       "    features: ['question', 'choices', 'answer'],\n",
       "    num_rows: 5\n",
       "})"
      ]
     },
     "metadata": {},
     "output_type": "display_data"
    },
    {
     "data": {
      "application/vnd.jupyter.widget-view+json": {
       "model_id": "ab6bbde467a345b49a848ebc7a9c02f4",
       "version_major": 2,
       "version_minor": 0
      },
      "text/plain": [
       "Map:   0%|          | 0/5 [00:00<?, ? examples/s]"
      ]
     },
     "metadata": {},
     "output_type": "display_data"
    },
    {
     "data": {
      "text/plain": [
       "Dataset({\n",
       "    features: ['question', 'choices', 'answer'],\n",
       "    num_rows: 5\n",
       "})"
      ]
     },
     "metadata": {},
     "output_type": "display_data"
    },
    {
     "data": {
      "application/vnd.jupyter.widget-view+json": {
       "model_id": "167cd36a816f4c0eb41922a2a8ac2034",
       "version_major": 2,
       "version_minor": 0
      },
      "text/plain": [
       "Map:   0%|          | 0/5 [00:00<?, ? examples/s]"
      ]
     },
     "metadata": {},
     "output_type": "display_data"
    },
    {
     "data": {
      "text/plain": [
       "Dataset({\n",
       "    features: ['question', 'choices', 'answer'],\n",
       "    num_rows: 5\n",
       "})"
      ]
     },
     "metadata": {},
     "output_type": "display_data"
    },
    {
     "data": {
      "application/vnd.jupyter.widget-view+json": {
       "model_id": "ede09a1fec4e49a78a07c87a4664b707",
       "version_major": 2,
       "version_minor": 0
      },
      "text/plain": [
       "Map:   0%|          | 0/5 [00:00<?, ? examples/s]"
      ]
     },
     "metadata": {},
     "output_type": "display_data"
    },
    {
     "data": {
      "text/plain": [
       "Dataset({\n",
       "    features: ['question', 'choices', 'answer'],\n",
       "    num_rows: 5\n",
       "})"
      ]
     },
     "metadata": {},
     "output_type": "display_data"
    },
    {
     "data": {
      "application/vnd.jupyter.widget-view+json": {
       "model_id": "64b6b3f071e546669b50b0edd4f5d1e5",
       "version_major": 2,
       "version_minor": 0
      },
      "text/plain": [
       "Map:   0%|          | 0/5 [00:00<?, ? examples/s]"
      ]
     },
     "metadata": {},
     "output_type": "display_data"
    },
    {
     "data": {
      "text/plain": [
       "Dataset({\n",
       "    features: ['question', 'choices', 'answer'],\n",
       "    num_rows: 5\n",
       "})"
      ]
     },
     "metadata": {},
     "output_type": "display_data"
    },
    {
     "data": {
      "application/vnd.jupyter.widget-view+json": {
       "model_id": "58aa677bed3a40f7907faeb915847d69",
       "version_major": 2,
       "version_minor": 0
      },
      "text/plain": [
       "Map:   0%|          | 0/5 [00:00<?, ? examples/s]"
      ]
     },
     "metadata": {},
     "output_type": "display_data"
    },
    {
     "data": {
      "application/vnd.jupyter.widget-view+json": {
       "model_id": "02d1266596064a92afd4d8fe53a3e61a",
       "version_major": 2,
       "version_minor": 0
      },
      "text/plain": [
       "converting categories:   0%|          | 0/57 [00:00<?, ?it/s]"
      ]
     },
     "metadata": {},
     "output_type": "display_data"
    }
   ],
   "source": [
    "shuffle_and_save_dataset_list(dev_dataset_list, 'dev')"
   ]
  },
  {
   "cell_type": "markdown",
   "id": "582b862f-a626-4305-91dc-03cc98a7b69e",
   "metadata": {},
   "source": [
    "## Check dataset"
   ]
  },
  {
   "cell_type": "code",
   "execution_count": 9,
   "id": "29ffc156-bb77-4d1c-a8d7-040570ed57e9",
   "metadata": {},
   "outputs": [],
   "source": [
    "complete_shuffled_dataset = pd.read_parquet('shuffled_mmlu/shuffled_mmlu_test.parquet')"
   ]
  },
  {
   "cell_type": "markdown",
   "id": "cf4959ad-1779-4857-b9eb-b68d8c659845",
   "metadata": {},
   "source": [
    "### Check uniqueness of question_id"
   ]
  },
  {
   "cell_type": "markdown",
   "id": "bcdd2b05-5511-4d09-a3ac-b8b530e7dbf5",
   "metadata": {},
   "source": [
    "This expression is true if the question_id is indeed unique"
   ]
  },
  {
   "cell_type": "code",
   "execution_count": 17,
   "id": "fb302a9f-3f03-45ae-a26b-c4c001328f05",
   "metadata": {},
   "outputs": [
    {
     "data": {
      "text/plain": [
       "True"
      ]
     },
     "execution_count": 17,
     "metadata": {},
     "output_type": "execute_result"
    }
   ],
   "source": [
    "len(complete_shuffled_dataset)/24 == len(complete_shuffled_dataset.question_id.unique())"
   ]
  },
  {
   "cell_type": "code",
   "execution_count": 11,
   "id": "7895939b-f7ca-428a-9d1c-6f01bb90c67b",
   "metadata": {},
   "outputs": [
    {
     "data": {
      "text/plain": [
       "question_id\n",
       "bc3778ec85a3abdf375449e14780a1318d32e859c2a2c16ca422eaf4349ae6bc    24\n",
       "e1b9ce3aa1729e38a0ad50d9d61066187eadddb9ff7967cc0c94b97643201334    24\n",
       "a7dd0fadbe7889b8a339a0a7221ec94ce15476eef1292d263ee6593940a93f16    24\n",
       "59f25f85093da913ec051c4a9b57552da83bcd9afb01ddf225ed1def13c08cbd    24\n",
       "7f2a08c5d15370f23d535cf6e02c6801f23a6404447c3cdc227bd74aa44e48b1    24\n",
       "                                                                    ..\n",
       "ce44c809afcb08fdd18d87c4067dbfbeb3edf5e20dac5a113a2837d5eaacd01c    24\n",
       "7102862c0f284391e57e622ac4ca2273e58f7de296d0964cf0c6c86eeee53b17    24\n",
       "db9c1a12cdbeae4ce5711642afeb045d94d46dff0bdd6177bcb9a0e17b37ce99    24\n",
       "2fbe12e9363217e0c5350a4b69a531563d740b12d83e0ef3983e9c3aa334b17b    24\n",
       "bd9f02cc864917b5a2b6ecad1f149247a362bd459eb62967febe1c9e5d3b19a1    24\n",
       "Name: count, Length: 14042, dtype: int64"
      ]
     },
     "execution_count": 11,
     "metadata": {},
     "output_type": "execute_result"
    }
   ],
   "source": [
    "complete_shuffled_dataset.question_id.value_counts()"
   ]
  },
  {
   "cell_type": "markdown",
   "id": "5e580f41-0013-459f-bd0e-ea8b04c6fbbf",
   "metadata": {},
   "source": [
    "### Check translation  \n",
    "Check that the translated answer gives the index of original question back after running translation again.  \n",
    "`translated_answer` should always have the same value as sample from row 'ABCD'.  "
   ]
  },
  {
   "cell_type": "code",
   "execution_count": 12,
   "id": "007c1e63-a5d1-42a4-b584-09f574db4c9d",
   "metadata": {},
   "outputs": [
    {
     "data": {
      "text/html": [
       "<div>\n",
       "<style scoped>\n",
       "    .dataframe tbody tr th:only-of-type {\n",
       "        vertical-align: middle;\n",
       "    }\n",
       "\n",
       "    .dataframe tbody tr th {\n",
       "        vertical-align: top;\n",
       "    }\n",
       "\n",
       "    .dataframe thead th {\n",
       "        text-align: right;\n",
       "    }\n",
       "</style>\n",
       "<table border=\"1\" class=\"dataframe\">\n",
       "  <thead>\n",
       "    <tr style=\"text-align: right;\">\n",
       "      <th></th>\n",
       "      <th>question</th>\n",
       "      <th>choices</th>\n",
       "      <th>answer</th>\n",
       "      <th>question_id</th>\n",
       "      <th>category</th>\n",
       "      <th>letter_order</th>\n",
       "    </tr>\n",
       "  </thead>\n",
       "  <tbody>\n",
       "    <tr>\n",
       "      <th>0</th>\n",
       "      <td>Find the degree for the given field extension ...</td>\n",
       "      <td>[0, 4, 2, 6]</td>\n",
       "      <td>1</td>\n",
       "      <td>bc3778ec85a3abdf375449e14780a1318d32e859c2a2c1...</td>\n",
       "      <td>abstract_algebra</td>\n",
       "      <td>ABCD</td>\n",
       "    </tr>\n",
       "    <tr>\n",
       "      <th>1</th>\n",
       "      <td>Let p = (1, 2, 5, 4)(2, 3) in S_5 . Find the i...</td>\n",
       "      <td>[8, 2, 24, 120]</td>\n",
       "      <td>2</td>\n",
       "      <td>9dbee06135bb2cd4f1d6fc47c5b9698485a7758ce3ee76...</td>\n",
       "      <td>abstract_algebra</td>\n",
       "      <td>ABCD</td>\n",
       "    </tr>\n",
       "    <tr>\n",
       "      <th>2</th>\n",
       "      <td>Find all zeros in the indicated finite field o...</td>\n",
       "      <td>[0, 1, 0,1, 0,4]</td>\n",
       "      <td>3</td>\n",
       "      <td>4cfb894cedaec3e7dee2ba71a6a781fbf1d0ded44bac22...</td>\n",
       "      <td>abstract_algebra</td>\n",
       "      <td>ABCD</td>\n",
       "    </tr>\n",
       "    <tr>\n",
       "      <th>3</th>\n",
       "      <td>Statement 1 | A factor group of a non-Abelian ...</td>\n",
       "      <td>[True, True, False, False, True, False, False,...</td>\n",
       "      <td>1</td>\n",
       "      <td>7bdc038b56be4a1a507b6d156e061fc66c43098d756822...</td>\n",
       "      <td>abstract_algebra</td>\n",
       "      <td>ABCD</td>\n",
       "    </tr>\n",
       "    <tr>\n",
       "      <th>4</th>\n",
       "      <td>Find the product of the given polynomials in t...</td>\n",
       "      <td>[2x^2 + 5, 6x^2 + 4x + 6, 0, x^2 + 1]</td>\n",
       "      <td>1</td>\n",
       "      <td>ff99adc312cd773b4959d6f9398f00342297a0d0379c65...</td>\n",
       "      <td>abstract_algebra</td>\n",
       "      <td>ABCD</td>\n",
       "    </tr>\n",
       "  </tbody>\n",
       "</table>\n",
       "</div>"
      ],
      "text/plain": [
       "                                            question  \\\n",
       "0  Find the degree for the given field extension ...   \n",
       "1  Let p = (1, 2, 5, 4)(2, 3) in S_5 . Find the i...   \n",
       "2  Find all zeros in the indicated finite field o...   \n",
       "3  Statement 1 | A factor group of a non-Abelian ...   \n",
       "4  Find the product of the given polynomials in t...   \n",
       "\n",
       "                                             choices  answer  \\\n",
       "0                                       [0, 4, 2, 6]       1   \n",
       "1                                    [8, 2, 24, 120]       2   \n",
       "2                                   [0, 1, 0,1, 0,4]       3   \n",
       "3  [True, True, False, False, True, False, False,...       1   \n",
       "4              [2x^2 + 5, 6x^2 + 4x + 6, 0, x^2 + 1]       1   \n",
       "\n",
       "                                         question_id          category  \\\n",
       "0  bc3778ec85a3abdf375449e14780a1318d32e859c2a2c1...  abstract_algebra   \n",
       "1  9dbee06135bb2cd4f1d6fc47c5b9698485a7758ce3ee76...  abstract_algebra   \n",
       "2  4cfb894cedaec3e7dee2ba71a6a781fbf1d0ded44bac22...  abstract_algebra   \n",
       "3  7bdc038b56be4a1a507b6d156e061fc66c43098d756822...  abstract_algebra   \n",
       "4  ff99adc312cd773b4959d6f9398f00342297a0d0379c65...  abstract_algebra   \n",
       "\n",
       "  letter_order  \n",
       "0         ABCD  \n",
       "1         ABCD  \n",
       "2         ABCD  \n",
       "3         ABCD  \n",
       "4         ABCD  "
      ]
     },
     "execution_count": 12,
     "metadata": {},
     "output_type": "execute_result"
    }
   ],
   "source": [
    "complete_shuffled_dataset.head()"
   ]
  },
  {
   "cell_type": "code",
   "execution_count": 13,
   "id": "653e8068-efb0-4318-b8de-925fbf7cb73b",
   "metadata": {},
   "outputs": [],
   "source": [
    "def apply_result(row):\n",
    "    return row['choices'][row['answer']]"
   ]
  },
  {
   "cell_type": "code",
   "execution_count": 14,
   "id": "b2b502c7-15ca-4268-9bf1-679e2c0f79f6",
   "metadata": {},
   "outputs": [
    {
     "data": {
      "text/html": [
       "<div>\n",
       "<style scoped>\n",
       "    .dataframe tbody tr th:only-of-type {\n",
       "        vertical-align: middle;\n",
       "    }\n",
       "\n",
       "    .dataframe tbody tr th {\n",
       "        vertical-align: top;\n",
       "    }\n",
       "\n",
       "    .dataframe thead th {\n",
       "        text-align: right;\n",
       "    }\n",
       "</style>\n",
       "<table border=\"1\" class=\"dataframe\">\n",
       "  <thead>\n",
       "    <tr style=\"text-align: right;\">\n",
       "      <th></th>\n",
       "      <th>question</th>\n",
       "      <th>choices</th>\n",
       "      <th>answer</th>\n",
       "      <th>question_id</th>\n",
       "      <th>category</th>\n",
       "      <th>letter_order</th>\n",
       "      <th>translated_answer</th>\n",
       "    </tr>\n",
       "  </thead>\n",
       "  <tbody>\n",
       "    <tr>\n",
       "      <th>0</th>\n",
       "      <td>Find the degree for the given field extension ...</td>\n",
       "      <td>[0, 4, 2, 6]</td>\n",
       "      <td>1</td>\n",
       "      <td>bc3778ec85a3abdf375449e14780a1318d32e859c2a2c1...</td>\n",
       "      <td>abstract_algebra</td>\n",
       "      <td>ABCD</td>\n",
       "      <td>4</td>\n",
       "    </tr>\n",
       "    <tr>\n",
       "      <th>0</th>\n",
       "      <td>Find the degree for the given field extension ...</td>\n",
       "      <td>[0, 4, 6, 2]</td>\n",
       "      <td>1</td>\n",
       "      <td>bc3778ec85a3abdf375449e14780a1318d32e859c2a2c1...</td>\n",
       "      <td>abstract_algebra</td>\n",
       "      <td>ABDC</td>\n",
       "      <td>4</td>\n",
       "    </tr>\n",
       "    <tr>\n",
       "      <th>0</th>\n",
       "      <td>Find the degree for the given field extension ...</td>\n",
       "      <td>[0, 2, 4, 6]</td>\n",
       "      <td>2</td>\n",
       "      <td>bc3778ec85a3abdf375449e14780a1318d32e859c2a2c1...</td>\n",
       "      <td>abstract_algebra</td>\n",
       "      <td>ACBD</td>\n",
       "      <td>4</td>\n",
       "    </tr>\n",
       "    <tr>\n",
       "      <th>0</th>\n",
       "      <td>Find the degree for the given field extension ...</td>\n",
       "      <td>[0, 2, 6, 4]</td>\n",
       "      <td>3</td>\n",
       "      <td>bc3778ec85a3abdf375449e14780a1318d32e859c2a2c1...</td>\n",
       "      <td>abstract_algebra</td>\n",
       "      <td>ACDB</td>\n",
       "      <td>4</td>\n",
       "    </tr>\n",
       "    <tr>\n",
       "      <th>0</th>\n",
       "      <td>Find the degree for the given field extension ...</td>\n",
       "      <td>[0, 6, 4, 2]</td>\n",
       "      <td>2</td>\n",
       "      <td>bc3778ec85a3abdf375449e14780a1318d32e859c2a2c1...</td>\n",
       "      <td>abstract_algebra</td>\n",
       "      <td>ADBC</td>\n",
       "      <td>4</td>\n",
       "    </tr>\n",
       "    <tr>\n",
       "      <th>0</th>\n",
       "      <td>Find the degree for the given field extension ...</td>\n",
       "      <td>[0, 6, 2, 4]</td>\n",
       "      <td>3</td>\n",
       "      <td>bc3778ec85a3abdf375449e14780a1318d32e859c2a2c1...</td>\n",
       "      <td>abstract_algebra</td>\n",
       "      <td>ADCB</td>\n",
       "      <td>4</td>\n",
       "    </tr>\n",
       "    <tr>\n",
       "      <th>0</th>\n",
       "      <td>Find the degree for the given field extension ...</td>\n",
       "      <td>[4, 0, 2, 6]</td>\n",
       "      <td>0</td>\n",
       "      <td>bc3778ec85a3abdf375449e14780a1318d32e859c2a2c1...</td>\n",
       "      <td>abstract_algebra</td>\n",
       "      <td>BACD</td>\n",
       "      <td>4</td>\n",
       "    </tr>\n",
       "    <tr>\n",
       "      <th>0</th>\n",
       "      <td>Find the degree for the given field extension ...</td>\n",
       "      <td>[4, 0, 6, 2]</td>\n",
       "      <td>0</td>\n",
       "      <td>bc3778ec85a3abdf375449e14780a1318d32e859c2a2c1...</td>\n",
       "      <td>abstract_algebra</td>\n",
       "      <td>BADC</td>\n",
       "      <td>4</td>\n",
       "    </tr>\n",
       "    <tr>\n",
       "      <th>0</th>\n",
       "      <td>Find the degree for the given field extension ...</td>\n",
       "      <td>[4, 2, 0, 6]</td>\n",
       "      <td>0</td>\n",
       "      <td>bc3778ec85a3abdf375449e14780a1318d32e859c2a2c1...</td>\n",
       "      <td>abstract_algebra</td>\n",
       "      <td>BCAD</td>\n",
       "      <td>4</td>\n",
       "    </tr>\n",
       "    <tr>\n",
       "      <th>0</th>\n",
       "      <td>Find the degree for the given field extension ...</td>\n",
       "      <td>[4, 2, 6, 0]</td>\n",
       "      <td>0</td>\n",
       "      <td>bc3778ec85a3abdf375449e14780a1318d32e859c2a2c1...</td>\n",
       "      <td>abstract_algebra</td>\n",
       "      <td>BCDA</td>\n",
       "      <td>4</td>\n",
       "    </tr>\n",
       "    <tr>\n",
       "      <th>0</th>\n",
       "      <td>Find the degree for the given field extension ...</td>\n",
       "      <td>[4, 6, 0, 2]</td>\n",
       "      <td>0</td>\n",
       "      <td>bc3778ec85a3abdf375449e14780a1318d32e859c2a2c1...</td>\n",
       "      <td>abstract_algebra</td>\n",
       "      <td>BDAC</td>\n",
       "      <td>4</td>\n",
       "    </tr>\n",
       "    <tr>\n",
       "      <th>0</th>\n",
       "      <td>Find the degree for the given field extension ...</td>\n",
       "      <td>[4, 6, 2, 0]</td>\n",
       "      <td>0</td>\n",
       "      <td>bc3778ec85a3abdf375449e14780a1318d32e859c2a2c1...</td>\n",
       "      <td>abstract_algebra</td>\n",
       "      <td>BDCA</td>\n",
       "      <td>4</td>\n",
       "    </tr>\n",
       "    <tr>\n",
       "      <th>0</th>\n",
       "      <td>Find the degree for the given field extension ...</td>\n",
       "      <td>[2, 0, 4, 6]</td>\n",
       "      <td>2</td>\n",
       "      <td>bc3778ec85a3abdf375449e14780a1318d32e859c2a2c1...</td>\n",
       "      <td>abstract_algebra</td>\n",
       "      <td>CABD</td>\n",
       "      <td>4</td>\n",
       "    </tr>\n",
       "    <tr>\n",
       "      <th>0</th>\n",
       "      <td>Find the degree for the given field extension ...</td>\n",
       "      <td>[2, 0, 6, 4]</td>\n",
       "      <td>3</td>\n",
       "      <td>bc3778ec85a3abdf375449e14780a1318d32e859c2a2c1...</td>\n",
       "      <td>abstract_algebra</td>\n",
       "      <td>CADB</td>\n",
       "      <td>4</td>\n",
       "    </tr>\n",
       "    <tr>\n",
       "      <th>0</th>\n",
       "      <td>Find the degree for the given field extension ...</td>\n",
       "      <td>[2, 4, 0, 6]</td>\n",
       "      <td>1</td>\n",
       "      <td>bc3778ec85a3abdf375449e14780a1318d32e859c2a2c1...</td>\n",
       "      <td>abstract_algebra</td>\n",
       "      <td>CBAD</td>\n",
       "      <td>4</td>\n",
       "    </tr>\n",
       "    <tr>\n",
       "      <th>0</th>\n",
       "      <td>Find the degree for the given field extension ...</td>\n",
       "      <td>[2, 4, 6, 0]</td>\n",
       "      <td>1</td>\n",
       "      <td>bc3778ec85a3abdf375449e14780a1318d32e859c2a2c1...</td>\n",
       "      <td>abstract_algebra</td>\n",
       "      <td>CBDA</td>\n",
       "      <td>4</td>\n",
       "    </tr>\n",
       "    <tr>\n",
       "      <th>0</th>\n",
       "      <td>Find the degree for the given field extension ...</td>\n",
       "      <td>[2, 6, 0, 4]</td>\n",
       "      <td>3</td>\n",
       "      <td>bc3778ec85a3abdf375449e14780a1318d32e859c2a2c1...</td>\n",
       "      <td>abstract_algebra</td>\n",
       "      <td>CDAB</td>\n",
       "      <td>4</td>\n",
       "    </tr>\n",
       "    <tr>\n",
       "      <th>0</th>\n",
       "      <td>Find the degree for the given field extension ...</td>\n",
       "      <td>[2, 6, 4, 0]</td>\n",
       "      <td>2</td>\n",
       "      <td>bc3778ec85a3abdf375449e14780a1318d32e859c2a2c1...</td>\n",
       "      <td>abstract_algebra</td>\n",
       "      <td>CDBA</td>\n",
       "      <td>4</td>\n",
       "    </tr>\n",
       "    <tr>\n",
       "      <th>0</th>\n",
       "      <td>Find the degree for the given field extension ...</td>\n",
       "      <td>[6, 0, 4, 2]</td>\n",
       "      <td>2</td>\n",
       "      <td>bc3778ec85a3abdf375449e14780a1318d32e859c2a2c1...</td>\n",
       "      <td>abstract_algebra</td>\n",
       "      <td>DABC</td>\n",
       "      <td>4</td>\n",
       "    </tr>\n",
       "    <tr>\n",
       "      <th>0</th>\n",
       "      <td>Find the degree for the given field extension ...</td>\n",
       "      <td>[6, 0, 2, 4]</td>\n",
       "      <td>3</td>\n",
       "      <td>bc3778ec85a3abdf375449e14780a1318d32e859c2a2c1...</td>\n",
       "      <td>abstract_algebra</td>\n",
       "      <td>DACB</td>\n",
       "      <td>4</td>\n",
       "    </tr>\n",
       "    <tr>\n",
       "      <th>0</th>\n",
       "      <td>Find the degree for the given field extension ...</td>\n",
       "      <td>[6, 4, 0, 2]</td>\n",
       "      <td>1</td>\n",
       "      <td>bc3778ec85a3abdf375449e14780a1318d32e859c2a2c1...</td>\n",
       "      <td>abstract_algebra</td>\n",
       "      <td>DBAC</td>\n",
       "      <td>4</td>\n",
       "    </tr>\n",
       "    <tr>\n",
       "      <th>0</th>\n",
       "      <td>Find the degree for the given field extension ...</td>\n",
       "      <td>[6, 4, 2, 0]</td>\n",
       "      <td>1</td>\n",
       "      <td>bc3778ec85a3abdf375449e14780a1318d32e859c2a2c1...</td>\n",
       "      <td>abstract_algebra</td>\n",
       "      <td>DBCA</td>\n",
       "      <td>4</td>\n",
       "    </tr>\n",
       "    <tr>\n",
       "      <th>0</th>\n",
       "      <td>Find the degree for the given field extension ...</td>\n",
       "      <td>[6, 2, 0, 4]</td>\n",
       "      <td>3</td>\n",
       "      <td>bc3778ec85a3abdf375449e14780a1318d32e859c2a2c1...</td>\n",
       "      <td>abstract_algebra</td>\n",
       "      <td>DCAB</td>\n",
       "      <td>4</td>\n",
       "    </tr>\n",
       "    <tr>\n",
       "      <th>0</th>\n",
       "      <td>Find the degree for the given field extension ...</td>\n",
       "      <td>[6, 2, 4, 0]</td>\n",
       "      <td>2</td>\n",
       "      <td>bc3778ec85a3abdf375449e14780a1318d32e859c2a2c1...</td>\n",
       "      <td>abstract_algebra</td>\n",
       "      <td>DCBA</td>\n",
       "      <td>4</td>\n",
       "    </tr>\n",
       "  </tbody>\n",
       "</table>\n",
       "</div>"
      ],
      "text/plain": [
       "                                            question       choices  answer  \\\n",
       "0  Find the degree for the given field extension ...  [0, 4, 2, 6]       1   \n",
       "0  Find the degree for the given field extension ...  [0, 4, 6, 2]       1   \n",
       "0  Find the degree for the given field extension ...  [0, 2, 4, 6]       2   \n",
       "0  Find the degree for the given field extension ...  [0, 2, 6, 4]       3   \n",
       "0  Find the degree for the given field extension ...  [0, 6, 4, 2]       2   \n",
       "0  Find the degree for the given field extension ...  [0, 6, 2, 4]       3   \n",
       "0  Find the degree for the given field extension ...  [4, 0, 2, 6]       0   \n",
       "0  Find the degree for the given field extension ...  [4, 0, 6, 2]       0   \n",
       "0  Find the degree for the given field extension ...  [4, 2, 0, 6]       0   \n",
       "0  Find the degree for the given field extension ...  [4, 2, 6, 0]       0   \n",
       "0  Find the degree for the given field extension ...  [4, 6, 0, 2]       0   \n",
       "0  Find the degree for the given field extension ...  [4, 6, 2, 0]       0   \n",
       "0  Find the degree for the given field extension ...  [2, 0, 4, 6]       2   \n",
       "0  Find the degree for the given field extension ...  [2, 0, 6, 4]       3   \n",
       "0  Find the degree for the given field extension ...  [2, 4, 0, 6]       1   \n",
       "0  Find the degree for the given field extension ...  [2, 4, 6, 0]       1   \n",
       "0  Find the degree for the given field extension ...  [2, 6, 0, 4]       3   \n",
       "0  Find the degree for the given field extension ...  [2, 6, 4, 0]       2   \n",
       "0  Find the degree for the given field extension ...  [6, 0, 4, 2]       2   \n",
       "0  Find the degree for the given field extension ...  [6, 0, 2, 4]       3   \n",
       "0  Find the degree for the given field extension ...  [6, 4, 0, 2]       1   \n",
       "0  Find the degree for the given field extension ...  [6, 4, 2, 0]       1   \n",
       "0  Find the degree for the given field extension ...  [6, 2, 0, 4]       3   \n",
       "0  Find the degree for the given field extension ...  [6, 2, 4, 0]       2   \n",
       "\n",
       "                                         question_id          category  \\\n",
       "0  bc3778ec85a3abdf375449e14780a1318d32e859c2a2c1...  abstract_algebra   \n",
       "0  bc3778ec85a3abdf375449e14780a1318d32e859c2a2c1...  abstract_algebra   \n",
       "0  bc3778ec85a3abdf375449e14780a1318d32e859c2a2c1...  abstract_algebra   \n",
       "0  bc3778ec85a3abdf375449e14780a1318d32e859c2a2c1...  abstract_algebra   \n",
       "0  bc3778ec85a3abdf375449e14780a1318d32e859c2a2c1...  abstract_algebra   \n",
       "0  bc3778ec85a3abdf375449e14780a1318d32e859c2a2c1...  abstract_algebra   \n",
       "0  bc3778ec85a3abdf375449e14780a1318d32e859c2a2c1...  abstract_algebra   \n",
       "0  bc3778ec85a3abdf375449e14780a1318d32e859c2a2c1...  abstract_algebra   \n",
       "0  bc3778ec85a3abdf375449e14780a1318d32e859c2a2c1...  abstract_algebra   \n",
       "0  bc3778ec85a3abdf375449e14780a1318d32e859c2a2c1...  abstract_algebra   \n",
       "0  bc3778ec85a3abdf375449e14780a1318d32e859c2a2c1...  abstract_algebra   \n",
       "0  bc3778ec85a3abdf375449e14780a1318d32e859c2a2c1...  abstract_algebra   \n",
       "0  bc3778ec85a3abdf375449e14780a1318d32e859c2a2c1...  abstract_algebra   \n",
       "0  bc3778ec85a3abdf375449e14780a1318d32e859c2a2c1...  abstract_algebra   \n",
       "0  bc3778ec85a3abdf375449e14780a1318d32e859c2a2c1...  abstract_algebra   \n",
       "0  bc3778ec85a3abdf375449e14780a1318d32e859c2a2c1...  abstract_algebra   \n",
       "0  bc3778ec85a3abdf375449e14780a1318d32e859c2a2c1...  abstract_algebra   \n",
       "0  bc3778ec85a3abdf375449e14780a1318d32e859c2a2c1...  abstract_algebra   \n",
       "0  bc3778ec85a3abdf375449e14780a1318d32e859c2a2c1...  abstract_algebra   \n",
       "0  bc3778ec85a3abdf375449e14780a1318d32e859c2a2c1...  abstract_algebra   \n",
       "0  bc3778ec85a3abdf375449e14780a1318d32e859c2a2c1...  abstract_algebra   \n",
       "0  bc3778ec85a3abdf375449e14780a1318d32e859c2a2c1...  abstract_algebra   \n",
       "0  bc3778ec85a3abdf375449e14780a1318d32e859c2a2c1...  abstract_algebra   \n",
       "0  bc3778ec85a3abdf375449e14780a1318d32e859c2a2c1...  abstract_algebra   \n",
       "\n",
       "  letter_order translated_answer  \n",
       "0         ABCD                 4  \n",
       "0         ABDC                 4  \n",
       "0         ACBD                 4  \n",
       "0         ACDB                 4  \n",
       "0         ADBC                 4  \n",
       "0         ADCB                 4  \n",
       "0         BACD                 4  \n",
       "0         BADC                 4  \n",
       "0         BCAD                 4  \n",
       "0         BCDA                 4  \n",
       "0         BDAC                 4  \n",
       "0         BDCA                 4  \n",
       "0         CABD                 4  \n",
       "0         CADB                 4  \n",
       "0         CBAD                 4  \n",
       "0         CBDA                 4  \n",
       "0         CDAB                 4  \n",
       "0         CDBA                 4  \n",
       "0         DABC                 4  \n",
       "0         DACB                 4  \n",
       "0         DBAC                 4  \n",
       "0         DBCA                 4  \n",
       "0         DCAB                 4  \n",
       "0         DCBA                 4  "
      ]
     },
     "execution_count": 14,
     "metadata": {},
     "output_type": "execute_result"
    }
   ],
   "source": [
    "small_sample = complete_shuffled_dataset[complete_shuffled_dataset.question==complete_shuffled_dataset.question.to_list()[0]]\n",
    "small_sample = small_sample.copy(deep=True)\n",
    "small_sample['translated_answer'] = small_sample.apply(apply_result, axis=1)\n",
    "small_sample"
   ]
  },
  {
   "cell_type": "markdown",
   "id": "2072ec8d-7416-4b30-8269-b1e3ce1f5726",
   "metadata": {},
   "source": [
    "## Make HF HUB config"
   ]
  },
  {
   "cell_type": "code",
   "execution_count": 15,
   "id": "1ce01ba4-c4ef-4df0-9db7-d812a77040ea",
   "metadata": {},
   "outputs": [
    {
     "name": "stdout",
     "output_type": "stream",
     "text": [
      "configs:\n",
      "- config_name: default\n",
      "  data_files:\n",
      "  - path: shuffled_mmlu_test.parquet\n",
      "    split: test\n",
      "  - path: shuffled_mmlu_validation.parquet\n",
      "    split: validation\n",
      "  - path: shuffled_mmlu_dev.parquet\n",
      "    split: dev\n",
      "\n"
     ]
    }
   ],
   "source": [
    "import yaml\n",
    "yaml.Dumper.ignore_aliases = lambda *args : True #use this to prevent pointer from being included in the YAML file\n",
    "\n",
    "complete_config = {\n",
    "    'configs':[{\n",
    "        'config_name':'default',\n",
    "        'data_files':\n",
    "        [\n",
    "            {\n",
    "                'split' : 'test',\n",
    "                'path': 'shuffled_mmlu_test.parquet'\n",
    "            },\n",
    "            {\n",
    "                'split' : 'validation',\n",
    "                'path': 'shuffled_mmlu_validation.parquet'\n",
    "            },\n",
    "            {\n",
    "                'split' : 'dev',\n",
    "                'path': 'shuffled_mmlu_dev.parquet'\n",
    "            },\n",
    "        ]\n",
    "    }]\n",
    "}\n",
    "\n",
    "print(yaml.dump(complete_config, default_flow_style=False))"
   ]
  },
  {
   "cell_type": "code",
   "execution_count": null,
   "id": "3c124b49-df9f-4674-89ee-9d72a40e41ba",
   "metadata": {},
   "outputs": [],
   "source": []
  }
 ],
 "metadata": {
  "kernelspec": {
   "display_name": "Python 3 (ipykernel)",
   "language": "python",
   "name": "python3"
  },
  "language_info": {
   "codemirror_mode": {
    "name": "ipython",
    "version": 3
   },
   "file_extension": ".py",
   "mimetype": "text/x-python",
   "name": "python",
   "nbconvert_exporter": "python",
   "pygments_lexer": "ipython3",
   "version": "3.10.14"
  }
 },
 "nbformat": 4,
 "nbformat_minor": 5
}
