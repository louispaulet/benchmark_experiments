{
 "cells": [
  {
   "cell_type": "markdown",
   "metadata": {
    "id": "9tbU72h-9okl"
   },
   "source": [
    "# MMLU - RAG inference on long form answers\n",
    "\n",
    "We ask the LLM to perform long form inference to open ended answers from MMLU dataset.  \n",
    "When then perform RAG: get the choice answer that is closest to LLM answer.  "
   ]
  },
  {
   "cell_type": "markdown",
   "metadata": {
    "id": "WgTHLJw89oiA"
   },
   "source": [
    "## install libs"
   ]
  },
  {
   "cell_type": "code",
   "execution_count": 1,
   "metadata": {
    "id": "-38AOVAu9czg"
   },
   "outputs": [],
   "source": [
    "%%capture\n",
    "!pip install transformers datasets\n",
    "!pip install \"unsloth[colab-new] @ git+https://github.com/unslothai/unsloth.git\"\n",
    "!pip install --no-deps xformers trl peft accelerate bitsandbytes\n",
    "!pip install -U sentence-transformers"
   ]
  },
  {
   "cell_type": "markdown",
   "metadata": {
    "id": "enPHWDil93NQ"
   },
   "source": [
    "## load MMLU dataset\n",
    "\n",
    "We load a custom MMLU dataset that contains all categories and all shuffle permutations of all 4 choices.  "
   ]
  },
  {
   "cell_type": "code",
   "execution_count": 2,
   "metadata": {
    "colab": {
     "base_uri": "https://localhost:8080/"
    },
    "id": "bb7iYa9G93Ez",
    "outputId": "d59e97de-3122-4a15-8512-20b63ca3740b"
   },
   "outputs": [
    {
     "data": {
      "text/plain": [
       "Dataset({\n",
       "    features: ['question', 'choices', 'answer', 'question_id', 'category', 'letter_order', '__index_level_0__'],\n",
       "    num_rows: 337008\n",
       "})"
      ]
     },
     "execution_count": 2,
     "metadata": {},
     "output_type": "execute_result"
    }
   ],
   "source": [
    "from datasets import load_dataset, get_dataset_config_names\n",
    "from tqdm.auto import tqdm\n",
    "\n",
    "dataset_ds = load_dataset(\"the-french-artist/shuffled_mmlu\", split='test')\n",
    "dataset_ds"
   ]
  },
  {
   "cell_type": "markdown",
   "metadata": {
    "id": "S6Yk7Od-B2Eo"
   },
   "source": [
    "## Load embedding model"
   ]
  },
  {
   "cell_type": "code",
   "execution_count": 3,
   "metadata": {
    "colab": {
     "base_uri": "https://localhost:8080/"
    },
    "id": "mwNzaE1YB3k_",
    "outputId": "3ac0dfc7-1b73-4f73-92de-eecf8e9c4da1"
   },
   "outputs": [
    {
     "name": "stderr",
     "output_type": "stream",
     "text": [
      "/opt/conda/lib/python3.10/site-packages/huggingface_hub/file_download.py:1132: FutureWarning: `resume_download` is deprecated and will be removed in version 1.0.0. Downloads always resume when possible. If you want to force a new download, use `force_download=True`.\n",
      "  warnings.warn(\n"
     ]
    },
    {
     "name": "stdout",
     "output_type": "stream",
     "text": [
      "(2, 384)\n"
     ]
    }
   ],
   "source": [
    "from sentence_transformers import SentenceTransformer\n",
    "sentences = [\"This is an example sentence\", \"Each sentence is converted\"]\n",
    "\n",
    "embedding_model = SentenceTransformer('sentence-transformers/all-MiniLM-L6-v2')\n",
    "embeddings = embedding_model.encode(sentences)\n",
    "print(embeddings.shape)"
   ]
  },
  {
   "cell_type": "markdown",
   "metadata": {
    "id": "agDYejWB-PyX"
   },
   "source": [
    "## Define inference function"
   ]
  },
  {
   "cell_type": "markdown",
   "metadata": {
    "id": "mEBU6fjX-ZT-"
   },
   "source": [
    "### Load the model"
   ]
  },
  {
   "cell_type": "code",
   "execution_count": 4,
   "metadata": {
    "colab": {
     "base_uri": "https://localhost:8080/"
    },
    "id": "GU2viXLP-Uu7",
    "outputId": "f4837f4d-7c92-4271-f759-a8f9c7f26d4f"
   },
   "outputs": [
    {
     "name": "stdout",
     "output_type": "stream",
     "text": [
      "🦥 Unsloth: Will patch your computer to enable 2x faster free finetuning.\n",
      "==((====))==  Unsloth: Fast Llama patching release 2024.5\n",
      "   \\\\   /|    GPU: NVIDIA GeForce RTX 3090. Max memory: 23.999 GB. Platform = Linux.\n",
      "O^O/ \\_/ \\    Pytorch: 2.2.2. CUDA = 8.6. CUDA Toolkit = 12.1.\n",
      "\\        /    Bfloat16 = TRUE. Xformers = 0.0.25.post1. FA = False.\n",
      " \"-____-\"     Free Apache license: http://github.com/unslothai/unsloth\n"
     ]
    },
    {
     "name": "stderr",
     "output_type": "stream",
     "text": [
      "Special tokens have been added in the vocabulary, make sure the associated word embeddings are fine-tuned or trained.\n"
     ]
    }
   ],
   "source": [
    "from unsloth import FastLanguageModel\n",
    "import torch\n",
    "max_seq_length = 2048 # Choose any! We auto support RoPE Scaling internally!\n",
    "dtype = None # None for auto detection. Float16 for Tesla T4, V100, Bfloat16 for Ampere+\n",
    "load_in_4bit = True # Use 4bit quantization to reduce memory usage. Can be False.\n",
    "\n",
    "model, tokenizer = FastLanguageModel.from_pretrained(\n",
    "    model_name = \"unsloth/llama-3-8b-bnb-4bit\",\n",
    "    max_seq_length = max_seq_length,\n",
    "    dtype = dtype,\n",
    "    load_in_4bit = load_in_4bit,\n",
    "    # token = \"hf_...\", # use one if using gated models like meta-llama/Llama-2-7b-hf\n",
    ")\n",
    "model.generation_config.pad_token_id = tokenizer.pad_token_id\n",
    "\n",
    "# set up temperature\n",
    "model.generation_config.temperature = 0.001\n",
    "\n",
    "FastLanguageModel.for_inference(model)"
   ]
  },
  {
   "cell_type": "markdown",
   "metadata": {
    "id": "pmN_uzTy-dOq"
   },
   "source": [
    "### Define long form prompt"
   ]
  },
  {
   "cell_type": "code",
   "execution_count": 5,
   "metadata": {
    "id": "fw8zV3Pm-dxx"
   },
   "outputs": [],
   "source": [
    "alpaca_prompt = \"\"\"Below is an instruction that describes a task, paired with an input that provides further context. Write a response that appropriately completes the request.\n",
    "\n",
    "### Instruction:\n",
    "{}\n",
    "\n",
    "### Input:\n",
    "{}\n",
    "\n",
    "### Response:\n",
    "{}\"\"\"\n",
    "\n",
    "mmlu_prompt = \"\"\"\n",
    "Below is a question, paried with possible answer choices. Write a response that appropriately completes the question.\n",
    "\n",
    "### Question:\n",
    "{}\n",
    "\n",
    "### Choices:\n",
    "{}\n",
    "\n",
    "### Anwser:\n",
    "Given the choices A B C D , the answer is : {}\"\"\""
   ]
  },
  {
   "cell_type": "code",
   "execution_count": 6,
   "metadata": {
    "colab": {
     "base_uri": "https://localhost:8080/"
    },
    "id": "1-l_2BGTBE_H",
    "outputId": "34e31c64-6fbb-4396-8b05-f2694bc5b882"
   },
   "outputs": [
    {
     "name": "stdout",
     "output_type": "stream",
     "text": [
      "  A. 55  \n",
      "  B. 19  \n",
      "  C. 2  \n",
      "  D. 3  \n",
      "\n"
     ]
    }
   ],
   "source": [
    "# format choices to have a list of A to D answers\n",
    "def format_choice(choices):\n",
    "\n",
    "  letters = [\"A\", \"B\", \"C\", \"D\"]\n",
    "\n",
    "  lines = []\n",
    "  for letter, choice in zip(letters, choices):\n",
    "    lines.append(f\"  {letter}. {choice}  \")\n",
    "\n",
    "  return \"\\n\".join(lines) + '\\n'\n",
    "\n",
    "example_choices = [55, 19, 2, 3]\n",
    "print(format_choice(example_choices))"
   ]
  },
  {
   "cell_type": "markdown",
   "metadata": {
    "id": "lJw-3LOv-l04"
   },
   "source": [
    "### Define inference function"
   ]
  },
  {
   "cell_type": "code",
   "execution_count": 7,
   "metadata": {
    "colab": {
     "base_uri": "https://localhost:8080/"
    },
    "id": "Wl-1p3Bq-ln8",
    "outputId": "6a9ca469-7ad1-4847-b7b0-176c1f0cdad3"
   },
   "outputs": [
    {
     "name": "stdout",
     "output_type": "stream",
     "text": [
      "B. Paris\n"
     ]
    }
   ],
   "source": [
    "def get_open_ended_answer_to_question(question, choices):\n",
    "\n",
    "  prompt = mmlu_prompt.format(\n",
    "          question, # instruction\n",
    "          format_choice(choices), # input\n",
    "          \"\", # output - leave this blank for generation!\n",
    "      )\n",
    "\n",
    "  inputs = tokenizer([prompt], return_tensors = \"pt\").to(\"cuda\")\n",
    "\n",
    "  outputs = model.generate(**inputs, max_new_tokens = 64, use_cache = True)\n",
    "  return (tokenizer.batch_decode(outputs, skip_special_tokens=True)[0][len(prompt):].strip())\n",
    "\n",
    "question = 'What is the capital city of France?'\n",
    "choices = [\"London\", \"Paris\", \"Berlin\", \"Rome\"]\n",
    "response = get_open_ended_answer_to_question(question, choices)\n",
    "print(response)"
   ]
  },
  {
   "cell_type": "markdown",
   "metadata": {
    "id": "jUvxG0E4-Daq"
   },
   "source": [
    "## Perform LLM inference on a small category  \n",
    "\n",
    "We choose `abstract_algebra` for a start, as we know the LLM has a poor performance on this one.  "
   ]
  },
  {
   "cell_type": "markdown",
   "metadata": {
    "id": "b3u1U_aE-1ot"
   },
   "source": [
    "### create a subset of the dataset  \n",
    "\n",
    "We select `abstract_algebra`, on a `ABCD` shuffle for now.  "
   ]
  },
  {
   "cell_type": "code",
   "execution_count": 8,
   "metadata": {
    "id": "r-JP6ptf93CQ"
   },
   "outputs": [],
   "source": [
    "dataset_df = dataset_ds.to_pandas()"
   ]
  },
  {
   "cell_type": "code",
   "execution_count": 9,
   "metadata": {
    "colab": {
     "base_uri": "https://localhost:8080/",
     "height": 206
    },
    "id": "4ZtzWkdl-6zQ",
    "outputId": "c4174bea-ae9e-400a-98a0-9681bb4cf191"
   },
   "outputs": [
    {
     "data": {
      "text/html": [
       "<div>\n",
       "<style scoped>\n",
       "    .dataframe tbody tr th:only-of-type {\n",
       "        vertical-align: middle;\n",
       "    }\n",
       "\n",
       "    .dataframe tbody tr th {\n",
       "        vertical-align: top;\n",
       "    }\n",
       "\n",
       "    .dataframe thead th {\n",
       "        text-align: right;\n",
       "    }\n",
       "</style>\n",
       "<table border=\"1\" class=\"dataframe\">\n",
       "  <thead>\n",
       "    <tr style=\"text-align: right;\">\n",
       "      <th></th>\n",
       "      <th>question</th>\n",
       "      <th>choices</th>\n",
       "      <th>answer</th>\n",
       "      <th>question_id</th>\n",
       "      <th>category</th>\n",
       "      <th>letter_order</th>\n",
       "      <th>__index_level_0__</th>\n",
       "    </tr>\n",
       "  </thead>\n",
       "  <tbody>\n",
       "    <tr>\n",
       "      <th>0</th>\n",
       "      <td>Find the degree for the given field extension ...</td>\n",
       "      <td>[0, 4, 2, 6]</td>\n",
       "      <td>1</td>\n",
       "      <td>bc3778ec85a3abdf375449e14780a1318d32e859c2a2c1...</td>\n",
       "      <td>abstract_algebra</td>\n",
       "      <td>ABCD</td>\n",
       "      <td>0</td>\n",
       "    </tr>\n",
       "    <tr>\n",
       "      <th>1</th>\n",
       "      <td>Let p = (1, 2, 5, 4)(2, 3) in S_5 . Find the i...</td>\n",
       "      <td>[8, 2, 24, 120]</td>\n",
       "      <td>2</td>\n",
       "      <td>9dbee06135bb2cd4f1d6fc47c5b9698485a7758ce3ee76...</td>\n",
       "      <td>abstract_algebra</td>\n",
       "      <td>ABCD</td>\n",
       "      <td>1</td>\n",
       "    </tr>\n",
       "    <tr>\n",
       "      <th>2</th>\n",
       "      <td>Find all zeros in the indicated finite field o...</td>\n",
       "      <td>[0, 1, 0,1, 0,4]</td>\n",
       "      <td>3</td>\n",
       "      <td>4cfb894cedaec3e7dee2ba71a6a781fbf1d0ded44bac22...</td>\n",
       "      <td>abstract_algebra</td>\n",
       "      <td>ABCD</td>\n",
       "      <td>2</td>\n",
       "    </tr>\n",
       "    <tr>\n",
       "      <th>3</th>\n",
       "      <td>Statement 1 | A factor group of a non-Abelian ...</td>\n",
       "      <td>[True, True, False, False, True, False, False,...</td>\n",
       "      <td>1</td>\n",
       "      <td>7bdc038b56be4a1a507b6d156e061fc66c43098d756822...</td>\n",
       "      <td>abstract_algebra</td>\n",
       "      <td>ABCD</td>\n",
       "      <td>3</td>\n",
       "    </tr>\n",
       "    <tr>\n",
       "      <th>4</th>\n",
       "      <td>Find the product of the given polynomials in t...</td>\n",
       "      <td>[2x^2 + 5, 6x^2 + 4x + 6, 0, x^2 + 1]</td>\n",
       "      <td>1</td>\n",
       "      <td>ff99adc312cd773b4959d6f9398f00342297a0d0379c65...</td>\n",
       "      <td>abstract_algebra</td>\n",
       "      <td>ABCD</td>\n",
       "      <td>4</td>\n",
       "    </tr>\n",
       "  </tbody>\n",
       "</table>\n",
       "</div>"
      ],
      "text/plain": [
       "                                            question  \\\n",
       "0  Find the degree for the given field extension ...   \n",
       "1  Let p = (1, 2, 5, 4)(2, 3) in S_5 . Find the i...   \n",
       "2  Find all zeros in the indicated finite field o...   \n",
       "3  Statement 1 | A factor group of a non-Abelian ...   \n",
       "4  Find the product of the given polynomials in t...   \n",
       "\n",
       "                                             choices  answer  \\\n",
       "0                                       [0, 4, 2, 6]       1   \n",
       "1                                    [8, 2, 24, 120]       2   \n",
       "2                                   [0, 1, 0,1, 0,4]       3   \n",
       "3  [True, True, False, False, True, False, False,...       1   \n",
       "4              [2x^2 + 5, 6x^2 + 4x + 6, 0, x^2 + 1]       1   \n",
       "\n",
       "                                         question_id          category  \\\n",
       "0  bc3778ec85a3abdf375449e14780a1318d32e859c2a2c1...  abstract_algebra   \n",
       "1  9dbee06135bb2cd4f1d6fc47c5b9698485a7758ce3ee76...  abstract_algebra   \n",
       "2  4cfb894cedaec3e7dee2ba71a6a781fbf1d0ded44bac22...  abstract_algebra   \n",
       "3  7bdc038b56be4a1a507b6d156e061fc66c43098d756822...  abstract_algebra   \n",
       "4  ff99adc312cd773b4959d6f9398f00342297a0d0379c65...  abstract_algebra   \n",
       "\n",
       "  letter_order  __index_level_0__  \n",
       "0         ABCD                  0  \n",
       "1         ABCD                  1  \n",
       "2         ABCD                  2  \n",
       "3         ABCD                  3  \n",
       "4         ABCD                  4  "
      ]
     },
     "execution_count": 9,
     "metadata": {},
     "output_type": "execute_result"
    }
   ],
   "source": [
    "dataset_df.head()"
   ]
  },
  {
   "cell_type": "code",
   "execution_count": 10,
   "metadata": {
    "colab": {
     "base_uri": "https://localhost:8080/"
    },
    "id": "JFwb6f2p-7-Z",
    "outputId": "feb67904-9882-40fb-ac36-03b31f6c02e9"
   },
   "outputs": [
    {
     "data": {
      "text/plain": [
       "(337008, 100)"
      ]
     },
     "execution_count": 10,
     "metadata": {},
     "output_type": "execute_result"
    }
   ],
   "source": [
    "abstract_algebra_df = dataset_df[(dataset_df.category == 'abstract_algebra') & (dataset_df.letter_order == 'ABCD')]\n",
    "len(dataset_df), len(abstract_algebra_df)"
   ]
  },
  {
   "cell_type": "markdown",
   "metadata": {
    "id": "tNE2EgsYAqDt"
   },
   "source": [
    "We also remove 3 features that are not useful anymore:"
   ]
  },
  {
   "cell_type": "code",
   "execution_count": 11,
   "metadata": {
    "id": "2mSQTeECAgs4"
   },
   "outputs": [],
   "source": [
    "del abstract_algebra_df ['__index_level_0__']\n",
    "del abstract_algebra_df ['letter_order']\n",
    "del abstract_algebra_df ['category']"
   ]
  },
  {
   "cell_type": "code",
   "execution_count": 12,
   "metadata": {
    "colab": {
     "base_uri": "https://localhost:8080/",
     "height": 206
    },
    "id": "cgx2_twtAoAS",
    "outputId": "e415f563-b0cb-4ce9-cfda-81a3d9faf976"
   },
   "outputs": [
    {
     "data": {
      "text/html": [
       "<div>\n",
       "<style scoped>\n",
       "    .dataframe tbody tr th:only-of-type {\n",
       "        vertical-align: middle;\n",
       "    }\n",
       "\n",
       "    .dataframe tbody tr th {\n",
       "        vertical-align: top;\n",
       "    }\n",
       "\n",
       "    .dataframe thead th {\n",
       "        text-align: right;\n",
       "    }\n",
       "</style>\n",
       "<table border=\"1\" class=\"dataframe\">\n",
       "  <thead>\n",
       "    <tr style=\"text-align: right;\">\n",
       "      <th></th>\n",
       "      <th>question</th>\n",
       "      <th>choices</th>\n",
       "      <th>answer</th>\n",
       "      <th>question_id</th>\n",
       "    </tr>\n",
       "  </thead>\n",
       "  <tbody>\n",
       "    <tr>\n",
       "      <th>0</th>\n",
       "      <td>Find the degree for the given field extension ...</td>\n",
       "      <td>[0, 4, 2, 6]</td>\n",
       "      <td>1</td>\n",
       "      <td>bc3778ec85a3abdf375449e14780a1318d32e859c2a2c1...</td>\n",
       "    </tr>\n",
       "    <tr>\n",
       "      <th>1</th>\n",
       "      <td>Let p = (1, 2, 5, 4)(2, 3) in S_5 . Find the i...</td>\n",
       "      <td>[8, 2, 24, 120]</td>\n",
       "      <td>2</td>\n",
       "      <td>9dbee06135bb2cd4f1d6fc47c5b9698485a7758ce3ee76...</td>\n",
       "    </tr>\n",
       "    <tr>\n",
       "      <th>2</th>\n",
       "      <td>Find all zeros in the indicated finite field o...</td>\n",
       "      <td>[0, 1, 0,1, 0,4]</td>\n",
       "      <td>3</td>\n",
       "      <td>4cfb894cedaec3e7dee2ba71a6a781fbf1d0ded44bac22...</td>\n",
       "    </tr>\n",
       "    <tr>\n",
       "      <th>3</th>\n",
       "      <td>Statement 1 | A factor group of a non-Abelian ...</td>\n",
       "      <td>[True, True, False, False, True, False, False,...</td>\n",
       "      <td>1</td>\n",
       "      <td>7bdc038b56be4a1a507b6d156e061fc66c43098d756822...</td>\n",
       "    </tr>\n",
       "    <tr>\n",
       "      <th>4</th>\n",
       "      <td>Find the product of the given polynomials in t...</td>\n",
       "      <td>[2x^2 + 5, 6x^2 + 4x + 6, 0, x^2 + 1]</td>\n",
       "      <td>1</td>\n",
       "      <td>ff99adc312cd773b4959d6f9398f00342297a0d0379c65...</td>\n",
       "    </tr>\n",
       "  </tbody>\n",
       "</table>\n",
       "</div>"
      ],
      "text/plain": [
       "                                            question  \\\n",
       "0  Find the degree for the given field extension ...   \n",
       "1  Let p = (1, 2, 5, 4)(2, 3) in S_5 . Find the i...   \n",
       "2  Find all zeros in the indicated finite field o...   \n",
       "3  Statement 1 | A factor group of a non-Abelian ...   \n",
       "4  Find the product of the given polynomials in t...   \n",
       "\n",
       "                                             choices  answer  \\\n",
       "0                                       [0, 4, 2, 6]       1   \n",
       "1                                    [8, 2, 24, 120]       2   \n",
       "2                                   [0, 1, 0,1, 0,4]       3   \n",
       "3  [True, True, False, False, True, False, False,...       1   \n",
       "4              [2x^2 + 5, 6x^2 + 4x + 6, 0, x^2 + 1]       1   \n",
       "\n",
       "                                         question_id  \n",
       "0  bc3778ec85a3abdf375449e14780a1318d32e859c2a2c1...  \n",
       "1  9dbee06135bb2cd4f1d6fc47c5b9698485a7758ce3ee76...  \n",
       "2  4cfb894cedaec3e7dee2ba71a6a781fbf1d0ded44bac22...  \n",
       "3  7bdc038b56be4a1a507b6d156e061fc66c43098d756822...  \n",
       "4  ff99adc312cd773b4959d6f9398f00342297a0d0379c65...  "
      ]
     },
     "execution_count": 12,
     "metadata": {},
     "output_type": "execute_result"
    }
   ],
   "source": [
    "abstract_algebra_df.head()"
   ]
  },
  {
   "cell_type": "markdown",
   "metadata": {
    "id": "Ttp-YcpY_C37"
   },
   "source": [
    "### perform inference on the subset"
   ]
  },
  {
   "cell_type": "code",
   "execution_count": 13,
   "metadata": {
    "colab": {
     "base_uri": "https://localhost:8080/",
     "height": 159,
     "referenced_widgets": [
      "e6257dff561b40b0be41454b9d2e0b51",
      "59da290ffeb7404891ea4a822ee6b2da",
      "155b79e6e0d74ad4a745d4b3039d8428",
      "54eafe55d9634b4391d662aca85f66e7",
      "8ef85ae2cbe94dd7afe43bce0b346eec",
      "4a5eec90bacb4fd1ab2653d1ff8562e4",
      "f588b00848744b59af099902b02d5b27",
      "6a013c349d094aa588a858756159487c",
      "d517def31cb5442faa32385482bc0e91",
      "ba68af42ab9345219b3bfbe61288ad81",
      "bf901eacd1164b318d9743e2f8189ce7"
     ]
    },
    "id": "Maw7JdiI_DLk",
    "outputId": "d4e69fe7-ec35-406c-c015-76b05d888a38"
   },
   "outputs": [
    {
     "data": {
      "application/vnd.jupyter.widget-view+json": {
       "model_id": "708f13a6f45441e582a6e653e625405a",
       "version_major": 2,
       "version_minor": 0
      },
      "text/plain": [
       "  0%|          | 0/100 [00:00<?, ?it/s]"
      ]
     },
     "metadata": {},
     "output_type": "display_data"
    },
    {
     "name": "stderr",
     "output_type": "stream",
     "text": [
      "/tmp/ipykernel_3330/3690325875.py:4: SettingWithCopyWarning: \n",
      "A value is trying to be set on a copy of a slice from a DataFrame.\n",
      "Try using .loc[row_indexer,col_indexer] = value instead\n",
      "\n",
      "See the caveats in the documentation: https://pandas.pydata.org/pandas-docs/stable/user_guide/indexing.html#returning-a-view-versus-a-copy\n",
      "  abstract_algebra_df['inferred_answer'] = abstract_algebra_df.progress_apply(lambda x: get_open_ended_answer_to_question(x.question, x.choices), axis=1)\n"
     ]
    }
   ],
   "source": [
    "from tqdm.auto import tqdm\n",
    "tqdm.pandas()\n",
    "\n",
    "abstract_algebra_df['inferred_answer'] = abstract_algebra_df.progress_apply(lambda x: get_open_ended_answer_to_question(x.question, x.choices), axis=1)"
   ]
  },
  {
   "cell_type": "code",
   "execution_count": 14,
   "metadata": {
    "colab": {
     "base_uri": "https://localhost:8080/",
     "height": 423
    },
    "id": "mvYF0-tjCYix",
    "outputId": "3895a5d0-c176-475b-916a-c173917d572f"
   },
   "outputs": [
    {
     "data": {
      "text/html": [
       "<div>\n",
       "<style scoped>\n",
       "    .dataframe tbody tr th:only-of-type {\n",
       "        vertical-align: middle;\n",
       "    }\n",
       "\n",
       "    .dataframe tbody tr th {\n",
       "        vertical-align: top;\n",
       "    }\n",
       "\n",
       "    .dataframe thead th {\n",
       "        text-align: right;\n",
       "    }\n",
       "</style>\n",
       "<table border=\"1\" class=\"dataframe\">\n",
       "  <thead>\n",
       "    <tr style=\"text-align: right;\">\n",
       "      <th></th>\n",
       "      <th>question</th>\n",
       "      <th>answer</th>\n",
       "      <th>inferred_answer</th>\n",
       "    </tr>\n",
       "  </thead>\n",
       "  <tbody>\n",
       "    <tr>\n",
       "      <th>0</th>\n",
       "      <td>Find the degree for the given field extension ...</td>\n",
       "      <td>1</td>\n",
       "      <td></td>\n",
       "    </tr>\n",
       "    <tr>\n",
       "      <th>1</th>\n",
       "      <td>Let p = (1, 2, 5, 4)(2, 3) in S_5 . Find the i...</td>\n",
       "      <td>2</td>\n",
       "      <td>0</td>\n",
       "    </tr>\n",
       "    <tr>\n",
       "      <th>2</th>\n",
       "      <td>Find all zeros in the indicated finite field o...</td>\n",
       "      <td>3</td>\n",
       "      <td>,4\\n\\n### Explanation:\\nThe polynomial is x^5 ...</td>\n",
       "    </tr>\n",
       "    <tr>\n",
       "      <th>3</th>\n",
       "      <td>Statement 1 | A factor group of a non-Abelian ...</td>\n",
       "      <td>1</td>\n",
       "      <td>A. True, True</td>\n",
       "    </tr>\n",
       "    <tr>\n",
       "      <th>4</th>\n",
       "      <td>Find the product of the given polynomials in t...</td>\n",
       "      <td>1</td>\n",
       "      <td>x^2 + 4x + 6\\n\\n### Explanation:\\nThe product ...</td>\n",
       "    </tr>\n",
       "    <tr>\n",
       "      <th>...</th>\n",
       "      <td>...</td>\n",
       "      <td>...</td>\n",
       "      <td>...</td>\n",
       "    </tr>\n",
       "    <tr>\n",
       "      <th>95</th>\n",
       "      <td>Statement 1 | If H is a subgroup of G and a be...</td>\n",
       "      <td>2</td>\n",
       "      <td>A. True, True</td>\n",
       "    </tr>\n",
       "    <tr>\n",
       "      <th>96</th>\n",
       "      <td>Find all zeros in the indicated finite field o...</td>\n",
       "      <td>1</td>\n",
       "      <td>,1</td>\n",
       "    </tr>\n",
       "    <tr>\n",
       "      <th>97</th>\n",
       "      <td>Find the number of elements in the indicated c...</td>\n",
       "      <td>2</td>\n",
       "      <td>0</td>\n",
       "    </tr>\n",
       "    <tr>\n",
       "      <th>98</th>\n",
       "      <td>The element (4, 2) of Z_12 x Z_8 has order</td>\n",
       "      <td>2</td>\n",
       "      <td>### Explanation:\\nThe order of an element is t...</td>\n",
       "    </tr>\n",
       "    <tr>\n",
       "      <th>99</th>\n",
       "      <td>Statement 1 | Every ideal in a ring is a subri...</td>\n",
       "      <td>2</td>\n",
       "      <td>**A**. True, True.</td>\n",
       "    </tr>\n",
       "  </tbody>\n",
       "</table>\n",
       "<p>100 rows × 3 columns</p>\n",
       "</div>"
      ],
      "text/plain": [
       "                                             question  answer  \\\n",
       "0   Find the degree for the given field extension ...       1   \n",
       "1   Let p = (1, 2, 5, 4)(2, 3) in S_5 . Find the i...       2   \n",
       "2   Find all zeros in the indicated finite field o...       3   \n",
       "3   Statement 1 | A factor group of a non-Abelian ...       1   \n",
       "4   Find the product of the given polynomials in t...       1   \n",
       "..                                                ...     ...   \n",
       "95  Statement 1 | If H is a subgroup of G and a be...       2   \n",
       "96  Find all zeros in the indicated finite field o...       1   \n",
       "97  Find the number of elements in the indicated c...       2   \n",
       "98         The element (4, 2) of Z_12 x Z_8 has order       2   \n",
       "99  Statement 1 | Every ideal in a ring is a subri...       2   \n",
       "\n",
       "                                      inferred_answer  \n",
       "0                                                      \n",
       "1                                                   0  \n",
       "2   ,4\\n\\n### Explanation:\\nThe polynomial is x^5 ...  \n",
       "3                                       A. True, True  \n",
       "4   x^2 + 4x + 6\\n\\n### Explanation:\\nThe product ...  \n",
       "..                                                ...  \n",
       "95                                      A. True, True  \n",
       "96                                                 ,1  \n",
       "97                                                  0  \n",
       "98  ### Explanation:\\nThe order of an element is t...  \n",
       "99                                 **A**. True, True.  \n",
       "\n",
       "[100 rows x 3 columns]"
      ]
     },
     "execution_count": 14,
     "metadata": {},
     "output_type": "execute_result"
    }
   ],
   "source": [
    "abstract_algebra_df[['question', 'answer', 'inferred_answer']]"
   ]
  },
  {
   "cell_type": "markdown",
   "metadata": {
    "id": "TV-WySg6FZcc"
   },
   "source": [
    "## Perform RAG between inferred answers and choices"
   ]
  },
  {
   "cell_type": "markdown",
   "metadata": {
    "id": "Dr1jc1kpBpz8"
   },
   "source": [
    "### define RAG function\n",
    "1. compute embeddings of the inferred answers  \n",
    "2. compute embeddings of choices  \n",
    "3. return the choice number with the highest similarity score"
   ]
  },
  {
   "cell_type": "code",
   "execution_count": 15,
   "metadata": {
    "id": "sJrrkVMACCT0"
   },
   "outputs": [],
   "source": [
    "from sentence_transformers import util\n",
    "import numpy as np\n",
    "\n",
    "def get_closes_choice_rag(inferred_answer, choices):\n",
    "  # format to A. B. etc... choices but as a list and without whitespaces\n",
    "  rag_formatted_choices = [choice.strip() for choice in format_choice(choices).split('\\n')]\n",
    "\n",
    "  answer_embed = embedding_model.encode(inferred_answer, convert_to_tensor=True)\n",
    "  choices_embeds = embedding_model.encode(rag_formatted_choices, convert_to_tensor=True)\n",
    "  distances = util.cos_sim(answer_embed, choices_embeds)[0]\n",
    "  return np.argmax(distances.cpu()).item()"
   ]
  },
  {
   "cell_type": "code",
   "execution_count": 16,
   "metadata": {
    "colab": {
     "base_uri": "https://localhost:8080/"
    },
    "id": "1wk3eklHD-gJ",
    "outputId": "697f52aa-d6a2-4faf-cdd7-a05cef479a6b"
   },
   "outputs": [
    {
     "data": {
      "text/plain": [
       "1"
      ]
     },
     "execution_count": 16,
     "metadata": {},
     "output_type": "execute_result"
    }
   ],
   "source": [
    "inferred_answer = 'my cat is in the bedroom'\n",
    "\n",
    "choices = [\n",
    "    'cat in bathroom',\n",
    "    'cat in bedroom',\n",
    "    'dog in bedroom',\n",
    "    'dog in bathroom',\n",
    "]\n",
    "\n",
    "get_closes_choice_rag(inferred_answer, choices)"
   ]
  },
  {
   "cell_type": "markdown",
   "metadata": {
    "id": "OYLtpHgDFt-P"
   },
   "source": [
    "### perform RAG on dataset"
   ]
  },
  {
   "cell_type": "code",
   "execution_count": 17,
   "metadata": {
    "colab": {
     "base_uri": "https://localhost:8080/",
     "height": 347,
     "referenced_widgets": [
      "ca8c9d4a3d1d49fb91f0cd6b55a71528",
      "38ad17ad20b049eab6d53a3059be32b6",
      "09523ecf39e2446ba92ddfd8503c65f0",
      "88c9169a042e4d17bc7c8d2fc55d9568",
      "55539439efab48fd8ba032751992c0dd",
      "26322b4d0c2a43db97a79f6a25b74795",
      "35bf792f2dc4418a9e9855e9d8af7586",
      "e308d118566345eb9193832888ed255f",
      "305c11605a344a858cb574d6c94c2aa3",
      "4bffacf0b5404ee4a1b8d900be74457e",
      "ce5f203bc8bd4e79bb3d8a11e637bf17"
     ]
    },
    "id": "F1TT2NICELzR",
    "outputId": "192a1cc4-2e40-4a6f-a645-61da13dca14e"
   },
   "outputs": [
    {
     "data": {
      "application/vnd.jupyter.widget-view+json": {
       "model_id": "4868ec50a9ca41b2b68f1699701f23d8",
       "version_major": 2,
       "version_minor": 0
      },
      "text/plain": [
       "  0%|          | 0/100 [00:00<?, ?it/s]"
      ]
     },
     "metadata": {},
     "output_type": "display_data"
    },
    {
     "name": "stderr",
     "output_type": "stream",
     "text": [
      "/tmp/ipykernel_3330/1623743696.py:1: SettingWithCopyWarning: \n",
      "A value is trying to be set on a copy of a slice from a DataFrame.\n",
      "Try using .loc[row_indexer,col_indexer] = value instead\n",
      "\n",
      "See the caveats in the documentation: https://pandas.pydata.org/pandas-docs/stable/user_guide/indexing.html#returning-a-view-versus-a-copy\n",
      "  abstract_algebra_df['rag_answer'] = abstract_algebra_df.progress_apply(lambda x: get_closes_choice_rag(x.inferred_answer, x.choices), axis=1)\n"
     ]
    },
    {
     "data": {
      "text/html": [
       "<div>\n",
       "<style scoped>\n",
       "    .dataframe tbody tr th:only-of-type {\n",
       "        vertical-align: middle;\n",
       "    }\n",
       "\n",
       "    .dataframe tbody tr th {\n",
       "        vertical-align: top;\n",
       "    }\n",
       "\n",
       "    .dataframe thead th {\n",
       "        text-align: right;\n",
       "    }\n",
       "</style>\n",
       "<table border=\"1\" class=\"dataframe\">\n",
       "  <thead>\n",
       "    <tr style=\"text-align: right;\">\n",
       "      <th></th>\n",
       "      <th>question</th>\n",
       "      <th>choices</th>\n",
       "      <th>answer</th>\n",
       "      <th>question_id</th>\n",
       "      <th>inferred_answer</th>\n",
       "      <th>rag_answer</th>\n",
       "    </tr>\n",
       "  </thead>\n",
       "  <tbody>\n",
       "    <tr>\n",
       "      <th>0</th>\n",
       "      <td>Find the degree for the given field extension ...</td>\n",
       "      <td>[0, 4, 2, 6]</td>\n",
       "      <td>1</td>\n",
       "      <td>bc3778ec85a3abdf375449e14780a1318d32e859c2a2c1...</td>\n",
       "      <td></td>\n",
       "      <td>4</td>\n",
       "    </tr>\n",
       "    <tr>\n",
       "      <th>1</th>\n",
       "      <td>Let p = (1, 2, 5, 4)(2, 3) in S_5 . Find the i...</td>\n",
       "      <td>[8, 2, 24, 120]</td>\n",
       "      <td>2</td>\n",
       "      <td>9dbee06135bb2cd4f1d6fc47c5b9698485a7758ce3ee76...</td>\n",
       "      <td>0</td>\n",
       "      <td>4</td>\n",
       "    </tr>\n",
       "    <tr>\n",
       "      <th>2</th>\n",
       "      <td>Find all zeros in the indicated finite field o...</td>\n",
       "      <td>[0, 1, 0,1, 0,4]</td>\n",
       "      <td>3</td>\n",
       "      <td>4cfb894cedaec3e7dee2ba71a6a781fbf1d0ded44bac22...</td>\n",
       "      <td>,4\\n\\n### Explanation:\\nThe polynomial is x^5 ...</td>\n",
       "      <td>3</td>\n",
       "    </tr>\n",
       "    <tr>\n",
       "      <th>3</th>\n",
       "      <td>Statement 1 | A factor group of a non-Abelian ...</td>\n",
       "      <td>[True, True, False, False, True, False, False,...</td>\n",
       "      <td>1</td>\n",
       "      <td>7bdc038b56be4a1a507b6d156e061fc66c43098d756822...</td>\n",
       "      <td>A. True, True</td>\n",
       "      <td>0</td>\n",
       "    </tr>\n",
       "    <tr>\n",
       "      <th>4</th>\n",
       "      <td>Find the product of the given polynomials in t...</td>\n",
       "      <td>[2x^2 + 5, 6x^2 + 4x + 6, 0, x^2 + 1]</td>\n",
       "      <td>1</td>\n",
       "      <td>ff99adc312cd773b4959d6f9398f00342297a0d0379c65...</td>\n",
       "      <td>x^2 + 4x + 6\\n\\n### Explanation:\\nThe product ...</td>\n",
       "      <td>1</td>\n",
       "    </tr>\n",
       "  </tbody>\n",
       "</table>\n",
       "</div>"
      ],
      "text/plain": [
       "                                            question  \\\n",
       "0  Find the degree for the given field extension ...   \n",
       "1  Let p = (1, 2, 5, 4)(2, 3) in S_5 . Find the i...   \n",
       "2  Find all zeros in the indicated finite field o...   \n",
       "3  Statement 1 | A factor group of a non-Abelian ...   \n",
       "4  Find the product of the given polynomials in t...   \n",
       "\n",
       "                                             choices  answer  \\\n",
       "0                                       [0, 4, 2, 6]       1   \n",
       "1                                    [8, 2, 24, 120]       2   \n",
       "2                                   [0, 1, 0,1, 0,4]       3   \n",
       "3  [True, True, False, False, True, False, False,...       1   \n",
       "4              [2x^2 + 5, 6x^2 + 4x + 6, 0, x^2 + 1]       1   \n",
       "\n",
       "                                         question_id  \\\n",
       "0  bc3778ec85a3abdf375449e14780a1318d32e859c2a2c1...   \n",
       "1  9dbee06135bb2cd4f1d6fc47c5b9698485a7758ce3ee76...   \n",
       "2  4cfb894cedaec3e7dee2ba71a6a781fbf1d0ded44bac22...   \n",
       "3  7bdc038b56be4a1a507b6d156e061fc66c43098d756822...   \n",
       "4  ff99adc312cd773b4959d6f9398f00342297a0d0379c65...   \n",
       "\n",
       "                                     inferred_answer  rag_answer  \n",
       "0                                                              4  \n",
       "1                                                  0           4  \n",
       "2  ,4\\n\\n### Explanation:\\nThe polynomial is x^5 ...           3  \n",
       "3                                      A. True, True           0  \n",
       "4  x^2 + 4x + 6\\n\\n### Explanation:\\nThe product ...           1  "
      ]
     },
     "execution_count": 17,
     "metadata": {},
     "output_type": "execute_result"
    }
   ],
   "source": [
    "abstract_algebra_df['rag_answer'] = abstract_algebra_df.progress_apply(lambda x: get_closes_choice_rag(x.inferred_answer, x.choices), axis=1)\n",
    "abstract_algebra_df.head()"
   ]
  },
  {
   "cell_type": "code",
   "execution_count": 18,
   "metadata": {
    "colab": {
     "base_uri": "https://localhost:8080/",
     "height": 316
    },
    "id": "afLK7LycF2nF",
    "outputId": "7acbf8d7-ce20-41ad-b8fe-129e3846aabe"
   },
   "outputs": [
    {
     "name": "stderr",
     "output_type": "stream",
     "text": [
      "/tmp/ipykernel_3330/3314181470.py:1: SettingWithCopyWarning: \n",
      "A value is trying to be set on a copy of a slice from a DataFrame.\n",
      "Try using .loc[row_indexer,col_indexer] = value instead\n",
      "\n",
      "See the caveats in the documentation: https://pandas.pydata.org/pandas-docs/stable/user_guide/indexing.html#returning-a-view-versus-a-copy\n",
      "  abstract_algebra_df['is_correct'] = abstract_algebra_df['answer'] == abstract_algebra_df['rag_answer']\n"
     ]
    },
    {
     "data": {
      "text/html": [
       "<div>\n",
       "<style scoped>\n",
       "    .dataframe tbody tr th:only-of-type {\n",
       "        vertical-align: middle;\n",
       "    }\n",
       "\n",
       "    .dataframe tbody tr th {\n",
       "        vertical-align: top;\n",
       "    }\n",
       "\n",
       "    .dataframe thead th {\n",
       "        text-align: right;\n",
       "    }\n",
       "</style>\n",
       "<table border=\"1\" class=\"dataframe\">\n",
       "  <thead>\n",
       "    <tr style=\"text-align: right;\">\n",
       "      <th></th>\n",
       "      <th>question</th>\n",
       "      <th>choices</th>\n",
       "      <th>answer</th>\n",
       "      <th>question_id</th>\n",
       "      <th>inferred_answer</th>\n",
       "      <th>rag_answer</th>\n",
       "      <th>is_correct</th>\n",
       "    </tr>\n",
       "  </thead>\n",
       "  <tbody>\n",
       "    <tr>\n",
       "      <th>0</th>\n",
       "      <td>Find the degree for the given field extension ...</td>\n",
       "      <td>[0, 4, 2, 6]</td>\n",
       "      <td>1</td>\n",
       "      <td>bc3778ec85a3abdf375449e14780a1318d32e859c2a2c1...</td>\n",
       "      <td></td>\n",
       "      <td>4</td>\n",
       "      <td>False</td>\n",
       "    </tr>\n",
       "    <tr>\n",
       "      <th>1</th>\n",
       "      <td>Let p = (1, 2, 5, 4)(2, 3) in S_5 . Find the i...</td>\n",
       "      <td>[8, 2, 24, 120]</td>\n",
       "      <td>2</td>\n",
       "      <td>9dbee06135bb2cd4f1d6fc47c5b9698485a7758ce3ee76...</td>\n",
       "      <td>0</td>\n",
       "      <td>4</td>\n",
       "      <td>False</td>\n",
       "    </tr>\n",
       "    <tr>\n",
       "      <th>2</th>\n",
       "      <td>Find all zeros in the indicated finite field o...</td>\n",
       "      <td>[0, 1, 0,1, 0,4]</td>\n",
       "      <td>3</td>\n",
       "      <td>4cfb894cedaec3e7dee2ba71a6a781fbf1d0ded44bac22...</td>\n",
       "      <td>,4\\n\\n### Explanation:\\nThe polynomial is x^5 ...</td>\n",
       "      <td>3</td>\n",
       "      <td>True</td>\n",
       "    </tr>\n",
       "    <tr>\n",
       "      <th>3</th>\n",
       "      <td>Statement 1 | A factor group of a non-Abelian ...</td>\n",
       "      <td>[True, True, False, False, True, False, False,...</td>\n",
       "      <td>1</td>\n",
       "      <td>7bdc038b56be4a1a507b6d156e061fc66c43098d756822...</td>\n",
       "      <td>A. True, True</td>\n",
       "      <td>0</td>\n",
       "      <td>False</td>\n",
       "    </tr>\n",
       "    <tr>\n",
       "      <th>4</th>\n",
       "      <td>Find the product of the given polynomials in t...</td>\n",
       "      <td>[2x^2 + 5, 6x^2 + 4x + 6, 0, x^2 + 1]</td>\n",
       "      <td>1</td>\n",
       "      <td>ff99adc312cd773b4959d6f9398f00342297a0d0379c65...</td>\n",
       "      <td>x^2 + 4x + 6\\n\\n### Explanation:\\nThe product ...</td>\n",
       "      <td>1</td>\n",
       "      <td>True</td>\n",
       "    </tr>\n",
       "  </tbody>\n",
       "</table>\n",
       "</div>"
      ],
      "text/plain": [
       "                                            question  \\\n",
       "0  Find the degree for the given field extension ...   \n",
       "1  Let p = (1, 2, 5, 4)(2, 3) in S_5 . Find the i...   \n",
       "2  Find all zeros in the indicated finite field o...   \n",
       "3  Statement 1 | A factor group of a non-Abelian ...   \n",
       "4  Find the product of the given polynomials in t...   \n",
       "\n",
       "                                             choices  answer  \\\n",
       "0                                       [0, 4, 2, 6]       1   \n",
       "1                                    [8, 2, 24, 120]       2   \n",
       "2                                   [0, 1, 0,1, 0,4]       3   \n",
       "3  [True, True, False, False, True, False, False,...       1   \n",
       "4              [2x^2 + 5, 6x^2 + 4x + 6, 0, x^2 + 1]       1   \n",
       "\n",
       "                                         question_id  \\\n",
       "0  bc3778ec85a3abdf375449e14780a1318d32e859c2a2c1...   \n",
       "1  9dbee06135bb2cd4f1d6fc47c5b9698485a7758ce3ee76...   \n",
       "2  4cfb894cedaec3e7dee2ba71a6a781fbf1d0ded44bac22...   \n",
       "3  7bdc038b56be4a1a507b6d156e061fc66c43098d756822...   \n",
       "4  ff99adc312cd773b4959d6f9398f00342297a0d0379c65...   \n",
       "\n",
       "                                     inferred_answer  rag_answer  is_correct  \n",
       "0                                                              4       False  \n",
       "1                                                  0           4       False  \n",
       "2  ,4\\n\\n### Explanation:\\nThe polynomial is x^5 ...           3        True  \n",
       "3                                      A. True, True           0       False  \n",
       "4  x^2 + 4x + 6\\n\\n### Explanation:\\nThe product ...           1        True  "
      ]
     },
     "execution_count": 18,
     "metadata": {},
     "output_type": "execute_result"
    }
   ],
   "source": [
    "abstract_algebra_df['is_correct'] = abstract_algebra_df['answer'] == abstract_algebra_df['rag_answer']\n",
    "abstract_algebra_df.head()"
   ]
  },
  {
   "cell_type": "markdown",
   "metadata": {
    "id": "-rmrz0WYG9Dp"
   },
   "source": [
    "## Analyze results  \n",
    "\n",
    "We have results that are exactly equal to random baseline..."
   ]
  },
  {
   "cell_type": "code",
   "execution_count": 19,
   "metadata": {
    "colab": {
     "base_uri": "https://localhost:8080/"
    },
    "id": "lrLghbx-GEVG",
    "outputId": "d2b6286b-cce3-4ce1-f63b-b67dde3f2fef"
   },
   "outputs": [
    {
     "name": "stdout",
     "output_type": "stream",
     "text": [
      "Mean Accuracy : 25.00%\n"
     ]
    }
   ],
   "source": [
    "# display accuracy\n",
    "print(f\"Mean Accuracy : {abstract_algebra_df['is_correct'].mean()*100:.02f}%\")"
   ]
  },
  {
   "cell_type": "markdown",
   "metadata": {},
   "source": [
    "## Perform inference on complete MMLU - single shuffle"
   ]
  },
  {
   "cell_type": "code",
   "execution_count": 22,
   "metadata": {
    "id": "62gnDZP8JlU3"
   },
   "outputs": [],
   "source": [
    "single_shuffle = dataset_df[dataset_df.letter_order == 'ABCD']\n",
    "del single_shuffle ['__index_level_0__']\n",
    "del single_shuffle ['letter_order']\n",
    "del single_shuffle ['category']"
   ]
  },
  {
   "cell_type": "code",
   "execution_count": 24,
   "metadata": {},
   "outputs": [
    {
     "data": {
      "text/plain": [
       "14042"
      ]
     },
     "execution_count": 24,
     "metadata": {},
     "output_type": "execute_result"
    }
   ],
   "source": [
    "len(single_shuffle)"
   ]
  },
  {
   "cell_type": "code",
   "execution_count": 25,
   "metadata": {},
   "outputs": [
    {
     "data": {
      "application/vnd.jupyter.widget-view+json": {
       "model_id": "70036253e99f480d989d3353380226c7",
       "version_major": 2,
       "version_minor": 0
      },
      "text/plain": [
       "  0%|          | 0/14042 [00:00<?, ?it/s]"
      ]
     },
     "metadata": {},
     "output_type": "display_data"
    },
    {
     "name": "stderr",
     "output_type": "stream",
     "text": [
      "/tmp/ipykernel_3330/2550883683.py:1: SettingWithCopyWarning: \n",
      "A value is trying to be set on a copy of a slice from a DataFrame.\n",
      "Try using .loc[row_indexer,col_indexer] = value instead\n",
      "\n",
      "See the caveats in the documentation: https://pandas.pydata.org/pandas-docs/stable/user_guide/indexing.html#returning-a-view-versus-a-copy\n",
      "  single_shuffle['inferred_answer'] = single_shuffle.progress_apply(lambda x: get_open_ended_answer_to_question(x.question, x.choices), axis=1)\n"
     ]
    }
   ],
   "source": [
    "single_shuffle['inferred_answer'] = single_shuffle.progress_apply(lambda x: get_open_ended_answer_to_question(x.question, x.choices), axis=1)"
   ]
  },
  {
   "cell_type": "code",
   "execution_count": 27,
   "metadata": {},
   "outputs": [],
   "source": [
    "single_shuffle.to_parquet('single_shuffle_inference_dataset.parquet')"
   ]
  },
  {
   "cell_type": "code",
   "execution_count": 28,
   "metadata": {},
   "outputs": [
    {
     "data": {
      "application/vnd.jupyter.widget-view+json": {
       "model_id": "c792cc9d025b4bb4b2287ed9106d7ddd",
       "version_major": 2,
       "version_minor": 0
      },
      "text/plain": [
       "  0%|          | 0/14042 [00:00<?, ?it/s]"
      ]
     },
     "metadata": {},
     "output_type": "display_data"
    },
    {
     "name": "stderr",
     "output_type": "stream",
     "text": [
      "/tmp/ipykernel_3330/381540501.py:1: SettingWithCopyWarning: \n",
      "A value is trying to be set on a copy of a slice from a DataFrame.\n",
      "Try using .loc[row_indexer,col_indexer] = value instead\n",
      "\n",
      "See the caveats in the documentation: https://pandas.pydata.org/pandas-docs/stable/user_guide/indexing.html#returning-a-view-versus-a-copy\n",
      "  single_shuffle['rag_answer'] = single_shuffle.progress_apply(lambda x: get_closes_choice_rag(x.inferred_answer, x.choices), axis=1)\n"
     ]
    },
    {
     "data": {
      "text/html": [
       "<div>\n",
       "<style scoped>\n",
       "    .dataframe tbody tr th:only-of-type {\n",
       "        vertical-align: middle;\n",
       "    }\n",
       "\n",
       "    .dataframe tbody tr th {\n",
       "        vertical-align: top;\n",
       "    }\n",
       "\n",
       "    .dataframe thead th {\n",
       "        text-align: right;\n",
       "    }\n",
       "</style>\n",
       "<table border=\"1\" class=\"dataframe\">\n",
       "  <thead>\n",
       "    <tr style=\"text-align: right;\">\n",
       "      <th></th>\n",
       "      <th>question</th>\n",
       "      <th>choices</th>\n",
       "      <th>answer</th>\n",
       "      <th>question_id</th>\n",
       "      <th>inferred_answer</th>\n",
       "      <th>rag_answer</th>\n",
       "    </tr>\n",
       "  </thead>\n",
       "  <tbody>\n",
       "    <tr>\n",
       "      <th>0</th>\n",
       "      <td>Find the degree for the given field extension ...</td>\n",
       "      <td>[0, 4, 2, 6]</td>\n",
       "      <td>1</td>\n",
       "      <td>bc3778ec85a3abdf375449e14780a1318d32e859c2a2c1...</td>\n",
       "      <td></td>\n",
       "      <td>4</td>\n",
       "    </tr>\n",
       "    <tr>\n",
       "      <th>1</th>\n",
       "      <td>Let p = (1, 2, 5, 4)(2, 3) in S_5 . Find the i...</td>\n",
       "      <td>[8, 2, 24, 120]</td>\n",
       "      <td>2</td>\n",
       "      <td>9dbee06135bb2cd4f1d6fc47c5b9698485a7758ce3ee76...</td>\n",
       "      <td>0</td>\n",
       "      <td>4</td>\n",
       "    </tr>\n",
       "    <tr>\n",
       "      <th>2</th>\n",
       "      <td>Find all zeros in the indicated finite field o...</td>\n",
       "      <td>[0, 1, 0,1, 0,4]</td>\n",
       "      <td>3</td>\n",
       "      <td>4cfb894cedaec3e7dee2ba71a6a781fbf1d0ded44bac22...</td>\n",
       "      <td>,4\\n\\n### Explanation:\\nThe polynomial is x^5 ...</td>\n",
       "      <td>3</td>\n",
       "    </tr>\n",
       "    <tr>\n",
       "      <th>3</th>\n",
       "      <td>Statement 1 | A factor group of a non-Abelian ...</td>\n",
       "      <td>[True, True, False, False, True, False, False,...</td>\n",
       "      <td>1</td>\n",
       "      <td>7bdc038b56be4a1a507b6d156e061fc66c43098d756822...</td>\n",
       "      <td>A. True, True</td>\n",
       "      <td>0</td>\n",
       "    </tr>\n",
       "    <tr>\n",
       "      <th>4</th>\n",
       "      <td>Find the product of the given polynomials in t...</td>\n",
       "      <td>[2x^2 + 5, 6x^2 + 4x + 6, 0, x^2 + 1]</td>\n",
       "      <td>1</td>\n",
       "      <td>ff99adc312cd773b4959d6f9398f00342297a0d0379c65...</td>\n",
       "      <td>x^2 + 4x + 6\\n\\n### Explanation:\\nThe product ...</td>\n",
       "      <td>1</td>\n",
       "    </tr>\n",
       "  </tbody>\n",
       "</table>\n",
       "</div>"
      ],
      "text/plain": [
       "                                            question  \\\n",
       "0  Find the degree for the given field extension ...   \n",
       "1  Let p = (1, 2, 5, 4)(2, 3) in S_5 . Find the i...   \n",
       "2  Find all zeros in the indicated finite field o...   \n",
       "3  Statement 1 | A factor group of a non-Abelian ...   \n",
       "4  Find the product of the given polynomials in t...   \n",
       "\n",
       "                                             choices  answer  \\\n",
       "0                                       [0, 4, 2, 6]       1   \n",
       "1                                    [8, 2, 24, 120]       2   \n",
       "2                                   [0, 1, 0,1, 0,4]       3   \n",
       "3  [True, True, False, False, True, False, False,...       1   \n",
       "4              [2x^2 + 5, 6x^2 + 4x + 6, 0, x^2 + 1]       1   \n",
       "\n",
       "                                         question_id  \\\n",
       "0  bc3778ec85a3abdf375449e14780a1318d32e859c2a2c1...   \n",
       "1  9dbee06135bb2cd4f1d6fc47c5b9698485a7758ce3ee76...   \n",
       "2  4cfb894cedaec3e7dee2ba71a6a781fbf1d0ded44bac22...   \n",
       "3  7bdc038b56be4a1a507b6d156e061fc66c43098d756822...   \n",
       "4  ff99adc312cd773b4959d6f9398f00342297a0d0379c65...   \n",
       "\n",
       "                                     inferred_answer  rag_answer  \n",
       "0                                                              4  \n",
       "1                                                  0           4  \n",
       "2  ,4\\n\\n### Explanation:\\nThe polynomial is x^5 ...           3  \n",
       "3                                      A. True, True           0  \n",
       "4  x^2 + 4x + 6\\n\\n### Explanation:\\nThe product ...           1  "
      ]
     },
     "execution_count": 28,
     "metadata": {},
     "output_type": "execute_result"
    }
   ],
   "source": [
    "single_shuffle['rag_answer'] = single_shuffle.progress_apply(lambda x: get_closes_choice_rag(x.inferred_answer, x.choices), axis=1)\n",
    "single_shuffle.head()"
   ]
  },
  {
   "cell_type": "markdown",
   "metadata": {},
   "source": [
    "### Analyze results"
   ]
  },
  {
   "cell_type": "code",
   "execution_count": 29,
   "metadata": {},
   "outputs": [
    {
     "name": "stderr",
     "output_type": "stream",
     "text": [
      "/tmp/ipykernel_3330/1478662316.py:1: SettingWithCopyWarning: \n",
      "A value is trying to be set on a copy of a slice from a DataFrame.\n",
      "Try using .loc[row_indexer,col_indexer] = value instead\n",
      "\n",
      "See the caveats in the documentation: https://pandas.pydata.org/pandas-docs/stable/user_guide/indexing.html#returning-a-view-versus-a-copy\n",
      "  single_shuffle['is_correct'] = single_shuffle['answer'] == single_shuffle['rag_answer']\n"
     ]
    }
   ],
   "source": [
    "single_shuffle['is_correct'] = single_shuffle['answer'] == single_shuffle['rag_answer']"
   ]
  },
  {
   "cell_type": "code",
   "execution_count": 31,
   "metadata": {},
   "outputs": [
    {
     "name": "stdout",
     "output_type": "stream",
     "text": [
      "Mean Accuracy : 55.25%\n"
     ]
    }
   ],
   "source": [
    "print(f\"Mean Accuracy : {single_shuffle['is_correct'].mean()*100:.02f}%\")"
   ]
  },
  {
   "cell_type": "code",
   "execution_count": 37,
   "metadata": {},
   "outputs": [
    {
     "data": {
      "text/html": [
       "<div>\n",
       "<style scoped>\n",
       "    .dataframe tbody tr th:only-of-type {\n",
       "        vertical-align: middle;\n",
       "    }\n",
       "\n",
       "    .dataframe tbody tr th {\n",
       "        vertical-align: top;\n",
       "    }\n",
       "\n",
       "    .dataframe thead th {\n",
       "        text-align: right;\n",
       "    }\n",
       "</style>\n",
       "<table border=\"1\" class=\"dataframe\">\n",
       "  <thead>\n",
       "    <tr style=\"text-align: right;\">\n",
       "      <th></th>\n",
       "      <th>question</th>\n",
       "      <th>choices</th>\n",
       "      <th>answer</th>\n",
       "      <th>question_id</th>\n",
       "      <th>inferred_answer</th>\n",
       "      <th>rag_answer</th>\n",
       "      <th>is_correct</th>\n",
       "      <th>category</th>\n",
       "    </tr>\n",
       "  </thead>\n",
       "  <tbody>\n",
       "    <tr>\n",
       "      <th>0</th>\n",
       "      <td>Find the degree for the given field extension ...</td>\n",
       "      <td>[0, 4, 2, 6]</td>\n",
       "      <td>1</td>\n",
       "      <td>bc3778ec85a3abdf375449e14780a1318d32e859c2a2c1...</td>\n",
       "      <td></td>\n",
       "      <td>4</td>\n",
       "      <td>False</td>\n",
       "      <td>abstract_algebra</td>\n",
       "    </tr>\n",
       "    <tr>\n",
       "      <th>1</th>\n",
       "      <td>Let p = (1, 2, 5, 4)(2, 3) in S_5 . Find the i...</td>\n",
       "      <td>[8, 2, 24, 120]</td>\n",
       "      <td>2</td>\n",
       "      <td>9dbee06135bb2cd4f1d6fc47c5b9698485a7758ce3ee76...</td>\n",
       "      <td>0</td>\n",
       "      <td>4</td>\n",
       "      <td>False</td>\n",
       "      <td>abstract_algebra</td>\n",
       "    </tr>\n",
       "    <tr>\n",
       "      <th>2</th>\n",
       "      <td>Find all zeros in the indicated finite field o...</td>\n",
       "      <td>[0, 1, 0,1, 0,4]</td>\n",
       "      <td>3</td>\n",
       "      <td>4cfb894cedaec3e7dee2ba71a6a781fbf1d0ded44bac22...</td>\n",
       "      <td>,4\\n\\n### Explanation:\\nThe polynomial is x^5 ...</td>\n",
       "      <td>3</td>\n",
       "      <td>True</td>\n",
       "      <td>abstract_algebra</td>\n",
       "    </tr>\n",
       "    <tr>\n",
       "      <th>3</th>\n",
       "      <td>Statement 1 | A factor group of a non-Abelian ...</td>\n",
       "      <td>[True, True, False, False, True, False, False,...</td>\n",
       "      <td>1</td>\n",
       "      <td>7bdc038b56be4a1a507b6d156e061fc66c43098d756822...</td>\n",
       "      <td>A. True, True</td>\n",
       "      <td>0</td>\n",
       "      <td>False</td>\n",
       "      <td>abstract_algebra</td>\n",
       "    </tr>\n",
       "    <tr>\n",
       "      <th>4</th>\n",
       "      <td>Find the product of the given polynomials in t...</td>\n",
       "      <td>[2x^2 + 5, 6x^2 + 4x + 6, 0, x^2 + 1]</td>\n",
       "      <td>1</td>\n",
       "      <td>ff99adc312cd773b4959d6f9398f00342297a0d0379c65...</td>\n",
       "      <td>x^2 + 4x + 6\\n\\n### Explanation:\\nThe product ...</td>\n",
       "      <td>1</td>\n",
       "      <td>True</td>\n",
       "      <td>abstract_algebra</td>\n",
       "    </tr>\n",
       "  </tbody>\n",
       "</table>\n",
       "</div>"
      ],
      "text/plain": [
       "                                            question  \\\n",
       "0  Find the degree for the given field extension ...   \n",
       "1  Let p = (1, 2, 5, 4)(2, 3) in S_5 . Find the i...   \n",
       "2  Find all zeros in the indicated finite field o...   \n",
       "3  Statement 1 | A factor group of a non-Abelian ...   \n",
       "4  Find the product of the given polynomials in t...   \n",
       "\n",
       "                                             choices  answer  \\\n",
       "0                                       [0, 4, 2, 6]       1   \n",
       "1                                    [8, 2, 24, 120]       2   \n",
       "2                                   [0, 1, 0,1, 0,4]       3   \n",
       "3  [True, True, False, False, True, False, False,...       1   \n",
       "4              [2x^2 + 5, 6x^2 + 4x + 6, 0, x^2 + 1]       1   \n",
       "\n",
       "                                         question_id  \\\n",
       "0  bc3778ec85a3abdf375449e14780a1318d32e859c2a2c1...   \n",
       "1  9dbee06135bb2cd4f1d6fc47c5b9698485a7758ce3ee76...   \n",
       "2  4cfb894cedaec3e7dee2ba71a6a781fbf1d0ded44bac22...   \n",
       "3  7bdc038b56be4a1a507b6d156e061fc66c43098d756822...   \n",
       "4  ff99adc312cd773b4959d6f9398f00342297a0d0379c65...   \n",
       "\n",
       "                                     inferred_answer  rag_answer  is_correct  \\\n",
       "0                                                              4       False   \n",
       "1                                                  0           4       False   \n",
       "2  ,4\\n\\n### Explanation:\\nThe polynomial is x^5 ...           3        True   \n",
       "3                                      A. True, True           0       False   \n",
       "4  x^2 + 4x + 6\\n\\n### Explanation:\\nThe product ...           1        True   \n",
       "\n",
       "           category  \n",
       "0  abstract_algebra  \n",
       "1  abstract_algebra  \n",
       "2  abstract_algebra  \n",
       "3  abstract_algebra  \n",
       "4  abstract_algebra  "
      ]
     },
     "execution_count": 37,
     "metadata": {},
     "output_type": "execute_result"
    }
   ],
   "source": [
    "# we restore that category feature we shouldn't have deleted...\n",
    "import pandas as pd\n",
    "restore_category = dataset_df[dataset_df.letter_order == 'ABCD'][['question_id', 'category']]\n",
    "single_shuffle_with_cat = pd.merge(how='left', left=single_shuffle, right=restore_category, on='question_id')\n",
    "single_shuffle_with_cat.head()"
   ]
  },
  {
   "cell_type": "code",
   "execution_count": 43,
   "metadata": {},
   "outputs": [
    {
     "data": {
      "text/html": [
       "<div>\n",
       "<style scoped>\n",
       "    .dataframe tbody tr th:only-of-type {\n",
       "        vertical-align: middle;\n",
       "    }\n",
       "\n",
       "    .dataframe tbody tr th {\n",
       "        vertical-align: top;\n",
       "    }\n",
       "\n",
       "    .dataframe thead th {\n",
       "        text-align: right;\n",
       "    }\n",
       "</style>\n",
       "<table border=\"1\" class=\"dataframe\">\n",
       "  <thead>\n",
       "    <tr style=\"text-align: right;\">\n",
       "      <th></th>\n",
       "      <th>category</th>\n",
       "      <th>is_correct</th>\n",
       "    </tr>\n",
       "  </thead>\n",
       "  <tbody>\n",
       "    <tr>\n",
       "      <th>25</th>\n",
       "      <td>high_school_mathematics</td>\n",
       "      <td>0.174074</td>\n",
       "    </tr>\n",
       "    <tr>\n",
       "      <th>17</th>\n",
       "      <td>global_facts</td>\n",
       "      <td>0.230000</td>\n",
       "    </tr>\n",
       "    <tr>\n",
       "      <th>43</th>\n",
       "      <td>moral_scenarios</td>\n",
       "      <td>0.246927</td>\n",
       "    </tr>\n",
       "    <tr>\n",
       "      <th>0</th>\n",
       "      <td>abstract_algebra</td>\n",
       "      <td>0.270000</td>\n",
       "    </tr>\n",
       "    <tr>\n",
       "      <th>10</th>\n",
       "      <td>college_physics</td>\n",
       "      <td>0.284314</td>\n",
       "    </tr>\n",
       "    <tr>\n",
       "      <th>8</th>\n",
       "      <td>college_mathematics</td>\n",
       "      <td>0.300000</td>\n",
       "    </tr>\n",
       "    <tr>\n",
       "      <th>15</th>\n",
       "      <td>elementary_mathematics</td>\n",
       "      <td>0.306878</td>\n",
       "    </tr>\n",
       "    <tr>\n",
       "      <th>27</th>\n",
       "      <td>high_school_physics</td>\n",
       "      <td>0.350993</td>\n",
       "    </tr>\n",
       "    <tr>\n",
       "      <th>13</th>\n",
       "      <td>econometrics</td>\n",
       "      <td>0.368421</td>\n",
       "    </tr>\n",
       "    <tr>\n",
       "      <th>16</th>\n",
       "      <td>formal_logic</td>\n",
       "      <td>0.404762</td>\n",
       "    </tr>\n",
       "    <tr>\n",
       "      <th>7</th>\n",
       "      <td>college_computer_science</td>\n",
       "      <td>0.410000</td>\n",
       "    </tr>\n",
       "    <tr>\n",
       "      <th>48</th>\n",
       "      <td>professional_law</td>\n",
       "      <td>0.438722</td>\n",
       "    </tr>\n",
       "    <tr>\n",
       "      <th>6</th>\n",
       "      <td>college_chemistry</td>\n",
       "      <td>0.440000</td>\n",
       "    </tr>\n",
       "    <tr>\n",
       "      <th>47</th>\n",
       "      <td>professional_accounting</td>\n",
       "      <td>0.443262</td>\n",
       "    </tr>\n",
       "    <tr>\n",
       "      <th>37</th>\n",
       "      <td>machine_learning</td>\n",
       "      <td>0.446429</td>\n",
       "    </tr>\n",
       "    <tr>\n",
       "      <th>29</th>\n",
       "      <td>high_school_statistics</td>\n",
       "      <td>0.467593</td>\n",
       "    </tr>\n",
       "    <tr>\n",
       "      <th>12</th>\n",
       "      <td>conceptual_physics</td>\n",
       "      <td>0.485106</td>\n",
       "    </tr>\n",
       "    <tr>\n",
       "      <th>3</th>\n",
       "      <td>business_ethics</td>\n",
       "      <td>0.500000</td>\n",
       "    </tr>\n",
       "    <tr>\n",
       "      <th>19</th>\n",
       "      <td>high_school_chemistry</td>\n",
       "      <td>0.502463</td>\n",
       "    </tr>\n",
       "    <tr>\n",
       "      <th>24</th>\n",
       "      <td>high_school_macroeconomics</td>\n",
       "      <td>0.512821</td>\n",
       "    </tr>\n",
       "    <tr>\n",
       "      <th>55</th>\n",
       "      <td>virology</td>\n",
       "      <td>0.518072</td>\n",
       "    </tr>\n",
       "    <tr>\n",
       "      <th>2</th>\n",
       "      <td>astronomy</td>\n",
       "      <td>0.532895</td>\n",
       "    </tr>\n",
       "    <tr>\n",
       "      <th>14</th>\n",
       "      <td>electrical_engineering</td>\n",
       "      <td>0.537931</td>\n",
       "    </tr>\n",
       "    <tr>\n",
       "      <th>9</th>\n",
       "      <td>college_medicine</td>\n",
       "      <td>0.560694</td>\n",
       "    </tr>\n",
       "    <tr>\n",
       "      <th>51</th>\n",
       "      <td>public_relations</td>\n",
       "      <td>0.563636</td>\n",
       "    </tr>\n",
       "    <tr>\n",
       "      <th>33</th>\n",
       "      <td>human_sexuality</td>\n",
       "      <td>0.564885</td>\n",
       "    </tr>\n",
       "    <tr>\n",
       "      <th>52</th>\n",
       "      <td>security_studies</td>\n",
       "      <td>0.587755</td>\n",
       "    </tr>\n",
       "    <tr>\n",
       "      <th>20</th>\n",
       "      <td>high_school_computer_science</td>\n",
       "      <td>0.600000</td>\n",
       "    </tr>\n",
       "    <tr>\n",
       "      <th>50</th>\n",
       "      <td>professional_psychology</td>\n",
       "      <td>0.607843</td>\n",
       "    </tr>\n",
       "    <tr>\n",
       "      <th>26</th>\n",
       "      <td>high_school_microeconomics</td>\n",
       "      <td>0.609244</td>\n",
       "    </tr>\n",
       "    <tr>\n",
       "      <th>40</th>\n",
       "      <td>medical_genetics</td>\n",
       "      <td>0.610000</td>\n",
       "    </tr>\n",
       "    <tr>\n",
       "      <th>45</th>\n",
       "      <td>philosophy</td>\n",
       "      <td>0.610932</td>\n",
       "    </tr>\n",
       "    <tr>\n",
       "      <th>36</th>\n",
       "      <td>logical_fallacies</td>\n",
       "      <td>0.619632</td>\n",
       "    </tr>\n",
       "    <tr>\n",
       "      <th>32</th>\n",
       "      <td>human_aging</td>\n",
       "      <td>0.632287</td>\n",
       "    </tr>\n",
       "    <tr>\n",
       "      <th>49</th>\n",
       "      <td>professional_medicine</td>\n",
       "      <td>0.636029</td>\n",
       "    </tr>\n",
       "    <tr>\n",
       "      <th>1</th>\n",
       "      <td>anatomy</td>\n",
       "      <td>0.637037</td>\n",
       "    </tr>\n",
       "    <tr>\n",
       "      <th>4</th>\n",
       "      <td>clinical_knowledge</td>\n",
       "      <td>0.637736</td>\n",
       "    </tr>\n",
       "    <tr>\n",
       "      <th>42</th>\n",
       "      <td>moral_disputes</td>\n",
       "      <td>0.638728</td>\n",
       "    </tr>\n",
       "    <tr>\n",
       "      <th>38</th>\n",
       "      <td>management</td>\n",
       "      <td>0.660194</td>\n",
       "    </tr>\n",
       "    <tr>\n",
       "      <th>46</th>\n",
       "      <td>prehistory</td>\n",
       "      <td>0.660494</td>\n",
       "    </tr>\n",
       "    <tr>\n",
       "      <th>34</th>\n",
       "      <td>international_law</td>\n",
       "      <td>0.661157</td>\n",
       "    </tr>\n",
       "    <tr>\n",
       "      <th>44</th>\n",
       "      <td>nutrition</td>\n",
       "      <td>0.666667</td>\n",
       "    </tr>\n",
       "    <tr>\n",
       "      <th>35</th>\n",
       "      <td>jurisprudence</td>\n",
       "      <td>0.666667</td>\n",
       "    </tr>\n",
       "    <tr>\n",
       "      <th>11</th>\n",
       "      <td>computer_security</td>\n",
       "      <td>0.670000</td>\n",
       "    </tr>\n",
       "    <tr>\n",
       "      <th>5</th>\n",
       "      <td>college_biology</td>\n",
       "      <td>0.694444</td>\n",
       "    </tr>\n",
       "    <tr>\n",
       "      <th>31</th>\n",
       "      <td>high_school_world_history</td>\n",
       "      <td>0.704641</td>\n",
       "    </tr>\n",
       "    <tr>\n",
       "      <th>22</th>\n",
       "      <td>high_school_geography</td>\n",
       "      <td>0.707071</td>\n",
       "    </tr>\n",
       "    <tr>\n",
       "      <th>21</th>\n",
       "      <td>high_school_european_history</td>\n",
       "      <td>0.709091</td>\n",
       "    </tr>\n",
       "    <tr>\n",
       "      <th>18</th>\n",
       "      <td>high_school_biology</td>\n",
       "      <td>0.709677</td>\n",
       "    </tr>\n",
       "    <tr>\n",
       "      <th>53</th>\n",
       "      <td>sociology</td>\n",
       "      <td>0.716418</td>\n",
       "    </tr>\n",
       "    <tr>\n",
       "      <th>41</th>\n",
       "      <td>miscellaneous</td>\n",
       "      <td>0.722861</td>\n",
       "    </tr>\n",
       "    <tr>\n",
       "      <th>30</th>\n",
       "      <td>high_school_us_history</td>\n",
       "      <td>0.745098</td>\n",
       "    </tr>\n",
       "    <tr>\n",
       "      <th>28</th>\n",
       "      <td>high_school_psychology</td>\n",
       "      <td>0.750459</td>\n",
       "    </tr>\n",
       "    <tr>\n",
       "      <th>56</th>\n",
       "      <td>world_religions</td>\n",
       "      <td>0.771930</td>\n",
       "    </tr>\n",
       "    <tr>\n",
       "      <th>23</th>\n",
       "      <td>high_school_government_and_politics</td>\n",
       "      <td>0.792746</td>\n",
       "    </tr>\n",
       "    <tr>\n",
       "      <th>54</th>\n",
       "      <td>us_foreign_policy</td>\n",
       "      <td>0.800000</td>\n",
       "    </tr>\n",
       "    <tr>\n",
       "      <th>39</th>\n",
       "      <td>marketing</td>\n",
       "      <td>0.824786</td>\n",
       "    </tr>\n",
       "  </tbody>\n",
       "</table>\n",
       "</div>"
      ],
      "text/plain": [
       "                               category  is_correct\n",
       "25              high_school_mathematics    0.174074\n",
       "17                         global_facts    0.230000\n",
       "43                      moral_scenarios    0.246927\n",
       "0                      abstract_algebra    0.270000\n",
       "10                      college_physics    0.284314\n",
       "8                   college_mathematics    0.300000\n",
       "15               elementary_mathematics    0.306878\n",
       "27                  high_school_physics    0.350993\n",
       "13                         econometrics    0.368421\n",
       "16                         formal_logic    0.404762\n",
       "7              college_computer_science    0.410000\n",
       "48                     professional_law    0.438722\n",
       "6                     college_chemistry    0.440000\n",
       "47              professional_accounting    0.443262\n",
       "37                     machine_learning    0.446429\n",
       "29               high_school_statistics    0.467593\n",
       "12                   conceptual_physics    0.485106\n",
       "3                       business_ethics    0.500000\n",
       "19                high_school_chemistry    0.502463\n",
       "24           high_school_macroeconomics    0.512821\n",
       "55                             virology    0.518072\n",
       "2                             astronomy    0.532895\n",
       "14               electrical_engineering    0.537931\n",
       "9                      college_medicine    0.560694\n",
       "51                     public_relations    0.563636\n",
       "33                      human_sexuality    0.564885\n",
       "52                     security_studies    0.587755\n",
       "20         high_school_computer_science    0.600000\n",
       "50              professional_psychology    0.607843\n",
       "26           high_school_microeconomics    0.609244\n",
       "40                     medical_genetics    0.610000\n",
       "45                           philosophy    0.610932\n",
       "36                    logical_fallacies    0.619632\n",
       "32                          human_aging    0.632287\n",
       "49                professional_medicine    0.636029\n",
       "1                               anatomy    0.637037\n",
       "4                    clinical_knowledge    0.637736\n",
       "42                       moral_disputes    0.638728\n",
       "38                           management    0.660194\n",
       "46                           prehistory    0.660494\n",
       "34                    international_law    0.661157\n",
       "44                            nutrition    0.666667\n",
       "35                        jurisprudence    0.666667\n",
       "11                    computer_security    0.670000\n",
       "5                       college_biology    0.694444\n",
       "31            high_school_world_history    0.704641\n",
       "22                high_school_geography    0.707071\n",
       "21         high_school_european_history    0.709091\n",
       "18                  high_school_biology    0.709677\n",
       "53                            sociology    0.716418\n",
       "41                        miscellaneous    0.722861\n",
       "30               high_school_us_history    0.745098\n",
       "28               high_school_psychology    0.750459\n",
       "56                      world_religions    0.771930\n",
       "23  high_school_government_and_politics    0.792746\n",
       "54                    us_foreign_policy    0.800000\n",
       "39                            marketing    0.824786"
      ]
     },
     "execution_count": 43,
     "metadata": {},
     "output_type": "execute_result"
    }
   ],
   "source": [
    "single_shuffle_with_cat.groupby(['category'])['is_correct'].mean().to_frame().reset_index().sort_values('is_correct')"
   ]
  },
  {
   "cell_type": "code",
   "execution_count": null,
   "metadata": {},
   "outputs": [],
   "source": []
  }
 ],
 "metadata": {
  "accelerator": "GPU",
  "colab": {
   "gpuType": "T4",
   "provenance": []
  },
  "kernelspec": {
   "display_name": "Python 3 (ipykernel)",
   "language": "python",
   "name": "python3"
  },
  "language_info": {
   "codemirror_mode": {
    "name": "ipython",
    "version": 3
   },
   "file_extension": ".py",
   "mimetype": "text/x-python",
   "name": "python",
   "nbconvert_exporter": "python",
   "pygments_lexer": "ipython3",
   "version": "3.10.14"
  },
  "widgets": {
   "application/vnd.jupyter.widget-state+json": {
    "09523ecf39e2446ba92ddfd8503c65f0": {
     "model_module": "@jupyter-widgets/controls",
     "model_module_version": "1.5.0",
     "model_name": "FloatProgressModel",
     "state": {
      "_dom_classes": [],
      "_model_module": "@jupyter-widgets/controls",
      "_model_module_version": "1.5.0",
      "_model_name": "FloatProgressModel",
      "_view_count": null,
      "_view_module": "@jupyter-widgets/controls",
      "_view_module_version": "1.5.0",
      "_view_name": "ProgressView",
      "bar_style": "success",
      "description": "",
      "description_tooltip": null,
      "layout": "IPY_MODEL_e308d118566345eb9193832888ed255f",
      "max": 100,
      "min": 0,
      "orientation": "horizontal",
      "style": "IPY_MODEL_305c11605a344a858cb574d6c94c2aa3",
      "value": 100
     }
    },
    "155b79e6e0d74ad4a745d4b3039d8428": {
     "model_module": "@jupyter-widgets/controls",
     "model_module_version": "1.5.0",
     "model_name": "FloatProgressModel",
     "state": {
      "_dom_classes": [],
      "_model_module": "@jupyter-widgets/controls",
      "_model_module_version": "1.5.0",
      "_model_name": "FloatProgressModel",
      "_view_count": null,
      "_view_module": "@jupyter-widgets/controls",
      "_view_module_version": "1.5.0",
      "_view_name": "ProgressView",
      "bar_style": "success",
      "description": "",
      "description_tooltip": null,
      "layout": "IPY_MODEL_6a013c349d094aa588a858756159487c",
      "max": 100,
      "min": 0,
      "orientation": "horizontal",
      "style": "IPY_MODEL_d517def31cb5442faa32385482bc0e91",
      "value": 100
     }
    },
    "26322b4d0c2a43db97a79f6a25b74795": {
     "model_module": "@jupyter-widgets/base",
     "model_module_version": "1.2.0",
     "model_name": "LayoutModel",
     "state": {
      "_model_module": "@jupyter-widgets/base",
      "_model_module_version": "1.2.0",
      "_model_name": "LayoutModel",
      "_view_count": null,
      "_view_module": "@jupyter-widgets/base",
      "_view_module_version": "1.2.0",
      "_view_name": "LayoutView",
      "align_content": null,
      "align_items": null,
      "align_self": null,
      "border": null,
      "bottom": null,
      "display": null,
      "flex": null,
      "flex_flow": null,
      "grid_area": null,
      "grid_auto_columns": null,
      "grid_auto_flow": null,
      "grid_auto_rows": null,
      "grid_column": null,
      "grid_gap": null,
      "grid_row": null,
      "grid_template_areas": null,
      "grid_template_columns": null,
      "grid_template_rows": null,
      "height": null,
      "justify_content": null,
      "justify_items": null,
      "left": null,
      "margin": null,
      "max_height": null,
      "max_width": null,
      "min_height": null,
      "min_width": null,
      "object_fit": null,
      "object_position": null,
      "order": null,
      "overflow": null,
      "overflow_x": null,
      "overflow_y": null,
      "padding": null,
      "right": null,
      "top": null,
      "visibility": null,
      "width": null
     }
    },
    "305c11605a344a858cb574d6c94c2aa3": {
     "model_module": "@jupyter-widgets/controls",
     "model_module_version": "1.5.0",
     "model_name": "ProgressStyleModel",
     "state": {
      "_model_module": "@jupyter-widgets/controls",
      "_model_module_version": "1.5.0",
      "_model_name": "ProgressStyleModel",
      "_view_count": null,
      "_view_module": "@jupyter-widgets/base",
      "_view_module_version": "1.2.0",
      "_view_name": "StyleView",
      "bar_color": null,
      "description_width": ""
     }
    },
    "35bf792f2dc4418a9e9855e9d8af7586": {
     "model_module": "@jupyter-widgets/controls",
     "model_module_version": "1.5.0",
     "model_name": "DescriptionStyleModel",
     "state": {
      "_model_module": "@jupyter-widgets/controls",
      "_model_module_version": "1.5.0",
      "_model_name": "DescriptionStyleModel",
      "_view_count": null,
      "_view_module": "@jupyter-widgets/base",
      "_view_module_version": "1.2.0",
      "_view_name": "StyleView",
      "description_width": ""
     }
    },
    "38ad17ad20b049eab6d53a3059be32b6": {
     "model_module": "@jupyter-widgets/controls",
     "model_module_version": "1.5.0",
     "model_name": "HTMLModel",
     "state": {
      "_dom_classes": [],
      "_model_module": "@jupyter-widgets/controls",
      "_model_module_version": "1.5.0",
      "_model_name": "HTMLModel",
      "_view_count": null,
      "_view_module": "@jupyter-widgets/controls",
      "_view_module_version": "1.5.0",
      "_view_name": "HTMLView",
      "description": "",
      "description_tooltip": null,
      "layout": "IPY_MODEL_26322b4d0c2a43db97a79f6a25b74795",
      "placeholder": "​",
      "style": "IPY_MODEL_35bf792f2dc4418a9e9855e9d8af7586",
      "value": "100%"
     }
    },
    "4a5eec90bacb4fd1ab2653d1ff8562e4": {
     "model_module": "@jupyter-widgets/base",
     "model_module_version": "1.2.0",
     "model_name": "LayoutModel",
     "state": {
      "_model_module": "@jupyter-widgets/base",
      "_model_module_version": "1.2.0",
      "_model_name": "LayoutModel",
      "_view_count": null,
      "_view_module": "@jupyter-widgets/base",
      "_view_module_version": "1.2.0",
      "_view_name": "LayoutView",
      "align_content": null,
      "align_items": null,
      "align_self": null,
      "border": null,
      "bottom": null,
      "display": null,
      "flex": null,
      "flex_flow": null,
      "grid_area": null,
      "grid_auto_columns": null,
      "grid_auto_flow": null,
      "grid_auto_rows": null,
      "grid_column": null,
      "grid_gap": null,
      "grid_row": null,
      "grid_template_areas": null,
      "grid_template_columns": null,
      "grid_template_rows": null,
      "height": null,
      "justify_content": null,
      "justify_items": null,
      "left": null,
      "margin": null,
      "max_height": null,
      "max_width": null,
      "min_height": null,
      "min_width": null,
      "object_fit": null,
      "object_position": null,
      "order": null,
      "overflow": null,
      "overflow_x": null,
      "overflow_y": null,
      "padding": null,
      "right": null,
      "top": null,
      "visibility": null,
      "width": null
     }
    },
    "4bffacf0b5404ee4a1b8d900be74457e": {
     "model_module": "@jupyter-widgets/base",
     "model_module_version": "1.2.0",
     "model_name": "LayoutModel",
     "state": {
      "_model_module": "@jupyter-widgets/base",
      "_model_module_version": "1.2.0",
      "_model_name": "LayoutModel",
      "_view_count": null,
      "_view_module": "@jupyter-widgets/base",
      "_view_module_version": "1.2.0",
      "_view_name": "LayoutView",
      "align_content": null,
      "align_items": null,
      "align_self": null,
      "border": null,
      "bottom": null,
      "display": null,
      "flex": null,
      "flex_flow": null,
      "grid_area": null,
      "grid_auto_columns": null,
      "grid_auto_flow": null,
      "grid_auto_rows": null,
      "grid_column": null,
      "grid_gap": null,
      "grid_row": null,
      "grid_template_areas": null,
      "grid_template_columns": null,
      "grid_template_rows": null,
      "height": null,
      "justify_content": null,
      "justify_items": null,
      "left": null,
      "margin": null,
      "max_height": null,
      "max_width": null,
      "min_height": null,
      "min_width": null,
      "object_fit": null,
      "object_position": null,
      "order": null,
      "overflow": null,
      "overflow_x": null,
      "overflow_y": null,
      "padding": null,
      "right": null,
      "top": null,
      "visibility": null,
      "width": null
     }
    },
    "54eafe55d9634b4391d662aca85f66e7": {
     "model_module": "@jupyter-widgets/controls",
     "model_module_version": "1.5.0",
     "model_name": "HTMLModel",
     "state": {
      "_dom_classes": [],
      "_model_module": "@jupyter-widgets/controls",
      "_model_module_version": "1.5.0",
      "_model_name": "HTMLModel",
      "_view_count": null,
      "_view_module": "@jupyter-widgets/controls",
      "_view_module_version": "1.5.0",
      "_view_name": "HTMLView",
      "description": "",
      "description_tooltip": null,
      "layout": "IPY_MODEL_ba68af42ab9345219b3bfbe61288ad81",
      "placeholder": "​",
      "style": "IPY_MODEL_bf901eacd1164b318d9743e2f8189ce7",
      "value": " 100/100 [02:13&lt;00:00,  2.26s/it]"
     }
    },
    "55539439efab48fd8ba032751992c0dd": {
     "model_module": "@jupyter-widgets/base",
     "model_module_version": "1.2.0",
     "model_name": "LayoutModel",
     "state": {
      "_model_module": "@jupyter-widgets/base",
      "_model_module_version": "1.2.0",
      "_model_name": "LayoutModel",
      "_view_count": null,
      "_view_module": "@jupyter-widgets/base",
      "_view_module_version": "1.2.0",
      "_view_name": "LayoutView",
      "align_content": null,
      "align_items": null,
      "align_self": null,
      "border": null,
      "bottom": null,
      "display": null,
      "flex": null,
      "flex_flow": null,
      "grid_area": null,
      "grid_auto_columns": null,
      "grid_auto_flow": null,
      "grid_auto_rows": null,
      "grid_column": null,
      "grid_gap": null,
      "grid_row": null,
      "grid_template_areas": null,
      "grid_template_columns": null,
      "grid_template_rows": null,
      "height": null,
      "justify_content": null,
      "justify_items": null,
      "left": null,
      "margin": null,
      "max_height": null,
      "max_width": null,
      "min_height": null,
      "min_width": null,
      "object_fit": null,
      "object_position": null,
      "order": null,
      "overflow": null,
      "overflow_x": null,
      "overflow_y": null,
      "padding": null,
      "right": null,
      "top": null,
      "visibility": null,
      "width": null
     }
    },
    "59da290ffeb7404891ea4a822ee6b2da": {
     "model_module": "@jupyter-widgets/controls",
     "model_module_version": "1.5.0",
     "model_name": "HTMLModel",
     "state": {
      "_dom_classes": [],
      "_model_module": "@jupyter-widgets/controls",
      "_model_module_version": "1.5.0",
      "_model_name": "HTMLModel",
      "_view_count": null,
      "_view_module": "@jupyter-widgets/controls",
      "_view_module_version": "1.5.0",
      "_view_name": "HTMLView",
      "description": "",
      "description_tooltip": null,
      "layout": "IPY_MODEL_4a5eec90bacb4fd1ab2653d1ff8562e4",
      "placeholder": "​",
      "style": "IPY_MODEL_f588b00848744b59af099902b02d5b27",
      "value": "100%"
     }
    },
    "6a013c349d094aa588a858756159487c": {
     "model_module": "@jupyter-widgets/base",
     "model_module_version": "1.2.0",
     "model_name": "LayoutModel",
     "state": {
      "_model_module": "@jupyter-widgets/base",
      "_model_module_version": "1.2.0",
      "_model_name": "LayoutModel",
      "_view_count": null,
      "_view_module": "@jupyter-widgets/base",
      "_view_module_version": "1.2.0",
      "_view_name": "LayoutView",
      "align_content": null,
      "align_items": null,
      "align_self": null,
      "border": null,
      "bottom": null,
      "display": null,
      "flex": null,
      "flex_flow": null,
      "grid_area": null,
      "grid_auto_columns": null,
      "grid_auto_flow": null,
      "grid_auto_rows": null,
      "grid_column": null,
      "grid_gap": null,
      "grid_row": null,
      "grid_template_areas": null,
      "grid_template_columns": null,
      "grid_template_rows": null,
      "height": null,
      "justify_content": null,
      "justify_items": null,
      "left": null,
      "margin": null,
      "max_height": null,
      "max_width": null,
      "min_height": null,
      "min_width": null,
      "object_fit": null,
      "object_position": null,
      "order": null,
      "overflow": null,
      "overflow_x": null,
      "overflow_y": null,
      "padding": null,
      "right": null,
      "top": null,
      "visibility": null,
      "width": null
     }
    },
    "88c9169a042e4d17bc7c8d2fc55d9568": {
     "model_module": "@jupyter-widgets/controls",
     "model_module_version": "1.5.0",
     "model_name": "HTMLModel",
     "state": {
      "_dom_classes": [],
      "_model_module": "@jupyter-widgets/controls",
      "_model_module_version": "1.5.0",
      "_model_name": "HTMLModel",
      "_view_count": null,
      "_view_module": "@jupyter-widgets/controls",
      "_view_module_version": "1.5.0",
      "_view_name": "HTMLView",
      "description": "",
      "description_tooltip": null,
      "layout": "IPY_MODEL_4bffacf0b5404ee4a1b8d900be74457e",
      "placeholder": "​",
      "style": "IPY_MODEL_ce5f203bc8bd4e79bb3d8a11e637bf17",
      "value": " 100/100 [00:01&lt;00:00, 60.48it/s]"
     }
    },
    "8ef85ae2cbe94dd7afe43bce0b346eec": {
     "model_module": "@jupyter-widgets/base",
     "model_module_version": "1.2.0",
     "model_name": "LayoutModel",
     "state": {
      "_model_module": "@jupyter-widgets/base",
      "_model_module_version": "1.2.0",
      "_model_name": "LayoutModel",
      "_view_count": null,
      "_view_module": "@jupyter-widgets/base",
      "_view_module_version": "1.2.0",
      "_view_name": "LayoutView",
      "align_content": null,
      "align_items": null,
      "align_self": null,
      "border": null,
      "bottom": null,
      "display": null,
      "flex": null,
      "flex_flow": null,
      "grid_area": null,
      "grid_auto_columns": null,
      "grid_auto_flow": null,
      "grid_auto_rows": null,
      "grid_column": null,
      "grid_gap": null,
      "grid_row": null,
      "grid_template_areas": null,
      "grid_template_columns": null,
      "grid_template_rows": null,
      "height": null,
      "justify_content": null,
      "justify_items": null,
      "left": null,
      "margin": null,
      "max_height": null,
      "max_width": null,
      "min_height": null,
      "min_width": null,
      "object_fit": null,
      "object_position": null,
      "order": null,
      "overflow": null,
      "overflow_x": null,
      "overflow_y": null,
      "padding": null,
      "right": null,
      "top": null,
      "visibility": null,
      "width": null
     }
    },
    "ba68af42ab9345219b3bfbe61288ad81": {
     "model_module": "@jupyter-widgets/base",
     "model_module_version": "1.2.0",
     "model_name": "LayoutModel",
     "state": {
      "_model_module": "@jupyter-widgets/base",
      "_model_module_version": "1.2.0",
      "_model_name": "LayoutModel",
      "_view_count": null,
      "_view_module": "@jupyter-widgets/base",
      "_view_module_version": "1.2.0",
      "_view_name": "LayoutView",
      "align_content": null,
      "align_items": null,
      "align_self": null,
      "border": null,
      "bottom": null,
      "display": null,
      "flex": null,
      "flex_flow": null,
      "grid_area": null,
      "grid_auto_columns": null,
      "grid_auto_flow": null,
      "grid_auto_rows": null,
      "grid_column": null,
      "grid_gap": null,
      "grid_row": null,
      "grid_template_areas": null,
      "grid_template_columns": null,
      "grid_template_rows": null,
      "height": null,
      "justify_content": null,
      "justify_items": null,
      "left": null,
      "margin": null,
      "max_height": null,
      "max_width": null,
      "min_height": null,
      "min_width": null,
      "object_fit": null,
      "object_position": null,
      "order": null,
      "overflow": null,
      "overflow_x": null,
      "overflow_y": null,
      "padding": null,
      "right": null,
      "top": null,
      "visibility": null,
      "width": null
     }
    },
    "bf901eacd1164b318d9743e2f8189ce7": {
     "model_module": "@jupyter-widgets/controls",
     "model_module_version": "1.5.0",
     "model_name": "DescriptionStyleModel",
     "state": {
      "_model_module": "@jupyter-widgets/controls",
      "_model_module_version": "1.5.0",
      "_model_name": "DescriptionStyleModel",
      "_view_count": null,
      "_view_module": "@jupyter-widgets/base",
      "_view_module_version": "1.2.0",
      "_view_name": "StyleView",
      "description_width": ""
     }
    },
    "ca8c9d4a3d1d49fb91f0cd6b55a71528": {
     "model_module": "@jupyter-widgets/controls",
     "model_module_version": "1.5.0",
     "model_name": "HBoxModel",
     "state": {
      "_dom_classes": [],
      "_model_module": "@jupyter-widgets/controls",
      "_model_module_version": "1.5.0",
      "_model_name": "HBoxModel",
      "_view_count": null,
      "_view_module": "@jupyter-widgets/controls",
      "_view_module_version": "1.5.0",
      "_view_name": "HBoxView",
      "box_style": "",
      "children": [
       "IPY_MODEL_38ad17ad20b049eab6d53a3059be32b6",
       "IPY_MODEL_09523ecf39e2446ba92ddfd8503c65f0",
       "IPY_MODEL_88c9169a042e4d17bc7c8d2fc55d9568"
      ],
      "layout": "IPY_MODEL_55539439efab48fd8ba032751992c0dd"
     }
    },
    "ce5f203bc8bd4e79bb3d8a11e637bf17": {
     "model_module": "@jupyter-widgets/controls",
     "model_module_version": "1.5.0",
     "model_name": "DescriptionStyleModel",
     "state": {
      "_model_module": "@jupyter-widgets/controls",
      "_model_module_version": "1.5.0",
      "_model_name": "DescriptionStyleModel",
      "_view_count": null,
      "_view_module": "@jupyter-widgets/base",
      "_view_module_version": "1.2.0",
      "_view_name": "StyleView",
      "description_width": ""
     }
    },
    "d517def31cb5442faa32385482bc0e91": {
     "model_module": "@jupyter-widgets/controls",
     "model_module_version": "1.5.0",
     "model_name": "ProgressStyleModel",
     "state": {
      "_model_module": "@jupyter-widgets/controls",
      "_model_module_version": "1.5.0",
      "_model_name": "ProgressStyleModel",
      "_view_count": null,
      "_view_module": "@jupyter-widgets/base",
      "_view_module_version": "1.2.0",
      "_view_name": "StyleView",
      "bar_color": null,
      "description_width": ""
     }
    },
    "e308d118566345eb9193832888ed255f": {
     "model_module": "@jupyter-widgets/base",
     "model_module_version": "1.2.0",
     "model_name": "LayoutModel",
     "state": {
      "_model_module": "@jupyter-widgets/base",
      "_model_module_version": "1.2.0",
      "_model_name": "LayoutModel",
      "_view_count": null,
      "_view_module": "@jupyter-widgets/base",
      "_view_module_version": "1.2.0",
      "_view_name": "LayoutView",
      "align_content": null,
      "align_items": null,
      "align_self": null,
      "border": null,
      "bottom": null,
      "display": null,
      "flex": null,
      "flex_flow": null,
      "grid_area": null,
      "grid_auto_columns": null,
      "grid_auto_flow": null,
      "grid_auto_rows": null,
      "grid_column": null,
      "grid_gap": null,
      "grid_row": null,
      "grid_template_areas": null,
      "grid_template_columns": null,
      "grid_template_rows": null,
      "height": null,
      "justify_content": null,
      "justify_items": null,
      "left": null,
      "margin": null,
      "max_height": null,
      "max_width": null,
      "min_height": null,
      "min_width": null,
      "object_fit": null,
      "object_position": null,
      "order": null,
      "overflow": null,
      "overflow_x": null,
      "overflow_y": null,
      "padding": null,
      "right": null,
      "top": null,
      "visibility": null,
      "width": null
     }
    },
    "e6257dff561b40b0be41454b9d2e0b51": {
     "model_module": "@jupyter-widgets/controls",
     "model_module_version": "1.5.0",
     "model_name": "HBoxModel",
     "state": {
      "_dom_classes": [],
      "_model_module": "@jupyter-widgets/controls",
      "_model_module_version": "1.5.0",
      "_model_name": "HBoxModel",
      "_view_count": null,
      "_view_module": "@jupyter-widgets/controls",
      "_view_module_version": "1.5.0",
      "_view_name": "HBoxView",
      "box_style": "",
      "children": [
       "IPY_MODEL_59da290ffeb7404891ea4a822ee6b2da",
       "IPY_MODEL_155b79e6e0d74ad4a745d4b3039d8428",
       "IPY_MODEL_54eafe55d9634b4391d662aca85f66e7"
      ],
      "layout": "IPY_MODEL_8ef85ae2cbe94dd7afe43bce0b346eec"
     }
    },
    "f588b00848744b59af099902b02d5b27": {
     "model_module": "@jupyter-widgets/controls",
     "model_module_version": "1.5.0",
     "model_name": "DescriptionStyleModel",
     "state": {
      "_model_module": "@jupyter-widgets/controls",
      "_model_module_version": "1.5.0",
      "_model_name": "DescriptionStyleModel",
      "_view_count": null,
      "_view_module": "@jupyter-widgets/base",
      "_view_module_version": "1.2.0",
      "_view_name": "StyleView",
      "description_width": ""
     }
    }
   }
  }
 },
 "nbformat": 4,
 "nbformat_minor": 4
}
