{
 "cells": [
  {
   "cell_type": "markdown",
   "metadata": {
    "id": "rePhgfnrGch0"
   },
   "source": [
    "# Simple math evaluation dataset benchmark  \n",
    "\n",
    "Here is the question: how many times can we add 1 and get the correct answer from an LLM ?  \n",
    "\n",
    "1+1 = 2  \n",
    "\n",
    "But does 1+1+1+1+1+1+1+1+1+1 = 10 ?  \n",
    "\n",
    "In this notebook, we will try different methods to force the LLM to answer in a format that we can safely evaluate.  \n",
    "\n",
    "We will test:  \n",
    "- unconstrained output on only 2 tokens  \n",
    "- ouput enforcer on a regex to get 1 to 3 digits  \n",
    "- output enforcer on a regex to get a single letter from ABCD  \n",
    "- read logit probas on the last token to evaluate ABCD tokens  \n",
    "- enable long form answers (64 tokens-long allowed) and perform RAG to find the closest choice answer\n",
    "\n",
    "We will create two datasets:  \n",
    "- dataset of \"1+1+...+1\" sums and their associated correct sum.  \n",
    "- MMLU style multiple choice dataset creation to need a letter instead of a number to answer a question  "
   ]
  },
  {
   "cell_type": "markdown",
   "metadata": {
    "id": "wpziuizzGx5o"
   },
   "source": [
    "## install libs"
   ]
  },
  {
   "cell_type": "code",
   "execution_count": 1,
   "metadata": {
    "id": "zg8AURklBx_3"
   },
   "outputs": [],
   "source": [
    "%%capture\n",
    "!pip install transformers datasets\n",
    "!pip install \"unsloth[colab-new] @ git+https://github.com/unslothai/unsloth.git\"\n",
    "!pip install --no-deps xformers trl peft accelerate bitsandbytes\n",
    "!pip install -U sentence-transformers\n",
    "!pip install faiss-cpu\n",
    "!pip install lm-format-enforcer"
   ]
  },
  {
   "cell_type": "markdown",
   "metadata": {
    "id": "98c8Um1SG6Ew"
   },
   "source": [
    "## Create dataset  \n",
    "\n",
    "We will create a simple \"+1\" sum with results ranging from 2 to 100.  \n",
    "We skip the first line that is 1 = 1 as we are only interested in sums (so we start at 1+1 = 2).  \n",
    "Therefore, the complete dataset will have 99 rows.  "
   ]
  },
  {
   "cell_type": "code",
   "execution_count": 2,
   "metadata": {
    "colab": {
     "base_uri": "https://localhost:8080/",
     "height": 206
    },
    "id": "Y7s8i4ncG21P",
    "outputId": "2c3dd802-275e-4f51-a41f-5345529e43d6"
   },
   "outputs": [
    {
     "data": {
      "text/html": [
       "<div>\n",
       "<style scoped>\n",
       "    .dataframe tbody tr th:only-of-type {\n",
       "        vertical-align: middle;\n",
       "    }\n",
       "\n",
       "    .dataframe tbody tr th {\n",
       "        vertical-align: top;\n",
       "    }\n",
       "\n",
       "    .dataframe thead th {\n",
       "        text-align: right;\n",
       "    }\n",
       "</style>\n",
       "<table border=\"1\" class=\"dataframe\">\n",
       "  <thead>\n",
       "    <tr style=\"text-align: right;\">\n",
       "      <th></th>\n",
       "      <th>sum</th>\n",
       "      <th>result</th>\n",
       "    </tr>\n",
       "  </thead>\n",
       "  <tbody>\n",
       "    <tr>\n",
       "      <th>1</th>\n",
       "      <td>1+1</td>\n",
       "      <td>2</td>\n",
       "    </tr>\n",
       "    <tr>\n",
       "      <th>2</th>\n",
       "      <td>1+1+1</td>\n",
       "      <td>3</td>\n",
       "    </tr>\n",
       "    <tr>\n",
       "      <th>3</th>\n",
       "      <td>1+1+1+1</td>\n",
       "      <td>4</td>\n",
       "    </tr>\n",
       "    <tr>\n",
       "      <th>4</th>\n",
       "      <td>1+1+1+1+1</td>\n",
       "      <td>5</td>\n",
       "    </tr>\n",
       "    <tr>\n",
       "      <th>5</th>\n",
       "      <td>1+1+1+1+1+1</td>\n",
       "      <td>6</td>\n",
       "    </tr>\n",
       "  </tbody>\n",
       "</table>\n",
       "</div>"
      ],
      "text/plain": [
       "           sum result\n",
       "1          1+1      2\n",
       "2        1+1+1      3\n",
       "3      1+1+1+1      4\n",
       "4    1+1+1+1+1      5\n",
       "5  1+1+1+1+1+1      6"
      ]
     },
     "execution_count": 2,
     "metadata": {},
     "output_type": "execute_result"
    }
   ],
   "source": [
    "import pandas as pd\n",
    "\n",
    "addition_list = []\n",
    "ones_list = []\n",
    "for i in range(100):\n",
    "  ones_list.append('1')\n",
    "  addition_list.append({\n",
    "      'sum' : '+'.join(ones_list),\n",
    "      'result' : str(i+1)\n",
    "      })\n",
    "\n",
    "additions_df = pd.DataFrame(addition_list)\n",
    "\n",
    "# we remove the first line that doesn't contain a sum (single one)\n",
    "additions_df = additions_df[additions_df['result'] != '1']\n",
    "\n",
    "additions_df.head()"
   ]
  },
  {
   "cell_type": "code",
   "execution_count": 3,
   "metadata": {
    "colab": {
     "base_uri": "https://localhost:8080/"
    },
    "id": "N93b0LoiIEQz",
    "outputId": "5037b1ea-c0fb-4549-b17d-87f81266a013"
   },
   "outputs": [
    {
     "data": {
      "text/plain": [
       "Dataset({\n",
       "    features: ['sum', 'result', '__index_level_0__'],\n",
       "    num_rows: 99\n",
       "})"
      ]
     },
     "execution_count": 3,
     "metadata": {},
     "output_type": "execute_result"
    }
   ],
   "source": [
    "from datasets import Dataset\n",
    "\n",
    "addition_dataset = Dataset.from_pandas(additions_df)\n",
    "addition_dataset\n",
    "\n",
    "# we will use this later, apply for now"
   ]
  },
  {
   "cell_type": "markdown",
   "metadata": {
    "id": "qh4mk33MIQO9"
   },
   "source": [
    "## load model"
   ]
  },
  {
   "cell_type": "code",
   "execution_count": 4,
   "metadata": {
    "colab": {
     "base_uri": "https://localhost:8080/"
    },
    "id": "HcytjL5CH4hx",
    "outputId": "8842bcc5-8264-4119-cde0-e33774cc24c4"
   },
   "outputs": [
    {
     "name": "stdout",
     "output_type": "stream",
     "text": [
      "🦥 Unsloth: Will patch your computer to enable 2x faster free finetuning.\n",
      "==((====))==  Unsloth: Fast Llama patching release 2024.5\n",
      "   \\\\   /|    GPU: NVIDIA GeForce RTX 3090. Max memory: 23.999 GB. Platform = Linux.\n",
      "O^O/ \\_/ \\    Pytorch: 2.2.2. CUDA = 8.6. CUDA Toolkit = 12.1.\n",
      "\\        /    Bfloat16 = TRUE. Xformers = 0.0.25.post1. FA = False.\n",
      " \"-____-\"     Free Apache license: http://github.com/unslothai/unsloth\n"
     ]
    },
    {
     "name": "stderr",
     "output_type": "stream",
     "text": [
      "Special tokens have been added in the vocabulary, make sure the associated word embeddings are fine-tuned or trained.\n"
     ]
    }
   ],
   "source": [
    "from unsloth import FastLanguageModel\n",
    "import torch\n",
    "max_seq_length = 2048 # Choose any! We auto support RoPE Scaling internally!\n",
    "dtype = None # None for auto detection. Float16 for Tesla T4, V100, Bfloat16 for Ampere+\n",
    "load_in_4bit = True # Use 4bit quantization to reduce memory usage. Can be False.\n",
    "\n",
    "model, tokenizer = FastLanguageModel.from_pretrained(\n",
    "    model_name = \"unsloth/llama-3-8b-bnb-4bit\",\n",
    "    max_seq_length = max_seq_length,\n",
    "    dtype = dtype,\n",
    "    load_in_4bit = load_in_4bit,\n",
    "    # token = \"hf_...\", # use one if using gated models like meta-llama/Llama-2-7b-hf\n",
    ")\n",
    "model.generation_config.pad_token_id = tokenizer.pad_token_id\n",
    "\n",
    "# set up temperature\n",
    "model.generation_config.temperature = 0.001"
   ]
  },
  {
   "cell_type": "markdown",
   "metadata": {
    "id": "HGT7WjvgTk9i"
   },
   "source": [
    "## define open ended inference function  \n",
    "\n",
    "We let the LLM answer with 2 tokens of its choosing.  \n",
    "We then assert whether the answer is correct or not.  "
   ]
  },
  {
   "cell_type": "code",
   "execution_count": 5,
   "metadata": {
    "colab": {
     "base_uri": "https://localhost:8080/"
    },
    "id": "kZJhkHcmIRFo",
    "outputId": "32198df7-d977-46e0-d6c5-92fbf6e6b6a0"
   },
   "outputs": [
    {
     "name": "stdout",
     "output_type": "stream",
     "text": [
      "2\n"
     ]
    }
   ],
   "source": [
    "alpaca_prompt = \"\"\"Below is an instruction that describes a task, paired with an input that provides further context. Write a response that appropriately completes the request.\n",
    "\n",
    "### Instruction:\n",
    "{}\n",
    "\n",
    "### Input:\n",
    "{}\n",
    "\n",
    "### Response:\n",
    "{}\"\"\"\n",
    "\n",
    "FastLanguageModel.for_inference(model) # Enable native 2x faster inference\n",
    "\n",
    "def get_answer_to_question(question):\n",
    "\n",
    "  prompt = alpaca_prompt.format(\n",
    "          \"Compute the result of this sum.\", # instruction\n",
    "          question, # input\n",
    "          \"\", # output - leave this blank for generation!\n",
    "      )\n",
    "\n",
    "  inputs = tokenizer([prompt], return_tensors = \"pt\").to(\"cuda\")\n",
    "\n",
    "  outputs = model.generate(**inputs, max_new_tokens = 2, use_cache = True)\n",
    "  return (tokenizer.batch_decode(outputs, skip_special_tokens=True)[0][len(prompt):].strip())\n",
    "\n",
    "response = get_answer_to_question('1+1')\n",
    "print(response)"
   ]
  },
  {
   "cell_type": "markdown",
   "metadata": {
    "id": "BHA2g3XUTm8I"
   },
   "source": [
    "## apply open ended inference to complete dataset"
   ]
  },
  {
   "cell_type": "code",
   "execution_count": 6,
   "metadata": {
    "colab": {
     "base_uri": "https://localhost:8080/",
     "height": 238,
     "referenced_widgets": [
      "03f0d54eff9449679b8a2187f090f0fb",
      "58affac485e24a4e8e32eae528cbd78d",
      "0098f401b6fa4f5db81cb252e7f35faf",
      "0a1534b9533b42c29dc984584be37c46",
      "e824f677e88a44cba3461797a70d7d81",
      "564fa5ebda1f4cc4a332679793422c31",
      "c21197256c6a4ff78a4aef53f496a85f",
      "77029de634d04b9ea9f80c7d18ea2637",
      "1e4a6e0c29874fb39ecc8481615feb9c",
      "8bbce210569b4929af78417c4aa212e4",
      "83dfe2c231d4427a8927e7f73c70af20"
     ]
    },
    "id": "IdMTQqL2Kqxg",
    "outputId": "6d6bc1cd-edb6-41ea-b0f3-ba2aca518d31"
   },
   "outputs": [
    {
     "data": {
      "application/vnd.jupyter.widget-view+json": {
       "model_id": "6b88bc268f944e13b94dc0368377fa7a",
       "version_major": 2,
       "version_minor": 0
      },
      "text/plain": [
       "  0%|          | 0/99 [00:00<?, ?it/s]"
      ]
     },
     "metadata": {},
     "output_type": "display_data"
    },
    {
     "data": {
      "text/html": [
       "<div>\n",
       "<style scoped>\n",
       "    .dataframe tbody tr th:only-of-type {\n",
       "        vertical-align: middle;\n",
       "    }\n",
       "\n",
       "    .dataframe tbody tr th {\n",
       "        vertical-align: top;\n",
       "    }\n",
       "\n",
       "    .dataframe thead th {\n",
       "        text-align: right;\n",
       "    }\n",
       "</style>\n",
       "<table border=\"1\" class=\"dataframe\">\n",
       "  <thead>\n",
       "    <tr style=\"text-align: right;\">\n",
       "      <th></th>\n",
       "      <th>sum</th>\n",
       "      <th>result</th>\n",
       "      <th>inferred_answer</th>\n",
       "    </tr>\n",
       "  </thead>\n",
       "  <tbody>\n",
       "    <tr>\n",
       "      <th>1</th>\n",
       "      <td>1+1</td>\n",
       "      <td>2</td>\n",
       "      <td>2</td>\n",
       "    </tr>\n",
       "    <tr>\n",
       "      <th>2</th>\n",
       "      <td>1+1+1</td>\n",
       "      <td>3</td>\n",
       "      <td>3</td>\n",
       "    </tr>\n",
       "    <tr>\n",
       "      <th>3</th>\n",
       "      <td>1+1+1+1</td>\n",
       "      <td>4</td>\n",
       "      <td>4</td>\n",
       "    </tr>\n",
       "    <tr>\n",
       "      <th>4</th>\n",
       "      <td>1+1+1+1+1</td>\n",
       "      <td>5</td>\n",
       "      <td>5</td>\n",
       "    </tr>\n",
       "    <tr>\n",
       "      <th>5</th>\n",
       "      <td>1+1+1+1+1+1</td>\n",
       "      <td>6</td>\n",
       "      <td>6</td>\n",
       "    </tr>\n",
       "  </tbody>\n",
       "</table>\n",
       "</div>"
      ],
      "text/plain": [
       "           sum result inferred_answer\n",
       "1          1+1      2               2\n",
       "2        1+1+1      3               3\n",
       "3      1+1+1+1      4               4\n",
       "4    1+1+1+1+1      5               5\n",
       "5  1+1+1+1+1+1      6               6"
      ]
     },
     "execution_count": 6,
     "metadata": {},
     "output_type": "execute_result"
    }
   ],
   "source": [
    "from tqdm.auto import tqdm\n",
    "\n",
    "tqdm.pandas()\n",
    "\n",
    "additions_df['inferred_answer'] = additions_df.progress_apply(lambda row: get_answer_to_question(row['sum']), axis=1)\n",
    "additions_df.head()"
   ]
  },
  {
   "cell_type": "code",
   "execution_count": 7,
   "metadata": {
    "colab": {
     "base_uri": "https://localhost:8080/",
     "height": 206
    },
    "id": "nKhMkl2GKqtH",
    "outputId": "59aa1d9a-4266-4f66-feb4-1854f0cf5321"
   },
   "outputs": [
    {
     "data": {
      "text/html": [
       "<div>\n",
       "<style scoped>\n",
       "    .dataframe tbody tr th:only-of-type {\n",
       "        vertical-align: middle;\n",
       "    }\n",
       "\n",
       "    .dataframe tbody tr th {\n",
       "        vertical-align: top;\n",
       "    }\n",
       "\n",
       "    .dataframe thead th {\n",
       "        text-align: right;\n",
       "    }\n",
       "</style>\n",
       "<table border=\"1\" class=\"dataframe\">\n",
       "  <thead>\n",
       "    <tr style=\"text-align: right;\">\n",
       "      <th></th>\n",
       "      <th>sum</th>\n",
       "      <th>result</th>\n",
       "      <th>inferred_answer</th>\n",
       "      <th>is_correct</th>\n",
       "    </tr>\n",
       "  </thead>\n",
       "  <tbody>\n",
       "    <tr>\n",
       "      <th>1</th>\n",
       "      <td>1+1</td>\n",
       "      <td>2</td>\n",
       "      <td>2</td>\n",
       "      <td>True</td>\n",
       "    </tr>\n",
       "    <tr>\n",
       "      <th>2</th>\n",
       "      <td>1+1+1</td>\n",
       "      <td>3</td>\n",
       "      <td>3</td>\n",
       "      <td>True</td>\n",
       "    </tr>\n",
       "    <tr>\n",
       "      <th>3</th>\n",
       "      <td>1+1+1+1</td>\n",
       "      <td>4</td>\n",
       "      <td>4</td>\n",
       "      <td>True</td>\n",
       "    </tr>\n",
       "    <tr>\n",
       "      <th>4</th>\n",
       "      <td>1+1+1+1+1</td>\n",
       "      <td>5</td>\n",
       "      <td>5</td>\n",
       "      <td>True</td>\n",
       "    </tr>\n",
       "    <tr>\n",
       "      <th>5</th>\n",
       "      <td>1+1+1+1+1+1</td>\n",
       "      <td>6</td>\n",
       "      <td>6</td>\n",
       "      <td>True</td>\n",
       "    </tr>\n",
       "  </tbody>\n",
       "</table>\n",
       "</div>"
      ],
      "text/plain": [
       "           sum result inferred_answer  is_correct\n",
       "1          1+1      2               2        True\n",
       "2        1+1+1      3               3        True\n",
       "3      1+1+1+1      4               4        True\n",
       "4    1+1+1+1+1      5               5        True\n",
       "5  1+1+1+1+1+1      6               6        True"
      ]
     },
     "execution_count": 7,
     "metadata": {},
     "output_type": "execute_result"
    }
   ],
   "source": [
    "# add a feature to indicate if the answer is correct\n",
    "additions_df['is_correct'] = additions_df['result'] == additions_df['inferred_answer']\n",
    "additions_df.head()"
   ]
  },
  {
   "cell_type": "markdown",
   "metadata": {
    "id": "hc-dI1h9pdaB"
   },
   "source": [
    "### Ratio of correct / incorrect (accuracy)  \n",
    "\n",
    "We show how many correct and incorrect answers are found in a bar plot.  \n",
    "Then display the accuracy percentage.  "
   ]
  },
  {
   "cell_type": "code",
   "execution_count": 8,
   "metadata": {
    "colab": {
     "base_uri": "https://localhost:8080/",
     "height": 430
    },
    "id": "tnC__1PMpYGU",
    "outputId": "55d4424b-4c3a-4917-cf71-e0fa913fcff0"
   },
   "outputs": [
    {
     "data": {
      "image/png": "[encoded data removed]",
      "text/plain": [
       "<Figure size 640x480 with 1 Axes>"
      ]
     },
     "metadata": {},
     "output_type": "display_data"
    }
   ],
   "source": [
    "from matplotlib import pyplot as plt\n",
    "import seaborn as sns\n",
    "additions_df.groupby('is_correct').size().plot(kind='barh', color=sns.palettes.mpl_palette('Dark2'))\n",
    "plt.gca().spines[['top', 'right',]].set_visible(False)"
   ]
  },
  {
   "cell_type": "code",
   "execution_count": 9,
   "metadata": {
    "colab": {
     "base_uri": "https://localhost:8080/"
    },
    "id": "RUv0IC1HpjWT",
    "outputId": "312e67dd-ba4a-45ad-d0a2-22e2690684c1"
   },
   "outputs": [
    {
     "name": "stdout",
     "output_type": "stream",
     "text": [
      "Average accuracy : 12.12%\n"
     ]
    }
   ],
   "source": [
    "print(f\"Average accuracy : {additions_df.is_correct.mean()*100:.02f}%\")"
   ]
  },
  {
   "cell_type": "markdown",
   "metadata": {
    "id": "zgw-Cjjiq9LU"
   },
   "source": [
    "### Where are the correct answers?"
   ]
  },
  {
   "cell_type": "code",
   "execution_count": 10,
   "metadata": {
    "colab": {
     "base_uri": "https://localhost:8080/",
     "height": 285
    },
    "id": "L47i6Yo7Kqqv",
    "outputId": "d9d7b2b8-b55c-4f7e-93e8-6f273b21fcad"
   },
   "outputs": [
    {
     "name": "stderr",
     "output_type": "stream",
     "text": [
      "/tmp/ipykernel_43/4247823890.py:16: UserWarning: set_ticklabels() should only be used with a fixed number of ticks, i.e. after set_ticks() or using a FixedLocator.\n",
      "  g.set_xticklabels(g.get_xticklabels(), rotation=90, ha=\"right\")\n"
     ]
    },
    {
     "data": {
      "text/plain": [
       "Text(0.5, 0, 'Sum')"
      ]
     },
     "execution_count": 10,
     "metadata": {},
     "output_type": "execute_result"
    },
    {
     "data": {
      "image/png": "[encoded data removed]",
      "text/plain": [
       "<Figure size 2000x200 with 1 Axes>"
      ]
     },
     "metadata": {},
     "output_type": "display_data"
    }
   ],
   "source": [
    "import seaborn as sns\n",
    "import matplotlib.pyplot as plt\n",
    "sns.set_theme(style=\"whitegrid\")\n",
    "\n",
    "# Order the results\n",
    "results = additions_df['result'].astype(int).unique()\n",
    "results.sort()\n",
    "\n",
    "# set the high and width\n",
    "plt.figure(figsize=(20, 2))\n",
    "\n",
    "# Create the barplot\n",
    "g = sns.barplot(x=\"result\", y=[1]*len(additions_df), data=additions_df, order=results, hue=\"is_correct\", palette=[\"#EA5455\", \"#34A853\"])\n",
    "\n",
    "# pivot label\n",
    "g.set_xticklabels(g.get_xticklabels(), rotation=90, ha=\"right\")\n",
    "\n",
    "# Add title and labels\n",
    "plt.title(\"Correctness of Results by Sum\")\n",
    "plt.xlabel(\"Sum\")\n"
   ]
  },
  {
   "cell_type": "markdown",
   "metadata": {
    "id": "3s-DWplXs3su"
   },
   "source": [
    "### Limits to the pure open ended method  \n",
    "\n",
    "We observe many answers that are not numbers.  \n",
    "A \"true\" open ended would require many more tokens availiable for the LLM to have a chance to give a long answer. In the current open ended method, we only give 2 tokens. Thus some answers are truncated sentences instead of the direct expected sentence.  \n",
    "It is hard to evaluate an LLM when the answer is a long form text.  \n",
    "\n",
    "We are expecting a number, and the answer could contain it.  \n",
    "However, by parsing the answer for said number, we could incorrectly assert a correct answer from a partial extraction (eg. \"The answer is 1000\" => string contains \"100\" so the answer is correct).  \n",
    "\n",
    "There are many ways to approach this issue:  \n",
    "- parsing (NER extraction to find numbers, REGEX)  \n",
    "- RAG to match answers close to the expected  \n",
    "- creating a multiple choice question with 4 options referenced by a letter  \n",
    "- using an output enforcer system\n",
    "\n",
    "We choose the two last options:  \n",
    "\n",
    "* output enforcer: this will guide the LLM to use only tokens that are numbers and still allow some freedom to answer truthfully in the limited tokens we allow.  \n",
    "\n",
    "* Multiple choice: this is similar to other benchmarks, like MMLU. We will measure the token probas for letters ABCD in the output.  \n",
    "\n",
    "As giving more tokens makes the benchmark slower, we have to rely on single token evaluation.  \n"
   ]
  },
  {
   "cell_type": "code",
   "execution_count": 11,
   "metadata": {
    "colab": {
     "base_uri": "https://localhost:8080/",
     "height": 285
    },
    "id": "bkF6AkSVtgte",
    "outputId": "045f282f-d928-4632-ccca-a2f6e099cbe2"
   },
   "outputs": [
    {
     "name": "stderr",
     "output_type": "stream",
     "text": [
      "/tmp/ipykernel_43/2706793522.py:24: UserWarning: set_ticklabels() should only be used with a fixed number of ticks, i.e. after set_ticks() or using a FixedLocator.\n",
      "  g.set_xticklabels(g.get_xticklabels(), rotation=90, ha=\"right\")\n"
     ]
    },
    {
     "data": {
      "text/plain": [
       "Text(0.5, 0, 'Sum')"
      ]
     },
     "execution_count": 11,
     "metadata": {},
     "output_type": "execute_result"
    },
    {
     "data": {
      "image/png": "[encoded data removed]",
      "text/plain": [
       "<Figure size 2000x200 with 1 Axes>"
      ]
     },
     "metadata": {},
     "output_type": "display_data"
    }
   ],
   "source": [
    "# Function to check if the value is an integer\n",
    "def check_type(value):\n",
    "    try:\n",
    "        int(value)\n",
    "        return True\n",
    "    except ValueError:\n",
    "        return False\n",
    "\n",
    "# Apply the function to create a new column\n",
    "additions_df['is_number'] = additions_df['inferred_answer'].apply(check_type)\n",
    "\n",
    "\n",
    "# Order the results\n",
    "results = additions_df['result'].astype(int).unique()\n",
    "results.sort()\n",
    "\n",
    "# set the high and width\n",
    "plt.figure(figsize=(20, 2))\n",
    "\n",
    "# Create the barplot\n",
    "g = sns.barplot(x=\"result\", y=[1]*len(additions_df), data=additions_df, order=results, hue=\"is_number\", palette=[\"#EA5455\", \"#34A853\"])\n",
    "\n",
    "# pivot label\n",
    "g.set_xticklabels(g.get_xticklabels(), rotation=90, ha=\"right\")\n",
    "\n",
    "# Add title and labels\n",
    "plt.title(\"Is the answer a number or a string?\")\n",
    "plt.xlabel(\"Sum\")"
   ]
  },
  {
   "cell_type": "markdown",
   "metadata": {
    "id": "_JIB87z0v3F2"
   },
   "source": [
    "## Open ended inference - with output enforcer  \n",
    "\n",
    "We use lib `lm-format-enforcer`:  \n",
    "https://github.com/noamgat/lm-format-enforcer/tree/main  \n",
    "\n",
    "We will use this enforcer to select tokens that are allowed by a regex.  \n",
    "In this particular case, we want numbers from 2 to 100, so 0-9 range digits with a cardinality 1-3.  \n",
    "\n"
   ]
  },
  {
   "cell_type": "markdown",
   "metadata": {
    "id": "RKqvrWsR56i1"
   },
   "source": [
    "### setup expected regex and define inference function  \n",
    "\n",
    "We retrieve most of the inference function from the previous step.  \n",
    "\n",
    "We first define a tokenzier_data and a parser, then passe them to the `generate_enforced()` function in place of the old `generate()`"
   ]
  },
  {
   "cell_type": "code",
   "execution_count": 12,
   "metadata": {
    "id": "MsN7-L7Kq6f9"
   },
   "outputs": [],
   "source": [
    "from typing import Tuple, Optional, Union, List\n",
    "import pandas as pd\n",
    "from lmformatenforcer import JsonSchemaParser, CharacterLevelParser, RegexParser, StringParser\n",
    "from lmformatenforcer.integrations.transformers import generate_enforced, build_token_enforcer_tokenizer_data\n",
    "\n",
    "tokenizer_data = build_token_enforcer_tokenizer_data(tokenizer)\n",
    "\n",
    "# regex for a number between 1 and 3 digits\n",
    "required_regex = r\"\\d{1,3}\"\n",
    "parser = RegexParser(required_regex)"
   ]
  },
  {
   "cell_type": "code",
   "execution_count": 13,
   "metadata": {
    "id": "ML_fdTDbx71-"
   },
   "outputs": [],
   "source": [
    "def get_enforced_answer_to_question(question: str) -> str:\n",
    "\n",
    "  prompt = alpaca_prompt.format(\n",
    "          \"Compute the result of this sum.\", # instruction\n",
    "          question, # input\n",
    "          \"\", # output - leave this blank for generation!\n",
    "      )\n",
    "\n",
    "  inputs = tokenizer([prompt], return_tensors = \"pt\").to(\"cuda\")\n",
    "\n",
    "  # outputs = model.generate(**inputs, max_new_tokens = 2, use_cache = True)\n",
    "  outputs = generate_enforced(model, tokenizer_data, parser, **inputs)\n",
    "  return (tokenizer.batch_decode(outputs, skip_special_tokens=True)[0][len(prompt):].strip())"
   ]
  },
  {
   "cell_type": "code",
   "execution_count": 14,
   "metadata": {
    "colab": {
     "base_uri": "https://localhost:8080/",
     "height": 36
    },
    "id": "J82AR5nf4_58",
    "outputId": "bb115213-8d2e-4d3f-be41-5980f58faf7c"
   },
   "outputs": [
    {
     "data": {
      "text/plain": [
       "'200'"
      ]
     },
     "execution_count": 14,
     "metadata": {},
     "output_type": "execute_result"
    }
   ],
   "source": [
    "question = '100+100'\n",
    "get_enforced_answer_to_question(question)"
   ]
  },
  {
   "cell_type": "markdown",
   "metadata": {
    "id": "tVlh60vg6VG2"
   },
   "source": [
    "### perform enforced inference on complete dataset"
   ]
  },
  {
   "cell_type": "code",
   "execution_count": 15,
   "metadata": {
    "colab": {
     "base_uri": "https://localhost:8080/",
     "height": 238,
     "referenced_widgets": [
      "e2006ebbbf284f82a6a3f2928acbd47b",
      "ba49b96519804d9e9e0d2c50757ba091",
      "48fe5bfd79ca4b5f8bc113929dec117f",
      "f93dedf2609b49e6bc3dcb0640f30400",
      "d91dcd4ae79d41f2866a944b66e117bf",
      "2d5f39d3749646b5b89bfc7d48b7abba",
      "4574a521bb4e40559fffb47ebc586c19",
      "32c345f27bf84c72aac38348969c369b",
      "2febb65c441d4e539e9d55cad34a730a",
      "87af5009fe0d43019ab60aa0fe580cab",
      "f12012e032b24d848166763d6ad0d449"
     ]
    },
    "id": "mdz2SB0W5e5W",
    "outputId": "3c45ba52-59c4-4f46-f5ee-3ad3bd5fa6ce"
   },
   "outputs": [
    {
     "data": {
      "application/vnd.jupyter.widget-view+json": {
       "model_id": "43a8879da017416e9eee36a864a5b8df",
       "version_major": 2,
       "version_minor": 0
      },
      "text/plain": [
       "  0%|          | 0/99 [00:00<?, ?it/s]"
      ]
     },
     "metadata": {},
     "output_type": "display_data"
    },
    {
     "data": {
      "text/html": [
       "<div>\n",
       "<style scoped>\n",
       "    .dataframe tbody tr th:only-of-type {\n",
       "        vertical-align: middle;\n",
       "    }\n",
       "\n",
       "    .dataframe tbody tr th {\n",
       "        vertical-align: top;\n",
       "    }\n",
       "\n",
       "    .dataframe thead th {\n",
       "        text-align: right;\n",
       "    }\n",
       "</style>\n",
       "<table border=\"1\" class=\"dataframe\">\n",
       "  <thead>\n",
       "    <tr style=\"text-align: right;\">\n",
       "      <th></th>\n",
       "      <th>sum</th>\n",
       "      <th>result</th>\n",
       "      <th>inferred_answer</th>\n",
       "      <th>is_correct</th>\n",
       "      <th>is_number</th>\n",
       "    </tr>\n",
       "  </thead>\n",
       "  <tbody>\n",
       "    <tr>\n",
       "      <th>1</th>\n",
       "      <td>1+1</td>\n",
       "      <td>2</td>\n",
       "      <td>2</td>\n",
       "      <td>True</td>\n",
       "      <td>True</td>\n",
       "    </tr>\n",
       "    <tr>\n",
       "      <th>2</th>\n",
       "      <td>1+1+1</td>\n",
       "      <td>3</td>\n",
       "      <td>3</td>\n",
       "      <td>True</td>\n",
       "      <td>True</td>\n",
       "    </tr>\n",
       "    <tr>\n",
       "      <th>3</th>\n",
       "      <td>1+1+1+1</td>\n",
       "      <td>4</td>\n",
       "      <td>4</td>\n",
       "      <td>True</td>\n",
       "      <td>True</td>\n",
       "    </tr>\n",
       "    <tr>\n",
       "      <th>4</th>\n",
       "      <td>1+1+1+1+1</td>\n",
       "      <td>5</td>\n",
       "      <td>5</td>\n",
       "      <td>True</td>\n",
       "      <td>True</td>\n",
       "    </tr>\n",
       "    <tr>\n",
       "      <th>5</th>\n",
       "      <td>1+1+1+1+1+1</td>\n",
       "      <td>6</td>\n",
       "      <td>6</td>\n",
       "      <td>True</td>\n",
       "      <td>True</td>\n",
       "    </tr>\n",
       "  </tbody>\n",
       "</table>\n",
       "</div>"
      ],
      "text/plain": [
       "           sum result inferred_answer  is_correct  is_number\n",
       "1          1+1      2               2        True       True\n",
       "2        1+1+1      3               3        True       True\n",
       "3      1+1+1+1      4               4        True       True\n",
       "4    1+1+1+1+1      5               5        True       True\n",
       "5  1+1+1+1+1+1      6               6        True       True"
      ]
     },
     "execution_count": 15,
     "metadata": {},
     "output_type": "execute_result"
    }
   ],
   "source": [
    "# copy the dataset\n",
    "additions_df_enforced = additions_df.copy(deep=True)\n",
    "\n",
    "additions_df_enforced['inferred_answer'] = additions_df_enforced.progress_apply(lambda row: get_enforced_answer_to_question(row['sum']), axis=1)\n",
    "additions_df_enforced.head()"
   ]
  },
  {
   "cell_type": "code",
   "execution_count": 16,
   "metadata": {
    "colab": {
     "base_uri": "https://localhost:8080/",
     "height": 206
    },
    "id": "121F9r_k6eq6",
    "outputId": "d91cb09a-ca62-4172-b3f6-b114738340aa"
   },
   "outputs": [
    {
     "data": {
      "text/html": [
       "<div>\n",
       "<style scoped>\n",
       "    .dataframe tbody tr th:only-of-type {\n",
       "        vertical-align: middle;\n",
       "    }\n",
       "\n",
       "    .dataframe tbody tr th {\n",
       "        vertical-align: top;\n",
       "    }\n",
       "\n",
       "    .dataframe thead th {\n",
       "        text-align: right;\n",
       "    }\n",
       "</style>\n",
       "<table border=\"1\" class=\"dataframe\">\n",
       "  <thead>\n",
       "    <tr style=\"text-align: right;\">\n",
       "      <th></th>\n",
       "      <th>sum</th>\n",
       "      <th>result</th>\n",
       "      <th>inferred_answer</th>\n",
       "      <th>is_correct</th>\n",
       "      <th>is_number</th>\n",
       "    </tr>\n",
       "  </thead>\n",
       "  <tbody>\n",
       "    <tr>\n",
       "      <th>1</th>\n",
       "      <td>1+1</td>\n",
       "      <td>2</td>\n",
       "      <td>2</td>\n",
       "      <td>True</td>\n",
       "      <td>True</td>\n",
       "    </tr>\n",
       "    <tr>\n",
       "      <th>2</th>\n",
       "      <td>1+1+1</td>\n",
       "      <td>3</td>\n",
       "      <td>3</td>\n",
       "      <td>True</td>\n",
       "      <td>True</td>\n",
       "    </tr>\n",
       "    <tr>\n",
       "      <th>3</th>\n",
       "      <td>1+1+1+1</td>\n",
       "      <td>4</td>\n",
       "      <td>4</td>\n",
       "      <td>True</td>\n",
       "      <td>True</td>\n",
       "    </tr>\n",
       "    <tr>\n",
       "      <th>4</th>\n",
       "      <td>1+1+1+1+1</td>\n",
       "      <td>5</td>\n",
       "      <td>5</td>\n",
       "      <td>True</td>\n",
       "      <td>True</td>\n",
       "    </tr>\n",
       "    <tr>\n",
       "      <th>5</th>\n",
       "      <td>1+1+1+1+1+1</td>\n",
       "      <td>6</td>\n",
       "      <td>6</td>\n",
       "      <td>True</td>\n",
       "      <td>True</td>\n",
       "    </tr>\n",
       "  </tbody>\n",
       "</table>\n",
       "</div>"
      ],
      "text/plain": [
       "           sum result inferred_answer  is_correct  is_number\n",
       "1          1+1      2               2        True       True\n",
       "2        1+1+1      3               3        True       True\n",
       "3      1+1+1+1      4               4        True       True\n",
       "4    1+1+1+1+1      5               5        True       True\n",
       "5  1+1+1+1+1+1      6               6        True       True"
      ]
     },
     "execution_count": 16,
     "metadata": {},
     "output_type": "execute_result"
    }
   ],
   "source": [
    "# add is_correct feature\n",
    "additions_df_enforced['is_correct'] = additions_df_enforced['result'] == additions_df_enforced['inferred_answer']\n",
    "additions_df_enforced.head()"
   ]
  },
  {
   "cell_type": "markdown",
   "metadata": {
    "id": "r5JuuvD16kCW"
   },
   "source": [
    "### analyze results"
   ]
  },
  {
   "cell_type": "markdown",
   "metadata": {
    "id": "23vZ3WyX6o1L"
   },
   "source": [
    "what are the correct and wrong answers?"
   ]
  },
  {
   "cell_type": "code",
   "execution_count": 17,
   "metadata": {
    "colab": {
     "base_uri": "https://localhost:8080/",
     "height": 434
    },
    "id": "88o1dbD06ouB",
    "outputId": "3cc80ab1-6b2a-4b32-ff69-99322598a31c"
   },
   "outputs": [
    {
     "data": {
      "image/png": "[encoded data removed]",
      "text/plain": [
       "<Figure size 640x480 with 1 Axes>"
      ]
     },
     "metadata": {},
     "output_type": "display_data"
    }
   ],
   "source": [
    "# seaborn bar plot of correct and incorrect answers\n",
    "from matplotlib import pyplot as plt\n",
    "import seaborn as sns\n",
    "additions_df_enforced.groupby('is_correct').size().plot(kind='barh', color=sns.palettes.mpl_palette('Dark2'))\n",
    "plt.gca().spines[['top', 'right',]].set_visible(False)"
   ]
  },
  {
   "cell_type": "markdown",
   "metadata": {
    "id": "OsHbVPiu6olk"
   },
   "source": [
    "What is the accuracy (percentage) ? => slightly improved"
   ]
  },
  {
   "cell_type": "code",
   "execution_count": 18,
   "metadata": {
    "colab": {
     "base_uri": "https://localhost:8080/"
    },
    "id": "DCU8ddtY6iDO",
    "outputId": "147ae0ce-12ca-4034-8e8e-570e103e1ce2"
   },
   "outputs": [
    {
     "name": "stdout",
     "output_type": "stream",
     "text": [
      "Average accuracy : 11.11%\n"
     ]
    }
   ],
   "source": [
    "# accuracy percentage\n",
    "print(f\"Average accuracy : {additions_df_enforced.is_correct.mean()*100:.02f}%\")"
   ]
  },
  {
   "cell_type": "code",
   "execution_count": 19,
   "metadata": {
    "colab": {
     "base_uri": "https://localhost:8080/",
     "height": 285
    },
    "id": "DbNnOFdF65r5",
    "outputId": "6b6254a8-b77e-4ea8-ca5d-d1f2bb54be01"
   },
   "outputs": [
    {
     "name": "stderr",
     "output_type": "stream",
     "text": [
      "/tmp/ipykernel_43/926448399.py:16: UserWarning: set_ticklabels() should only be used with a fixed number of ticks, i.e. after set_ticks() or using a FixedLocator.\n",
      "  g.set_xticklabels(g.get_xticklabels(), rotation=90, ha=\"right\")\n"
     ]
    },
    {
     "data": {
      "text/plain": [
       "Text(0.5, 0, 'Sum')"
      ]
     },
     "execution_count": 19,
     "metadata": {},
     "output_type": "execute_result"
    },
    {
     "data": {
      "image/png": "[encoded data removed]",
      "text/plain": [
       "<Figure size 2000x200 with 1 Axes>"
      ]
     },
     "metadata": {},
     "output_type": "display_data"
    }
   ],
   "source": [
    "import seaborn as sns\n",
    "import matplotlib.pyplot as plt\n",
    "sns.set_theme(style=\"whitegrid\")\n",
    "\n",
    "# Order the results\n",
    "results = additions_df_enforced['result'].astype(int).unique()\n",
    "results.sort()\n",
    "\n",
    "# set the high and width\n",
    "plt.figure(figsize=(20, 2))\n",
    "\n",
    "# Create the barplot\n",
    "g = sns.barplot(x=\"result\", y=[1]*len(additions_df_enforced), data=additions_df_enforced, order=results, hue=\"is_correct\", palette=[\"#EA5455\", \"#34A853\"])\n",
    "\n",
    "# pivot label\n",
    "g.set_xticklabels(g.get_xticklabels(), rotation=90, ha=\"right\")\n",
    "\n",
    "# Add title and labels\n",
    "plt.title(\"Correctness of Results by Sum\")\n",
    "plt.xlabel(\"Sum\")\n"
   ]
  },
  {
   "cell_type": "code",
   "execution_count": 20,
   "metadata": {
    "colab": {
     "base_uri": "https://localhost:8080/",
     "height": 285
    },
    "id": "DYy2lDygvEv5",
    "outputId": "18816b18-67c2-4b95-b61a-c2579928fff9"
   },
   "outputs": [
    {
     "name": "stderr",
     "output_type": "stream",
     "text": [
      "/tmp/ipykernel_43/1530401180.py:16: UserWarning: set_ticklabels() should only be used with a fixed number of ticks, i.e. after set_ticks() or using a FixedLocator.\n",
      "  g.set_xticklabels(g.get_xticklabels(), rotation=90, ha=\"right\")\n"
     ]
    },
    {
     "data": {
      "text/plain": [
       "Text(0.5, 0, 'Sum')"
      ]
     },
     "execution_count": 20,
     "metadata": {},
     "output_type": "execute_result"
    },
    {
     "data": {
      "image/png": "[encoded data removed]",
      "text/plain": [
       "<Figure size 2000x200 with 1 Axes>"
      ]
     },
     "metadata": {},
     "output_type": "display_data"
    }
   ],
   "source": [
    "# Apply the function to create a new column\n",
    "additions_df_enforced['is_number'] = additions_df_enforced['inferred_answer'].apply(check_type)\n",
    "\n",
    "\n",
    "# Order the results\n",
    "results = additions_df_enforced['result'].astype(int).unique()\n",
    "results.sort()\n",
    "\n",
    "# set the high and width\n",
    "plt.figure(figsize=(20, 2))\n",
    "\n",
    "# Create the barplot\n",
    "g = sns.barplot(x=\"result\", y=[1]*len(additions_df_enforced), data=additions_df_enforced, order=results, hue=\"is_number\", palette={False:\"#EA5455\", True:\"#34A853\"})\n",
    "\n",
    "# pivot label\n",
    "g.set_xticklabels(g.get_xticklabels(), rotation=90, ha=\"right\")\n",
    "\n",
    "# Add title and labels\n",
    "plt.title(\"Is the answer a number or a string?\")\n",
    "plt.xlabel(\"Sum\")"
   ]
  },
  {
   "cell_type": "markdown",
   "metadata": {
    "id": "RizBnRaIQTK1"
   },
   "source": [
    "## MMLU style multi choice dataset  \n",
    "\n",
    "We will create 4 choices for each sum result.  \n",
    "To prevent confusion with the expected number result, we will ask the LLM to predict a letter.  \n",
    "\n",
    "About the 4 choices:  \n",
    "- we will pick 4 random values between 2 and 100  \n",
    "- we will replace one of these values with the correct answer  \n",
    "- we will replace another one of these values with an answer that is 1 above or below the correct answer"
   ]
  },
  {
   "cell_type": "markdown",
   "metadata": {
    "id": "YJ6cESXoZooH"
   },
   "source": [
    "### update the dataset to add choices"
   ]
  },
  {
   "cell_type": "code",
   "execution_count": 21,
   "metadata": {
    "colab": {
     "base_uri": "https://localhost:8080/"
    },
    "id": "K3a55M4g7Aca",
    "outputId": "7a885279-589f-4b58-c7c6-0cd64840f779"
   },
   "outputs": [
    {
     "data": {
      "text/plain": [
       "[19, 18, 36, 11]"
      ]
     },
     "execution_count": 21,
     "metadata": {},
     "output_type": "execute_result"
    }
   ],
   "source": [
    "# get random value between 2 and 100\n",
    "import random\n",
    "random_values = [random.randint(2, 100) for _ in range(4)]\n",
    "random_values"
   ]
  },
  {
   "cell_type": "code",
   "execution_count": 22,
   "metadata": {
    "colab": {
     "base_uri": "https://localhost:8080/"
    },
    "id": "81Tg1cU2SCDj",
    "outputId": "4c98d75e-601c-49ec-c57c-091d11bf864d"
   },
   "outputs": [
    {
     "data": {
      "text/plain": [
       "([42, 18, 36, 11], 0)"
      ]
     },
     "execution_count": 22,
     "metadata": {},
     "output_type": "execute_result"
    }
   ],
   "source": [
    "answer = 42\n",
    "\n",
    "def add_answer_to_choices(choices, answer):\n",
    "  # if answer is present in the random values, collect its index\n",
    "  if answer in choices:\n",
    "    answer_position = choices.index(answer)\n",
    "  # else: create a random index between 0 and 3 and insert the answer\n",
    "  else:\n",
    "    answer_position = random.randint(0, 3)\n",
    "    choices[answer_position] = answer\n",
    "  return choices, answer_position\n",
    "\n",
    "choices, answer_position = add_answer_to_choices(random_values, answer)\n",
    "choices, answer_position"
   ]
  },
  {
   "cell_type": "code",
   "execution_count": 23,
   "metadata": {
    "colab": {
     "base_uri": "https://localhost:8080/"
    },
    "id": "xkOc9ph6SxKK",
    "outputId": "d7d5a9fb-a954-4761-aa70-01e7c55ee379"
   },
   "outputs": [
    {
     "data": {
      "text/plain": [
       "[42, 18, 36, 41]"
      ]
     },
     "execution_count": 23,
     "metadata": {},
     "output_type": "execute_result"
    }
   ],
   "source": [
    "# we take the answer and randomly add or substract one\n",
    "fake_answer = answer + random.choice([-1, 1])\n",
    "\n",
    "def add_fake_answer_to_choices(choices, fake_answer, answer_position):\n",
    "  # if fake answer is present in the choices, do nothing\n",
    "  # else\n",
    "  if fake_answer not in choices:\n",
    "    # get random index that doesn't contain answer_position\n",
    "    fake_answer_position = random.choice([i for i in range(4) if i != answer_position])\n",
    "    choices[fake_answer_position] = fake_answer\n",
    "  return choices\n",
    "\n",
    "choices = add_fake_answer_to_choices(choices, fake_answer, answer_position)\n",
    "choices"
   ]
  },
  {
   "cell_type": "code",
   "execution_count": 24,
   "metadata": {
    "colab": {
     "base_uri": "https://localhost:8080/",
     "height": 206
    },
    "id": "OHQHd3DRS3H3",
    "outputId": "43cff376-3f3d-4d5e-e305-24c3b87ec85d"
   },
   "outputs": [
    {
     "data": {
      "text/html": [
       "<div>\n",
       "<style scoped>\n",
       "    .dataframe tbody tr th:only-of-type {\n",
       "        vertical-align: middle;\n",
       "    }\n",
       "\n",
       "    .dataframe tbody tr th {\n",
       "        vertical-align: top;\n",
       "    }\n",
       "\n",
       "    .dataframe thead th {\n",
       "        text-align: right;\n",
       "    }\n",
       "</style>\n",
       "<table border=\"1\" class=\"dataframe\">\n",
       "  <thead>\n",
       "    <tr style=\"text-align: right;\">\n",
       "      <th></th>\n",
       "      <th>sum</th>\n",
       "      <th>result</th>\n",
       "      <th>inferred_answer</th>\n",
       "      <th>is_correct</th>\n",
       "      <th>is_number</th>\n",
       "      <th>choices</th>\n",
       "      <th>answer_position</th>\n",
       "    </tr>\n",
       "  </thead>\n",
       "  <tbody>\n",
       "    <tr>\n",
       "      <th>1</th>\n",
       "      <td>1+1</td>\n",
       "      <td>2</td>\n",
       "      <td>2</td>\n",
       "      <td>True</td>\n",
       "      <td>True</td>\n",
       "      <td>[83, 3, 2, 47]</td>\n",
       "      <td>2</td>\n",
       "    </tr>\n",
       "    <tr>\n",
       "      <th>2</th>\n",
       "      <td>1+1+1</td>\n",
       "      <td>3</td>\n",
       "      <td>3</td>\n",
       "      <td>True</td>\n",
       "      <td>True</td>\n",
       "      <td>[4, 99, 3, 15]</td>\n",
       "      <td>2</td>\n",
       "    </tr>\n",
       "    <tr>\n",
       "      <th>3</th>\n",
       "      <td>1+1+1+1</td>\n",
       "      <td>4</td>\n",
       "      <td>4</td>\n",
       "      <td>True</td>\n",
       "      <td>True</td>\n",
       "      <td>[28, 3, 9, 4]</td>\n",
       "      <td>3</td>\n",
       "    </tr>\n",
       "    <tr>\n",
       "      <th>4</th>\n",
       "      <td>1+1+1+1+1</td>\n",
       "      <td>5</td>\n",
       "      <td>5</td>\n",
       "      <td>True</td>\n",
       "      <td>True</td>\n",
       "      <td>[5, 60, 4, 61]</td>\n",
       "      <td>0</td>\n",
       "    </tr>\n",
       "    <tr>\n",
       "      <th>5</th>\n",
       "      <td>1+1+1+1+1+1</td>\n",
       "      <td>6</td>\n",
       "      <td>6</td>\n",
       "      <td>True</td>\n",
       "      <td>True</td>\n",
       "      <td>[16, 5, 6, 18]</td>\n",
       "      <td>2</td>\n",
       "    </tr>\n",
       "  </tbody>\n",
       "</table>\n",
       "</div>"
      ],
      "text/plain": [
       "           sum result inferred_answer  is_correct  is_number         choices  \\\n",
       "1          1+1      2               2        True       True  [83, 3, 2, 47]   \n",
       "2        1+1+1      3               3        True       True  [4, 99, 3, 15]   \n",
       "3      1+1+1+1      4               4        True       True   [28, 3, 9, 4]   \n",
       "4    1+1+1+1+1      5               5        True       True  [5, 60, 4, 61]   \n",
       "5  1+1+1+1+1+1      6               6        True       True  [16, 5, 6, 18]   \n",
       "\n",
       "   answer_position  \n",
       "1                2  \n",
       "2                2  \n",
       "3                3  \n",
       "4                0  \n",
       "5                2  "
      ]
     },
     "execution_count": 24,
     "metadata": {},
     "output_type": "execute_result"
    }
   ],
   "source": [
    "def create_mmlu_style_dataset(row):\n",
    "  random_values = [random.randint(2, 100) for _ in range(4)]\n",
    "\n",
    "  answer = int(row['result'])\n",
    "  choices, answer_position = add_answer_to_choices(random_values, answer)\n",
    "\n",
    "  fake_answer = answer + random.choice([-1, 1])\n",
    "  choices = add_fake_answer_to_choices(choices, fake_answer, answer_position)\n",
    "\n",
    "  row['choices'] = choices\n",
    "  row['answer_position'] = answer_position\n",
    "\n",
    "  return row\n",
    "\n",
    "additions_df_mmlu = additions_df.apply(lambda row: create_mmlu_style_dataset(row), axis=1)\n",
    "additions_df_mmlu.head()"
   ]
  },
  {
   "cell_type": "markdown",
   "metadata": {
    "id": "61r33dkdZsCf"
   },
   "source": [
    "### add expected answer letter `answer_letter`  \n",
    "\n",
    "The `answer_letter` feature contains the letter that corresponds to the answer.  \n",
    "\n",
    "Eg.  \n",
    "\n",
    "What is the result of 1+1 ?  \n",
    "\n",
    "A. 55  \n",
    "B. 19  \n",
    "C. 2  \n",
    "D. 3  \n",
    "\n",
    "Correct answer is C, so `answer_letter = C`"
   ]
  },
  {
   "cell_type": "code",
   "execution_count": 25,
   "metadata": {
    "id": "IdgOQiNHUu3O"
   },
   "outputs": [],
   "source": [
    "# convert 0-3 int to A-D letter\n",
    "def get_letter(index):\n",
    "  return chr(ord('A') + index)"
   ]
  },
  {
   "cell_type": "code",
   "execution_count": 26,
   "metadata": {
    "colab": {
     "base_uri": "https://localhost:8080/",
     "height": 206
    },
    "id": "4M-Q2XzKYhXg",
    "outputId": "d46427cf-37ac-46ba-8e5a-2b979359539a"
   },
   "outputs": [
    {
     "data": {
      "text/html": [
       "<div>\n",
       "<style scoped>\n",
       "    .dataframe tbody tr th:only-of-type {\n",
       "        vertical-align: middle;\n",
       "    }\n",
       "\n",
       "    .dataframe tbody tr th {\n",
       "        vertical-align: top;\n",
       "    }\n",
       "\n",
       "    .dataframe thead th {\n",
       "        text-align: right;\n",
       "    }\n",
       "</style>\n",
       "<table border=\"1\" class=\"dataframe\">\n",
       "  <thead>\n",
       "    <tr style=\"text-align: right;\">\n",
       "      <th></th>\n",
       "      <th>sum</th>\n",
       "      <th>result</th>\n",
       "      <th>inferred_answer</th>\n",
       "      <th>is_correct</th>\n",
       "      <th>is_number</th>\n",
       "      <th>choices</th>\n",
       "      <th>answer_position</th>\n",
       "      <th>answer_letter</th>\n",
       "    </tr>\n",
       "  </thead>\n",
       "  <tbody>\n",
       "    <tr>\n",
       "      <th>1</th>\n",
       "      <td>1+1</td>\n",
       "      <td>2</td>\n",
       "      <td>2</td>\n",
       "      <td>True</td>\n",
       "      <td>True</td>\n",
       "      <td>[83, 3, 2, 47]</td>\n",
       "      <td>2</td>\n",
       "      <td>C</td>\n",
       "    </tr>\n",
       "    <tr>\n",
       "      <th>2</th>\n",
       "      <td>1+1+1</td>\n",
       "      <td>3</td>\n",
       "      <td>3</td>\n",
       "      <td>True</td>\n",
       "      <td>True</td>\n",
       "      <td>[4, 99, 3, 15]</td>\n",
       "      <td>2</td>\n",
       "      <td>C</td>\n",
       "    </tr>\n",
       "    <tr>\n",
       "      <th>3</th>\n",
       "      <td>1+1+1+1</td>\n",
       "      <td>4</td>\n",
       "      <td>4</td>\n",
       "      <td>True</td>\n",
       "      <td>True</td>\n",
       "      <td>[28, 3, 9, 4]</td>\n",
       "      <td>3</td>\n",
       "      <td>D</td>\n",
       "    </tr>\n",
       "    <tr>\n",
       "      <th>4</th>\n",
       "      <td>1+1+1+1+1</td>\n",
       "      <td>5</td>\n",
       "      <td>5</td>\n",
       "      <td>True</td>\n",
       "      <td>True</td>\n",
       "      <td>[5, 60, 4, 61]</td>\n",
       "      <td>0</td>\n",
       "      <td>A</td>\n",
       "    </tr>\n",
       "    <tr>\n",
       "      <th>5</th>\n",
       "      <td>1+1+1+1+1+1</td>\n",
       "      <td>6</td>\n",
       "      <td>6</td>\n",
       "      <td>True</td>\n",
       "      <td>True</td>\n",
       "      <td>[16, 5, 6, 18]</td>\n",
       "      <td>2</td>\n",
       "      <td>C</td>\n",
       "    </tr>\n",
       "  </tbody>\n",
       "</table>\n",
       "</div>"
      ],
      "text/plain": [
       "           sum result inferred_answer  is_correct  is_number         choices  \\\n",
       "1          1+1      2               2        True       True  [83, 3, 2, 47]   \n",
       "2        1+1+1      3               3        True       True  [4, 99, 3, 15]   \n",
       "3      1+1+1+1      4               4        True       True   [28, 3, 9, 4]   \n",
       "4    1+1+1+1+1      5               5        True       True  [5, 60, 4, 61]   \n",
       "5  1+1+1+1+1+1      6               6        True       True  [16, 5, 6, 18]   \n",
       "\n",
       "   answer_position answer_letter  \n",
       "1                2             C  \n",
       "2                2             C  \n",
       "3                3             D  \n",
       "4                0             A  \n",
       "5                2             C  "
      ]
     },
     "execution_count": 26,
     "metadata": {},
     "output_type": "execute_result"
    }
   ],
   "source": [
    "additions_df_mmlu['answer_letter'] = additions_df_mmlu.apply(lambda row: get_letter(row['answer_position']), axis=1)\n",
    "additions_df_mmlu.head()"
   ]
  },
  {
   "cell_type": "markdown",
   "metadata": {
    "id": "-txPG1EhibrT"
   },
   "source": [
    "## Use output enforcer to choose MMLU answer  "
   ]
  },
  {
   "cell_type": "markdown",
   "metadata": {
    "id": "GqKi0aCqavo1"
   },
   "source": [
    "#### format choices in MMLU style"
   ]
  },
  {
   "cell_type": "code",
   "execution_count": 27,
   "metadata": {
    "colab": {
     "base_uri": "https://localhost:8080/"
    },
    "id": "ovHLQwYtY-zj",
    "outputId": "15b3156c-ae79-4a1f-d091-30f1de2baed2"
   },
   "outputs": [
    {
     "name": "stdout",
     "output_type": "stream",
     "text": [
      "  A. 55  \n",
      "  B. 19  \n",
      "  C. 2  \n",
      "  D. 3  \n",
      "\n"
     ]
    }
   ],
   "source": [
    "# format choices to have a list of A to D answers\n",
    "def format_choice(choices):\n",
    "\n",
    "  letters = [\"A\", \"B\", \"C\", \"D\"]\n",
    "\n",
    "  lines = []\n",
    "  for letter, choice in zip(letters, choices):\n",
    "    lines.append(f\"  {letter}. {choice}  \")\n",
    "\n",
    "  return \"\\n\".join(lines) + '\\n'\n",
    "\n",
    "example_choices = [55, 19, 2, 3]\n",
    "print(format_choice(example_choices))"
   ]
  },
  {
   "cell_type": "markdown",
   "metadata": {
    "id": "gQNEU4qRazLu"
   },
   "source": [
    "#### update prompt to MMLU style"
   ]
  },
  {
   "cell_type": "code",
   "execution_count": 28,
   "metadata": {
    "id": "VwYrA00ZaDm3"
   },
   "outputs": [],
   "source": [
    "# after getting devastating results, we add one shot example to the prompt\n",
    "mmlu_style_prompt = \"\"\"\n",
    "Answer the following multiple choice question.\n",
    "The last line of your response should be of the following format: 'The answer is : $LETTER' (without quotes) where LETTER is one of A B C D.\n",
    "Think step by step before answering.\n",
    "\n",
    "Question: What is the sum of : 2+2\n",
    "Choices:\n",
    "A. 55\n",
    "B. 19\n",
    "C. 4\n",
    "D. 3\n",
    "\n",
    "The answer is : C\n",
    "\n",
    "Question: What is the sum of : 3+3\n",
    "Choices:\n",
    "A. 6\n",
    "B. 19\n",
    "C. 4\n",
    "D. 3\n",
    "\n",
    "The answer is : A\n",
    "\n",
    "Question: What is the sum of : 4+4\n",
    "Choices:\n",
    "A. 55\n",
    "B. 8\n",
    "C. 4\n",
    "D. 3\n",
    "\n",
    "The answer is : B\n",
    "\n",
    "Question: What is the sum of : 5+5\n",
    "Choices:\n",
    "A. 55\n",
    "B. 19\n",
    "C. 4\n",
    "D. 10\n",
    "\n",
    "The answer is : D\n",
    "\n",
    "Question: What is the sum of : {}\n",
    "Choices:\n",
    "{}\n",
    "\n",
    "The answer is : {}\"\"\""
   ]
  },
  {
   "cell_type": "code",
   "execution_count": 29,
   "metadata": {
    "colab": {
     "base_uri": "https://localhost:8080/"
    },
    "id": "QnfHd3b_br1F",
    "outputId": "fa40f1d2-b44c-4a03-9ce2-d71c90a48ddc"
   },
   "outputs": [
    {
     "name": "stdout",
     "output_type": "stream",
     "text": [
      "\n",
      "Answer the following multiple choice question.\n",
      "The last line of your response should be of the following format: 'The answer is : $LETTER' (without quotes) where LETTER is one of A B C D.\n",
      "Think step by step before answering.\n",
      "\n",
      "Question: What is the sum of : 2+2\n",
      "Choices:\n",
      "A. 55\n",
      "B. 19\n",
      "C. 4\n",
      "D. 3\n",
      "\n",
      "The answer is : C\n",
      "\n",
      "Question: What is the sum of : 3+3\n",
      "Choices:\n",
      "A. 6\n",
      "B. 19\n",
      "C. 4\n",
      "D. 3\n",
      "\n",
      "The answer is : A\n",
      "\n",
      "Question: What is the sum of : 4+4\n",
      "Choices:\n",
      "A. 55\n",
      "B. 8\n",
      "C. 4\n",
      "D. 3\n",
      "\n",
      "The answer is : B\n",
      "\n",
      "Question: What is the sum of : 5+5\n",
      "Choices:\n",
      "A. 55\n",
      "B. 19\n",
      "C. 4\n",
      "D. 10\n",
      "\n",
      "The answer is : D\n",
      "\n",
      "Question: What is the sum of : 1+1\n",
      "Choices:\n",
      "  A. 55  \n",
      "  B. 19  \n",
      "  C. 2  \n",
      "  D. 3  \n",
      "\n",
      "\n",
      "The answer is : \n"
     ]
    }
   ],
   "source": [
    "example_question = '1+1'\n",
    "\n",
    "print(mmlu_style_prompt.format(\n",
    "          example_question, # question\n",
    "          format_choice(example_choices), # choices\n",
    "          \"\", # output - leave this blank for generation!\n",
    "      ))"
   ]
  },
  {
   "cell_type": "markdown",
   "metadata": {
    "id": "x7bth_TUbEPO"
   },
   "source": [
    "#### update inference function  \n",
    "\n",
    "Finally, update the regex and declare new inference function with the previous changes\n"
   ]
  },
  {
   "cell_type": "code",
   "execution_count": 30,
   "metadata": {
    "id": "DS56nxXubPNM"
   },
   "outputs": [],
   "source": [
    "tokenizer_data = build_token_enforcer_tokenizer_data(tokenizer)\n",
    "\n",
    "# regex for a single letter between A and D\n",
    "required_regex = r\"[ABCD]\"\n",
    "parser = RegexParser(required_regex)"
   ]
  },
  {
   "cell_type": "code",
   "execution_count": 31,
   "metadata": {
    "colab": {
     "base_uri": "https://localhost:8080/",
     "height": 36
    },
    "id": "NrRTS8JRauWm",
    "outputId": "e1639dfb-e0a7-4980-ac3b-080511b8beaf"
   },
   "outputs": [
    {
     "data": {
      "text/plain": [
       "'C'"
      ]
     },
     "execution_count": 31,
     "metadata": {},
     "output_type": "execute_result"
    }
   ],
   "source": [
    "def get_enforced_answer_to_question_mmlu_style(question, choices):\n",
    "\n",
    "  prompt = mmlu_style_prompt.format(\n",
    "          question, # question\n",
    "          format_choice(choices), # choices\n",
    "          \"\", # output - leave this blank for generation!\n",
    "      )\n",
    "\n",
    "  inputs = tokenizer([prompt], return_tensors = \"pt\").to(\"cuda\")\n",
    "\n",
    "  # outputs = model.generate(**inputs, max_new_tokens = 2, use_cache = True)\n",
    "  outputs = generate_enforced(model, tokenizer_data, parser, **inputs)\n",
    "  return (tokenizer.batch_decode(outputs, skip_special_tokens=True)[0][len(prompt)-1:].strip())\n",
    "\n",
    "get_enforced_answer_to_question_mmlu_style(example_question, example_choices)"
   ]
  },
  {
   "cell_type": "markdown",
   "metadata": {
    "id": "Gq05bpZVbPqx"
   },
   "source": [
    "### Apply MMLU style inference function to complete dataset"
   ]
  },
  {
   "cell_type": "code",
   "execution_count": 32,
   "metadata": {
    "colab": {
     "base_uri": "https://localhost:8080/",
     "height": 238,
     "referenced_widgets": [
      "d8b5cce6152a4ba4859bf1f012a73b5c",
      "424ddacdad7e4d6fb902736482b47c2f",
      "75a5997bd1ec475d922a05fc659dc100",
      "0710039b6d7842e68f1a9e5ddd34d5da",
      "b5447ba186e34878930f55b4c50441fe",
      "8b8c2058d5334723b3cc0dabf8b4b5dd",
      "1c342fa12d9c4ac5b111d024c3005ef9",
      "05a4dfccfb564bff9cea69b3242aef4f",
      "dbd216e1fa1945b49150e50e9e60ff9b",
      "b4c5d6676c1b4240a304724a9c0374ad",
      "801e63978fa84230a312d7b67a9d00f9"
     ]
    },
    "id": "4Jrl7MN4bP7p",
    "outputId": "72e5af05-75d2-4fb9-9685-5b3c2355c030"
   },
   "outputs": [
    {
     "data": {
      "application/vnd.jupyter.widget-view+json": {
       "model_id": "25598a34ec784ef889205d412f159702",
       "version_major": 2,
       "version_minor": 0
      },
      "text/plain": [
       "  0%|          | 0/99 [00:00<?, ?it/s]"
      ]
     },
     "metadata": {},
     "output_type": "display_data"
    },
    {
     "data": {
      "text/html": [
       "<div>\n",
       "<style scoped>\n",
       "    .dataframe tbody tr th:only-of-type {\n",
       "        vertical-align: middle;\n",
       "    }\n",
       "\n",
       "    .dataframe tbody tr th {\n",
       "        vertical-align: top;\n",
       "    }\n",
       "\n",
       "    .dataframe thead th {\n",
       "        text-align: right;\n",
       "    }\n",
       "</style>\n",
       "<table border=\"1\" class=\"dataframe\">\n",
       "  <thead>\n",
       "    <tr style=\"text-align: right;\">\n",
       "      <th></th>\n",
       "      <th>sum</th>\n",
       "      <th>result</th>\n",
       "      <th>inferred_answer</th>\n",
       "      <th>is_correct</th>\n",
       "      <th>is_number</th>\n",
       "      <th>choices</th>\n",
       "      <th>answer_position</th>\n",
       "      <th>answer_letter</th>\n",
       "      <th>inferred_letter_answer</th>\n",
       "    </tr>\n",
       "  </thead>\n",
       "  <tbody>\n",
       "    <tr>\n",
       "      <th>1</th>\n",
       "      <td>1+1</td>\n",
       "      <td>2</td>\n",
       "      <td>2</td>\n",
       "      <td>True</td>\n",
       "      <td>True</td>\n",
       "      <td>[83, 3, 2, 47]</td>\n",
       "      <td>2</td>\n",
       "      <td>C</td>\n",
       "      <td>B</td>\n",
       "    </tr>\n",
       "    <tr>\n",
       "      <th>2</th>\n",
       "      <td>1+1+1</td>\n",
       "      <td>3</td>\n",
       "      <td>3</td>\n",
       "      <td>True</td>\n",
       "      <td>True</td>\n",
       "      <td>[4, 99, 3, 15]</td>\n",
       "      <td>2</td>\n",
       "      <td>C</td>\n",
       "      <td>A</td>\n",
       "    </tr>\n",
       "    <tr>\n",
       "      <th>3</th>\n",
       "      <td>1+1+1+1</td>\n",
       "      <td>4</td>\n",
       "      <td>4</td>\n",
       "      <td>True</td>\n",
       "      <td>True</td>\n",
       "      <td>[28, 3, 9, 4]</td>\n",
       "      <td>3</td>\n",
       "      <td>D</td>\n",
       "      <td>A</td>\n",
       "    </tr>\n",
       "    <tr>\n",
       "      <th>4</th>\n",
       "      <td>1+1+1+1+1</td>\n",
       "      <td>5</td>\n",
       "      <td>5</td>\n",
       "      <td>True</td>\n",
       "      <td>True</td>\n",
       "      <td>[5, 60, 4, 61]</td>\n",
       "      <td>0</td>\n",
       "      <td>A</td>\n",
       "      <td>A</td>\n",
       "    </tr>\n",
       "    <tr>\n",
       "      <th>5</th>\n",
       "      <td>1+1+1+1+1+1</td>\n",
       "      <td>6</td>\n",
       "      <td>6</td>\n",
       "      <td>True</td>\n",
       "      <td>True</td>\n",
       "      <td>[16, 5, 6, 18]</td>\n",
       "      <td>2</td>\n",
       "      <td>C</td>\n",
       "      <td>A</td>\n",
       "    </tr>\n",
       "  </tbody>\n",
       "</table>\n",
       "</div>"
      ],
      "text/plain": [
       "           sum result inferred_answer  is_correct  is_number         choices  \\\n",
       "1          1+1      2               2        True       True  [83, 3, 2, 47]   \n",
       "2        1+1+1      3               3        True       True  [4, 99, 3, 15]   \n",
       "3      1+1+1+1      4               4        True       True   [28, 3, 9, 4]   \n",
       "4    1+1+1+1+1      5               5        True       True  [5, 60, 4, 61]   \n",
       "5  1+1+1+1+1+1      6               6        True       True  [16, 5, 6, 18]   \n",
       "\n",
       "   answer_position answer_letter inferred_letter_answer  \n",
       "1                2             C                      B  \n",
       "2                2             C                      A  \n",
       "3                3             D                      A  \n",
       "4                0             A                      A  \n",
       "5                2             C                      A  "
      ]
     },
     "execution_count": 32,
     "metadata": {},
     "output_type": "execute_result"
    }
   ],
   "source": [
    "additions_df_mmlu['inferred_letter_answer'] = additions_df_mmlu.progress_apply(lambda row: get_enforced_answer_to_question_mmlu_style(row['sum'], row['choices']), axis=1)\n",
    "additions_df_mmlu.head()"
   ]
  },
  {
   "cell_type": "code",
   "execution_count": 33,
   "metadata": {
    "id": "3z6tIHrWdh5S"
   },
   "outputs": [],
   "source": [
    "additions_df_mmlu['is_correct_letter'] = additions_df_mmlu['answer_letter'] == additions_df_mmlu['inferred_letter_answer']"
   ]
  },
  {
   "cell_type": "code",
   "execution_count": 34,
   "metadata": {
    "colab": {
     "base_uri": "https://localhost:8080/"
    },
    "id": "38iMrRR4doy7",
    "outputId": "3b52e8d2-1b56-4e94-8a98-19369dcda27c"
   },
   "outputs": [
    {
     "name": "stdout",
     "output_type": "stream",
     "text": [
      "Average accuracy : 28.28%\n"
     ]
    }
   ],
   "source": [
    "# get mean is_correct_letter accuracy\n",
    "print(f\"Average accuracy : {additions_df_mmlu.is_correct_letter.mean()*100:.02f}%\")"
   ]
  },
  {
   "cell_type": "code",
   "execution_count": 35,
   "metadata": {
    "colab": {
     "base_uri": "https://localhost:8080/",
     "height": 285
    },
    "id": "VOSsnorSdsgv",
    "outputId": "3ba165de-5f67-4e06-eadd-4dc8679ef0cb"
   },
   "outputs": [
    {
     "name": "stderr",
     "output_type": "stream",
     "text": [
      "/tmp/ipykernel_43/1521889404.py:16: UserWarning: set_ticklabels() should only be used with a fixed number of ticks, i.e. after set_ticks() or using a FixedLocator.\n",
      "  g.set_xticklabels(g.get_xticklabels(), rotation=90, ha=\"right\")\n"
     ]
    },
    {
     "data": {
      "text/plain": [
       "Text(0.5, 0, 'Sum')"
      ]
     },
     "execution_count": 35,
     "metadata": {},
     "output_type": "execute_result"
    },
    {
     "data": {
      "image/png": "[encoded data removed]",
      "text/plain": [
       "<Figure size 2000x200 with 1 Axes>"
      ]
     },
     "metadata": {},
     "output_type": "display_data"
    }
   ],
   "source": [
    "import seaborn as sns\n",
    "import matplotlib.pyplot as plt\n",
    "sns.set_theme(style=\"whitegrid\")\n",
    "\n",
    "# Order the results\n",
    "results = additions_df_mmlu['result'].astype(int).unique()\n",
    "results.sort()\n",
    "\n",
    "# set the high and width\n",
    "plt.figure(figsize=(20, 2))\n",
    "\n",
    "# Create the barplot\n",
    "g = sns.barplot(x=\"result\", y=[1]*len(additions_df_mmlu), data=additions_df_mmlu, order=results, hue=\"is_correct_letter\", palette=[\"#EA5455\", \"#34A853\"])\n",
    "\n",
    "# pivot label\n",
    "g.set_xticklabels(g.get_xticklabels(), rotation=90, ha=\"right\")\n",
    "\n",
    "# Add title and labels\n",
    "plt.title(\"MMLU Enforced output - Correctness of results by sum question\")\n",
    "plt.xlabel(\"Sum\")\n"
   ]
  },
  {
   "cell_type": "code",
   "execution_count": 36,
   "metadata": {
    "colab": {
     "base_uri": "https://localhost:8080/",
     "height": 434
    },
    "id": "PLwY_Vry2YaL",
    "outputId": "664b9c18-00b9-41c7-f114-22bbbacbe985"
   },
   "outputs": [
    {
     "data": {
      "image/png": "[encoded data removed]",
      "text/plain": [
       "<Figure size 640x480 with 1 Axes>"
      ]
     },
     "metadata": {},
     "output_type": "display_data"
    }
   ],
   "source": [
    "# @title inferred_letter_answer\n",
    "\n",
    "from matplotlib import pyplot as plt\n",
    "import seaborn as sns\n",
    "additions_df_mmlu.groupby('inferred_letter_answer').size().plot(kind='barh', color=sns.palettes.mpl_palette('Dark2'))\n",
    "plt.gca().spines[['top', 'right',]].set_visible(False)"
   ]
  },
  {
   "cell_type": "markdown",
   "metadata": {
    "id": "6KzPUJAIihl3"
   },
   "source": [
    "## Measure token probas at the last layer  \n",
    "\n",
    "We use the standard method to evaluate MMLU instead of the output enforcer (with regex).  \n",
    "\n",
    "We want to see if results change when bypassing the decision tree.  "
   ]
  },
  {
   "cell_type": "code",
   "execution_count": 37,
   "metadata": {
    "colab": {
     "base_uri": "https://localhost:8080/",
     "height": 206
    },
    "id": "vM1HJVPAjPAk",
    "outputId": "88512727-476a-47c0-c682-14deaddcc781"
   },
   "outputs": [
    {
     "data": {
      "text/html": [
       "<div>\n",
       "<style scoped>\n",
       "    .dataframe tbody tr th:only-of-type {\n",
       "        vertical-align: middle;\n",
       "    }\n",
       "\n",
       "    .dataframe tbody tr th {\n",
       "        vertical-align: top;\n",
       "    }\n",
       "\n",
       "    .dataframe thead th {\n",
       "        text-align: right;\n",
       "    }\n",
       "</style>\n",
       "<table border=\"1\" class=\"dataframe\">\n",
       "  <thead>\n",
       "    <tr style=\"text-align: right;\">\n",
       "      <th></th>\n",
       "      <th>sum</th>\n",
       "      <th>result</th>\n",
       "      <th>inferred_answer</th>\n",
       "      <th>is_correct</th>\n",
       "      <th>is_number</th>\n",
       "      <th>choices</th>\n",
       "      <th>answer_position</th>\n",
       "      <th>answer_letter</th>\n",
       "      <th>inferred_letter_answer</th>\n",
       "      <th>is_correct_letter</th>\n",
       "    </tr>\n",
       "  </thead>\n",
       "  <tbody>\n",
       "    <tr>\n",
       "      <th>1</th>\n",
       "      <td>1+1</td>\n",
       "      <td>2</td>\n",
       "      <td>2</td>\n",
       "      <td>True</td>\n",
       "      <td>True</td>\n",
       "      <td>[83, 3, 2, 47]</td>\n",
       "      <td>2</td>\n",
       "      <td>C</td>\n",
       "      <td>B</td>\n",
       "      <td>False</td>\n",
       "    </tr>\n",
       "    <tr>\n",
       "      <th>2</th>\n",
       "      <td>1+1+1</td>\n",
       "      <td>3</td>\n",
       "      <td>3</td>\n",
       "      <td>True</td>\n",
       "      <td>True</td>\n",
       "      <td>[4, 99, 3, 15]</td>\n",
       "      <td>2</td>\n",
       "      <td>C</td>\n",
       "      <td>A</td>\n",
       "      <td>False</td>\n",
       "    </tr>\n",
       "    <tr>\n",
       "      <th>3</th>\n",
       "      <td>1+1+1+1</td>\n",
       "      <td>4</td>\n",
       "      <td>4</td>\n",
       "      <td>True</td>\n",
       "      <td>True</td>\n",
       "      <td>[28, 3, 9, 4]</td>\n",
       "      <td>3</td>\n",
       "      <td>D</td>\n",
       "      <td>A</td>\n",
       "      <td>False</td>\n",
       "    </tr>\n",
       "    <tr>\n",
       "      <th>4</th>\n",
       "      <td>1+1+1+1+1</td>\n",
       "      <td>5</td>\n",
       "      <td>5</td>\n",
       "      <td>True</td>\n",
       "      <td>True</td>\n",
       "      <td>[5, 60, 4, 61]</td>\n",
       "      <td>0</td>\n",
       "      <td>A</td>\n",
       "      <td>A</td>\n",
       "      <td>True</td>\n",
       "    </tr>\n",
       "    <tr>\n",
       "      <th>5</th>\n",
       "      <td>1+1+1+1+1+1</td>\n",
       "      <td>6</td>\n",
       "      <td>6</td>\n",
       "      <td>True</td>\n",
       "      <td>True</td>\n",
       "      <td>[16, 5, 6, 18]</td>\n",
       "      <td>2</td>\n",
       "      <td>C</td>\n",
       "      <td>A</td>\n",
       "      <td>False</td>\n",
       "    </tr>\n",
       "  </tbody>\n",
       "</table>\n",
       "</div>"
      ],
      "text/plain": [
       "           sum result inferred_answer  is_correct  is_number         choices  \\\n",
       "1          1+1      2               2        True       True  [83, 3, 2, 47]   \n",
       "2        1+1+1      3               3        True       True  [4, 99, 3, 15]   \n",
       "3      1+1+1+1      4               4        True       True   [28, 3, 9, 4]   \n",
       "4    1+1+1+1+1      5               5        True       True  [5, 60, 4, 61]   \n",
       "5  1+1+1+1+1+1      6               6        True       True  [16, 5, 6, 18]   \n",
       "\n",
       "   answer_position answer_letter inferred_letter_answer  is_correct_letter  \n",
       "1                2             C                      B              False  \n",
       "2                2             C                      A              False  \n",
       "3                3             D                      A              False  \n",
       "4                0             A                      A               True  \n",
       "5                2             C                      A              False  "
      ]
     },
     "execution_count": 37,
     "metadata": {},
     "output_type": "execute_result"
    }
   ],
   "source": [
    "additions_df_mmlu.head()"
   ]
  },
  {
   "cell_type": "markdown",
   "metadata": {
    "id": "CKY855RemWDa"
   },
   "source": [
    "#### new inference function to measure probas for ABCD tokens  \n",
    "\n",
    "We retrieve a batch inference function for MMLU from a previous notebook:\n",
    "https://colab.research.google.com/drive/1NBG5HPiEz2E0HJhSVVlxbDhhc40quXN4#scrollTo=UIst6bZ2CFlQ  \n",
    "\n",
    "And adapt it to our current feature names and current prompt.  "
   ]
  },
  {
   "cell_type": "code",
   "execution_count": 38,
   "metadata": {
    "id": "uO5PN3LRd-P-"
   },
   "outputs": [],
   "source": [
    "# V0 : use tokens \" A\" etc... for answer matching\n",
    "# use model forward for inference and logits retrieval (one pass)\n",
    "def get_number_result_from_question_batch_mode_v0(rows):\n",
    "\n",
    "    prompts = []\n",
    "    for question, choices in zip(rows['sum'], rows['choices']):\n",
    "        prompt = mmlu_style_prompt.format(\n",
    "            question, # question\n",
    "            format_choice(choices), # choices\n",
    "            \"\", # output - leave this blank for generation!\n",
    "        )\n",
    "        prompts.append(prompt)\n",
    "\n",
    "    answer_tokens = tokenizer.encode(\" A B C D\", add_special_tokens=False, return_tensors=\"pt\")\n",
    "    inputs = tokenizer(prompts, return_tensors=\"pt\", padding=True).to(\"cuda\")\n",
    "\n",
    "    logits_list = []\n",
    "    with torch.no_grad():\n",
    "        logits = model.forward(inputs.input_ids, attention_mask=inputs.attention_mask).logits\n",
    "        torch.cuda.empty_cache()\n",
    "        for i in range(len(prompts)):\n",
    "            logits_ans = logits[i, -1, answer_tokens].cpu()\n",
    "            logits_list.append(logits_ans)\n",
    "\n",
    "    rows['inferred_letter_answer'] = []\n",
    "    for logits_ans in logits_list:\n",
    "        prob_ans = torch.softmax(logits_ans, dim=-1)\n",
    "        inferred_answer = prob_ans.argmax(dim=-1)[0]\n",
    "        rows['inferred_letter_answer'].append(inferred_answer.item())\n",
    "\n",
    "    return rows\n",
    "\n",
    "# V1 : use tokens \"A\" etc... for answer matching\n",
    "# use model forward for inference and logits retrieval (one pass)\n",
    "def get_number_result_from_question_batch_mode_v1(rows):\n",
    "\n",
    "    prompts = []\n",
    "    for question, choices in zip(rows['sum'], rows['choices']):\n",
    "        prompt = mmlu_style_prompt.format(\n",
    "            question, # question\n",
    "            format_choice(choices), # choices\n",
    "            \"\", # output - leave this blank for generation!\n",
    "        )\n",
    "        prompts.append(prompt)\n",
    "\n",
    "    answer_tokens = torch.tensor([\n",
    "      tokenizer.encode(\"A\", add_special_tokens=False)[0],\n",
    "      tokenizer.encode(\"B\", add_special_tokens=False)[0],\n",
    "      tokenizer.encode(\"C\", add_special_tokens=False)[0],\n",
    "      tokenizer.encode(\"D\", add_special_tokens=False)[0]\n",
    "    ])\n",
    "    inputs = tokenizer(prompts, return_tensors=\"pt\", padding=True).to(\"cuda\")\n",
    "\n",
    "    logits_list = []\n",
    "    with torch.no_grad():\n",
    "        logits = model.forward(inputs.input_ids, attention_mask=inputs.attention_mask).logits\n",
    "        torch.cuda.empty_cache()\n",
    "        for i in range(len(prompts)):\n",
    "            logits_ans = logits[i, -1, answer_tokens].cpu()\n",
    "            logits_list.append(logits_ans)\n",
    "\n",
    "    rows['inferred_letter_answer'] = []\n",
    "    for logits_ans in logits_list:\n",
    "        prob_ans = torch.softmax(logits_ans, dim=-1)\n",
    "        inferred_answer = prob_ans.argmax(dim=-1)\n",
    "        rows['inferred_letter_answer'].append(inferred_answer.item())\n",
    "\n",
    "    return rows\n",
    "\n",
    "# V2 : use tokens \"A\" etc... for answer matching\n",
    "# use model generate for inference and model(**inputs) for logits retrieval (two pass)\n",
    "def get_number_result_from_question_batch_mode_v2(rows):\n",
    "\n",
    "  prompts = []\n",
    "  for question, choices in zip(rows['sum'], rows['choices']):\n",
    "      prompt = mmlu_style_prompt.format(\n",
    "          question, # question\n",
    "          format_choice(choices), # choices\n",
    "          \"\", # output - leave this blank for generation!\n",
    "      )\n",
    "      prompts.append(prompt)\n",
    "      # print(prompt)\n",
    "\n",
    "  answer_tokens = torch.tensor([\n",
    "  tokenizer.encode(\"A\", add_special_tokens=False)[0],\n",
    "  tokenizer.encode(\"B\", add_special_tokens=False)[0],\n",
    "  tokenizer.encode(\"C\", add_special_tokens=False)[0],\n",
    "  tokenizer.encode(\"D\", add_special_tokens=False)[0]\n",
    "  ])\n",
    "\n",
    "  inputs = tokenizer(prompts, return_tensors=\"pt\", padding=True).to(\"cuda\")\n",
    "\n",
    "  logits_list = []\n",
    "  with torch.no_grad():\n",
    "      response = model.generate(\n",
    "        input_ids=inputs.input_ids,\n",
    "        attention_mask=inputs.attention_mask,\n",
    "        max_new_tokens=1,\n",
    "        return_dict_in_generate=True,\n",
    "        output_logits=True\n",
    "      )\n",
    "\n",
    "      logits = model(input_ids=response.sequences).logits\n",
    "      torch.cuda.empty_cache()\n",
    "      for i in range(len(prompts)):\n",
    "          logits_ans = logits[i, -1, answer_tokens].cpu()\n",
    "          logits_list.append(logits_ans)\n",
    "\n",
    "  rows['inferred_letter_answer'] = []\n",
    "  for logits_ans in logits_list:\n",
    "      prob_ans = torch.softmax(logits_ans, dim=-1)\n",
    "      inferred_answer = prob_ans.argmax(dim=-1)\n",
    "      rows['inferred_letter_answer'].append(inferred_answer.item())\n",
    "\n",
    "  return rows\n",
    "\n",
    "# V3 : use tokens \" A\" etc... for answer matching\n",
    "# use model generate for inference and model(**inputs) for logits retrieval (two pass)\n",
    "def get_number_result_from_question_batch_mode_v3(rows):\n",
    "\n",
    "  prompts = []\n",
    "  for question, choices in zip(rows['sum'], rows['choices']):\n",
    "      prompt = mmlu_style_prompt.format(\n",
    "          question, # question\n",
    "          format_choice(choices), # choices\n",
    "          \"\", # output - leave this blank for generation!\n",
    "      )\n",
    "      prompts.append(prompt)\n",
    "      # print(prompt)\n",
    "\n",
    "  answer_tokens = torch.tensor([\n",
    "  tokenizer.encode(\" A\", add_special_tokens=False)[0],\n",
    "  tokenizer.encode(\" B\", add_special_tokens=False)[0],\n",
    "  tokenizer.encode(\" C\", add_special_tokens=False)[0],\n",
    "  tokenizer.encode(\" D\", add_special_tokens=False)[0]\n",
    "  ])\n",
    "\n",
    "  inputs = tokenizer(prompts, return_tensors=\"pt\", padding=True).to(\"cuda\")\n",
    "\n",
    "  logits_list = []\n",
    "  with torch.no_grad():\n",
    "      response = model.generate(\n",
    "        input_ids=inputs.input_ids,\n",
    "        attention_mask=inputs.attention_mask,\n",
    "        max_new_tokens=1,\n",
    "        return_dict_in_generate=True,\n",
    "        output_logits=True\n",
    "      )\n",
    "\n",
    "      logits = model(input_ids=response.sequences).logits\n",
    "      torch.cuda.empty_cache()\n",
    "      for i in range(len(prompts)):\n",
    "          logits_ans = logits[i, -1, answer_tokens].cpu()\n",
    "          logits_list.append(logits_ans)\n",
    "\n",
    "  rows['inferred_letter_answer'] = []\n",
    "  for logits_ans in logits_list:\n",
    "      prob_ans = torch.softmax(logits_ans, dim=-1)\n",
    "      inferred_answer = prob_ans.argmax(dim=-1)\n",
    "      rows['inferred_letter_answer'].append(inferred_answer.item())\n",
    "\n",
    "  return rows"
   ]
  },
  {
   "cell_type": "markdown",
   "metadata": {
    "id": "FxkBKLt2ODIz"
   },
   "source": [
    "Below, we test the 4 versions of MMLU probas inference functions:"
   ]
  },
  {
   "cell_type": "code",
   "execution_count": 39,
   "metadata": {
    "id": "CWvBsZF5OClj"
   },
   "outputs": [],
   "source": [
    "input = {\n",
    "    'sum': [\"1+2\", \"2+2\"],\n",
    "    'choices': [[\"55\", \"19\", \"4\", \"3\"], [\"4\", \"19\", \"55\", \"3\"]]\n",
    "}"
   ]
  },
  {
   "cell_type": "code",
   "execution_count": 40,
   "metadata": {
    "colab": {
     "base_uri": "https://localhost:8080/"
    },
    "id": "iNE5FOL7LHlM",
    "outputId": "dbdc5c34-0836-4d4b-c3df-b98a60838bbb"
   },
   "outputs": [
    {
     "data": {
      "text/plain": [
       "{'sum': ['1+2', '2+2'],\n",
       " 'choices': [['55', '19', '4', '3'], ['4', '19', '55', '3']],\n",
       " 'inferred_letter_answer': [2, 0]}"
      ]
     },
     "execution_count": 40,
     "metadata": {},
     "output_type": "execute_result"
    }
   ],
   "source": [
    "get_number_result_from_question_batch_mode_v0(input)"
   ]
  },
  {
   "cell_type": "code",
   "execution_count": 41,
   "metadata": {
    "colab": {
     "base_uri": "https://localhost:8080/"
    },
    "id": "thJ1HqQI84O-",
    "outputId": "b89a8af3-cf0a-4d0e-f36c-29854fe3c689"
   },
   "outputs": [
    {
     "data": {
      "text/plain": [
       "{'sum': ['1+2', '2+2'],\n",
       " 'choices': [['55', '19', '4', '3'], ['4', '19', '55', '3']],\n",
       " 'inferred_letter_answer': [1, 0]}"
      ]
     },
     "execution_count": 41,
     "metadata": {},
     "output_type": "execute_result"
    }
   ],
   "source": [
    "get_number_result_from_question_batch_mode_v1(input)"
   ]
  },
  {
   "cell_type": "code",
   "execution_count": 42,
   "metadata": {
    "colab": {
     "base_uri": "https://localhost:8080/"
    },
    "id": "uCXS097xIi1e",
    "outputId": "f9640471-3fe5-4a35-eca1-5c34926725f2"
   },
   "outputs": [
    {
     "data": {
      "text/plain": [
       "{'sum': ['1+2', '2+2'],\n",
       " 'choices': [['55', '19', '4', '3'], ['4', '19', '55', '3']],\n",
       " 'inferred_letter_answer': [3, 1]}"
      ]
     },
     "execution_count": 42,
     "metadata": {},
     "output_type": "execute_result"
    }
   ],
   "source": [
    "get_number_result_from_question_batch_mode_v2(input)"
   ]
  },
  {
   "cell_type": "code",
   "execution_count": 43,
   "metadata": {
    "colab": {
     "base_uri": "https://localhost:8080/"
    },
    "id": "XQv67MniKsAT",
    "outputId": "6e957d24-58ef-4462-89b2-a11365ac8a14"
   },
   "outputs": [
    {
     "data": {
      "text/plain": [
       "{'sum': ['1+2', '2+2'],\n",
       " 'choices': [['55', '19', '4', '3'], ['4', '19', '55', '3']],\n",
       " 'inferred_letter_answer': [0, 1]}"
      ]
     },
     "execution_count": 43,
     "metadata": {},
     "output_type": "execute_result"
    }
   ],
   "source": [
    "get_number_result_from_question_batch_mode_v3(input)"
   ]
  },
  {
   "cell_type": "markdown",
   "metadata": {
    "id": "CXQABzlXN5O4"
   },
   "source": [
    "Over this small sample, we find the V3 is the best performer.  \n",
    "We will use this inference function for the complete dataset.  "
   ]
  },
  {
   "cell_type": "markdown",
   "metadata": {
    "id": "SP5E9G3Pmbbw"
   },
   "source": [
    "#### perform batch inference (over dataset)  \n",
    "\n",
    "We need to temporarily convert the dataframe to a huggingface dataset to use our batch processing inference function.  "
   ]
  },
  {
   "cell_type": "code",
   "execution_count": 44,
   "metadata": {
    "id": "QUmWbfTk7ogr"
   },
   "outputs": [],
   "source": [
    "# disable caching to make sure our new results are refreshed\n",
    "import datasets\n",
    "datasets.disable_caching()"
   ]
  },
  {
   "cell_type": "code",
   "execution_count": 45,
   "metadata": {
    "id": "spACjrWCi-UN"
   },
   "outputs": [],
   "source": [
    "from datasets import Dataset\n",
    "\n",
    "batch_dataset = Dataset.from_pandas(additions_df_mmlu)"
   ]
  },
  {
   "cell_type": "code",
   "execution_count": 46,
   "metadata": {
    "colab": {
     "base_uri": "https://localhost:8080/",
     "height": 49,
     "referenced_widgets": [
      "4d1c71a19df54de2987a0b07f1d2c783",
      "b6a6dc9e52a1402aa6f73690cab895a5",
      "2623d6bf6f704ac0b56b54f6119130c9",
      "0a98cdd08714466cb6580e540b638e59",
      "d49373815f6d4861898a394fe8dfcca3",
      "39d695fa7e1f44318539a16afb2f329f",
      "31ec08e6058f43b4a76f3c800a76de17",
      "45478ccea8074e7eba6d182ea39f1c05",
      "0e7bfe144bc943e49c2e013d4231fb31",
      "3940e8ccafb7400db01bd1780b4762c8",
      "037618e546f54689a002fa3d7d69fd53"
     ]
    },
    "id": "O8Iyn4mki-pf",
    "outputId": "2434513a-cb4f-42dd-be38-fc4e22dc52ba"
   },
   "outputs": [
    {
     "data": {
      "application/vnd.jupyter.widget-view+json": {
       "model_id": "ad895d71f5fc4f3da8f59c03b3583700",
       "version_major": 2,
       "version_minor": 0
      },
      "text/plain": [
       "Map:   0%|          | 0/99 [00:00<?, ? examples/s]"
      ]
     },
     "metadata": {},
     "output_type": "display_data"
    }
   ],
   "source": [
    "batch_dataset = batch_dataset.map(get_number_result_from_question_batch_mode_v2, batched=True, batch_size=10, num_proc=1)"
   ]
  },
  {
   "cell_type": "markdown",
   "metadata": {
    "id": "AowWyhrlmxt9"
   },
   "source": [
    "Switch back to pandas DF and clean up old features"
   ]
  },
  {
   "cell_type": "code",
   "execution_count": 47,
   "metadata": {
    "id": "3b7y-LLijdVt"
   },
   "outputs": [],
   "source": [
    "additions_df_mmlu_alt = batch_dataset.to_pandas()\n",
    "del additions_df_mmlu_alt['__index_level_0__']\n",
    "del additions_df_mmlu_alt['is_correct_letter']"
   ]
  },
  {
   "cell_type": "code",
   "execution_count": 48,
   "metadata": {
    "colab": {
     "base_uri": "https://localhost:8080/",
     "height": 206
    },
    "id": "d7L4epXFlqfD",
    "outputId": "3cbf2787-49f4-4983-8e73-a02943ddf765"
   },
   "outputs": [
    {
     "data": {
      "text/html": [
       "<div>\n",
       "<style scoped>\n",
       "    .dataframe tbody tr th:only-of-type {\n",
       "        vertical-align: middle;\n",
       "    }\n",
       "\n",
       "    .dataframe tbody tr th {\n",
       "        vertical-align: top;\n",
       "    }\n",
       "\n",
       "    .dataframe thead th {\n",
       "        text-align: right;\n",
       "    }\n",
       "</style>\n",
       "<table border=\"1\" class=\"dataframe\">\n",
       "  <thead>\n",
       "    <tr style=\"text-align: right;\">\n",
       "      <th></th>\n",
       "      <th>sum</th>\n",
       "      <th>result</th>\n",
       "      <th>inferred_answer</th>\n",
       "      <th>is_correct</th>\n",
       "      <th>is_number</th>\n",
       "      <th>choices</th>\n",
       "      <th>answer_position</th>\n",
       "      <th>answer_letter</th>\n",
       "      <th>inferred_letter_answer</th>\n",
       "    </tr>\n",
       "  </thead>\n",
       "  <tbody>\n",
       "    <tr>\n",
       "      <th>0</th>\n",
       "      <td>1+1</td>\n",
       "      <td>2</td>\n",
       "      <td>2</td>\n",
       "      <td>True</td>\n",
       "      <td>True</td>\n",
       "      <td>[83, 3, 2, 47]</td>\n",
       "      <td>2</td>\n",
       "      <td>C</td>\n",
       "      <td>0</td>\n",
       "    </tr>\n",
       "    <tr>\n",
       "      <th>1</th>\n",
       "      <td>1+1+1</td>\n",
       "      <td>3</td>\n",
       "      <td>3</td>\n",
       "      <td>True</td>\n",
       "      <td>True</td>\n",
       "      <td>[4, 99, 3, 15]</td>\n",
       "      <td>2</td>\n",
       "      <td>C</td>\n",
       "      <td>1</td>\n",
       "    </tr>\n",
       "    <tr>\n",
       "      <th>2</th>\n",
       "      <td>1+1+1+1</td>\n",
       "      <td>4</td>\n",
       "      <td>4</td>\n",
       "      <td>True</td>\n",
       "      <td>True</td>\n",
       "      <td>[28, 3, 9, 4]</td>\n",
       "      <td>3</td>\n",
       "      <td>D</td>\n",
       "      <td>3</td>\n",
       "    </tr>\n",
       "    <tr>\n",
       "      <th>3</th>\n",
       "      <td>1+1+1+1+1</td>\n",
       "      <td>5</td>\n",
       "      <td>5</td>\n",
       "      <td>True</td>\n",
       "      <td>True</td>\n",
       "      <td>[5, 60, 4, 61]</td>\n",
       "      <td>0</td>\n",
       "      <td>A</td>\n",
       "      <td>1</td>\n",
       "    </tr>\n",
       "    <tr>\n",
       "      <th>4</th>\n",
       "      <td>1+1+1+1+1+1</td>\n",
       "      <td>6</td>\n",
       "      <td>6</td>\n",
       "      <td>True</td>\n",
       "      <td>True</td>\n",
       "      <td>[16, 5, 6, 18]</td>\n",
       "      <td>2</td>\n",
       "      <td>C</td>\n",
       "      <td>0</td>\n",
       "    </tr>\n",
       "  </tbody>\n",
       "</table>\n",
       "</div>"
      ],
      "text/plain": [
       "           sum result inferred_answer  is_correct  is_number         choices  \\\n",
       "0          1+1      2               2        True       True  [83, 3, 2, 47]   \n",
       "1        1+1+1      3               3        True       True  [4, 99, 3, 15]   \n",
       "2      1+1+1+1      4               4        True       True   [28, 3, 9, 4]   \n",
       "3    1+1+1+1+1      5               5        True       True  [5, 60, 4, 61]   \n",
       "4  1+1+1+1+1+1      6               6        True       True  [16, 5, 6, 18]   \n",
       "\n",
       "   answer_position answer_letter  inferred_letter_answer  \n",
       "0                2             C                       0  \n",
       "1                2             C                       1  \n",
       "2                3             D                       3  \n",
       "3                0             A                       1  \n",
       "4                2             C                       0  "
      ]
     },
     "execution_count": 48,
     "metadata": {},
     "output_type": "execute_result"
    }
   ],
   "source": [
    "additions_df_mmlu_alt.head()"
   ]
  },
  {
   "cell_type": "markdown",
   "metadata": {
    "id": "NpNaQ_3jm4Ar"
   },
   "source": [
    "Convert our index answer to a letter"
   ]
  },
  {
   "cell_type": "code",
   "execution_count": 49,
   "metadata": {
    "colab": {
     "base_uri": "https://localhost:8080/",
     "height": 206
    },
    "id": "6IGFwDS0l7ve",
    "outputId": "b38409ee-8801-4cb6-a98a-d2138fcddd27"
   },
   "outputs": [
    {
     "data": {
      "text/html": [
       "<div>\n",
       "<style scoped>\n",
       "    .dataframe tbody tr th:only-of-type {\n",
       "        vertical-align: middle;\n",
       "    }\n",
       "\n",
       "    .dataframe tbody tr th {\n",
       "        vertical-align: top;\n",
       "    }\n",
       "\n",
       "    .dataframe thead th {\n",
       "        text-align: right;\n",
       "    }\n",
       "</style>\n",
       "<table border=\"1\" class=\"dataframe\">\n",
       "  <thead>\n",
       "    <tr style=\"text-align: right;\">\n",
       "      <th></th>\n",
       "      <th>sum</th>\n",
       "      <th>result</th>\n",
       "      <th>inferred_answer</th>\n",
       "      <th>is_correct</th>\n",
       "      <th>is_number</th>\n",
       "      <th>choices</th>\n",
       "      <th>answer_position</th>\n",
       "      <th>answer_letter</th>\n",
       "      <th>inferred_letter_answer</th>\n",
       "    </tr>\n",
       "  </thead>\n",
       "  <tbody>\n",
       "    <tr>\n",
       "      <th>0</th>\n",
       "      <td>1+1</td>\n",
       "      <td>2</td>\n",
       "      <td>2</td>\n",
       "      <td>True</td>\n",
       "      <td>True</td>\n",
       "      <td>[83, 3, 2, 47]</td>\n",
       "      <td>2</td>\n",
       "      <td>C</td>\n",
       "      <td>A</td>\n",
       "    </tr>\n",
       "    <tr>\n",
       "      <th>1</th>\n",
       "      <td>1+1+1</td>\n",
       "      <td>3</td>\n",
       "      <td>3</td>\n",
       "      <td>True</td>\n",
       "      <td>True</td>\n",
       "      <td>[4, 99, 3, 15]</td>\n",
       "      <td>2</td>\n",
       "      <td>C</td>\n",
       "      <td>B</td>\n",
       "    </tr>\n",
       "    <tr>\n",
       "      <th>2</th>\n",
       "      <td>1+1+1+1</td>\n",
       "      <td>4</td>\n",
       "      <td>4</td>\n",
       "      <td>True</td>\n",
       "      <td>True</td>\n",
       "      <td>[28, 3, 9, 4]</td>\n",
       "      <td>3</td>\n",
       "      <td>D</td>\n",
       "      <td>D</td>\n",
       "    </tr>\n",
       "    <tr>\n",
       "      <th>3</th>\n",
       "      <td>1+1+1+1+1</td>\n",
       "      <td>5</td>\n",
       "      <td>5</td>\n",
       "      <td>True</td>\n",
       "      <td>True</td>\n",
       "      <td>[5, 60, 4, 61]</td>\n",
       "      <td>0</td>\n",
       "      <td>A</td>\n",
       "      <td>B</td>\n",
       "    </tr>\n",
       "    <tr>\n",
       "      <th>4</th>\n",
       "      <td>1+1+1+1+1+1</td>\n",
       "      <td>6</td>\n",
       "      <td>6</td>\n",
       "      <td>True</td>\n",
       "      <td>True</td>\n",
       "      <td>[16, 5, 6, 18]</td>\n",
       "      <td>2</td>\n",
       "      <td>C</td>\n",
       "      <td>A</td>\n",
       "    </tr>\n",
       "  </tbody>\n",
       "</table>\n",
       "</div>"
      ],
      "text/plain": [
       "           sum result inferred_answer  is_correct  is_number         choices  \\\n",
       "0          1+1      2               2        True       True  [83, 3, 2, 47]   \n",
       "1        1+1+1      3               3        True       True  [4, 99, 3, 15]   \n",
       "2      1+1+1+1      4               4        True       True   [28, 3, 9, 4]   \n",
       "3    1+1+1+1+1      5               5        True       True  [5, 60, 4, 61]   \n",
       "4  1+1+1+1+1+1      6               6        True       True  [16, 5, 6, 18]   \n",
       "\n",
       "   answer_position answer_letter inferred_letter_answer  \n",
       "0                2             C                      A  \n",
       "1                2             C                      B  \n",
       "2                3             D                      D  \n",
       "3                0             A                      B  \n",
       "4                2             C                      A  "
      ]
     },
     "execution_count": 49,
     "metadata": {},
     "output_type": "execute_result"
    }
   ],
   "source": [
    "additions_df_mmlu_alt['inferred_letter_answer'] = additions_df_mmlu_alt.apply(lambda row: get_letter(row['inferred_letter_answer']), axis=1)\n",
    "additions_df_mmlu_alt.head()"
   ]
  },
  {
   "cell_type": "code",
   "execution_count": 50,
   "metadata": {
    "cellView": "form",
    "colab": {
     "base_uri": "https://localhost:8080/",
     "height": 434
    },
    "id": "_LXZML3lYEET",
    "outputId": "ab0598ff-4db9-491e-fca4-a27a85998aa5"
   },
   "outputs": [
    {
     "data": {
      "image/png": "[encoded data removed]",
      "text/plain": [
       "<Figure size 640x480 with 1 Axes>"
      ]
     },
     "metadata": {},
     "output_type": "display_data"
    }
   ],
   "source": [
    "# @title answer_letter\n",
    "\n",
    "from matplotlib import pyplot as plt\n",
    "import seaborn as sns\n",
    "additions_df_mmlu_alt.groupby('answer_letter').size().plot(kind='barh', color=sns.palettes.mpl_palette('Dark2'))\n",
    "plt.gca().spines[['top', 'right',]].set_visible(False)"
   ]
  },
  {
   "cell_type": "code",
   "execution_count": 51,
   "metadata": {
    "colab": {
     "base_uri": "https://localhost:8080/",
     "height": 434
    },
    "id": "deNgosFoX-nf",
    "outputId": "38721873-e1ee-4e69-a1ba-c1d85f3ca7e2"
   },
   "outputs": [
    {
     "data": {
      "image/png": "[encoded data removed]",
      "text/plain": [
       "<Figure size 640x480 with 1 Axes>"
      ]
     },
     "metadata": {},
     "output_type": "display_data"
    }
   ],
   "source": [
    "# @title inferred_letter_answer\n",
    "\n",
    "from matplotlib import pyplot as plt\n",
    "import seaborn as sns\n",
    "additions_df_mmlu_alt.groupby('inferred_letter_answer').size().plot(kind='barh', color=sns.palettes.mpl_palette('Dark2'))\n",
    "plt.gca().spines[['top', 'right',]].set_visible(False)"
   ]
  },
  {
   "cell_type": "code",
   "execution_count": 52,
   "metadata": {
    "id": "9EsffSG4mMuu"
   },
   "outputs": [],
   "source": [
    "additions_df_mmlu_alt['is_correct_letter'] = additions_df_mmlu_alt['answer_letter'] == additions_df_mmlu_alt['inferred_letter_answer']"
   ]
  },
  {
   "cell_type": "code",
   "execution_count": 53,
   "metadata": {
    "colab": {
     "base_uri": "https://localhost:8080/",
     "height": 206
    },
    "id": "AhCbEtYyXk-b",
    "outputId": "ec7e4081-7058-4379-e178-1e1219dc5897"
   },
   "outputs": [
    {
     "data": {
      "text/html": [
       "<div>\n",
       "<style scoped>\n",
       "    .dataframe tbody tr th:only-of-type {\n",
       "        vertical-align: middle;\n",
       "    }\n",
       "\n",
       "    .dataframe tbody tr th {\n",
       "        vertical-align: top;\n",
       "    }\n",
       "\n",
       "    .dataframe thead th {\n",
       "        text-align: right;\n",
       "    }\n",
       "</style>\n",
       "<table border=\"1\" class=\"dataframe\">\n",
       "  <thead>\n",
       "    <tr style=\"text-align: right;\">\n",
       "      <th></th>\n",
       "      <th>sum</th>\n",
       "      <th>result</th>\n",
       "      <th>inferred_answer</th>\n",
       "      <th>is_correct</th>\n",
       "      <th>is_number</th>\n",
       "      <th>choices</th>\n",
       "      <th>answer_position</th>\n",
       "      <th>answer_letter</th>\n",
       "      <th>inferred_letter_answer</th>\n",
       "      <th>is_correct_letter</th>\n",
       "    </tr>\n",
       "  </thead>\n",
       "  <tbody>\n",
       "    <tr>\n",
       "      <th>0</th>\n",
       "      <td>1+1</td>\n",
       "      <td>2</td>\n",
       "      <td>2</td>\n",
       "      <td>True</td>\n",
       "      <td>True</td>\n",
       "      <td>[83, 3, 2, 47]</td>\n",
       "      <td>2</td>\n",
       "      <td>C</td>\n",
       "      <td>A</td>\n",
       "      <td>False</td>\n",
       "    </tr>\n",
       "    <tr>\n",
       "      <th>1</th>\n",
       "      <td>1+1+1</td>\n",
       "      <td>3</td>\n",
       "      <td>3</td>\n",
       "      <td>True</td>\n",
       "      <td>True</td>\n",
       "      <td>[4, 99, 3, 15]</td>\n",
       "      <td>2</td>\n",
       "      <td>C</td>\n",
       "      <td>B</td>\n",
       "      <td>False</td>\n",
       "    </tr>\n",
       "    <tr>\n",
       "      <th>2</th>\n",
       "      <td>1+1+1+1</td>\n",
       "      <td>4</td>\n",
       "      <td>4</td>\n",
       "      <td>True</td>\n",
       "      <td>True</td>\n",
       "      <td>[28, 3, 9, 4]</td>\n",
       "      <td>3</td>\n",
       "      <td>D</td>\n",
       "      <td>D</td>\n",
       "      <td>True</td>\n",
       "    </tr>\n",
       "    <tr>\n",
       "      <th>3</th>\n",
       "      <td>1+1+1+1+1</td>\n",
       "      <td>5</td>\n",
       "      <td>5</td>\n",
       "      <td>True</td>\n",
       "      <td>True</td>\n",
       "      <td>[5, 60, 4, 61]</td>\n",
       "      <td>0</td>\n",
       "      <td>A</td>\n",
       "      <td>B</td>\n",
       "      <td>False</td>\n",
       "    </tr>\n",
       "    <tr>\n",
       "      <th>4</th>\n",
       "      <td>1+1+1+1+1+1</td>\n",
       "      <td>6</td>\n",
       "      <td>6</td>\n",
       "      <td>True</td>\n",
       "      <td>True</td>\n",
       "      <td>[16, 5, 6, 18]</td>\n",
       "      <td>2</td>\n",
       "      <td>C</td>\n",
       "      <td>A</td>\n",
       "      <td>False</td>\n",
       "    </tr>\n",
       "  </tbody>\n",
       "</table>\n",
       "</div>"
      ],
      "text/plain": [
       "           sum result inferred_answer  is_correct  is_number         choices  \\\n",
       "0          1+1      2               2        True       True  [83, 3, 2, 47]   \n",
       "1        1+1+1      3               3        True       True  [4, 99, 3, 15]   \n",
       "2      1+1+1+1      4               4        True       True   [28, 3, 9, 4]   \n",
       "3    1+1+1+1+1      5               5        True       True  [5, 60, 4, 61]   \n",
       "4  1+1+1+1+1+1      6               6        True       True  [16, 5, 6, 18]   \n",
       "\n",
       "   answer_position answer_letter inferred_letter_answer  is_correct_letter  \n",
       "0                2             C                      A              False  \n",
       "1                2             C                      B              False  \n",
       "2                3             D                      D               True  \n",
       "3                0             A                      B              False  \n",
       "4                2             C                      A              False  "
      ]
     },
     "execution_count": 53,
     "metadata": {},
     "output_type": "execute_result"
    }
   ],
   "source": [
    "additions_df_mmlu_alt.head()"
   ]
  },
  {
   "cell_type": "markdown",
   "metadata": {
    "id": "Z1XCWSm9m8Si"
   },
   "source": [
    "#### Measure accuracy\n",
    "\n",
    " old : 27.27%"
   ]
  },
  {
   "cell_type": "code",
   "execution_count": 54,
   "metadata": {
    "colab": {
     "base_uri": "https://localhost:8080/"
    },
    "id": "A24AdjP4mR3m",
    "outputId": "8821ca1c-7aea-4db3-d044-c8383f13c312"
   },
   "outputs": [
    {
     "name": "stdout",
     "output_type": "stream",
     "text": [
      "Average accuracy : 21.21%\n"
     ]
    }
   ],
   "source": [
    "# accuracy\n",
    "print(f\"Average accuracy : {additions_df_mmlu_alt.is_correct_letter.mean()*100:.02f}%\")"
   ]
  },
  {
   "cell_type": "markdown",
   "metadata": {
    "id": "3gJjBNIknBp4"
   },
   "source": [
    "We find that the current accuracy is equal to random baseline: we have achieved the same result as a 4-side coin flip..."
   ]
  },
  {
   "cell_type": "code",
   "execution_count": 55,
   "metadata": {
    "colab": {
     "base_uri": "https://localhost:8080/",
     "height": 285
    },
    "id": "UVs-xpk5m_N_",
    "outputId": "4e27149b-3860-46ea-d9c7-daa0e2659ee5"
   },
   "outputs": [
    {
     "name": "stderr",
     "output_type": "stream",
     "text": [
      "/tmp/ipykernel_43/1894718588.py:16: UserWarning: set_ticklabels() should only be used with a fixed number of ticks, i.e. after set_ticks() or using a FixedLocator.\n",
      "  g.set_xticklabels(g.get_xticklabels(), rotation=90, ha=\"right\")\n"
     ]
    },
    {
     "data": {
      "text/plain": [
       "Text(0.5, 0, 'Sum')"
      ]
     },
     "execution_count": 55,
     "metadata": {},
     "output_type": "execute_result"
    },
    {
     "data": {
      "image/png": "[encoded data removed]",
      "text/plain": [
       "<Figure size 2000x200 with 1 Axes>"
      ]
     },
     "metadata": {},
     "output_type": "display_data"
    }
   ],
   "source": [
    "import seaborn as sns\n",
    "import matplotlib.pyplot as plt\n",
    "sns.set_theme(style=\"whitegrid\")\n",
    "\n",
    "# Order the results\n",
    "results = additions_df_mmlu_alt['result'].astype(int).unique()\n",
    "results.sort()\n",
    "\n",
    "# set the high and width\n",
    "plt.figure(figsize=(20, 2))\n",
    "\n",
    "# Create the barplot\n",
    "g = sns.barplot(x=\"result\", y=[1]*len(additions_df_mmlu_alt), data=additions_df_mmlu_alt, order=results, hue=\"is_correct_letter\", palette=[\"#EA5455\", \"#34A853\"])\n",
    "\n",
    "# pivot label\n",
    "g.set_xticklabels(g.get_xticklabels(), rotation=90, ha=\"right\")\n",
    "\n",
    "# Add title and labels\n",
    "plt.title(\"MMLU Token probas - Correctness of Results by Sum\")\n",
    "plt.xlabel(\"Sum\")\n"
   ]
  },
  {
   "cell_type": "markdown",
   "metadata": {
    "id": "eG7E9G6QOkMD"
   },
   "source": [
    "## Test the RAG hypothesis  \n",
    "\n",
    "What is we let the model answer with max 10 new tokens per sum, and then perform RAG on the MMLU choices?  \n",
    "\n",
    "This method could prove successful as the open ended method has the best results, and seems to be constrained by the output enforcer.  \n",
    "By removing this constraint, we could achieve higher results.  "
   ]
  },
  {
   "cell_type": "markdown",
   "metadata": {
    "id": "FYPcVzjbPDwf"
   },
   "source": [
    "### compute embeddings for all answers from 2 to 99  "
   ]
  },
  {
   "cell_type": "code",
   "execution_count": 56,
   "metadata": {
    "id": "NO0AhyTRUcFY"
   },
   "outputs": [],
   "source": [
    "import faiss"
   ]
  },
  {
   "cell_type": "code",
   "execution_count": 57,
   "metadata": {
    "colab": {
     "base_uri": "https://localhost:8080/"
    },
    "id": "PJqndmYTIWe2",
    "outputId": "866e5ba0-7c5b-4e52-ca19-fa2e66ad4252"
   },
   "outputs": [
    {
     "data": {
      "application/vnd.jupyter.widget-view+json": {
       "model_id": "4d9e4f01f5314d2b8a906a672315cb2d",
       "version_major": 2,
       "version_minor": 0
      },
      "text/plain": [
       "modules.json:   0%|          | 0.00/349 [00:00<?, ?B/s]"
      ]
     },
     "metadata": {},
     "output_type": "display_data"
    },
    {
     "data": {
      "application/vnd.jupyter.widget-view+json": {
       "model_id": "18b97b4a7dd940f39bde44af5d5a7590",
       "version_major": 2,
       "version_minor": 0
      },
      "text/plain": [
       "config_sentence_transformers.json:   0%|          | 0.00/116 [00:00<?, ?B/s]"
      ]
     },
     "metadata": {},
     "output_type": "display_data"
    },
    {
     "data": {
      "application/vnd.jupyter.widget-view+json": {
       "model_id": "241ae5714c6347af81fb505028da2f57",
       "version_major": 2,
       "version_minor": 0
      },
      "text/plain": [
       "README.md:   0%|          | 0.00/10.7k [00:00<?, ?B/s]"
      ]
     },
     "metadata": {},
     "output_type": "display_data"
    },
    {
     "data": {
      "application/vnd.jupyter.widget-view+json": {
       "model_id": "c0196fc9838244bda460f400ff10d4e4",
       "version_major": 2,
       "version_minor": 0
      },
      "text/plain": [
       "sentence_bert_config.json:   0%|          | 0.00/53.0 [00:00<?, ?B/s]"
      ]
     },
     "metadata": {},
     "output_type": "display_data"
    },
    {
     "data": {
      "application/vnd.jupyter.widget-view+json": {
       "model_id": "4487d328d6db49b2869b4f89e2c29a8a",
       "version_major": 2,
       "version_minor": 0
      },
      "text/plain": [
       "config.json:   0%|          | 0.00/612 [00:00<?, ?B/s]"
      ]
     },
     "metadata": {},
     "output_type": "display_data"
    },
    {
     "data": {
      "application/vnd.jupyter.widget-view+json": {
       "model_id": "f7391610566e4129bc4206ca5a476b46",
       "version_major": 2,
       "version_minor": 0
      },
      "text/plain": [
       "model.safetensors:   0%|          | 0.00/90.9M [00:00<?, ?B/s]"
      ]
     },
     "metadata": {},
     "output_type": "display_data"
    },
    {
     "data": {
      "application/vnd.jupyter.widget-view+json": {
       "model_id": "c00c42f2be684a2b859da923a7fce767",
       "version_major": 2,
       "version_minor": 0
      },
      "text/plain": [
       "tokenizer_config.json:   0%|          | 0.00/350 [00:00<?, ?B/s]"
      ]
     },
     "metadata": {},
     "output_type": "display_data"
    },
    {
     "data": {
      "application/vnd.jupyter.widget-view+json": {
       "model_id": "350f453f4f1547f7b3042cff09de8635",
       "version_major": 2,
       "version_minor": 0
      },
      "text/plain": [
       "vocab.txt:   0%|          | 0.00/232k [00:00<?, ?B/s]"
      ]
     },
     "metadata": {},
     "output_type": "display_data"
    },
    {
     "data": {
      "application/vnd.jupyter.widget-view+json": {
       "model_id": "6e0828b9982b47b7ba3bdd0acffb5867",
       "version_major": 2,
       "version_minor": 0
      },
      "text/plain": [
       "tokenizer.json:   0%|          | 0.00/466k [00:00<?, ?B/s]"
      ]
     },
     "metadata": {},
     "output_type": "display_data"
    },
    {
     "data": {
      "application/vnd.jupyter.widget-view+json": {
       "model_id": "57e7e8c471684b50a3ca9c686635e475",
       "version_major": 2,
       "version_minor": 0
      },
      "text/plain": [
       "special_tokens_map.json:   0%|          | 0.00/112 [00:00<?, ?B/s]"
      ]
     },
     "metadata": {},
     "output_type": "display_data"
    },
    {
     "data": {
      "application/vnd.jupyter.widget-view+json": {
       "model_id": "6fe4b04b57ba4671a3b6dabe4f55268a",
       "version_major": 2,
       "version_minor": 0
      },
      "text/plain": [
       "1_Pooling/config.json:   0%|          | 0.00/190 [00:00<?, ?B/s]"
      ]
     },
     "metadata": {},
     "output_type": "display_data"
    },
    {
     "name": "stdout",
     "output_type": "stream",
     "text": [
      "(2, 384)\n"
     ]
    }
   ],
   "source": [
    "from sentence_transformers import SentenceTransformer\n",
    "sentences = [\"This is an example sentence\", \"Each sentence is converted\"]\n",
    "\n",
    "embedding_model = SentenceTransformer('sentence-transformers/all-MiniLM-L6-v2')\n",
    "embeddings = embedding_model.encode(sentences)\n",
    "print(embeddings.shape)"
   ]
  },
  {
   "cell_type": "code",
   "execution_count": 58,
   "metadata": {
    "id": "arFpFItERX1Y"
   },
   "outputs": [],
   "source": [
    "del additions_df['is_correct']\n",
    "del additions_df['is_number']\n",
    "del additions_df['inferred_answer']"
   ]
  },
  {
   "cell_type": "code",
   "execution_count": 59,
   "metadata": {
    "colab": {
     "base_uri": "https://localhost:8080/",
     "height": 206
    },
    "id": "0zpzel47RLMG",
    "outputId": "63a32767-068b-4cf7-bd82-f09bc63f66e6"
   },
   "outputs": [
    {
     "data": {
      "text/html": [
       "<div>\n",
       "<style scoped>\n",
       "    .dataframe tbody tr th:only-of-type {\n",
       "        vertical-align: middle;\n",
       "    }\n",
       "\n",
       "    .dataframe tbody tr th {\n",
       "        vertical-align: top;\n",
       "    }\n",
       "\n",
       "    .dataframe thead th {\n",
       "        text-align: right;\n",
       "    }\n",
       "</style>\n",
       "<table border=\"1\" class=\"dataframe\">\n",
       "  <thead>\n",
       "    <tr style=\"text-align: right;\">\n",
       "      <th></th>\n",
       "      <th>sum</th>\n",
       "      <th>result</th>\n",
       "    </tr>\n",
       "  </thead>\n",
       "  <tbody>\n",
       "    <tr>\n",
       "      <th>1</th>\n",
       "      <td>1+1</td>\n",
       "      <td>2</td>\n",
       "    </tr>\n",
       "    <tr>\n",
       "      <th>2</th>\n",
       "      <td>1+1+1</td>\n",
       "      <td>3</td>\n",
       "    </tr>\n",
       "    <tr>\n",
       "      <th>3</th>\n",
       "      <td>1+1+1+1</td>\n",
       "      <td>4</td>\n",
       "    </tr>\n",
       "    <tr>\n",
       "      <th>4</th>\n",
       "      <td>1+1+1+1+1</td>\n",
       "      <td>5</td>\n",
       "    </tr>\n",
       "    <tr>\n",
       "      <th>5</th>\n",
       "      <td>1+1+1+1+1+1</td>\n",
       "      <td>6</td>\n",
       "    </tr>\n",
       "  </tbody>\n",
       "</table>\n",
       "</div>"
      ],
      "text/plain": [
       "           sum result\n",
       "1          1+1      2\n",
       "2        1+1+1      3\n",
       "3      1+1+1+1      4\n",
       "4    1+1+1+1+1      5\n",
       "5  1+1+1+1+1+1      6"
      ]
     },
     "execution_count": 59,
     "metadata": {},
     "output_type": "execute_result"
    }
   ],
   "source": [
    "additions_df.head()"
   ]
  },
  {
   "cell_type": "code",
   "execution_count": 60,
   "metadata": {
    "colab": {
     "base_uri": "https://localhost:8080/",
     "height": 206
    },
    "id": "q9hz_7IHRNB2",
    "outputId": "e0ab16a8-14ca-451d-b607-94f50db344b1"
   },
   "outputs": [
    {
     "data": {
      "text/html": [
       "<div>\n",
       "<style scoped>\n",
       "    .dataframe tbody tr th:only-of-type {\n",
       "        vertical-align: middle;\n",
       "    }\n",
       "\n",
       "    .dataframe tbody tr th {\n",
       "        vertical-align: top;\n",
       "    }\n",
       "\n",
       "    .dataframe thead th {\n",
       "        text-align: right;\n",
       "    }\n",
       "</style>\n",
       "<table border=\"1\" class=\"dataframe\">\n",
       "  <thead>\n",
       "    <tr style=\"text-align: right;\">\n",
       "      <th></th>\n",
       "      <th>sum</th>\n",
       "      <th>result</th>\n",
       "      <th>result_embedding</th>\n",
       "    </tr>\n",
       "  </thead>\n",
       "  <tbody>\n",
       "    <tr>\n",
       "      <th>1</th>\n",
       "      <td>1+1</td>\n",
       "      <td>2</td>\n",
       "      <td>[-0.028164797, -0.024786523, -0.09065126, 0.04...</td>\n",
       "    </tr>\n",
       "    <tr>\n",
       "      <th>2</th>\n",
       "      <td>1+1+1</td>\n",
       "      <td>3</td>\n",
       "      <td>[-0.02898982, -0.031059038, -0.094503745, 0.02...</td>\n",
       "    </tr>\n",
       "    <tr>\n",
       "      <th>3</th>\n",
       "      <td>1+1+1+1</td>\n",
       "      <td>4</td>\n",
       "      <td>[0.046898987, 0.00025665484, -0.08567224, 0.00...</td>\n",
       "    </tr>\n",
       "    <tr>\n",
       "      <th>4</th>\n",
       "      <td>1+1+1+1+1</td>\n",
       "      <td>5</td>\n",
       "      <td>[-0.04131201, -0.006703235, -0.031351097, 0.03...</td>\n",
       "    </tr>\n",
       "    <tr>\n",
       "      <th>5</th>\n",
       "      <td>1+1+1+1+1+1</td>\n",
       "      <td>6</td>\n",
       "      <td>[-0.0033216532, 0.004443928, -0.08935938, 0.04...</td>\n",
       "    </tr>\n",
       "  </tbody>\n",
       "</table>\n",
       "</div>"
      ],
      "text/plain": [
       "           sum result                                   result_embedding\n",
       "1          1+1      2  [-0.028164797, -0.024786523, -0.09065126, 0.04...\n",
       "2        1+1+1      3  [-0.02898982, -0.031059038, -0.094503745, 0.02...\n",
       "3      1+1+1+1      4  [0.046898987, 0.00025665484, -0.08567224, 0.00...\n",
       "4    1+1+1+1+1      5  [-0.04131201, -0.006703235, -0.031351097, 0.03...\n",
       "5  1+1+1+1+1+1      6  [-0.0033216532, 0.004443928, -0.08935938, 0.04..."
      ]
     },
     "execution_count": 60,
     "metadata": {},
     "output_type": "execute_result"
    }
   ],
   "source": [
    "additions_df['result_embedding'] = list(embedding_model.encode(additions_df.result.to_list()))\n",
    "additions_df.head()"
   ]
  },
  {
   "cell_type": "markdown",
   "metadata": {
    "id": "8REJum6tTDTK"
   },
   "source": [
    "### Create a FAISS index dataset to search for matches"
   ]
  },
  {
   "cell_type": "code",
   "execution_count": 61,
   "metadata": {
    "colab": {
     "base_uri": "https://localhost:8080/"
    },
    "id": "g_L94JgATDLX",
    "outputId": "c1f42faf-5ae8-4c61-a204-8d151f4b657f"
   },
   "outputs": [
    {
     "data": {
      "text/plain": [
       "Dataset({\n",
       "    features: ['sum', 'result', 'result_embedding'],\n",
       "    num_rows: 99\n",
       "})"
      ]
     },
     "execution_count": 61,
     "metadata": {},
     "output_type": "execute_result"
    }
   ],
   "source": [
    "from datasets import Dataset\n",
    "\n",
    "additions_ds = Dataset.from_pandas(additions_df, preserve_index=False)\n",
    "additions_ds"
   ]
  },
  {
   "cell_type": "code",
   "execution_count": 62,
   "metadata": {
    "colab": {
     "base_uri": "https://localhost:8080/",
     "height": 122,
     "referenced_widgets": [
      "98b5c10c84404f4aa4d3c8bd1dc0ac23",
      "31c7ab154d7a466db20e0fe002ed3051",
      "c2f4563689034c8e895936de3ae86aed",
      "0a766a7764464c5482d3dda1e7225444",
      "7bb35adda14343c8875706e205f2e8d5",
      "0ffc775725594448a90d43b3febf86d5",
      "3159a6d621de453ba26cb66fc0fe2fae",
      "235f817e2a14497dbf7001ad867ad981",
      "03395ea62eab41cb9d9a6b816a62babd",
      "4b7aa59c8e0f468c894afa2213e70e40",
      "250e37f8fa9b4b9190e58fbf2d64a9b0"
     ]
    },
    "id": "rd-a6H52TTko",
    "outputId": "b9c53b63-1a16-4f6f-9ce5-0ade2188062e"
   },
   "outputs": [
    {
     "data": {
      "application/vnd.jupyter.widget-view+json": {
       "model_id": "f50f4c33facd4b5ab90fcd38c292348a",
       "version_major": 2,
       "version_minor": 0
      },
      "text/plain": [
       "  0%|          | 0/1 [00:00<?, ?it/s]"
      ]
     },
     "metadata": {},
     "output_type": "display_data"
    },
    {
     "data": {
      "text/plain": [
       "Dataset({\n",
       "    features: ['sum', 'result', 'result_embedding'],\n",
       "    num_rows: 99\n",
       "})"
      ]
     },
     "execution_count": 62,
     "metadata": {},
     "output_type": "execute_result"
    }
   ],
   "source": [
    "additions_ds.add_faiss_index(column='result_embedding')"
   ]
  },
  {
   "cell_type": "code",
   "execution_count": 63,
   "metadata": {
    "colab": {
     "base_uri": "https://localhost:8080/"
    },
    "id": "fBMDrIthVAUL",
    "outputId": "9456fe6a-9b3a-46ca-c829-621c2925e2e5"
   },
   "outputs": [
    {
     "data": {
      "text/plain": [
       "19"
      ]
     },
     "execution_count": 63,
     "metadata": {},
     "output_type": "execute_result"
    }
   ],
   "source": [
    "def get_nearest_number_for_answer(long_form_answer):\n",
    "  response_embedding = embedding_model.encode(long_form_answer)\n",
    "\n",
    "  retrieved_examples = additions_ds.get_nearest_examples('result_embedding', response_embedding, k=1)\n",
    "  return int(retrieved_examples.examples['result'][0])\n",
    "\n",
    "long_form_answer = 'The answer is : 19'\n",
    "get_nearest_number_for_answer(long_form_answer)"
   ]
  },
  {
   "cell_type": "markdown",
   "metadata": {
    "id": "2T7Q0gtHQ4gE"
   },
   "source": [
    "### generate open ended answers for all questions (64 tokens)  \n",
    "\n",
    "We allow the LLM to generate up to 64 new tokens to answer each question.  \n",
    "This will be long in some instances, but needed to get a truthfull answer.  "
   ]
  },
  {
   "cell_type": "code",
   "execution_count": 64,
   "metadata": {
    "colab": {
     "base_uri": "https://localhost:8080/"
    },
    "id": "jP8Jak28QfbS",
    "outputId": "0e09075b-d106-48fc-83ff-b9822a6a8f7a"
   },
   "outputs": [
    {
     "name": "stdout",
     "output_type": "stream",
     "text": [
      "The result of this sum is 32.\n"
     ]
    }
   ],
   "source": [
    "def get_open_ended_answer_to_question(question):\n",
    "\n",
    "  prompt = alpaca_prompt.format(\n",
    "          \"Compute the result of this sum.\", # instruction\n",
    "          question, # input\n",
    "          \"\", # output - leave this blank for generation!\n",
    "      )\n",
    "\n",
    "  inputs = tokenizer([prompt], return_tensors = \"pt\").to(\"cuda\")\n",
    "\n",
    "  outputs = model.generate(**inputs, max_new_tokens = 64, use_cache = True)\n",
    "  return (tokenizer.batch_decode(outputs, skip_special_tokens=True)[0][len(prompt):].strip())\n",
    "\n",
    "response = get_open_ended_answer_to_question('1+1+1+1+1+1+1+1+1+1+1+1+1+1+1+1+1+1+1+1+1+1+1+1+1+1+1+1')\n",
    "print(response)"
   ]
  },
  {
   "cell_type": "code",
   "execution_count": 65,
   "metadata": {
    "colab": {
     "base_uri": "https://localhost:8080/",
     "height": 238,
     "referenced_widgets": [
      "6a401529474743b5ac201002e77324d4",
      "d20d71868a0840bcb165dfe19a15c2d5",
      "7f9adb24f6d8445983f79ceeada7ca63",
      "d77bde84123f49d8aac9ed6b442f0611",
      "ed42a9705fb240238c55e5c26b25ff71",
      "4d436240b4374b27a0601ee506272cdf",
      "fe6af6fcce4341a8aa4f2edf29c7a9d9",
      "3f4be352549041ce8d463899c4ae03b4",
      "874ea89a031e463bb7f0bbbd39f6ebc7",
      "9bb8c79082394daab572103504313084",
      "0fb0c983a3f84706913464589423cde6"
     ]
    },
    "id": "kbZpH7y1Q3jO",
    "outputId": "f3915a21-9598-4aa2-e612-89389d229823"
   },
   "outputs": [
    {
     "data": {
      "application/vnd.jupyter.widget-view+json": {
       "model_id": "5c3316bc6e05436b9a1301ee4b01116b",
       "version_major": 2,
       "version_minor": 0
      },
      "text/plain": [
       "  0%|          | 0/99 [00:00<?, ?it/s]"
      ]
     },
     "metadata": {},
     "output_type": "display_data"
    },
    {
     "data": {
      "text/html": [
       "<div>\n",
       "<style scoped>\n",
       "    .dataframe tbody tr th:only-of-type {\n",
       "        vertical-align: middle;\n",
       "    }\n",
       "\n",
       "    .dataframe tbody tr th {\n",
       "        vertical-align: top;\n",
       "    }\n",
       "\n",
       "    .dataframe thead th {\n",
       "        text-align: right;\n",
       "    }\n",
       "</style>\n",
       "<table border=\"1\" class=\"dataframe\">\n",
       "  <thead>\n",
       "    <tr style=\"text-align: right;\">\n",
       "      <th></th>\n",
       "      <th>sum</th>\n",
       "      <th>result</th>\n",
       "      <th>inferred_answer</th>\n",
       "    </tr>\n",
       "  </thead>\n",
       "  <tbody>\n",
       "    <tr>\n",
       "      <th>1</th>\n",
       "      <td>1+1</td>\n",
       "      <td>2</td>\n",
       "      <td>2</td>\n",
       "    </tr>\n",
       "    <tr>\n",
       "      <th>2</th>\n",
       "      <td>1+1+1</td>\n",
       "      <td>3</td>\n",
       "      <td>3</td>\n",
       "    </tr>\n",
       "    <tr>\n",
       "      <th>3</th>\n",
       "      <td>1+1+1+1</td>\n",
       "      <td>4</td>\n",
       "      <td>4</td>\n",
       "    </tr>\n",
       "    <tr>\n",
       "      <th>4</th>\n",
       "      <td>1+1+1+1+1</td>\n",
       "      <td>5</td>\n",
       "      <td>5</td>\n",
       "    </tr>\n",
       "    <tr>\n",
       "      <th>5</th>\n",
       "      <td>1+1+1+1+1+1</td>\n",
       "      <td>6</td>\n",
       "      <td>6</td>\n",
       "    </tr>\n",
       "  </tbody>\n",
       "</table>\n",
       "</div>"
      ],
      "text/plain": [
       "           sum result inferred_answer\n",
       "1          1+1      2               2\n",
       "2        1+1+1      3               3\n",
       "3      1+1+1+1      4               4\n",
       "4    1+1+1+1+1      5               5\n",
       "5  1+1+1+1+1+1      6               6"
      ]
     },
     "execution_count": 65,
     "metadata": {},
     "output_type": "execute_result"
    }
   ],
   "source": [
    "from tqdm.auto import tqdm\n",
    "\n",
    "tqdm.pandas()\n",
    "\n",
    "additions_df_long_form = additions_df.copy(deep=True)\n",
    "del additions_df_long_form['result_embedding']\n",
    "\n",
    "additions_df_long_form['inferred_answer'] = additions_df_long_form.progress_apply(lambda row: get_open_ended_answer_to_question(row['sum']), axis=1)\n",
    "additions_df_long_form.head()"
   ]
  },
  {
   "cell_type": "code",
   "execution_count": 66,
   "metadata": {
    "colab": {
     "base_uri": "https://localhost:8080/",
     "height": 238,
     "referenced_widgets": [
      "e1b3bbd783db4a6bbb08b7b812cff2ab",
      "2175d7c5867b44fe90e2467a38d48be1",
      "80e99d6dbc644b14b15a3c0505efe8a3",
      "27cd1eb19a834d82ab4fd05e2ad16e54",
      "9520d0794265468bb3b75620438008f9",
      "fa8fb8c6c6224e50b502c4a594938f87",
      "88acb18e893642149489cfa639864d57",
      "a15cda5efeb84af4abf66afc05651699",
      "32a20a3d2736439b9f66dfd516f14424",
      "ffab03e3ed6646f7bb8b90e6c6aab143",
      "ee47a7d33bd840a2a9e369209be3aeb4"
     ]
    },
    "id": "l7_lRLLuQtyU",
    "outputId": "28e178ea-1156-4904-d5d3-7ddfbb221910"
   },
   "outputs": [
    {
     "data": {
      "application/vnd.jupyter.widget-view+json": {
       "model_id": "fd61dbdf75a74127826f3e991d558569",
       "version_major": 2,
       "version_minor": 0
      },
      "text/plain": [
       "  0%|          | 0/99 [00:00<?, ?it/s]"
      ]
     },
     "metadata": {},
     "output_type": "display_data"
    },
    {
     "data": {
      "text/html": [
       "<div>\n",
       "<style scoped>\n",
       "    .dataframe tbody tr th:only-of-type {\n",
       "        vertical-align: middle;\n",
       "    }\n",
       "\n",
       "    .dataframe tbody tr th {\n",
       "        vertical-align: top;\n",
       "    }\n",
       "\n",
       "    .dataframe thead th {\n",
       "        text-align: right;\n",
       "    }\n",
       "</style>\n",
       "<table border=\"1\" class=\"dataframe\">\n",
       "  <thead>\n",
       "    <tr style=\"text-align: right;\">\n",
       "      <th></th>\n",
       "      <th>sum</th>\n",
       "      <th>result</th>\n",
       "      <th>inferred_answer</th>\n",
       "      <th>rag_answer</th>\n",
       "    </tr>\n",
       "  </thead>\n",
       "  <tbody>\n",
       "    <tr>\n",
       "      <th>1</th>\n",
       "      <td>1+1</td>\n",
       "      <td>2</td>\n",
       "      <td>2</td>\n",
       "      <td>2</td>\n",
       "    </tr>\n",
       "    <tr>\n",
       "      <th>2</th>\n",
       "      <td>1+1+1</td>\n",
       "      <td>3</td>\n",
       "      <td>3</td>\n",
       "      <td>3</td>\n",
       "    </tr>\n",
       "    <tr>\n",
       "      <th>3</th>\n",
       "      <td>1+1+1+1</td>\n",
       "      <td>4</td>\n",
       "      <td>4</td>\n",
       "      <td>4</td>\n",
       "    </tr>\n",
       "    <tr>\n",
       "      <th>4</th>\n",
       "      <td>1+1+1+1+1</td>\n",
       "      <td>5</td>\n",
       "      <td>5</td>\n",
       "      <td>5</td>\n",
       "    </tr>\n",
       "    <tr>\n",
       "      <th>5</th>\n",
       "      <td>1+1+1+1+1+1</td>\n",
       "      <td>6</td>\n",
       "      <td>6</td>\n",
       "      <td>6</td>\n",
       "    </tr>\n",
       "  </tbody>\n",
       "</table>\n",
       "</div>"
      ],
      "text/plain": [
       "           sum result inferred_answer  rag_answer\n",
       "1          1+1      2               2           2\n",
       "2        1+1+1      3               3           3\n",
       "3      1+1+1+1      4               4           4\n",
       "4    1+1+1+1+1      5               5           5\n",
       "5  1+1+1+1+1+1      6               6           6"
      ]
     },
     "execution_count": 66,
     "metadata": {},
     "output_type": "execute_result"
    }
   ],
   "source": [
    "additions_df_long_form['rag_answer'] = additions_df_long_form.progress_apply(lambda row: get_nearest_number_for_answer(row['inferred_answer']), axis=1)\n",
    "additions_df_long_form.head()"
   ]
  },
  {
   "cell_type": "markdown",
   "metadata": {
    "id": "T5tZEv4oXD66"
   },
   "source": [
    "### Measure accuracy"
   ]
  },
  {
   "cell_type": "code",
   "execution_count": 67,
   "metadata": {
    "id": "Dm9e6V4FXHzB"
   },
   "outputs": [],
   "source": [
    "additions_df_long_form['is_correct'] = additions_df_long_form['result'].astype(int) == additions_df_long_form['rag_answer']"
   ]
  },
  {
   "cell_type": "code",
   "execution_count": 68,
   "metadata": {
    "colab": {
     "base_uri": "https://localhost:8080/",
     "height": 206
    },
    "id": "rOZWNDU0XgNv",
    "outputId": "f7aa093b-62fc-41c1-d644-5b352fb17c76"
   },
   "outputs": [
    {
     "data": {
      "text/html": [
       "<div>\n",
       "<style scoped>\n",
       "    .dataframe tbody tr th:only-of-type {\n",
       "        vertical-align: middle;\n",
       "    }\n",
       "\n",
       "    .dataframe tbody tr th {\n",
       "        vertical-align: top;\n",
       "    }\n",
       "\n",
       "    .dataframe thead th {\n",
       "        text-align: right;\n",
       "    }\n",
       "</style>\n",
       "<table border=\"1\" class=\"dataframe\">\n",
       "  <thead>\n",
       "    <tr style=\"text-align: right;\">\n",
       "      <th></th>\n",
       "      <th>sum</th>\n",
       "      <th>result</th>\n",
       "      <th>inferred_answer</th>\n",
       "      <th>rag_answer</th>\n",
       "      <th>is_correct</th>\n",
       "    </tr>\n",
       "  </thead>\n",
       "  <tbody>\n",
       "    <tr>\n",
       "      <th>1</th>\n",
       "      <td>1+1</td>\n",
       "      <td>2</td>\n",
       "      <td>2</td>\n",
       "      <td>2</td>\n",
       "      <td>True</td>\n",
       "    </tr>\n",
       "    <tr>\n",
       "      <th>2</th>\n",
       "      <td>1+1+1</td>\n",
       "      <td>3</td>\n",
       "      <td>3</td>\n",
       "      <td>3</td>\n",
       "      <td>True</td>\n",
       "    </tr>\n",
       "    <tr>\n",
       "      <th>3</th>\n",
       "      <td>1+1+1+1</td>\n",
       "      <td>4</td>\n",
       "      <td>4</td>\n",
       "      <td>4</td>\n",
       "      <td>True</td>\n",
       "    </tr>\n",
       "    <tr>\n",
       "      <th>4</th>\n",
       "      <td>1+1+1+1+1</td>\n",
       "      <td>5</td>\n",
       "      <td>5</td>\n",
       "      <td>5</td>\n",
       "      <td>True</td>\n",
       "    </tr>\n",
       "    <tr>\n",
       "      <th>5</th>\n",
       "      <td>1+1+1+1+1+1</td>\n",
       "      <td>6</td>\n",
       "      <td>6</td>\n",
       "      <td>6</td>\n",
       "      <td>True</td>\n",
       "    </tr>\n",
       "  </tbody>\n",
       "</table>\n",
       "</div>"
      ],
      "text/plain": [
       "           sum result inferred_answer  rag_answer  is_correct\n",
       "1          1+1      2               2           2        True\n",
       "2        1+1+1      3               3           3        True\n",
       "3      1+1+1+1      4               4           4        True\n",
       "4    1+1+1+1+1      5               5           5        True\n",
       "5  1+1+1+1+1+1      6               6           6        True"
      ]
     },
     "execution_count": 68,
     "metadata": {},
     "output_type": "execute_result"
    }
   ],
   "source": [
    "additions_df_long_form.head()"
   ]
  },
  {
   "cell_type": "code",
   "execution_count": 69,
   "metadata": {
    "colab": {
     "base_uri": "https://localhost:8080/"
    },
    "id": "bFhQ_auxWWbh",
    "outputId": "8d3f3256-9613-44da-beaf-1d127c71c63d"
   },
   "outputs": [
    {
     "name": "stdout",
     "output_type": "stream",
     "text": [
      "Average accuracy : 13.13%\n"
     ]
    }
   ],
   "source": [
    "# accuracy\n",
    "print(f\"Average accuracy : {additions_df_long_form.is_correct.mean()*100:.02f}%\")"
   ]
  },
  {
   "cell_type": "code",
   "execution_count": 70,
   "metadata": {
    "colab": {
     "base_uri": "https://localhost:8080/",
     "height": 285
    },
    "id": "ZDgNBjFsXIE8",
    "outputId": "40d57dd5-d996-4b96-aef2-b10c70e1894d"
   },
   "outputs": [
    {
     "name": "stderr",
     "output_type": "stream",
     "text": [
      "/tmp/ipykernel_43/54747527.py:16: UserWarning: set_ticklabels() should only be used with a fixed number of ticks, i.e. after set_ticks() or using a FixedLocator.\n",
      "  g.set_xticklabels(g.get_xticklabels(), rotation=90, ha=\"right\")\n"
     ]
    },
    {
     "data": {
      "text/plain": [
       "Text(0.5, 0, 'Sum')"
      ]
     },
     "execution_count": 70,
     "metadata": {},
     "output_type": "execute_result"
    },
    {
     "data": {
      "image/png": "[encoded data removed]",
      "text/plain": [
       "<Figure size 2000x200 with 1 Axes>"
      ]
     },
     "metadata": {},
     "output_type": "display_data"
    }
   ],
   "source": [
    "import seaborn as sns\n",
    "import matplotlib.pyplot as plt\n",
    "sns.set_theme(style=\"whitegrid\")\n",
    "\n",
    "# Order the results\n",
    "results = additions_df_long_form['result'].astype(int).unique()\n",
    "results.sort()\n",
    "\n",
    "# set the high and width\n",
    "plt.figure(figsize=(20, 2))\n",
    "\n",
    "# Create the barplot\n",
    "g = sns.barplot(x=\"result\", y=[1]*len(additions_df_long_form), data=additions_df_long_form, order=results, hue=\"is_correct\", palette=[\"#EA5455\", \"#34A853\"])\n",
    "\n",
    "# pivot label\n",
    "g.set_xticklabels(g.get_xticklabels(), rotation=90, ha=\"right\")\n",
    "\n",
    "# Add title and labels\n",
    "plt.title(\"RAG retrieval of the answer - Correctness of Results by Sum\")\n",
    "plt.xlabel(\"Sum\")\n"
   ]
  },
  {
   "cell_type": "markdown",
   "metadata": {
    "id": "XjjHnHWjYMWD"
   },
   "source": [
    "Contrary to our initial hypothesis: when the model answers using a sentence, it is always wrong! (well, 99.9% of the time, because it got lucky once).\n",
    "\n",
    "However, our RAG system seems to be working great! We are able to retrieve the correct number from the LLM output 100% of the time.  "
   ]
  },
  {
   "cell_type": "code",
   "execution_count": 71,
   "metadata": {
    "colab": {
     "base_uri": "https://localhost:8080/",
     "height": 423
    },
    "id": "oUrP7ehrXY1d",
    "outputId": "c8eb8aa4-d540-43fe-a5b8-7ed246f0d178"
   },
   "outputs": [
    {
     "data": {
      "text/html": [
       "<div>\n",
       "<style scoped>\n",
       "    .dataframe tbody tr th:only-of-type {\n",
       "        vertical-align: middle;\n",
       "    }\n",
       "\n",
       "    .dataframe tbody tr th {\n",
       "        vertical-align: top;\n",
       "    }\n",
       "\n",
       "    .dataframe thead th {\n",
       "        text-align: right;\n",
       "    }\n",
       "</style>\n",
       "<table border=\"1\" class=\"dataframe\">\n",
       "  <thead>\n",
       "    <tr style=\"text-align: right;\">\n",
       "      <th></th>\n",
       "      <th>sum</th>\n",
       "      <th>result</th>\n",
       "      <th>inferred_answer</th>\n",
       "      <th>rag_answer</th>\n",
       "      <th>is_correct</th>\n",
       "    </tr>\n",
       "  </thead>\n",
       "  <tbody>\n",
       "    <tr>\n",
       "      <th>25</th>\n",
       "      <td>1+1+1+1+1+1+1+1+1+1+1+1+1+1+1+1+1+1+1+1+1+1+1+...</td>\n",
       "      <td>26</td>\n",
       "      <td>The result of this sum is 32.</td>\n",
       "      <td>32</td>\n",
       "      <td>False</td>\n",
       "    </tr>\n",
       "    <tr>\n",
       "      <th>26</th>\n",
       "      <td>1+1+1+1+1+1+1+1+1+1+1+1+1+1+1+1+1+1+1+1+1+1+1+...</td>\n",
       "      <td>27</td>\n",
       "      <td>The result of this sum is 32.\\n\\n### Explanati...</td>\n",
       "      <td>32</td>\n",
       "      <td>False</td>\n",
       "    </tr>\n",
       "    <tr>\n",
       "      <th>27</th>\n",
       "      <td>1+1+1+1+1+1+1+1+1+1+1+1+1+1+1+1+1+1+1+1+1+1+1+...</td>\n",
       "      <td>28</td>\n",
       "      <td>The result of this sum is 32.</td>\n",
       "      <td>32</td>\n",
       "      <td>False</td>\n",
       "    </tr>\n",
       "    <tr>\n",
       "      <th>28</th>\n",
       "      <td>1+1+1+1+1+1+1+1+1+1+1+1+1+1+1+1+1+1+1+1+1+1+1+...</td>\n",
       "      <td>29</td>\n",
       "      <td>The result of this sum is 32.</td>\n",
       "      <td>32</td>\n",
       "      <td>False</td>\n",
       "    </tr>\n",
       "    <tr>\n",
       "      <th>29</th>\n",
       "      <td>1+1+1+1+1+1+1+1+1+1+1+1+1+1+1+1+1+1+1+1+1+1+1+...</td>\n",
       "      <td>30</td>\n",
       "      <td>The result of this sum is 32.</td>\n",
       "      <td>32</td>\n",
       "      <td>False</td>\n",
       "    </tr>\n",
       "    <tr>\n",
       "      <th>...</th>\n",
       "      <td>...</td>\n",
       "      <td>...</td>\n",
       "      <td>...</td>\n",
       "      <td>...</td>\n",
       "      <td>...</td>\n",
       "    </tr>\n",
       "    <tr>\n",
       "      <th>95</th>\n",
       "      <td>1+1+1+1+1+1+1+1+1+1+1+1+1+1+1+1+1+1+1+1+1+1+1+...</td>\n",
       "      <td>96</td>\n",
       "      <td>The result of this sum is 31.</td>\n",
       "      <td>31</td>\n",
       "      <td>False</td>\n",
       "    </tr>\n",
       "    <tr>\n",
       "      <th>96</th>\n",
       "      <td>1+1+1+1+1+1+1+1+1+1+1+1+1+1+1+1+1+1+1+1+1+1+1+...</td>\n",
       "      <td>97</td>\n",
       "      <td>The result of this sum is 31.</td>\n",
       "      <td>31</td>\n",
       "      <td>False</td>\n",
       "    </tr>\n",
       "    <tr>\n",
       "      <th>97</th>\n",
       "      <td>1+1+1+1+1+1+1+1+1+1+1+1+1+1+1+1+1+1+1+1+1+1+1+...</td>\n",
       "      <td>98</td>\n",
       "      <td>The result of this sum is 31.</td>\n",
       "      <td>31</td>\n",
       "      <td>False</td>\n",
       "    </tr>\n",
       "    <tr>\n",
       "      <th>98</th>\n",
       "      <td>1+1+1+1+1+1+1+1+1+1+1+1+1+1+1+1+1+1+1+1+1+1+1+...</td>\n",
       "      <td>99</td>\n",
       "      <td>The result of this sum is 31.</td>\n",
       "      <td>31</td>\n",
       "      <td>False</td>\n",
       "    </tr>\n",
       "    <tr>\n",
       "      <th>99</th>\n",
       "      <td>1+1+1+1+1+1+1+1+1+1+1+1+1+1+1+1+1+1+1+1+1+1+1+...</td>\n",
       "      <td>100</td>\n",
       "      <td>The result of this sum is 31.</td>\n",
       "      <td>31</td>\n",
       "      <td>False</td>\n",
       "    </tr>\n",
       "  </tbody>\n",
       "</table>\n",
       "<p>75 rows × 5 columns</p>\n",
       "</div>"
      ],
      "text/plain": [
       "                                                  sum result  \\\n",
       "25  1+1+1+1+1+1+1+1+1+1+1+1+1+1+1+1+1+1+1+1+1+1+1+...     26   \n",
       "26  1+1+1+1+1+1+1+1+1+1+1+1+1+1+1+1+1+1+1+1+1+1+1+...     27   \n",
       "27  1+1+1+1+1+1+1+1+1+1+1+1+1+1+1+1+1+1+1+1+1+1+1+...     28   \n",
       "28  1+1+1+1+1+1+1+1+1+1+1+1+1+1+1+1+1+1+1+1+1+1+1+...     29   \n",
       "29  1+1+1+1+1+1+1+1+1+1+1+1+1+1+1+1+1+1+1+1+1+1+1+...     30   \n",
       "..                                                ...    ...   \n",
       "95  1+1+1+1+1+1+1+1+1+1+1+1+1+1+1+1+1+1+1+1+1+1+1+...     96   \n",
       "96  1+1+1+1+1+1+1+1+1+1+1+1+1+1+1+1+1+1+1+1+1+1+1+...     97   \n",
       "97  1+1+1+1+1+1+1+1+1+1+1+1+1+1+1+1+1+1+1+1+1+1+1+...     98   \n",
       "98  1+1+1+1+1+1+1+1+1+1+1+1+1+1+1+1+1+1+1+1+1+1+1+...     99   \n",
       "99  1+1+1+1+1+1+1+1+1+1+1+1+1+1+1+1+1+1+1+1+1+1+1+...    100   \n",
       "\n",
       "                                      inferred_answer  rag_answer  is_correct  \n",
       "25                      The result of this sum is 32.          32       False  \n",
       "26  The result of this sum is 32.\\n\\n### Explanati...          32       False  \n",
       "27                      The result of this sum is 32.          32       False  \n",
       "28                      The result of this sum is 32.          32       False  \n",
       "29                      The result of this sum is 32.          32       False  \n",
       "..                                                ...         ...         ...  \n",
       "95                      The result of this sum is 31.          31       False  \n",
       "96                      The result of this sum is 31.          31       False  \n",
       "97                      The result of this sum is 31.          31       False  \n",
       "98                      The result of this sum is 31.          31       False  \n",
       "99                      The result of this sum is 31.          31       False  \n",
       "\n",
       "[75 rows x 5 columns]"
      ]
     },
     "execution_count": 71,
     "metadata": {},
     "output_type": "execute_result"
    }
   ],
   "source": [
    "additions_df_long_form[additions_df_long_form.inferred_answer.str.contains('The result of this sum')]"
   ]
  },
  {
   "cell_type": "markdown",
   "metadata": {
    "id": "a3NH6fVea6xV"
   },
   "source": [
    "## Conclusion  \n",
    "\n",
    "Depending on the method used, the benchmarks has wildly different results.  \n",
    "\n",
    "MMLU method yields poorer results, with a 25% random baseline that gives the impression that the model can perform on a greater range than it actually can.  \n",
    "\n",
    "The open ended version is the best, with the output enforcer to control the results (force the use of digits to express the anwer).  \n",
    "Right behind is the RAG version, which has the potential of solving more difficult MMLU questions.  \n",
    "\n",
    "All attempts to constrain the model to answer by a letter representing the correct response have been a failure, from proba measure, to output enforcer. No prompt could satisfy both the need to get better results and more consistent results. We even managed to get a score worse than random on some runs...(under 25% correct answers).  \n",
    "\n",
    "The current model being evaluated can only count up to 16.  \n",
    "\n",
    "Due to the nature of the LLM being tested, an 8B Q4 variant, we have even more difficulties imparting instructions via prompts, and 5 shots might be under an unknown thereshold. Maybe MMLU evals need 70B models to work?"
   ]
  },
  {
   "cell_type": "code",
   "execution_count": null,
   "metadata": {
    "id": "Gm_DF5rMcPTq"
   },
   "outputs": [],
   "source": []
  }
 ],
 "metadata": {
  "accelerator": "GPU",
  "colab": {
   "gpuType": "T4",
   "machine_shape": "hm",
   "provenance": [],
   "toc_visible": true
  },
  "kernelspec": {
   "display_name": "Python 3 (ipykernel)",
   "language": "python",
   "name": "python3"
  },
  "language_info": {
   "codemirror_mode": {
    "name": "ipython",
    "version": 3
   },
   "file_extension": ".py",
   "mimetype": "text/x-python",
   "name": "python",
   "nbconvert_exporter": "python",
   "pygments_lexer": "ipython3",
   "version": "3.10.14"
  },
  "widgets": {
   "application/vnd.jupyter.widget-state+json": {
    "0098f401b6fa4f5db81cb252e7f35faf": {
     "model_module": "@jupyter-widgets/controls",
     "model_module_version": "1.5.0",
     "model_name": "FloatProgressModel",
     "state": {
      "_dom_classes": [],
      "_model_module": "@jupyter-widgets/controls",
      "_model_module_version": "1.5.0",
      "_model_name": "FloatProgressModel",
      "_view_count": null,
      "_view_module": "@jupyter-widgets/controls",
      "_view_module_version": "1.5.0",
      "_view_name": "ProgressView",
      "bar_style": "success",
      "description": "",
      "description_tooltip": null,
      "layout": "IPY_MODEL_77029de634d04b9ea9f80c7d18ea2637",
      "max": 99,
      "min": 0,
      "orientation": "horizontal",
      "style": "IPY_MODEL_1e4a6e0c29874fb39ecc8481615feb9c",
      "value": 99
     }
    },
    "03395ea62eab41cb9d9a6b816a62babd": {
     "model_module": "@jupyter-widgets/controls",
     "model_module_version": "1.5.0",
     "model_name": "ProgressStyleModel",
     "state": {
      "_model_module": "@jupyter-widgets/controls",
      "_model_module_version": "1.5.0",
      "_model_name": "ProgressStyleModel",
      "_view_count": null,
      "_view_module": "@jupyter-widgets/base",
      "_view_module_version": "1.2.0",
      "_view_name": "StyleView",
      "bar_color": null,
      "description_width": ""
     }
    },
    "037618e546f54689a002fa3d7d69fd53": {
     "model_module": "@jupyter-widgets/controls",
     "model_module_version": "1.5.0",
     "model_name": "DescriptionStyleModel",
     "state": {
      "_model_module": "@jupyter-widgets/controls",
      "_model_module_version": "1.5.0",
      "_model_name": "DescriptionStyleModel",
      "_view_count": null,
      "_view_module": "@jupyter-widgets/base",
      "_view_module_version": "1.2.0",
      "_view_name": "StyleView",
      "description_width": ""
     }
    },
    "03f0d54eff9449679b8a2187f090f0fb": {
     "model_module": "@jupyter-widgets/controls",
     "model_module_version": "1.5.0",
     "model_name": "HBoxModel",
     "state": {
      "_dom_classes": [],
      "_model_module": "@jupyter-widgets/controls",
      "_model_module_version": "1.5.0",
      "_model_name": "HBoxModel",
      "_view_count": null,
      "_view_module": "@jupyter-widgets/controls",
      "_view_module_version": "1.5.0",
      "_view_name": "HBoxView",
      "box_style": "",
      "children": [
       "IPY_MODEL_58affac485e24a4e8e32eae528cbd78d",
       "IPY_MODEL_0098f401b6fa4f5db81cb252e7f35faf",
       "IPY_MODEL_0a1534b9533b42c29dc984584be37c46"
      ],
      "layout": "IPY_MODEL_e824f677e88a44cba3461797a70d7d81"
     }
    },
    "05a4dfccfb564bff9cea69b3242aef4f": {
     "model_module": "@jupyter-widgets/base",
     "model_module_version": "1.2.0",
     "model_name": "LayoutModel",
     "state": {
      "_model_module": "@jupyter-widgets/base",
      "_model_module_version": "1.2.0",
      "_model_name": "LayoutModel",
      "_view_count": null,
      "_view_module": "@jupyter-widgets/base",
      "_view_module_version": "1.2.0",
      "_view_name": "LayoutView",
      "align_content": null,
      "align_items": null,
      "align_self": null,
      "border": null,
      "bottom": null,
      "display": null,
      "flex": null,
      "flex_flow": null,
      "grid_area": null,
      "grid_auto_columns": null,
      "grid_auto_flow": null,
      "grid_auto_rows": null,
      "grid_column": null,
      "grid_gap": null,
      "grid_row": null,
      "grid_template_areas": null,
      "grid_template_columns": null,
      "grid_template_rows": null,
      "height": null,
      "justify_content": null,
      "justify_items": null,
      "left": null,
      "margin": null,
      "max_height": null,
      "max_width": null,
      "min_height": null,
      "min_width": null,
      "object_fit": null,
      "object_position": null,
      "order": null,
      "overflow": null,
      "overflow_x": null,
      "overflow_y": null,
      "padding": null,
      "right": null,
      "top": null,
      "visibility": null,
      "width": null
     }
    },
    "0710039b6d7842e68f1a9e5ddd34d5da": {
     "model_module": "@jupyter-widgets/controls",
     "model_module_version": "1.5.0",
     "model_name": "HTMLModel",
     "state": {
      "_dom_classes": [],
      "_model_module": "@jupyter-widgets/controls",
      "_model_module_version": "1.5.0",
      "_model_name": "HTMLModel",
      "_view_count": null,
      "_view_module": "@jupyter-widgets/controls",
      "_view_module_version": "1.5.0",
      "_view_name": "HTMLView",
      "description": "",
      "description_tooltip": null,
      "layout": "IPY_MODEL_b4c5d6676c1b4240a304724a9c0374ad",
      "placeholder": "​",
      "style": "IPY_MODEL_801e63978fa84230a312d7b67a9d00f9",
      "value": " 99/99 [01:26&lt;00:00,  1.09it/s]"
     }
    },
    "0a1534b9533b42c29dc984584be37c46": {
     "model_module": "@jupyter-widgets/controls",
     "model_module_version": "1.5.0",
     "model_name": "HTMLModel",
     "state": {
      "_dom_classes": [],
      "_model_module": "@jupyter-widgets/controls",
      "_model_module_version": "1.5.0",
      "_model_name": "HTMLModel",
      "_view_count": null,
      "_view_module": "@jupyter-widgets/controls",
      "_view_module_version": "1.5.0",
      "_view_name": "HTMLView",
      "description": "",
      "description_tooltip": null,
      "layout": "IPY_MODEL_8bbce210569b4929af78417c4aa212e4",
      "placeholder": "​",
      "style": "IPY_MODEL_83dfe2c231d4427a8927e7f73c70af20",
      "value": " 99/99 [01:08&lt;00:00,  1.29it/s]"
     }
    },
    "0a766a7764464c5482d3dda1e7225444": {
     "model_module": "@jupyter-widgets/controls",
     "model_module_version": "1.5.0",
     "model_name": "HTMLModel",
     "state": {
      "_dom_classes": [],
      "_model_module": "@jupyter-widgets/controls",
      "_model_module_version": "1.5.0",
      "_model_name": "HTMLModel",
      "_view_count": null,
      "_view_module": "@jupyter-widgets/controls",
      "_view_module_version": "1.5.0",
      "_view_name": "HTMLView",
      "description": "",
      "description_tooltip": null,
      "layout": "IPY_MODEL_4b7aa59c8e0f468c894afa2213e70e40",
      "placeholder": "​",
      "style": "IPY_MODEL_250e37f8fa9b4b9190e58fbf2d64a9b0",
      "value": " 1/1 [00:00&lt;00:00, 58.68it/s]"
     }
    },
    "0a98cdd08714466cb6580e540b638e59": {
     "model_module": "@jupyter-widgets/controls",
     "model_module_version": "1.5.0",
     "model_name": "HTMLModel",
     "state": {
      "_dom_classes": [],
      "_model_module": "@jupyter-widgets/controls",
      "_model_module_version": "1.5.0",
      "_model_name": "HTMLModel",
      "_view_count": null,
      "_view_module": "@jupyter-widgets/controls",
      "_view_module_version": "1.5.0",
      "_view_name": "HTMLView",
      "description": "",
      "description_tooltip": null,
      "layout": "IPY_MODEL_3940e8ccafb7400db01bd1780b4762c8",
      "placeholder": "​",
      "style": "IPY_MODEL_037618e546f54689a002fa3d7d69fd53",
      "value": " 99/99 [04:13&lt;00:00,  2.88s/ examples]"
     }
    },
    "0e7bfe144bc943e49c2e013d4231fb31": {
     "model_module": "@jupyter-widgets/controls",
     "model_module_version": "1.5.0",
     "model_name": "ProgressStyleModel",
     "state": {
      "_model_module": "@jupyter-widgets/controls",
      "_model_module_version": "1.5.0",
      "_model_name": "ProgressStyleModel",
      "_view_count": null,
      "_view_module": "@jupyter-widgets/base",
      "_view_module_version": "1.2.0",
      "_view_name": "StyleView",
      "bar_color": null,
      "description_width": ""
     }
    },
    "0fb0c983a3f84706913464589423cde6": {
     "model_module": "@jupyter-widgets/controls",
     "model_module_version": "1.5.0",
     "model_name": "DescriptionStyleModel",
     "state": {
      "_model_module": "@jupyter-widgets/controls",
      "_model_module_version": "1.5.0",
      "_model_name": "DescriptionStyleModel",
      "_view_count": null,
      "_view_module": "@jupyter-widgets/base",
      "_view_module_version": "1.2.0",
      "_view_name": "StyleView",
      "description_width": ""
     }
    },
    "0ffc775725594448a90d43b3febf86d5": {
     "model_module": "@jupyter-widgets/base",
     "model_module_version": "1.2.0",
     "model_name": "LayoutModel",
     "state": {
      "_model_module": "@jupyter-widgets/base",
      "_model_module_version": "1.2.0",
      "_model_name": "LayoutModel",
      "_view_count": null,
      "_view_module": "@jupyter-widgets/base",
      "_view_module_version": "1.2.0",
      "_view_name": "LayoutView",
      "align_content": null,
      "align_items": null,
      "align_self": null,
      "border": null,
      "bottom": null,
      "display": null,
      "flex": null,
      "flex_flow": null,
      "grid_area": null,
      "grid_auto_columns": null,
      "grid_auto_flow": null,
      "grid_auto_rows": null,
      "grid_column": null,
      "grid_gap": null,
      "grid_row": null,
      "grid_template_areas": null,
      "grid_template_columns": null,
      "grid_template_rows": null,
      "height": null,
      "justify_content": null,
      "justify_items": null,
      "left": null,
      "margin": null,
      "max_height": null,
      "max_width": null,
      "min_height": null,
      "min_width": null,
      "object_fit": null,
      "object_position": null,
      "order": null,
      "overflow": null,
      "overflow_x": null,
      "overflow_y": null,
      "padding": null,
      "right": null,
      "top": null,
      "visibility": null,
      "width": null
     }
    },
    "1c342fa12d9c4ac5b111d024c3005ef9": {
     "model_module": "@jupyter-widgets/controls",
     "model_module_version": "1.5.0",
     "model_name": "DescriptionStyleModel",
     "state": {
      "_model_module": "@jupyter-widgets/controls",
      "_model_module_version": "1.5.0",
      "_model_name": "DescriptionStyleModel",
      "_view_count": null,
      "_view_module": "@jupyter-widgets/base",
      "_view_module_version": "1.2.0",
      "_view_name": "StyleView",
      "description_width": ""
     }
    },
    "1e4a6e0c29874fb39ecc8481615feb9c": {
     "model_module": "@jupyter-widgets/controls",
     "model_module_version": "1.5.0",
     "model_name": "ProgressStyleModel",
     "state": {
      "_model_module": "@jupyter-widgets/controls",
      "_model_module_version": "1.5.0",
      "_model_name": "ProgressStyleModel",
      "_view_count": null,
      "_view_module": "@jupyter-widgets/base",
      "_view_module_version": "1.2.0",
      "_view_name": "StyleView",
      "bar_color": null,
      "description_width": ""
     }
    },
    "2175d7c5867b44fe90e2467a38d48be1": {
     "model_module": "@jupyter-widgets/controls",
     "model_module_version": "1.5.0",
     "model_name": "HTMLModel",
     "state": {
      "_dom_classes": [],
      "_model_module": "@jupyter-widgets/controls",
      "_model_module_version": "1.5.0",
      "_model_name": "HTMLModel",
      "_view_count": null,
      "_view_module": "@jupyter-widgets/controls",
      "_view_module_version": "1.5.0",
      "_view_name": "HTMLView",
      "description": "",
      "description_tooltip": null,
      "layout": "IPY_MODEL_fa8fb8c6c6224e50b502c4a594938f87",
      "placeholder": "​",
      "style": "IPY_MODEL_88acb18e893642149489cfa639864d57",
      "value": "100%"
     }
    },
    "235f817e2a14497dbf7001ad867ad981": {
     "model_module": "@jupyter-widgets/base",
     "model_module_version": "1.2.0",
     "model_name": "LayoutModel",
     "state": {
      "_model_module": "@jupyter-widgets/base",
      "_model_module_version": "1.2.0",
      "_model_name": "LayoutModel",
      "_view_count": null,
      "_view_module": "@jupyter-widgets/base",
      "_view_module_version": "1.2.0",
      "_view_name": "LayoutView",
      "align_content": null,
      "align_items": null,
      "align_self": null,
      "border": null,
      "bottom": null,
      "display": null,
      "flex": null,
      "flex_flow": null,
      "grid_area": null,
      "grid_auto_columns": null,
      "grid_auto_flow": null,
      "grid_auto_rows": null,
      "grid_column": null,
      "grid_gap": null,
      "grid_row": null,
      "grid_template_areas": null,
      "grid_template_columns": null,
      "grid_template_rows": null,
      "height": null,
      "justify_content": null,
      "justify_items": null,
      "left": null,
      "margin": null,
      "max_height": null,
      "max_width": null,
      "min_height": null,
      "min_width": null,
      "object_fit": null,
      "object_position": null,
      "order": null,
      "overflow": null,
      "overflow_x": null,
      "overflow_y": null,
      "padding": null,
      "right": null,
      "top": null,
      "visibility": null,
      "width": null
     }
    },
    "250e37f8fa9b4b9190e58fbf2d64a9b0": {
     "model_module": "@jupyter-widgets/controls",
     "model_module_version": "1.5.0",
     "model_name": "DescriptionStyleModel",
     "state": {
      "_model_module": "@jupyter-widgets/controls",
      "_model_module_version": "1.5.0",
      "_model_name": "DescriptionStyleModel",
      "_view_count": null,
      "_view_module": "@jupyter-widgets/base",
      "_view_module_version": "1.2.0",
      "_view_name": "StyleView",
      "description_width": ""
     }
    },
    "2623d6bf6f704ac0b56b54f6119130c9": {
     "model_module": "@jupyter-widgets/controls",
     "model_module_version": "1.5.0",
     "model_name": "FloatProgressModel",
     "state": {
      "_dom_classes": [],
      "_model_module": "@jupyter-widgets/controls",
      "_model_module_version": "1.5.0",
      "_model_name": "FloatProgressModel",
      "_view_count": null,
      "_view_module": "@jupyter-widgets/controls",
      "_view_module_version": "1.5.0",
      "_view_name": "ProgressView",
      "bar_style": "success",
      "description": "",
      "description_tooltip": null,
      "layout": "IPY_MODEL_45478ccea8074e7eba6d182ea39f1c05",
      "max": 99,
      "min": 0,
      "orientation": "horizontal",
      "style": "IPY_MODEL_0e7bfe144bc943e49c2e013d4231fb31",
      "value": 99
     }
    },
    "27cd1eb19a834d82ab4fd05e2ad16e54": {
     "model_module": "@jupyter-widgets/controls",
     "model_module_version": "1.5.0",
     "model_name": "HTMLModel",
     "state": {
      "_dom_classes": [],
      "_model_module": "@jupyter-widgets/controls",
      "_model_module_version": "1.5.0",
      "_model_name": "HTMLModel",
      "_view_count": null,
      "_view_module": "@jupyter-widgets/controls",
      "_view_module_version": "1.5.0",
      "_view_name": "HTMLView",
      "description": "",
      "description_tooltip": null,
      "layout": "IPY_MODEL_ffab03e3ed6646f7bb8b90e6c6aab143",
      "placeholder": "​",
      "style": "IPY_MODEL_ee47a7d33bd840a2a9e369209be3aeb4",
      "value": " 99/99 [00:00&lt;00:00, 143.89it/s]"
     }
    },
    "2d5f39d3749646b5b89bfc7d48b7abba": {
     "model_module": "@jupyter-widgets/base",
     "model_module_version": "1.2.0",
     "model_name": "LayoutModel",
     "state": {
      "_model_module": "@jupyter-widgets/base",
      "_model_module_version": "1.2.0",
      "_model_name": "LayoutModel",
      "_view_count": null,
      "_view_module": "@jupyter-widgets/base",
      "_view_module_version": "1.2.0",
      "_view_name": "LayoutView",
      "align_content": null,
      "align_items": null,
      "align_self": null,
      "border": null,
      "bottom": null,
      "display": null,
      "flex": null,
      "flex_flow": null,
      "grid_area": null,
      "grid_auto_columns": null,
      "grid_auto_flow": null,
      "grid_auto_rows": null,
      "grid_column": null,
      "grid_gap": null,
      "grid_row": null,
      "grid_template_areas": null,
      "grid_template_columns": null,
      "grid_template_rows": null,
      "height": null,
      "justify_content": null,
      "justify_items": null,
      "left": null,
      "margin": null,
      "max_height": null,
      "max_width": null,
      "min_height": null,
      "min_width": null,
      "object_fit": null,
      "object_position": null,
      "order": null,
      "overflow": null,
      "overflow_x": null,
      "overflow_y": null,
      "padding": null,
      "right": null,
      "top": null,
      "visibility": null,
      "width": null
     }
    },
    "2febb65c441d4e539e9d55cad34a730a": {
     "model_module": "@jupyter-widgets/controls",
     "model_module_version": "1.5.0",
     "model_name": "ProgressStyleModel",
     "state": {
      "_model_module": "@jupyter-widgets/controls",
      "_model_module_version": "1.5.0",
      "_model_name": "ProgressStyleModel",
      "_view_count": null,
      "_view_module": "@jupyter-widgets/base",
      "_view_module_version": "1.2.0",
      "_view_name": "StyleView",
      "bar_color": null,
      "description_width": ""
     }
    },
    "3159a6d621de453ba26cb66fc0fe2fae": {
     "model_module": "@jupyter-widgets/controls",
     "model_module_version": "1.5.0",
     "model_name": "DescriptionStyleModel",
     "state": {
      "_model_module": "@jupyter-widgets/controls",
      "_model_module_version": "1.5.0",
      "_model_name": "DescriptionStyleModel",
      "_view_count": null,
      "_view_module": "@jupyter-widgets/base",
      "_view_module_version": "1.2.0",
      "_view_name": "StyleView",
      "description_width": ""
     }
    },
    "31c7ab154d7a466db20e0fe002ed3051": {
     "model_module": "@jupyter-widgets/controls",
     "model_module_version": "1.5.0",
     "model_name": "HTMLModel",
     "state": {
      "_dom_classes": [],
      "_model_module": "@jupyter-widgets/controls",
      "_model_module_version": "1.5.0",
      "_model_name": "HTMLModel",
      "_view_count": null,
      "_view_module": "@jupyter-widgets/controls",
      "_view_module_version": "1.5.0",
      "_view_name": "HTMLView",
      "description": "",
      "description_tooltip": null,
      "layout": "IPY_MODEL_0ffc775725594448a90d43b3febf86d5",
      "placeholder": "​",
      "style": "IPY_MODEL_3159a6d621de453ba26cb66fc0fe2fae",
      "value": "100%"
     }
    },
    "31ec08e6058f43b4a76f3c800a76de17": {
     "model_module": "@jupyter-widgets/controls",
     "model_module_version": "1.5.0",
     "model_name": "DescriptionStyleModel",
     "state": {
      "_model_module": "@jupyter-widgets/controls",
      "_model_module_version": "1.5.0",
      "_model_name": "DescriptionStyleModel",
      "_view_count": null,
      "_view_module": "@jupyter-widgets/base",
      "_view_module_version": "1.2.0",
      "_view_name": "StyleView",
      "description_width": ""
     }
    },
    "32a20a3d2736439b9f66dfd516f14424": {
     "model_module": "@jupyter-widgets/controls",
     "model_module_version": "1.5.0",
     "model_name": "ProgressStyleModel",
     "state": {
      "_model_module": "@jupyter-widgets/controls",
      "_model_module_version": "1.5.0",
      "_model_name": "ProgressStyleModel",
      "_view_count": null,
      "_view_module": "@jupyter-widgets/base",
      "_view_module_version": "1.2.0",
      "_view_name": "StyleView",
      "bar_color": null,
      "description_width": ""
     }
    },
    "32c345f27bf84c72aac38348969c369b": {
     "model_module": "@jupyter-widgets/base",
     "model_module_version": "1.2.0",
     "model_name": "LayoutModel",
     "state": {
      "_model_module": "@jupyter-widgets/base",
      "_model_module_version": "1.2.0",
      "_model_name": "LayoutModel",
      "_view_count": null,
      "_view_module": "@jupyter-widgets/base",
      "_view_module_version": "1.2.0",
      "_view_name": "LayoutView",
      "align_content": null,
      "align_items": null,
      "align_self": null,
      "border": null,
      "bottom": null,
      "display": null,
      "flex": null,
      "flex_flow": null,
      "grid_area": null,
      "grid_auto_columns": null,
      "grid_auto_flow": null,
      "grid_auto_rows": null,
      "grid_column": null,
      "grid_gap": null,
      "grid_row": null,
      "grid_template_areas": null,
      "grid_template_columns": null,
      "grid_template_rows": null,
      "height": null,
      "justify_content": null,
      "justify_items": null,
      "left": null,
      "margin": null,
      "max_height": null,
      "max_width": null,
      "min_height": null,
      "min_width": null,
      "object_fit": null,
      "object_position": null,
      "order": null,
      "overflow": null,
      "overflow_x": null,
      "overflow_y": null,
      "padding": null,
      "right": null,
      "top": null,
      "visibility": null,
      "width": null
     }
    },
    "3940e8ccafb7400db01bd1780b4762c8": {
     "model_module": "@jupyter-widgets/base",
     "model_module_version": "1.2.0",
     "model_name": "LayoutModel",
     "state": {
      "_model_module": "@jupyter-widgets/base",
      "_model_module_version": "1.2.0",
      "_model_name": "LayoutModel",
      "_view_count": null,
      "_view_module": "@jupyter-widgets/base",
      "_view_module_version": "1.2.0",
      "_view_name": "LayoutView",
      "align_content": null,
      "align_items": null,
      "align_self": null,
      "border": null,
      "bottom": null,
      "display": null,
      "flex": null,
      "flex_flow": null,
      "grid_area": null,
      "grid_auto_columns": null,
      "grid_auto_flow": null,
      "grid_auto_rows": null,
      "grid_column": null,
      "grid_gap": null,
      "grid_row": null,
      "grid_template_areas": null,
      "grid_template_columns": null,
      "grid_template_rows": null,
      "height": null,
      "justify_content": null,
      "justify_items": null,
      "left": null,
      "margin": null,
      "max_height": null,
      "max_width": null,
      "min_height": null,
      "min_width": null,
      "object_fit": null,
      "object_position": null,
      "order": null,
      "overflow": null,
      "overflow_x": null,
      "overflow_y": null,
      "padding": null,
      "right": null,
      "top": null,
      "visibility": null,
      "width": null
     }
    },
    "39d695fa7e1f44318539a16afb2f329f": {
     "model_module": "@jupyter-widgets/base",
     "model_module_version": "1.2.0",
     "model_name": "LayoutModel",
     "state": {
      "_model_module": "@jupyter-widgets/base",
      "_model_module_version": "1.2.0",
      "_model_name": "LayoutModel",
      "_view_count": null,
      "_view_module": "@jupyter-widgets/base",
      "_view_module_version": "1.2.0",
      "_view_name": "LayoutView",
      "align_content": null,
      "align_items": null,
      "align_self": null,
      "border": null,
      "bottom": null,
      "display": null,
      "flex": null,
      "flex_flow": null,
      "grid_area": null,
      "grid_auto_columns": null,
      "grid_auto_flow": null,
      "grid_auto_rows": null,
      "grid_column": null,
      "grid_gap": null,
      "grid_row": null,
      "grid_template_areas": null,
      "grid_template_columns": null,
      "grid_template_rows": null,
      "height": null,
      "justify_content": null,
      "justify_items": null,
      "left": null,
      "margin": null,
      "max_height": null,
      "max_width": null,
      "min_height": null,
      "min_width": null,
      "object_fit": null,
      "object_position": null,
      "order": null,
      "overflow": null,
      "overflow_x": null,
      "overflow_y": null,
      "padding": null,
      "right": null,
      "top": null,
      "visibility": null,
      "width": null
     }
    },
    "3f4be352549041ce8d463899c4ae03b4": {
     "model_module": "@jupyter-widgets/base",
     "model_module_version": "1.2.0",
     "model_name": "LayoutModel",
     "state": {
      "_model_module": "@jupyter-widgets/base",
      "_model_module_version": "1.2.0",
      "_model_name": "LayoutModel",
      "_view_count": null,
      "_view_module": "@jupyter-widgets/base",
      "_view_module_version": "1.2.0",
      "_view_name": "LayoutView",
      "align_content": null,
      "align_items": null,
      "align_self": null,
      "border": null,
      "bottom": null,
      "display": null,
      "flex": null,
      "flex_flow": null,
      "grid_area": null,
      "grid_auto_columns": null,
      "grid_auto_flow": null,
      "grid_auto_rows": null,
      "grid_column": null,
      "grid_gap": null,
      "grid_row": null,
      "grid_template_areas": null,
      "grid_template_columns": null,
      "grid_template_rows": null,
      "height": null,
      "justify_content": null,
      "justify_items": null,
      "left": null,
      "margin": null,
      "max_height": null,
      "max_width": null,
      "min_height": null,
      "min_width": null,
      "object_fit": null,
      "object_position": null,
      "order": null,
      "overflow": null,
      "overflow_x": null,
      "overflow_y": null,
      "padding": null,
      "right": null,
      "top": null,
      "visibility": null,
      "width": null
     }
    },
    "424ddacdad7e4d6fb902736482b47c2f": {
     "model_module": "@jupyter-widgets/controls",
     "model_module_version": "1.5.0",
     "model_name": "HTMLModel",
     "state": {
      "_dom_classes": [],
      "_model_module": "@jupyter-widgets/controls",
      "_model_module_version": "1.5.0",
      "_model_name": "HTMLModel",
      "_view_count": null,
      "_view_module": "@jupyter-widgets/controls",
      "_view_module_version": "1.5.0",
      "_view_name": "HTMLView",
      "description": "",
      "description_tooltip": null,
      "layout": "IPY_MODEL_8b8c2058d5334723b3cc0dabf8b4b5dd",
      "placeholder": "​",
      "style": "IPY_MODEL_1c342fa12d9c4ac5b111d024c3005ef9",
      "value": "100%"
     }
    },
    "45478ccea8074e7eba6d182ea39f1c05": {
     "model_module": "@jupyter-widgets/base",
     "model_module_version": "1.2.0",
     "model_name": "LayoutModel",
     "state": {
      "_model_module": "@jupyter-widgets/base",
      "_model_module_version": "1.2.0",
      "_model_name": "LayoutModel",
      "_view_count": null,
      "_view_module": "@jupyter-widgets/base",
      "_view_module_version": "1.2.0",
      "_view_name": "LayoutView",
      "align_content": null,
      "align_items": null,
      "align_self": null,
      "border": null,
      "bottom": null,
      "display": null,
      "flex": null,
      "flex_flow": null,
      "grid_area": null,
      "grid_auto_columns": null,
      "grid_auto_flow": null,
      "grid_auto_rows": null,
      "grid_column": null,
      "grid_gap": null,
      "grid_row": null,
      "grid_template_areas": null,
      "grid_template_columns": null,
      "grid_template_rows": null,
      "height": null,
      "justify_content": null,
      "justify_items": null,
      "left": null,
      "margin": null,
      "max_height": null,
      "max_width": null,
      "min_height": null,
      "min_width": null,
      "object_fit": null,
      "object_position": null,
      "order": null,
      "overflow": null,
      "overflow_x": null,
      "overflow_y": null,
      "padding": null,
      "right": null,
      "top": null,
      "visibility": null,
      "width": null
     }
    },
    "4574a521bb4e40559fffb47ebc586c19": {
     "model_module": "@jupyter-widgets/controls",
     "model_module_version": "1.5.0",
     "model_name": "DescriptionStyleModel",
     "state": {
      "_model_module": "@jupyter-widgets/controls",
      "_model_module_version": "1.5.0",
      "_model_name": "DescriptionStyleModel",
      "_view_count": null,
      "_view_module": "@jupyter-widgets/base",
      "_view_module_version": "1.2.0",
      "_view_name": "StyleView",
      "description_width": ""
     }
    },
    "48fe5bfd79ca4b5f8bc113929dec117f": {
     "model_module": "@jupyter-widgets/controls",
     "model_module_version": "1.5.0",
     "model_name": "FloatProgressModel",
     "state": {
      "_dom_classes": [],
      "_model_module": "@jupyter-widgets/controls",
      "_model_module_version": "1.5.0",
      "_model_name": "FloatProgressModel",
      "_view_count": null,
      "_view_module": "@jupyter-widgets/controls",
      "_view_module_version": "1.5.0",
      "_view_name": "ProgressView",
      "bar_style": "success",
      "description": "",
      "description_tooltip": null,
      "layout": "IPY_MODEL_32c345f27bf84c72aac38348969c369b",
      "max": 99,
      "min": 0,
      "orientation": "horizontal",
      "style": "IPY_MODEL_2febb65c441d4e539e9d55cad34a730a",
      "value": 99
     }
    },
    "4b7aa59c8e0f468c894afa2213e70e40": {
     "model_module": "@jupyter-widgets/base",
     "model_module_version": "1.2.0",
     "model_name": "LayoutModel",
     "state": {
      "_model_module": "@jupyter-widgets/base",
      "_model_module_version": "1.2.0",
      "_model_name": "LayoutModel",
      "_view_count": null,
      "_view_module": "@jupyter-widgets/base",
      "_view_module_version": "1.2.0",
      "_view_name": "LayoutView",
      "align_content": null,
      "align_items": null,
      "align_self": null,
      "border": null,
      "bottom": null,
      "display": null,
      "flex": null,
      "flex_flow": null,
      "grid_area": null,
      "grid_auto_columns": null,
      "grid_auto_flow": null,
      "grid_auto_rows": null,
      "grid_column": null,
      "grid_gap": null,
      "grid_row": null,
      "grid_template_areas": null,
      "grid_template_columns": null,
      "grid_template_rows": null,
      "height": null,
      "justify_content": null,
      "justify_items": null,
      "left": null,
      "margin": null,
      "max_height": null,
      "max_width": null,
      "min_height": null,
      "min_width": null,
      "object_fit": null,
      "object_position": null,
      "order": null,
      "overflow": null,
      "overflow_x": null,
      "overflow_y": null,
      "padding": null,
      "right": null,
      "top": null,
      "visibility": null,
      "width": null
     }
    },
    "4d1c71a19df54de2987a0b07f1d2c783": {
     "model_module": "@jupyter-widgets/controls",
     "model_module_version": "1.5.0",
     "model_name": "HBoxModel",
     "state": {
      "_dom_classes": [],
      "_model_module": "@jupyter-widgets/controls",
      "_model_module_version": "1.5.0",
      "_model_name": "HBoxModel",
      "_view_count": null,
      "_view_module": "@jupyter-widgets/controls",
      "_view_module_version": "1.5.0",
      "_view_name": "HBoxView",
      "box_style": "",
      "children": [
       "IPY_MODEL_b6a6dc9e52a1402aa6f73690cab895a5",
       "IPY_MODEL_2623d6bf6f704ac0b56b54f6119130c9",
       "IPY_MODEL_0a98cdd08714466cb6580e540b638e59"
      ],
      "layout": "IPY_MODEL_d49373815f6d4861898a394fe8dfcca3"
     }
    },
    "4d436240b4374b27a0601ee506272cdf": {
     "model_module": "@jupyter-widgets/base",
     "model_module_version": "1.2.0",
     "model_name": "LayoutModel",
     "state": {
      "_model_module": "@jupyter-widgets/base",
      "_model_module_version": "1.2.0",
      "_model_name": "LayoutModel",
      "_view_count": null,
      "_view_module": "@jupyter-widgets/base",
      "_view_module_version": "1.2.0",
      "_view_name": "LayoutView",
      "align_content": null,
      "align_items": null,
      "align_self": null,
      "border": null,
      "bottom": null,
      "display": null,
      "flex": null,
      "flex_flow": null,
      "grid_area": null,
      "grid_auto_columns": null,
      "grid_auto_flow": null,
      "grid_auto_rows": null,
      "grid_column": null,
      "grid_gap": null,
      "grid_row": null,
      "grid_template_areas": null,
      "grid_template_columns": null,
      "grid_template_rows": null,
      "height": null,
      "justify_content": null,
      "justify_items": null,
      "left": null,
      "margin": null,
      "max_height": null,
      "max_width": null,
      "min_height": null,
      "min_width": null,
      "object_fit": null,
      "object_position": null,
      "order": null,
      "overflow": null,
      "overflow_x": null,
      "overflow_y": null,
      "padding": null,
      "right": null,
      "top": null,
      "visibility": null,
      "width": null
     }
    },
    "564fa5ebda1f4cc4a332679793422c31": {
     "model_module": "@jupyter-widgets/base",
     "model_module_version": "1.2.0",
     "model_name": "LayoutModel",
     "state": {
      "_model_module": "@jupyter-widgets/base",
      "_model_module_version": "1.2.0",
      "_model_name": "LayoutModel",
      "_view_count": null,
      "_view_module": "@jupyter-widgets/base",
      "_view_module_version": "1.2.0",
      "_view_name": "LayoutView",
      "align_content": null,
      "align_items": null,
      "align_self": null,
      "border": null,
      "bottom": null,
      "display": null,
      "flex": null,
      "flex_flow": null,
      "grid_area": null,
      "grid_auto_columns": null,
      "grid_auto_flow": null,
      "grid_auto_rows": null,
      "grid_column": null,
      "grid_gap": null,
      "grid_row": null,
      "grid_template_areas": null,
      "grid_template_columns": null,
      "grid_template_rows": null,
      "height": null,
      "justify_content": null,
      "justify_items": null,
      "left": null,
      "margin": null,
      "max_height": null,
      "max_width": null,
      "min_height": null,
      "min_width": null,
      "object_fit": null,
      "object_position": null,
      "order": null,
      "overflow": null,
      "overflow_x": null,
      "overflow_y": null,
      "padding": null,
      "right": null,
      "top": null,
      "visibility": null,
      "width": null
     }
    },
    "58affac485e24a4e8e32eae528cbd78d": {
     "model_module": "@jupyter-widgets/controls",
     "model_module_version": "1.5.0",
     "model_name": "HTMLModel",
     "state": {
      "_dom_classes": [],
      "_model_module": "@jupyter-widgets/controls",
      "_model_module_version": "1.5.0",
      "_model_name": "HTMLModel",
      "_view_count": null,
      "_view_module": "@jupyter-widgets/controls",
      "_view_module_version": "1.5.0",
      "_view_name": "HTMLView",
      "description": "",
      "description_tooltip": null,
      "layout": "IPY_MODEL_564fa5ebda1f4cc4a332679793422c31",
      "placeholder": "​",
      "style": "IPY_MODEL_c21197256c6a4ff78a4aef53f496a85f",
      "value": "100%"
     }
    },
    "6a401529474743b5ac201002e77324d4": {
     "model_module": "@jupyter-widgets/controls",
     "model_module_version": "1.5.0",
     "model_name": "HBoxModel",
     "state": {
      "_dom_classes": [],
      "_model_module": "@jupyter-widgets/controls",
      "_model_module_version": "1.5.0",
      "_model_name": "HBoxModel",
      "_view_count": null,
      "_view_module": "@jupyter-widgets/controls",
      "_view_module_version": "1.5.0",
      "_view_name": "HBoxView",
      "box_style": "",
      "children": [
       "IPY_MODEL_d20d71868a0840bcb165dfe19a15c2d5",
       "IPY_MODEL_7f9adb24f6d8445983f79ceeada7ca63",
       "IPY_MODEL_d77bde84123f49d8aac9ed6b442f0611"
      ],
      "layout": "IPY_MODEL_ed42a9705fb240238c55e5c26b25ff71"
     }
    },
    "75a5997bd1ec475d922a05fc659dc100": {
     "model_module": "@jupyter-widgets/controls",
     "model_module_version": "1.5.0",
     "model_name": "FloatProgressModel",
     "state": {
      "_dom_classes": [],
      "_model_module": "@jupyter-widgets/controls",
      "_model_module_version": "1.5.0",
      "_model_name": "FloatProgressModel",
      "_view_count": null,
      "_view_module": "@jupyter-widgets/controls",
      "_view_module_version": "1.5.0",
      "_view_name": "ProgressView",
      "bar_style": "success",
      "description": "",
      "description_tooltip": null,
      "layout": "IPY_MODEL_05a4dfccfb564bff9cea69b3242aef4f",
      "max": 99,
      "min": 0,
      "orientation": "horizontal",
      "style": "IPY_MODEL_dbd216e1fa1945b49150e50e9e60ff9b",
      "value": 99
     }
    },
    "77029de634d04b9ea9f80c7d18ea2637": {
     "model_module": "@jupyter-widgets/base",
     "model_module_version": "1.2.0",
     "model_name": "LayoutModel",
     "state": {
      "_model_module": "@jupyter-widgets/base",
      "_model_module_version": "1.2.0",
      "_model_name": "LayoutModel",
      "_view_count": null,
      "_view_module": "@jupyter-widgets/base",
      "_view_module_version": "1.2.0",
      "_view_name": "LayoutView",
      "align_content": null,
      "align_items": null,
      "align_self": null,
      "border": null,
      "bottom": null,
      "display": null,
      "flex": null,
      "flex_flow": null,
      "grid_area": null,
      "grid_auto_columns": null,
      "grid_auto_flow": null,
      "grid_auto_rows": null,
      "grid_column": null,
      "grid_gap": null,
      "grid_row": null,
      "grid_template_areas": null,
      "grid_template_columns": null,
      "grid_template_rows": null,
      "height": null,
      "justify_content": null,
      "justify_items": null,
      "left": null,
      "margin": null,
      "max_height": null,
      "max_width": null,
      "min_height": null,
      "min_width": null,
      "object_fit": null,
      "object_position": null,
      "order": null,
      "overflow": null,
      "overflow_x": null,
      "overflow_y": null,
      "padding": null,
      "right": null,
      "top": null,
      "visibility": null,
      "width": null
     }
    },
    "7bb35adda14343c8875706e205f2e8d5": {
     "model_module": "@jupyter-widgets/base",
     "model_module_version": "1.2.0",
     "model_name": "LayoutModel",
     "state": {
      "_model_module": "@jupyter-widgets/base",
      "_model_module_version": "1.2.0",
      "_model_name": "LayoutModel",
      "_view_count": null,
      "_view_module": "@jupyter-widgets/base",
      "_view_module_version": "1.2.0",
      "_view_name": "LayoutView",
      "align_content": null,
      "align_items": null,
      "align_self": null,
      "border": null,
      "bottom": null,
      "display": null,
      "flex": null,
      "flex_flow": null,
      "grid_area": null,
      "grid_auto_columns": null,
      "grid_auto_flow": null,
      "grid_auto_rows": null,
      "grid_column": null,
      "grid_gap": null,
      "grid_row": null,
      "grid_template_areas": null,
      "grid_template_columns": null,
      "grid_template_rows": null,
      "height": null,
      "justify_content": null,
      "justify_items": null,
      "left": null,
      "margin": null,
      "max_height": null,
      "max_width": null,
      "min_height": null,
      "min_width": null,
      "object_fit": null,
      "object_position": null,
      "order": null,
      "overflow": null,
      "overflow_x": null,
      "overflow_y": null,
      "padding": null,
      "right": null,
      "top": null,
      "visibility": null,
      "width": null
     }
    },
    "7f9adb24f6d8445983f79ceeada7ca63": {
     "model_module": "@jupyter-widgets/controls",
     "model_module_version": "1.5.0",
     "model_name": "FloatProgressModel",
     "state": {
      "_dom_classes": [],
      "_model_module": "@jupyter-widgets/controls",
      "_model_module_version": "1.5.0",
      "_model_name": "FloatProgressModel",
      "_view_count": null,
      "_view_module": "@jupyter-widgets/controls",
      "_view_module_version": "1.5.0",
      "_view_name": "ProgressView",
      "bar_style": "success",
      "description": "",
      "description_tooltip": null,
      "layout": "IPY_MODEL_3f4be352549041ce8d463899c4ae03b4",
      "max": 99,
      "min": 0,
      "orientation": "horizontal",
      "style": "IPY_MODEL_874ea89a031e463bb7f0bbbd39f6ebc7",
      "value": 99
     }
    },
    "801e63978fa84230a312d7b67a9d00f9": {
     "model_module": "@jupyter-widgets/controls",
     "model_module_version": "1.5.0",
     "model_name": "DescriptionStyleModel",
     "state": {
      "_model_module": "@jupyter-widgets/controls",
      "_model_module_version": "1.5.0",
      "_model_name": "DescriptionStyleModel",
      "_view_count": null,
      "_view_module": "@jupyter-widgets/base",
      "_view_module_version": "1.2.0",
      "_view_name": "StyleView",
      "description_width": ""
     }
    },
    "80e99d6dbc644b14b15a3c0505efe8a3": {
     "model_module": "@jupyter-widgets/controls",
     "model_module_version": "1.5.0",
     "model_name": "FloatProgressModel",
     "state": {
      "_dom_classes": [],
      "_model_module": "@jupyter-widgets/controls",
      "_model_module_version": "1.5.0",
      "_model_name": "FloatProgressModel",
      "_view_count": null,
      "_view_module": "@jupyter-widgets/controls",
      "_view_module_version": "1.5.0",
      "_view_name": "ProgressView",
      "bar_style": "success",
      "description": "",
      "description_tooltip": null,
      "layout": "IPY_MODEL_a15cda5efeb84af4abf66afc05651699",
      "max": 99,
      "min": 0,
      "orientation": "horizontal",
      "style": "IPY_MODEL_32a20a3d2736439b9f66dfd516f14424",
      "value": 99
     }
    },
    "83dfe2c231d4427a8927e7f73c70af20": {
     "model_module": "@jupyter-widgets/controls",
     "model_module_version": "1.5.0",
     "model_name": "DescriptionStyleModel",
     "state": {
      "_model_module": "@jupyter-widgets/controls",
      "_model_module_version": "1.5.0",
      "_model_name": "DescriptionStyleModel",
      "_view_count": null,
      "_view_module": "@jupyter-widgets/base",
      "_view_module_version": "1.2.0",
      "_view_name": "StyleView",
      "description_width": ""
     }
    },
    "874ea89a031e463bb7f0bbbd39f6ebc7": {
     "model_module": "@jupyter-widgets/controls",
     "model_module_version": "1.5.0",
     "model_name": "ProgressStyleModel",
     "state": {
      "_model_module": "@jupyter-widgets/controls",
      "_model_module_version": "1.5.0",
      "_model_name": "ProgressStyleModel",
      "_view_count": null,
      "_view_module": "@jupyter-widgets/base",
      "_view_module_version": "1.2.0",
      "_view_name": "StyleView",
      "bar_color": null,
      "description_width": ""
     }
    },
    "87af5009fe0d43019ab60aa0fe580cab": {
     "model_module": "@jupyter-widgets/base",
     "model_module_version": "1.2.0",
     "model_name": "LayoutModel",
     "state": {
      "_model_module": "@jupyter-widgets/base",
      "_model_module_version": "1.2.0",
      "_model_name": "LayoutModel",
      "_view_count": null,
      "_view_module": "@jupyter-widgets/base",
      "_view_module_version": "1.2.0",
      "_view_name": "LayoutView",
      "align_content": null,
      "align_items": null,
      "align_self": null,
      "border": null,
      "bottom": null,
      "display": null,
      "flex": null,
      "flex_flow": null,
      "grid_area": null,
      "grid_auto_columns": null,
      "grid_auto_flow": null,
      "grid_auto_rows": null,
      "grid_column": null,
      "grid_gap": null,
      "grid_row": null,
      "grid_template_areas": null,
      "grid_template_columns": null,
      "grid_template_rows": null,
      "height": null,
      "justify_content": null,
      "justify_items": null,
      "left": null,
      "margin": null,
      "max_height": null,
      "max_width": null,
      "min_height": null,
      "min_width": null,
      "object_fit": null,
      "object_position": null,
      "order": null,
      "overflow": null,
      "overflow_x": null,
      "overflow_y": null,
      "padding": null,
      "right": null,
      "top": null,
      "visibility": null,
      "width": null
     }
    },
    "88acb18e893642149489cfa639864d57": {
     "model_module": "@jupyter-widgets/controls",
     "model_module_version": "1.5.0",
     "model_name": "DescriptionStyleModel",
     "state": {
      "_model_module": "@jupyter-widgets/controls",
      "_model_module_version": "1.5.0",
      "_model_name": "DescriptionStyleModel",
      "_view_count": null,
      "_view_module": "@jupyter-widgets/base",
      "_view_module_version": "1.2.0",
      "_view_name": "StyleView",
      "description_width": ""
     }
    },
    "8b8c2058d5334723b3cc0dabf8b4b5dd": {
     "model_module": "@jupyter-widgets/base",
     "model_module_version": "1.2.0",
     "model_name": "LayoutModel",
     "state": {
      "_model_module": "@jupyter-widgets/base",
      "_model_module_version": "1.2.0",
      "_model_name": "LayoutModel",
      "_view_count": null,
      "_view_module": "@jupyter-widgets/base",
      "_view_module_version": "1.2.0",
      "_view_name": "LayoutView",
      "align_content": null,
      "align_items": null,
      "align_self": null,
      "border": null,
      "bottom": null,
      "display": null,
      "flex": null,
      "flex_flow": null,
      "grid_area": null,
      "grid_auto_columns": null,
      "grid_auto_flow": null,
      "grid_auto_rows": null,
      "grid_column": null,
      "grid_gap": null,
      "grid_row": null,
      "grid_template_areas": null,
      "grid_template_columns": null,
      "grid_template_rows": null,
      "height": null,
      "justify_content": null,
      "justify_items": null,
      "left": null,
      "margin": null,
      "max_height": null,
      "max_width": null,
      "min_height": null,
      "min_width": null,
      "object_fit": null,
      "object_position": null,
      "order": null,
      "overflow": null,
      "overflow_x": null,
      "overflow_y": null,
      "padding": null,
      "right": null,
      "top": null,
      "visibility": null,
      "width": null
     }
    },
    "8bbce210569b4929af78417c4aa212e4": {
     "model_module": "@jupyter-widgets/base",
     "model_module_version": "1.2.0",
     "model_name": "LayoutModel",
     "state": {
      "_model_module": "@jupyter-widgets/base",
      "_model_module_version": "1.2.0",
      "_model_name": "LayoutModel",
      "_view_count": null,
      "_view_module": "@jupyter-widgets/base",
      "_view_module_version": "1.2.0",
      "_view_name": "LayoutView",
      "align_content": null,
      "align_items": null,
      "align_self": null,
      "border": null,
      "bottom": null,
      "display": null,
      "flex": null,
      "flex_flow": null,
      "grid_area": null,
      "grid_auto_columns": null,
      "grid_auto_flow": null,
      "grid_auto_rows": null,
      "grid_column": null,
      "grid_gap": null,
      "grid_row": null,
      "grid_template_areas": null,
      "grid_template_columns": null,
      "grid_template_rows": null,
      "height": null,
      "justify_content": null,
      "justify_items": null,
      "left": null,
      "margin": null,
      "max_height": null,
      "max_width": null,
      "min_height": null,
      "min_width": null,
      "object_fit": null,
      "object_position": null,
      "order": null,
      "overflow": null,
      "overflow_x": null,
      "overflow_y": null,
      "padding": null,
      "right": null,
      "top": null,
      "visibility": null,
      "width": null
     }
    },
    "9520d0794265468bb3b75620438008f9": {
     "model_module": "@jupyter-widgets/base",
     "model_module_version": "1.2.0",
     "model_name": "LayoutModel",
     "state": {
      "_model_module": "@jupyter-widgets/base",
      "_model_module_version": "1.2.0",
      "_model_name": "LayoutModel",
      "_view_count": null,
      "_view_module": "@jupyter-widgets/base",
      "_view_module_version": "1.2.0",
      "_view_name": "LayoutView",
      "align_content": null,
      "align_items": null,
      "align_self": null,
      "border": null,
      "bottom": null,
      "display": null,
      "flex": null,
      "flex_flow": null,
      "grid_area": null,
      "grid_auto_columns": null,
      "grid_auto_flow": null,
      "grid_auto_rows": null,
      "grid_column": null,
      "grid_gap": null,
      "grid_row": null,
      "grid_template_areas": null,
      "grid_template_columns": null,
      "grid_template_rows": null,
      "height": null,
      "justify_content": null,
      "justify_items": null,
      "left": null,
      "margin": null,
      "max_height": null,
      "max_width": null,
      "min_height": null,
      "min_width": null,
      "object_fit": null,
      "object_position": null,
      "order": null,
      "overflow": null,
      "overflow_x": null,
      "overflow_y": null,
      "padding": null,
      "right": null,
      "top": null,
      "visibility": null,
      "width": null
     }
    },
    "98b5c10c84404f4aa4d3c8bd1dc0ac23": {
     "model_module": "@jupyter-widgets/controls",
     "model_module_version": "1.5.0",
     "model_name": "HBoxModel",
     "state": {
      "_dom_classes": [],
      "_model_module": "@jupyter-widgets/controls",
      "_model_module_version": "1.5.0",
      "_model_name": "HBoxModel",
      "_view_count": null,
      "_view_module": "@jupyter-widgets/controls",
      "_view_module_version": "1.5.0",
      "_view_name": "HBoxView",
      "box_style": "",
      "children": [
       "IPY_MODEL_31c7ab154d7a466db20e0fe002ed3051",
       "IPY_MODEL_c2f4563689034c8e895936de3ae86aed",
       "IPY_MODEL_0a766a7764464c5482d3dda1e7225444"
      ],
      "layout": "IPY_MODEL_7bb35adda14343c8875706e205f2e8d5"
     }
    },
    "9bb8c79082394daab572103504313084": {
     "model_module": "@jupyter-widgets/base",
     "model_module_version": "1.2.0",
     "model_name": "LayoutModel",
     "state": {
      "_model_module": "@jupyter-widgets/base",
      "_model_module_version": "1.2.0",
      "_model_name": "LayoutModel",
      "_view_count": null,
      "_view_module": "@jupyter-widgets/base",
      "_view_module_version": "1.2.0",
      "_view_name": "LayoutView",
      "align_content": null,
      "align_items": null,
      "align_self": null,
      "border": null,
      "bottom": null,
      "display": null,
      "flex": null,
      "flex_flow": null,
      "grid_area": null,
      "grid_auto_columns": null,
      "grid_auto_flow": null,
      "grid_auto_rows": null,
      "grid_column": null,
      "grid_gap": null,
      "grid_row": null,
      "grid_template_areas": null,
      "grid_template_columns": null,
      "grid_template_rows": null,
      "height": null,
      "justify_content": null,
      "justify_items": null,
      "left": null,
      "margin": null,
      "max_height": null,
      "max_width": null,
      "min_height": null,
      "min_width": null,
      "object_fit": null,
      "object_position": null,
      "order": null,
      "overflow": null,
      "overflow_x": null,
      "overflow_y": null,
      "padding": null,
      "right": null,
      "top": null,
      "visibility": null,
      "width": null
     }
    },
    "a15cda5efeb84af4abf66afc05651699": {
     "model_module": "@jupyter-widgets/base",
     "model_module_version": "1.2.0",
     "model_name": "LayoutModel",
     "state": {
      "_model_module": "@jupyter-widgets/base",
      "_model_module_version": "1.2.0",
      "_model_name": "LayoutModel",
      "_view_count": null,
      "_view_module": "@jupyter-widgets/base",
      "_view_module_version": "1.2.0",
      "_view_name": "LayoutView",
      "align_content": null,
      "align_items": null,
      "align_self": null,
      "border": null,
      "bottom": null,
      "display": null,
      "flex": null,
      "flex_flow": null,
      "grid_area": null,
      "grid_auto_columns": null,
      "grid_auto_flow": null,
      "grid_auto_rows": null,
      "grid_column": null,
      "grid_gap": null,
      "grid_row": null,
      "grid_template_areas": null,
      "grid_template_columns": null,
      "grid_template_rows": null,
      "height": null,
      "justify_content": null,
      "justify_items": null,
      "left": null,
      "margin": null,
      "max_height": null,
      "max_width": null,
      "min_height": null,
      "min_width": null,
      "object_fit": null,
      "object_position": null,
      "order": null,
      "overflow": null,
      "overflow_x": null,
      "overflow_y": null,
      "padding": null,
      "right": null,
      "top": null,
      "visibility": null,
      "width": null
     }
    },
    "b4c5d6676c1b4240a304724a9c0374ad": {
     "model_module": "@jupyter-widgets/base",
     "model_module_version": "1.2.0",
     "model_name": "LayoutModel",
     "state": {
      "_model_module": "@jupyter-widgets/base",
      "_model_module_version": "1.2.0",
      "_model_name": "LayoutModel",
      "_view_count": null,
      "_view_module": "@jupyter-widgets/base",
      "_view_module_version": "1.2.0",
      "_view_name": "LayoutView",
      "align_content": null,
      "align_items": null,
      "align_self": null,
      "border": null,
      "bottom": null,
      "display": null,
      "flex": null,
      "flex_flow": null,
      "grid_area": null,
      "grid_auto_columns": null,
      "grid_auto_flow": null,
      "grid_auto_rows": null,
      "grid_column": null,
      "grid_gap": null,
      "grid_row": null,
      "grid_template_areas": null,
      "grid_template_columns": null,
      "grid_template_rows": null,
      "height": null,
      "justify_content": null,
      "justify_items": null,
      "left": null,
      "margin": null,
      "max_height": null,
      "max_width": null,
      "min_height": null,
      "min_width": null,
      "object_fit": null,
      "object_position": null,
      "order": null,
      "overflow": null,
      "overflow_x": null,
      "overflow_y": null,
      "padding": null,
      "right": null,
      "top": null,
      "visibility": null,
      "width": null
     }
    },
    "b5447ba186e34878930f55b4c50441fe": {
     "model_module": "@jupyter-widgets/base",
     "model_module_version": "1.2.0",
     "model_name": "LayoutModel",
     "state": {
      "_model_module": "@jupyter-widgets/base",
      "_model_module_version": "1.2.0",
      "_model_name": "LayoutModel",
      "_view_count": null,
      "_view_module": "@jupyter-widgets/base",
      "_view_module_version": "1.2.0",
      "_view_name": "LayoutView",
      "align_content": null,
      "align_items": null,
      "align_self": null,
      "border": null,
      "bottom": null,
      "display": null,
      "flex": null,
      "flex_flow": null,
      "grid_area": null,
      "grid_auto_columns": null,
      "grid_auto_flow": null,
      "grid_auto_rows": null,
      "grid_column": null,
      "grid_gap": null,
      "grid_row": null,
      "grid_template_areas": null,
      "grid_template_columns": null,
      "grid_template_rows": null,
      "height": null,
      "justify_content": null,
      "justify_items": null,
      "left": null,
      "margin": null,
      "max_height": null,
      "max_width": null,
      "min_height": null,
      "min_width": null,
      "object_fit": null,
      "object_position": null,
      "order": null,
      "overflow": null,
      "overflow_x": null,
      "overflow_y": null,
      "padding": null,
      "right": null,
      "top": null,
      "visibility": null,
      "width": null
     }
    },
    "b6a6dc9e52a1402aa6f73690cab895a5": {
     "model_module": "@jupyter-widgets/controls",
     "model_module_version": "1.5.0",
     "model_name": "HTMLModel",
     "state": {
      "_dom_classes": [],
      "_model_module": "@jupyter-widgets/controls",
      "_model_module_version": "1.5.0",
      "_model_name": "HTMLModel",
      "_view_count": null,
      "_view_module": "@jupyter-widgets/controls",
      "_view_module_version": "1.5.0",
      "_view_name": "HTMLView",
      "description": "",
      "description_tooltip": null,
      "layout": "IPY_MODEL_39d695fa7e1f44318539a16afb2f329f",
      "placeholder": "​",
      "style": "IPY_MODEL_31ec08e6058f43b4a76f3c800a76de17",
      "value": "Map: 100%"
     }
    },
    "ba49b96519804d9e9e0d2c50757ba091": {
     "model_module": "@jupyter-widgets/controls",
     "model_module_version": "1.5.0",
     "model_name": "HTMLModel",
     "state": {
      "_dom_classes": [],
      "_model_module": "@jupyter-widgets/controls",
      "_model_module_version": "1.5.0",
      "_model_name": "HTMLModel",
      "_view_count": null,
      "_view_module": "@jupyter-widgets/controls",
      "_view_module_version": "1.5.0",
      "_view_name": "HTMLView",
      "description": "",
      "description_tooltip": null,
      "layout": "IPY_MODEL_2d5f39d3749646b5b89bfc7d48b7abba",
      "placeholder": "​",
      "style": "IPY_MODEL_4574a521bb4e40559fffb47ebc586c19",
      "value": "100%"
     }
    },
    "c21197256c6a4ff78a4aef53f496a85f": {
     "model_module": "@jupyter-widgets/controls",
     "model_module_version": "1.5.0",
     "model_name": "DescriptionStyleModel",
     "state": {
      "_model_module": "@jupyter-widgets/controls",
      "_model_module_version": "1.5.0",
      "_model_name": "DescriptionStyleModel",
      "_view_count": null,
      "_view_module": "@jupyter-widgets/base",
      "_view_module_version": "1.2.0",
      "_view_name": "StyleView",
      "description_width": ""
     }
    },
    "c2f4563689034c8e895936de3ae86aed": {
     "model_module": "@jupyter-widgets/controls",
     "model_module_version": "1.5.0",
     "model_name": "FloatProgressModel",
     "state": {
      "_dom_classes": [],
      "_model_module": "@jupyter-widgets/controls",
      "_model_module_version": "1.5.0",
      "_model_name": "FloatProgressModel",
      "_view_count": null,
      "_view_module": "@jupyter-widgets/controls",
      "_view_module_version": "1.5.0",
      "_view_name": "ProgressView",
      "bar_style": "success",
      "description": "",
      "description_tooltip": null,
      "layout": "IPY_MODEL_235f817e2a14497dbf7001ad867ad981",
      "max": 1,
      "min": 0,
      "orientation": "horizontal",
      "style": "IPY_MODEL_03395ea62eab41cb9d9a6b816a62babd",
      "value": 1
     }
    },
    "d20d71868a0840bcb165dfe19a15c2d5": {
     "model_module": "@jupyter-widgets/controls",
     "model_module_version": "1.5.0",
     "model_name": "HTMLModel",
     "state": {
      "_dom_classes": [],
      "_model_module": "@jupyter-widgets/controls",
      "_model_module_version": "1.5.0",
      "_model_name": "HTMLModel",
      "_view_count": null,
      "_view_module": "@jupyter-widgets/controls",
      "_view_module_version": "1.5.0",
      "_view_name": "HTMLView",
      "description": "",
      "description_tooltip": null,
      "layout": "IPY_MODEL_4d436240b4374b27a0601ee506272cdf",
      "placeholder": "​",
      "style": "IPY_MODEL_fe6af6fcce4341a8aa4f2edf29c7a9d9",
      "value": "100%"
     }
    },
    "d49373815f6d4861898a394fe8dfcca3": {
     "model_module": "@jupyter-widgets/base",
     "model_module_version": "1.2.0",
     "model_name": "LayoutModel",
     "state": {
      "_model_module": "@jupyter-widgets/base",
      "_model_module_version": "1.2.0",
      "_model_name": "LayoutModel",
      "_view_count": null,
      "_view_module": "@jupyter-widgets/base",
      "_view_module_version": "1.2.0",
      "_view_name": "LayoutView",
      "align_content": null,
      "align_items": null,
      "align_self": null,
      "border": null,
      "bottom": null,
      "display": null,
      "flex": null,
      "flex_flow": null,
      "grid_area": null,
      "grid_auto_columns": null,
      "grid_auto_flow": null,
      "grid_auto_rows": null,
      "grid_column": null,
      "grid_gap": null,
      "grid_row": null,
      "grid_template_areas": null,
      "grid_template_columns": null,
      "grid_template_rows": null,
      "height": null,
      "justify_content": null,
      "justify_items": null,
      "left": null,
      "margin": null,
      "max_height": null,
      "max_width": null,
      "min_height": null,
      "min_width": null,
      "object_fit": null,
      "object_position": null,
      "order": null,
      "overflow": null,
      "overflow_x": null,
      "overflow_y": null,
      "padding": null,
      "right": null,
      "top": null,
      "visibility": null,
      "width": null
     }
    },
    "d77bde84123f49d8aac9ed6b442f0611": {
     "model_module": "@jupyter-widgets/controls",
     "model_module_version": "1.5.0",
     "model_name": "HTMLModel",
     "state": {
      "_dom_classes": [],
      "_model_module": "@jupyter-widgets/controls",
      "_model_module_version": "1.5.0",
      "_model_name": "HTMLModel",
      "_view_count": null,
      "_view_module": "@jupyter-widgets/controls",
      "_view_module_version": "1.5.0",
      "_view_name": "HTMLView",
      "description": "",
      "description_tooltip": null,
      "layout": "IPY_MODEL_9bb8c79082394daab572103504313084",
      "placeholder": "​",
      "style": "IPY_MODEL_0fb0c983a3f84706913464589423cde6",
      "value": " 99/99 [01:44&lt;00:00,  1.22s/it]"
     }
    },
    "d8b5cce6152a4ba4859bf1f012a73b5c": {
     "model_module": "@jupyter-widgets/controls",
     "model_module_version": "1.5.0",
     "model_name": "HBoxModel",
     "state": {
      "_dom_classes": [],
      "_model_module": "@jupyter-widgets/controls",
      "_model_module_version": "1.5.0",
      "_model_name": "HBoxModel",
      "_view_count": null,
      "_view_module": "@jupyter-widgets/controls",
      "_view_module_version": "1.5.0",
      "_view_name": "HBoxView",
      "box_style": "",
      "children": [
       "IPY_MODEL_424ddacdad7e4d6fb902736482b47c2f",
       "IPY_MODEL_75a5997bd1ec475d922a05fc659dc100",
       "IPY_MODEL_0710039b6d7842e68f1a9e5ddd34d5da"
      ],
      "layout": "IPY_MODEL_b5447ba186e34878930f55b4c50441fe"
     }
    },
    "d91dcd4ae79d41f2866a944b66e117bf": {
     "model_module": "@jupyter-widgets/base",
     "model_module_version": "1.2.0",
     "model_name": "LayoutModel",
     "state": {
      "_model_module": "@jupyter-widgets/base",
      "_model_module_version": "1.2.0",
      "_model_name": "LayoutModel",
      "_view_count": null,
      "_view_module": "@jupyter-widgets/base",
      "_view_module_version": "1.2.0",
      "_view_name": "LayoutView",
      "align_content": null,
      "align_items": null,
      "align_self": null,
      "border": null,
      "bottom": null,
      "display": null,
      "flex": null,
      "flex_flow": null,
      "grid_area": null,
      "grid_auto_columns": null,
      "grid_auto_flow": null,
      "grid_auto_rows": null,
      "grid_column": null,
      "grid_gap": null,
      "grid_row": null,
      "grid_template_areas": null,
      "grid_template_columns": null,
      "grid_template_rows": null,
      "height": null,
      "justify_content": null,
      "justify_items": null,
      "left": null,
      "margin": null,
      "max_height": null,
      "max_width": null,
      "min_height": null,
      "min_width": null,
      "object_fit": null,
      "object_position": null,
      "order": null,
      "overflow": null,
      "overflow_x": null,
      "overflow_y": null,
      "padding": null,
      "right": null,
      "top": null,
      "visibility": null,
      "width": null
     }
    },
    "dbd216e1fa1945b49150e50e9e60ff9b": {
     "model_module": "@jupyter-widgets/controls",
     "model_module_version": "1.5.0",
     "model_name": "ProgressStyleModel",
     "state": {
      "_model_module": "@jupyter-widgets/controls",
      "_model_module_version": "1.5.0",
      "_model_name": "ProgressStyleModel",
      "_view_count": null,
      "_view_module": "@jupyter-widgets/base",
      "_view_module_version": "1.2.0",
      "_view_name": "StyleView",
      "bar_color": null,
      "description_width": ""
     }
    },
    "e1b3bbd783db4a6bbb08b7b812cff2ab": {
     "model_module": "@jupyter-widgets/controls",
     "model_module_version": "1.5.0",
     "model_name": "HBoxModel",
     "state": {
      "_dom_classes": [],
      "_model_module": "@jupyter-widgets/controls",
      "_model_module_version": "1.5.0",
      "_model_name": "HBoxModel",
      "_view_count": null,
      "_view_module": "@jupyter-widgets/controls",
      "_view_module_version": "1.5.0",
      "_view_name": "HBoxView",
      "box_style": "",
      "children": [
       "IPY_MODEL_2175d7c5867b44fe90e2467a38d48be1",
       "IPY_MODEL_80e99d6dbc644b14b15a3c0505efe8a3",
       "IPY_MODEL_27cd1eb19a834d82ab4fd05e2ad16e54"
      ],
      "layout": "IPY_MODEL_9520d0794265468bb3b75620438008f9"
     }
    },
    "e2006ebbbf284f82a6a3f2928acbd47b": {
     "model_module": "@jupyter-widgets/controls",
     "model_module_version": "1.5.0",
     "model_name": "HBoxModel",
     "state": {
      "_dom_classes": [],
      "_model_module": "@jupyter-widgets/controls",
      "_model_module_version": "1.5.0",
      "_model_name": "HBoxModel",
      "_view_count": null,
      "_view_module": "@jupyter-widgets/controls",
      "_view_module_version": "1.5.0",
      "_view_name": "HBoxView",
      "box_style": "",
      "children": [
       "IPY_MODEL_ba49b96519804d9e9e0d2c50757ba091",
       "IPY_MODEL_48fe5bfd79ca4b5f8bc113929dec117f",
       "IPY_MODEL_f93dedf2609b49e6bc3dcb0640f30400"
      ],
      "layout": "IPY_MODEL_d91dcd4ae79d41f2866a944b66e117bf"
     }
    },
    "e824f677e88a44cba3461797a70d7d81": {
     "model_module": "@jupyter-widgets/base",
     "model_module_version": "1.2.0",
     "model_name": "LayoutModel",
     "state": {
      "_model_module": "@jupyter-widgets/base",
      "_model_module_version": "1.2.0",
      "_model_name": "LayoutModel",
      "_view_count": null,
      "_view_module": "@jupyter-widgets/base",
      "_view_module_version": "1.2.0",
      "_view_name": "LayoutView",
      "align_content": null,
      "align_items": null,
      "align_self": null,
      "border": null,
      "bottom": null,
      "display": null,
      "flex": null,
      "flex_flow": null,
      "grid_area": null,
      "grid_auto_columns": null,
      "grid_auto_flow": null,
      "grid_auto_rows": null,
      "grid_column": null,
      "grid_gap": null,
      "grid_row": null,
      "grid_template_areas": null,
      "grid_template_columns": null,
      "grid_template_rows": null,
      "height": null,
      "justify_content": null,
      "justify_items": null,
      "left": null,
      "margin": null,
      "max_height": null,
      "max_width": null,
      "min_height": null,
      "min_width": null,
      "object_fit": null,
      "object_position": null,
      "order": null,
      "overflow": null,
      "overflow_x": null,
      "overflow_y": null,
      "padding": null,
      "right": null,
      "top": null,
      "visibility": null,
      "width": null
     }
    },
    "ed42a9705fb240238c55e5c26b25ff71": {
     "model_module": "@jupyter-widgets/base",
     "model_module_version": "1.2.0",
     "model_name": "LayoutModel",
     "state": {
      "_model_module": "@jupyter-widgets/base",
      "_model_module_version": "1.2.0",
      "_model_name": "LayoutModel",
      "_view_count": null,
      "_view_module": "@jupyter-widgets/base",
      "_view_module_version": "1.2.0",
      "_view_name": "LayoutView",
      "align_content": null,
      "align_items": null,
      "align_self": null,
      "border": null,
      "bottom": null,
      "display": null,
      "flex": null,
      "flex_flow": null,
      "grid_area": null,
      "grid_auto_columns": null,
      "grid_auto_flow": null,
      "grid_auto_rows": null,
      "grid_column": null,
      "grid_gap": null,
      "grid_row": null,
      "grid_template_areas": null,
      "grid_template_columns": null,
      "grid_template_rows": null,
      "height": null,
      "justify_content": null,
      "justify_items": null,
      "left": null,
      "margin": null,
      "max_height": null,
      "max_width": null,
      "min_height": null,
      "min_width": null,
      "object_fit": null,
      "object_position": null,
      "order": null,
      "overflow": null,
      "overflow_x": null,
      "overflow_y": null,
      "padding": null,
      "right": null,
      "top": null,
      "visibility": null,
      "width": null
     }
    },
    "ee47a7d33bd840a2a9e369209be3aeb4": {
     "model_module": "@jupyter-widgets/controls",
     "model_module_version": "1.5.0",
     "model_name": "DescriptionStyleModel",
     "state": {
      "_model_module": "@jupyter-widgets/controls",
      "_model_module_version": "1.5.0",
      "_model_name": "DescriptionStyleModel",
      "_view_count": null,
      "_view_module": "@jupyter-widgets/base",
      "_view_module_version": "1.2.0",
      "_view_name": "StyleView",
      "description_width": ""
     }
    },
    "f12012e032b24d848166763d6ad0d449": {
     "model_module": "@jupyter-widgets/controls",
     "model_module_version": "1.5.0",
     "model_name": "DescriptionStyleModel",
     "state": {
      "_model_module": "@jupyter-widgets/controls",
      "_model_module_version": "1.5.0",
      "_model_name": "DescriptionStyleModel",
      "_view_count": null,
      "_view_module": "@jupyter-widgets/base",
      "_view_module_version": "1.2.0",
      "_view_name": "StyleView",
      "description_width": ""
     }
    },
    "f93dedf2609b49e6bc3dcb0640f30400": {
     "model_module": "@jupyter-widgets/controls",
     "model_module_version": "1.5.0",
     "model_name": "HTMLModel",
     "state": {
      "_dom_classes": [],
      "_model_module": "@jupyter-widgets/controls",
      "_model_module_version": "1.5.0",
      "_model_name": "HTMLModel",
      "_view_count": null,
      "_view_module": "@jupyter-widgets/controls",
      "_view_module_version": "1.5.0",
      "_view_name": "HTMLView",
      "description": "",
      "description_tooltip": null,
      "layout": "IPY_MODEL_87af5009fe0d43019ab60aa0fe580cab",
      "placeholder": "​",
      "style": "IPY_MODEL_f12012e032b24d848166763d6ad0d449",
      "value": " 99/99 [01:10&lt;00:00,  1.33it/s]"
     }
    },
    "fa8fb8c6c6224e50b502c4a594938f87": {
     "model_module": "@jupyter-widgets/base",
     "model_module_version": "1.2.0",
     "model_name": "LayoutModel",
     "state": {
      "_model_module": "@jupyter-widgets/base",
      "_model_module_version": "1.2.0",
      "_model_name": "LayoutModel",
      "_view_count": null,
      "_view_module": "@jupyter-widgets/base",
      "_view_module_version": "1.2.0",
      "_view_name": "LayoutView",
      "align_content": null,
      "align_items": null,
      "align_self": null,
      "border": null,
      "bottom": null,
      "display": null,
      "flex": null,
      "flex_flow": null,
      "grid_area": null,
      "grid_auto_columns": null,
      "grid_auto_flow": null,
      "grid_auto_rows": null,
      "grid_column": null,
      "grid_gap": null,
      "grid_row": null,
      "grid_template_areas": null,
      "grid_template_columns": null,
      "grid_template_rows": null,
      "height": null,
      "justify_content": null,
      "justify_items": null,
      "left": null,
      "margin": null,
      "max_height": null,
      "max_width": null,
      "min_height": null,
      "min_width": null,
      "object_fit": null,
      "object_position": null,
      "order": null,
      "overflow": null,
      "overflow_x": null,
      "overflow_y": null,
      "padding": null,
      "right": null,
      "top": null,
      "visibility": null,
      "width": null
     }
    },
    "fe6af6fcce4341a8aa4f2edf29c7a9d9": {
     "model_module": "@jupyter-widgets/controls",
     "model_module_version": "1.5.0",
     "model_name": "DescriptionStyleModel",
     "state": {
      "_model_module": "@jupyter-widgets/controls",
      "_model_module_version": "1.5.0",
      "_model_name": "DescriptionStyleModel",
      "_view_count": null,
      "_view_module": "@jupyter-widgets/base",
      "_view_module_version": "1.2.0",
      "_view_name": "StyleView",
      "description_width": ""
     }
    },
    "ffab03e3ed6646f7bb8b90e6c6aab143": {
     "model_module": "@jupyter-widgets/base",
     "model_module_version": "1.2.0",
     "model_name": "LayoutModel",
     "state": {
      "_model_module": "@jupyter-widgets/base",
      "_model_module_version": "1.2.0",
      "_model_name": "LayoutModel",
      "_view_count": null,
      "_view_module": "@jupyter-widgets/base",
      "_view_module_version": "1.2.0",
      "_view_name": "LayoutView",
      "align_content": null,
      "align_items": null,
      "align_self": null,
      "border": null,
      "bottom": null,
      "display": null,
      "flex": null,
      "flex_flow": null,
      "grid_area": null,
      "grid_auto_columns": null,
      "grid_auto_flow": null,
      "grid_auto_rows": null,
      "grid_column": null,
      "grid_gap": null,
      "grid_row": null,
      "grid_template_areas": null,
      "grid_template_columns": null,
      "grid_template_rows": null,
      "height": null,
      "justify_content": null,
      "justify_items": null,
      "left": null,
      "margin": null,
      "max_height": null,
      "max_width": null,
      "min_height": null,
      "min_width": null,
      "object_fit": null,
      "object_position": null,
      "order": null,
      "overflow": null,
      "overflow_x": null,
      "overflow_y": null,
      "padding": null,
      "right": null,
      "top": null,
      "visibility": null,
      "width": null
     }
    }
   }
  }
 },
 "nbformat": 4,
 "nbformat_minor": 4
}
